{
 "cells": [
  {
   "cell_type": "code",
   "execution_count": 1,
   "id": "3dc2c2df",
   "metadata": {},
   "outputs": [
    {
     "data": {
      "text/plain": [
       "True"
      ]
     },
     "execution_count": 1,
     "metadata": {},
     "output_type": "execute_result"
    }
   ],
   "source": [
    "from dotenv import load_dotenv\n",
    "from openai import OpenAI\n",
    "\n",
    "load_dotenv()\n",
    "\n",
    "# openai_client = OpenAI()\n",
    "\n",
    "# def llm(user_prompt, instructions=None, model=\"gpt-4o-mini\"):\n",
    "#     messages = []\n",
    "\n",
    "#     if instructions:\n",
    "#         messages.append({\n",
    "#             \"role\": \"system\",\n",
    "#             \"content\": instructions\n",
    "#         })\n",
    "\n",
    "#     messages.append({\n",
    "#         \"role\": \"user\",\n",
    "#         \"content\": user_prompt\n",
    "#     })\n",
    "\n",
    "#     response = openai_client.responses.create(\n",
    "#         model=model,\n",
    "#         input=messages\n",
    "#     )\n",
    "\n",
    "#     return response.output_text"
   ]
  },
  {
   "cell_type": "code",
   "execution_count": 2,
   "id": "b550f744",
   "metadata": {},
   "outputs": [],
   "source": [
    "from src.github import GithubRepositoryDataReader"
   ]
  },
  {
   "cell_type": "code",
   "execution_count": 3,
   "id": "d65353ca",
   "metadata": {},
   "outputs": [],
   "source": [
    "# https://github.com/DataTalksClub/datatalksclub.github.io/tree/main/_podcast"
   ]
  },
  {
   "cell_type": "code",
   "execution_count": 4,
   "id": "a513bd2f",
   "metadata": {},
   "outputs": [],
   "source": [
    "def read_github_data():\n",
    "    allowed_extensions = {\"md\", \"mdx\"}\n",
    "\n",
    "    repo_owner = 'DataTalksClub'\n",
    "    repo_name = 'datatalksclub.github.io'\n",
    "\n",
    "    reader = GithubRepositoryDataReader(\n",
    "        repo_owner,\n",
    "        repo_name,\n",
    "        allowed_extensions=allowed_extensions\n",
    "    )\n",
    "    \n",
    "    return reader.read()"
   ]
  },
  {
   "cell_type": "code",
   "execution_count": null,
   "id": "27db8e83",
   "metadata": {},
   "outputs": [
    {
     "name": "stdout",
     "output_type": "stream",
     "text": [
      "Downloaded 765 files\n"
     ]
    }
   ],
   "source": [
    "# Q4 \n",
    "datatalsclub_data = read_github_data()\n",
    "print(f\"Downloaded {len(datatalsclub_data)} files\")"
   ]
  },
  {
   "cell_type": "code",
   "execution_count": 57,
   "id": "e796b9c3",
   "metadata": {},
   "outputs": [],
   "source": [
    "# datatalsclub_data[600].content"
   ]
  },
  {
   "cell_type": "code",
   "execution_count": null,
   "id": "c53a9f4d",
   "metadata": {},
   "outputs": [],
   "source": [
    "import frontmatter\n",
    "import re\n",
    "\n",
    "\n",
    "\n",
    "def safe_load_frontmatter(raw_text):\n",
    "    # Add quotes around any {{ ... }} that isn't already quoted\n",
    "    if \"{{\" in raw_text and \"}}\" in raw_text:\n",
    "        # Add quotes around any {{ ... }} that isn't already quoted\n",
    "        raw_text = re.sub(r'(?<!\")({{.*?}})(?!\")', r'\"\\1\"', raw_text)\n",
    "    \n",
    "    # Now safely parse with frontmatter\n",
    "    return frontmatter.loads(raw_text)\n",
    "\n",
    "\n",
    "def parse_data(data_raw):\n",
    "\n",
    "    data_parsed = []\n",
    "    try:\n",
    "        for f in data_raw:\n",
    "            folder = f.filename.split('/')[0]\n",
    "\n",
    "            if folder != '_podcast':\n",
    "                continue \n",
    "            post = safe_load_frontmatter(f.content)\n",
    "            data = post.to_dict()\n",
    "            data['filename'] = f.filename\n",
    "            data_parsed.append(data)\n",
    "    except Exception as e:\n",
    "        print(f\"Error processing {f}: {e}\")\n",
    "        \n",
    "    \n",
    "    return data_parsed\n"
   ]
  },
  {
   "cell_type": "code",
   "execution_count": 8,
   "id": "3aac91cd",
   "metadata": {},
   "outputs": [],
   "source": [
    "parsed_data = parse_data(datatalsclub_data)"
   ]
  },
  {
   "cell_type": "code",
   "execution_count": null,
   "id": "f1f8b833",
   "metadata": {},
   "outputs": [
    {
     "data": {
      "text/plain": [
       "185"
      ]
     },
     "execution_count": 9,
     "metadata": {},
     "output_type": "execute_result"
    }
   ],
   "source": [
    "# Q4 - 185 podcasts\n",
    "len(parsed_data)"
   ]
  },
  {
   "cell_type": "code",
   "execution_count": 43,
   "id": "cba985a7",
   "metadata": {},
   "outputs": [],
   "source": [
    "from typing import Any, Dict, Iterable, List\n",
    "\n",
    "def join_transcript(transcript: List):\n",
    "    content = ''\n",
    "    for entry in transcript:\n",
    "        content += entry['line'].replace('\\n', ' ')\n",
    "\n",
    "    return content\n",
    "\n",
    "def sliding_window(\n",
    "        seq: Iterable[Any],\n",
    "        size: int,\n",
    "        step: int\n",
    "    ) -> List[Dict[str, Any]]:\n",
    "    \"\"\"\n",
    "    Create overlapping chunks from a sequence using a sliding window approach.\n",
    "\n",
    "    Args:\n",
    "        seq: The input sequence (string or list) to be chunked.\n",
    "        size (int): The size of each chunk/window.\n",
    "        step (int): The step size between consecutive windows.\n",
    "\n",
    "    Returns:\n",
    "        list: A list of dictionaries, each containing:\n",
    "            - 'start': The starting position of the chunk in the original sequence\n",
    "            - 'content': The chunk content\n",
    "\n",
    "    Raises:\n",
    "        ValueError: If size or step are not positive integers.\n",
    "\n",
    "    Example:\n",
    "        >>> sliding_window(\"hello world\", size=5, step=3)\n",
    "        [{'start': 0, 'content': 'hello'}, {'start': 3, 'content': 'lo wo'}]\n",
    "    \"\"\"\n",
    "    if size <= 0 or step <= 0:\n",
    "        raise ValueError(\"size and step must be positive\")\n",
    "\n",
    "    seq_list = seq.split(' ')\n",
    "    n = len(seq_list)\n",
    "    result = []\n",
    "    for i in range(0, n, step):\n",
    "        batch = seq_list[i:i+size]\n",
    "        batch_content = \" \".join(batch)\n",
    "        result.append({'transcript': batch_content})\n",
    "        if i + size > n:\n",
    "            break\n",
    "\n",
    "    return result\n",
    "\n",
    "\n",
    "def join_transcript(transcript: list):\n",
    "    content = ''\n",
    "    for entry in transcript:\n",
    "        if 'header' in entry:\n",
    "            content += entry['header'].replace('\\n', ' ')\n",
    "            content += '. '\n",
    "\n",
    "        if 'line' in entry:\n",
    "            content += entry['line'].replace('\\n', ' ')\n",
    "            content += '. '\n",
    "    \n",
    "    return content\n",
    "\n",
    "\n",
    "def chunk_documents(\n",
    "        documents: Iterable[Dict[str, str]],\n",
    "        size: int = 30,\n",
    "        step: int = 15,\n",
    "        content_field_name: str = 'transcript'\n",
    ") -> List[Dict[str, str]]:\n",
    "    \"\"\"\n",
    "    Split a collection of documents into smaller chunks using sliding windows.\n",
    "\n",
    "    Takes documents and breaks their content into overlapping chunks while preserving\n",
    "    all other document metadata (filename, etc.) in each chunk.\n",
    "\n",
    "    Args:\n",
    "        documents: An iterable of document dictionaries. Each document must have a content field.\n",
    "        size (int, optional): The maximum size of each chunk. Defaults to 2000.\n",
    "        step (int, optional): The step size between chunks. Defaults to 1000.\n",
    "        content_field_name (str, optional): The name of the field containing document content.\n",
    "                                          Defaults to 'content'.\n",
    "\n",
    "    Returns:\n",
    "        list: A list of chunk dictionaries. Each chunk contains:\n",
    "            - All original document fields except the content field\n",
    "            - 'start': Starting position of the chunk in original content\n",
    "            - 'content': The chunk content\n",
    "\n",
    "    Example:\n",
    "        >>> documents = [{'content': 'long text...', 'filename': 'doc.txt'}]\n",
    "        >>> chunks = chunk_documents(documents, size=100, step=50)\n",
    "        >>> # Or with custom content field:\n",
    "        >>> documents = [{'text': 'long text...', 'filename': 'doc.txt'}]\n",
    "        >>> chunks = chunk_documents(documents, content_field_name='text')\n",
    "    \"\"\"\n",
    "    try:\n",
    "        \n",
    "        results = []\n",
    "        for doc in documents:\n",
    "            if content_field_name not in doc:\n",
    "                doc[content_field_name] = ''\n",
    "                results.extend(doc)\n",
    "                continue\n",
    "            \n",
    "            podcast_copy = doc.copy()\n",
    "            podcast_copy['guests'] = \",\".join(podcast_copy['guests'])\n",
    "            podcast_content = podcast_copy.pop(content_field_name)\n",
    "            podcast_content = join_transcript(podcast_content)\n",
    "            chunks = sliding_window(podcast_content, size=size, step=step)\n",
    "            for chunk in chunks:\n",
    "                chunk.update(podcast_copy)\n",
    "            \n",
    "            results.extend(chunks)\n",
    "\n",
    "        return results\n",
    "    \n",
    "    except Exception as e:\n",
    "        print(f\"Unexpected Error: {e}\")"
   ]
  },
  {
   "cell_type": "code",
   "execution_count": 44,
   "id": "c302eb74",
   "metadata": {},
   "outputs": [],
   "source": [
    "# Q5 - Chunk the lines \n",
    "# "
   ]
  },
  {
   "cell_type": "code",
   "execution_count": 45,
   "id": "f150c17d",
   "metadata": {},
   "outputs": [],
   "source": [
    "\n",
    "chunks = chunk_documents(parsed_data)"
   ]
  },
  {
   "cell_type": "code",
   "execution_count": 50,
   "id": "09323bf4",
   "metadata": {},
   "outputs": [
    {
     "data": {
      "text/plain": [
       "94539"
      ]
     },
     "execution_count": 50,
     "metadata": {},
     "output_type": "execute_result"
    }
   ],
   "source": [
    "len(chunks)"
   ]
  },
  {
   "cell_type": "code",
   "execution_count": 47,
   "id": "51671436",
   "metadata": {},
   "outputs": [
    {
     "data": {
      "text/plain": [
       "{'transcript': \"for some time. I'm really happy to be here.. Jekaterina’s background. I tried to invite you multiple times. Finally, we managed to do this. [chuckles] Before we start with our\",\n",
       " 'episode': 8,\n",
       " 'guests': 'jekaterinakokatjuhha',\n",
       " 'ids': {'anchor': 'The-Journey-of-a-Data-Generalist-From-Bioinformatics-to-Freelancing---Jekaterina-Kokatjuhha-e1upvim',\n",
       "  'youtube': 'FRi0SUtxdMw'},\n",
       " 'image': 'images/podcast/s12e08-journey-of-data-generalist-from-bioinformatics-to-freelancing.jpg',\n",
       " 'links': {'anchor': 'https://anchor.fm/datatalksclub/episodes/The-Journey-of-a-Data-Generalist-From-Bioinformatics-to-Freelancing---Jekaterina-Kokatjuhha-e1upvim',\n",
       "  'apple': 'https://podcasts.apple.com/us/podcast/the-journey-of-a-data-generalist-from/id1541710331?i=1000599125044',\n",
       "  'spotify': 'https://open.spotify.com/episode/5fB185hGlGYQmdk0kbIsPv?si=YtnsaYNzTc-fl7emZ2IjEA',\n",
       "  'youtube': 'https://www.youtube.com/watch?v=FRi0SUtxdMw'},\n",
       " 'season': 12,\n",
       " 'short': 'The Journey of a Data Generalist: From Bioinformatics to Freelancing',\n",
       " 'title': 'The Journey of a Data Generalist: From Bioinformatics to Freelancing',\n",
       " 'content': 'Links:\\n\\n* [Jekaterina\\'s LinkedIn](https://www.linkedin.com/in/jekaterina-kokatjuhha/){:target=\"_blank\"}',\n",
       " 'filename': '_podcast/_s12e08.md'}"
      ]
     },
     "execution_count": 47,
     "metadata": {},
     "output_type": "execute_result"
    }
   ],
   "source": [
    "chunks[8]"
   ]
  },
  {
   "cell_type": "code",
   "execution_count": 48,
   "id": "3044bc31",
   "metadata": {},
   "outputs": [
    {
     "data": {
      "text/plain": [
       "<minsearch.minsearch.Index at 0x144e6e4b0>"
      ]
     },
     "execution_count": 48,
     "metadata": {},
     "output_type": "execute_result"
    }
   ],
   "source": [
    "from minsearch import Index\n",
    "\n",
    "index = Index(\n",
    "    text_fields=[\"transcript\", \"title\", \"guests\"]\n",
    ")\n",
    "\n",
    "index.fit(chunks)"
   ]
  },
  {
   "cell_type": "code",
   "execution_count": 49,
   "id": "c6a6419b",
   "metadata": {},
   "outputs": [
    {
     "data": {
      "text/plain": [
       "{'transcript': \"to do anything if you're not familiar with AI.. Does that mean that if I'm a beginner, I cannot take part in Omdena challenges?. How to take part in AI\",\n",
       " 'episode': 7,\n",
       " 'guests': 'saraelateif',\n",
       " 'ids': {'anchor': 'atatalksclub/episodes/Make-an-Impact-Through-Volunteering-Open-Source-Work---Sara-EL-ATEIF-e2g4dan',\n",
       "  'youtube': 'aHdaIwOEI8Q'},\n",
       " 'image': 'images/podcast/s17e07-make-impact-through-volunteering-open-source-work.jpg',\n",
       " 'links': {'anchor': 'https://podcasters.spotify.com/pod/show/datatalksclub/episodes/Make-an-Impact-Through-Volunteering-Open-Source-Work---Sara-EL-ATEIF-e2g4dan',\n",
       "  'apple': 'https://podcasts.apple.com/us/podcast/make-an-impact-through-volunteering-open-source-work/id1541710331?i=1000646627892',\n",
       "  'spotify': 'https://open.spotify.com/episode/7tZSSgv1yAlnoMyB4ggQmb?si=AqDaME2QS26usoZjOEWNtQ',\n",
       "  'youtube': 'https://www.youtube.com/watch?v=aHdaIwOEI8Q'},\n",
       " 'season': 17,\n",
       " 'short': 'Make an Impact Through Volunteering Open Source Work',\n",
       " 'title': 'Make an Impact Through Volunteering Open Source Work',\n",
       " 'content': 'Links:\\n\\n* [Dev and AI hackathons](https://devpost.com/){:target=\"_blank\"}\\n* [Healthcare-focused challenges](https://grand-challenge.org/challenges/){:target=\"_blank\"}\\n* [Volunteering in projects (AI4Good)](https://www.fruitpunch.ai/){:target=\"_blank\"}\\n* [Volunteering in projects (AI4Good) 2](https://www.omdena.com/){:target=\"_blank\"}\\n* [Twitter](https://twitter.com/el_ateifSara){:target=\"_blank\"}\\n* [Instagram](https://www.instagram.com/saraelateif/){:target=\"_blank\"}\\n* [LinkedIn](https://www.linkedin.com/in/sara-el-ateif/){:target=\"_blank\"}\\n* [Youtube](www.youtube.com/@elateifsara){:target=\"_blank\"}',\n",
       " 'filename': '_podcast/s17e07-make-impact-through-volunteering-open-source-work.md'}"
      ]
     },
     "execution_count": 49,
     "metadata": {},
     "output_type": "execute_result"
    }
   ],
   "source": [
    "# Q6 \n",
    "# episode 7\n",
    "search_results = index.search('how do I make money with AI?')\n",
    "search_results[0]"
   ]
  },
  {
   "cell_type": "markdown",
   "id": "f1a72684",
   "metadata": {},
   "source": []
  },
  {
   "cell_type": "code",
   "execution_count": 56,
   "id": "46e2ebc8",
   "metadata": {},
   "outputs": [
    {
     "data": {
      "text/plain": [
       "[{'transcript': \"to do anything if you're not familiar with AI.. Does that mean that if I'm a beginner, I cannot take part in Omdena challenges?. How to take part in AI\",\n",
       "  'episode': 7,\n",
       "  'guests': 'saraelateif',\n",
       "  'ids': {'anchor': 'atatalksclub/episodes/Make-an-Impact-Through-Volunteering-Open-Source-Work---Sara-EL-ATEIF-e2g4dan',\n",
       "   'youtube': 'aHdaIwOEI8Q'},\n",
       "  'image': 'images/podcast/s17e07-make-impact-through-volunteering-open-source-work.jpg',\n",
       "  'links': {'anchor': 'https://podcasters.spotify.com/pod/show/datatalksclub/episodes/Make-an-Impact-Through-Volunteering-Open-Source-Work---Sara-EL-ATEIF-e2g4dan',\n",
       "   'apple': 'https://podcasts.apple.com/us/podcast/make-an-impact-through-volunteering-open-source-work/id1541710331?i=1000646627892',\n",
       "   'spotify': 'https://open.spotify.com/episode/7tZSSgv1yAlnoMyB4ggQmb?si=AqDaME2QS26usoZjOEWNtQ',\n",
       "   'youtube': 'https://www.youtube.com/watch?v=aHdaIwOEI8Q'},\n",
       "  'season': 17,\n",
       "  'short': 'Make an Impact Through Volunteering Open Source Work',\n",
       "  'title': 'Make an Impact Through Volunteering Open Source Work',\n",
       "  'content': 'Links:\\n\\n* [Dev and AI hackathons](https://devpost.com/){:target=\"_blank\"}\\n* [Healthcare-focused challenges](https://grand-challenge.org/challenges/){:target=\"_blank\"}\\n* [Volunteering in projects (AI4Good)](https://www.fruitpunch.ai/){:target=\"_blank\"}\\n* [Volunteering in projects (AI4Good) 2](https://www.omdena.com/){:target=\"_blank\"}\\n* [Twitter](https://twitter.com/el_ateifSara){:target=\"_blank\"}\\n* [Instagram](https://www.instagram.com/saraelateif/){:target=\"_blank\"}\\n* [LinkedIn](https://www.linkedin.com/in/sara-el-ateif/){:target=\"_blank\"}\\n* [Youtube](www.youtube.com/@elateifsara){:target=\"_blank\"}',\n",
       "  'filename': '_podcast/s17e07-make-impact-through-volunteering-open-source-work.md'},\n",
       " {'transcript': \"know about the problem.. Yes, sure. What do you want from it? This is just one way. If we didn't have AI, how can you do that? One of the\",\n",
       "  'episode': 7,\n",
       "  'guests': 'saraelateif',\n",
       "  'ids': {'anchor': 'atatalksclub/episodes/Make-an-Impact-Through-Volunteering-Open-Source-Work---Sara-EL-ATEIF-e2g4dan',\n",
       "   'youtube': 'aHdaIwOEI8Q'},\n",
       "  'image': 'images/podcast/s17e07-make-impact-through-volunteering-open-source-work.jpg',\n",
       "  'links': {'anchor': 'https://podcasters.spotify.com/pod/show/datatalksclub/episodes/Make-an-Impact-Through-Volunteering-Open-Source-Work---Sara-EL-ATEIF-e2g4dan',\n",
       "   'apple': 'https://podcasts.apple.com/us/podcast/make-an-impact-through-volunteering-open-source-work/id1541710331?i=1000646627892',\n",
       "   'spotify': 'https://open.spotify.com/episode/7tZSSgv1yAlnoMyB4ggQmb?si=AqDaME2QS26usoZjOEWNtQ',\n",
       "   'youtube': 'https://www.youtube.com/watch?v=aHdaIwOEI8Q'},\n",
       "  'season': 17,\n",
       "  'short': 'Make an Impact Through Volunteering Open Source Work',\n",
       "  'title': 'Make an Impact Through Volunteering Open Source Work',\n",
       "  'content': 'Links:\\n\\n* [Dev and AI hackathons](https://devpost.com/){:target=\"_blank\"}\\n* [Healthcare-focused challenges](https://grand-challenge.org/challenges/){:target=\"_blank\"}\\n* [Volunteering in projects (AI4Good)](https://www.fruitpunch.ai/){:target=\"_blank\"}\\n* [Volunteering in projects (AI4Good) 2](https://www.omdena.com/){:target=\"_blank\"}\\n* [Twitter](https://twitter.com/el_ateifSara){:target=\"_blank\"}\\n* [Instagram](https://www.instagram.com/saraelateif/){:target=\"_blank\"}\\n* [LinkedIn](https://www.linkedin.com/in/sara-el-ateif/){:target=\"_blank\"}\\n* [Youtube](www.youtube.com/@elateifsara){:target=\"_blank\"}',\n",
       "  'filename': '_podcast/s17e07-make-impact-through-volunteering-open-source-work.md'},\n",
       " {'transcript': \"they don't want to do it forever. Because here, you exchange time for money, but at some point, maybe you just want to get money without spending time. [chuckles] Is\",\n",
       "  'episode': 4,\n",
       "  'guests': 'adrianbrudaru',\n",
       "  'ids': {'anchor': 'Freelancing-and-Consulting-with-Data-Engineering---Adrian-Brudaru-e1jtkkg',\n",
       "   'youtube': '9DTTrN-khCk'},\n",
       "  'image': 'images/podcast/s09e04-freelancing-and-consulting-with-data-engineering.jpg',\n",
       "  'links': {'anchor': 'https://anchor.fm/datatalksclub/episodes/Freelancing-and-Consulting-with-Data-Engineering---Adrian-Brudaru-e1jtkkg',\n",
       "   'apple': 'https://podcasts.apple.com/us/podcast/freelancing-and-consulting-with-data-engineering/id1541710331?i=1000566841525',\n",
       "   'spotify': 'https://open.spotify.com/episode/5M9HFWt8xmqf5HyGu40RmJ?si=C95h0CMkRiazs_ft8Z_gRg',\n",
       "   'youtube': 'https://www.youtube.com/watch?v=9DTTrN-khCk'},\n",
       "  'season': 9,\n",
       "  'short': 'Freelancing and Consulting with Data Engineering',\n",
       "  'title': 'Freelancing and Consulting with Data Engineering',\n",
       "  'content': 'Links:\\n\\n* [Github](https://github.com/scale-vector){:target=\"_blank\"}\\n* [Slack Community](https://join.slack.com/t/berlindatacol-szn7050/shared_invite/zt-19dp8msp0-pP4Av3_fVFBbsdrzPROEAg){:target=\"_blank\"}',\n",
       "  'filename': '_podcast/s09e04-freelancing-and-consulting-with-data-engineering.md'},\n",
       " {'transcript': \"this with everyone in AI engineering, you learn a couple of skills that have nothing to do with your title. That's actually one of the things that are really cool\",\n",
       "  'episode': 7,\n",
       "  'guests': 'saraelateif',\n",
       "  'ids': {'anchor': 'atatalksclub/episodes/Make-an-Impact-Through-Volunteering-Open-Source-Work---Sara-EL-ATEIF-e2g4dan',\n",
       "   'youtube': 'aHdaIwOEI8Q'},\n",
       "  'image': 'images/podcast/s17e07-make-impact-through-volunteering-open-source-work.jpg',\n",
       "  'links': {'anchor': 'https://podcasters.spotify.com/pod/show/datatalksclub/episodes/Make-an-Impact-Through-Volunteering-Open-Source-Work---Sara-EL-ATEIF-e2g4dan',\n",
       "   'apple': 'https://podcasts.apple.com/us/podcast/make-an-impact-through-volunteering-open-source-work/id1541710331?i=1000646627892',\n",
       "   'spotify': 'https://open.spotify.com/episode/7tZSSgv1yAlnoMyB4ggQmb?si=AqDaME2QS26usoZjOEWNtQ',\n",
       "   'youtube': 'https://www.youtube.com/watch?v=aHdaIwOEI8Q'},\n",
       "  'season': 17,\n",
       "  'short': 'Make an Impact Through Volunteering Open Source Work',\n",
       "  'title': 'Make an Impact Through Volunteering Open Source Work',\n",
       "  'content': 'Links:\\n\\n* [Dev and AI hackathons](https://devpost.com/){:target=\"_blank\"}\\n* [Healthcare-focused challenges](https://grand-challenge.org/challenges/){:target=\"_blank\"}\\n* [Volunteering in projects (AI4Good)](https://www.fruitpunch.ai/){:target=\"_blank\"}\\n* [Volunteering in projects (AI4Good) 2](https://www.omdena.com/){:target=\"_blank\"}\\n* [Twitter](https://twitter.com/el_ateifSara){:target=\"_blank\"}\\n* [Instagram](https://www.instagram.com/saraelateif/){:target=\"_blank\"}\\n* [LinkedIn](https://www.linkedin.com/in/sara-el-ateif/){:target=\"_blank\"}\\n* [Youtube](www.youtube.com/@elateifsara){:target=\"_blank\"}',\n",
       "  'filename': '_podcast/s17e07-make-impact-through-volunteering-open-source-work.md'},\n",
       " {'transcript': \"network. But otherwise, I would say just focus on one. If you want to make the best money, just focus on one.. How does this look in practice? Let's say\",\n",
       "  'episode': 4,\n",
       "  'guests': 'adrianbrudaru',\n",
       "  'ids': {'anchor': 'Freelancing-and-Consulting-with-Data-Engineering---Adrian-Brudaru-e1jtkkg',\n",
       "   'youtube': '9DTTrN-khCk'},\n",
       "  'image': 'images/podcast/s09e04-freelancing-and-consulting-with-data-engineering.jpg',\n",
       "  'links': {'anchor': 'https://anchor.fm/datatalksclub/episodes/Freelancing-and-Consulting-with-Data-Engineering---Adrian-Brudaru-e1jtkkg',\n",
       "   'apple': 'https://podcasts.apple.com/us/podcast/freelancing-and-consulting-with-data-engineering/id1541710331?i=1000566841525',\n",
       "   'spotify': 'https://open.spotify.com/episode/5M9HFWt8xmqf5HyGu40RmJ?si=C95h0CMkRiazs_ft8Z_gRg',\n",
       "   'youtube': 'https://www.youtube.com/watch?v=9DTTrN-khCk'},\n",
       "  'season': 9,\n",
       "  'short': 'Freelancing and Consulting with Data Engineering',\n",
       "  'title': 'Freelancing and Consulting with Data Engineering',\n",
       "  'content': 'Links:\\n\\n* [Github](https://github.com/scale-vector){:target=\"_blank\"}\\n* [Slack Community](https://join.slack.com/t/berlindatacol-szn7050/shared_invite/zt-19dp8msp0-pP4Av3_fVFBbsdrzPROEAg){:target=\"_blank\"}',\n",
       "  'filename': '_podcast/s09e04-freelancing-and-consulting-with-data-engineering.md'}]"
      ]
     },
     "execution_count": 56,
     "metadata": {},
     "output_type": "execute_result"
    }
   ],
   "source": [
    "def search(query):\n",
    "    return index.search(\n",
    "        query=query,\n",
    "        num_results=5\n",
    "    )\n",
    "\n",
    "\n",
    "results = search('how do I make money with AI?')\n",
    "results\n"
   ]
  },
  {
   "cell_type": "code",
   "execution_count": null,
   "id": "47fa9704",
   "metadata": {},
   "outputs": [],
   "source": []
  },
  {
   "cell_type": "code",
   "execution_count": null,
   "id": "49ea2295",
   "metadata": {},
   "outputs": [],
   "source": []
  },
  {
   "cell_type": "code",
   "execution_count": null,
   "id": "9cb4cec9",
   "metadata": {},
   "outputs": [],
   "source": []
  }
 ],
 "metadata": {
  "kernelspec": {
   "display_name": "ai-bootcamp-codespace",
   "language": "python",
   "name": "python3"
  },
  "language_info": {
   "codemirror_mode": {
    "name": "ipython",
    "version": 3
   },
   "file_extension": ".py",
   "mimetype": "text/x-python",
   "name": "python",
   "nbconvert_exporter": "python",
   "pygments_lexer": "ipython3",
   "version": "3.12.11"
  }
 },
 "nbformat": 4,
 "nbformat_minor": 5
}
