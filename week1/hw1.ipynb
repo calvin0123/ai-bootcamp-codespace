{
 "cells": [
  {
   "cell_type": "code",
   "execution_count": 1,
   "id": "3dc2c2df",
   "metadata": {},
   "outputs": [
    {
     "data": {
      "text/plain": [
       "True"
      ]
     },
     "execution_count": 1,
     "metadata": {},
     "output_type": "execute_result"
    }
   ],
   "source": [
    "from dotenv import load_dotenv\n",
    "from openai import OpenAI\n",
    "\n",
    "load_dotenv()\n",
    "\n",
    "# openai_client = OpenAI()\n",
    "\n",
    "# def llm(user_prompt, instructions=None, model=\"gpt-4o-mini\"):\n",
    "#     messages = []\n",
    "\n",
    "#     if instructions:\n",
    "#         messages.append({\n",
    "#             \"role\": \"system\",\n",
    "#             \"content\": instructions\n",
    "#         })\n",
    "\n",
    "#     messages.append({\n",
    "#         \"role\": \"user\",\n",
    "#         \"content\": user_prompt\n",
    "#     })\n",
    "\n",
    "#     response = openai_client.responses.create(\n",
    "#         model=model,\n",
    "#         input=messages\n",
    "#     )\n",
    "\n",
    "#     return response.output_text"
   ]
  },
  {
   "cell_type": "code",
   "execution_count": 2,
   "id": "b550f744",
   "metadata": {},
   "outputs": [],
   "source": [
    "from src.github import GithubRepositoryDataReader"
   ]
  },
  {
   "cell_type": "code",
   "execution_count": 3,
   "id": "d65353ca",
   "metadata": {},
   "outputs": [],
   "source": [
    "# https://github.com/DataTalksClub/datatalksclub.github.io/tree/main/_podcast"
   ]
  },
  {
   "cell_type": "code",
   "execution_count": 4,
   "id": "a513bd2f",
   "metadata": {},
   "outputs": [],
   "source": [
    "def read_github_data():\n",
    "    allowed_extensions = {\"md\", \"mdx\"}\n",
    "\n",
    "    repo_owner = 'DataTalksClub'\n",
    "    repo_name = 'datatalksclub.github.io'\n",
    "\n",
    "    reader = GithubRepositoryDataReader(\n",
    "        repo_owner,\n",
    "        repo_name,\n",
    "        allowed_extensions=allowed_extensions\n",
    "    )\n",
    "    \n",
    "    return reader.read()"
   ]
  },
  {
   "cell_type": "code",
   "execution_count": null,
   "id": "27db8e83",
   "metadata": {},
   "outputs": [
    {
     "name": "stdout",
     "output_type": "stream",
     "text": [
      "Downloaded 765 files\n"
     ]
    }
   ],
   "source": [
    "# Q4 \n",
    "datatalsclub_data = read_github_data()\n",
    "print(f\"Downloaded {len(datatalsclub_data)} files\")"
   ]
  },
  {
   "cell_type": "code",
   "execution_count": 6,
   "id": "e796b9c3",
   "metadata": {},
   "outputs": [
    {
     "data": {
      "text/plain": [
       "'---\\nepisode: 2\\nguests:\\n- terezaiofciu\\nids:\\n  anchor: Decoding-Data-Science-Job-Descriptions---Tereza-Iofciu-e1m079l\\n  youtube: bqxBiIwtmX4\\nimage: images/podcast/s10e02-decoding-data-science-job-descriptions.jpg\\nlinks:\\n  anchor: https://anchor.fm/datatalksclub/episodes/Decoding-Data-Science-Job-Descriptions---Tereza-Iofciu-e1m079l\\n  apple: https://podcasts.apple.com/us/podcast/decoding-data-science-job-descriptions-tereza-iofciu/id1541710331?i=1000575150345\\n  spotify: https://open.spotify.com/episode/4v6h48B0c0Je8xLMo5zMs5?si=hcMUqpPPQYm2vrdi2py1UQ\\n  youtube: https://www.youtube.com/watch?v=bqxBiIwtmX4\\nseason: 10\\nshort: Decoding Data Science Job Descriptions\\ntitle: Decoding Data Science Job Descriptions\\ntranscript:\\n- line: This week, we\\'ll talk about decoding the data science job description. We\\n    have a special guest today, Tereza. Tereza is an experienced data practitioner.\\n    She worked as a data science manager, a data scientist, data engineer, product\\n    manager, and she is leading a coaching team right now. Tereza, you’re actually\\n    doing so many things. [chuckles] She\\'s a core organizer of the PyLadies Hamburg\\n    Group, she\\'s hosted regular meetups with the community, and she\\'s also a PSF Code\\n    of Conduct and Diversity and Inclusion Working Group Member. What is PSF, by the\\n    way?\\n  sec: 101\\n  time: \\'1:41\\'\\n  who: Alexey\\n- line: Python Software Foundation.\\n  sec: 137\\n  time: \\'2:17\\'\\n  who: Tereza\\n- line: Okay. Welcome to our event.\\n  sec: 141\\n  time: \\'2:21\\'\\n  who: Alexey\\n- line: Thank you.\\n  sec: 144\\n  time: \\'2:24\\'\\n  who: Tereza\\n- header: Tereza’s background\\n- line: Before we go into the main topic of today, which is understanding job descriptions,\\n    let\\'s start with your background. Can you tell us about your career journey so\\n    far?\\n  sec: 147\\n  time: \\'2:27\\'\\n  who: Alexey\\n- line: Yeah. Well, I guess I have a traditional career journey to data science, plus\\n    being at the right place at the right time. I studied computer science. I come\\n    from Romania and then I came to Hannover to do my diploma, and then I stayed to\\n    do a PhD. That\\'s what you do after graduation. But anyway, then it was lucky because\\n    my PhD was in information retrieval and recommender systems and all that – that\\n    was in 2011, when there were not so many people doing it.\\n  sec: 160\\n  time: \\'2:40\\'\\n  who: Tereza\\n- line: That led me to get a job at XING. I remember back then, I applied for senior\\n    Perl developer in the data team and I thought, “How hard can it be? I did three\\n    months of Perl coding during my internship at Microsoft, so I guess I can apply\\n    for a senior Perl developer position.” I mean, that is the only job they had on\\n    the platform. So I applied and it turns out in the interview that I didn\\'t actually\\n    know that much about Perl, but I did know stuff about recommender systems. [chuckles]\\n    So I got the job then.\\n  sec: 160\\n  time: \\'2:40\\'\\n  who: Tereza\\n- line: XING is a job search portal in Germany, right?\\n  sec: 227\\n  time: \\'3:47\\'\\n  who: Alexey\\n- line: Yeah, exactly. And in Austria – so the DACH area. I stayed there for like\\n    three and a half years, I think. Then I took a year off doing artsy things and\\n    kind of trying out startup-y stuff. Then I wanted to work with data again and\\n    I started working at mytaxi, which is now called FREE NOW. I joined first as a\\n    data engineer because that had to be fixed before you do data science. Then after\\n    we set everything up, after a year and a half, I think, we started the data science\\n    team. With that, I was there I think four and a half years in the end. Then I\\n    left and I started at Neuefische first as a coach – I wanted to just do it for\\n    like six months and then go do my break thing. But then I stayed. I felt like\\n    that we, as the coaches, needed to build up the team and also have career paths\\n    for coaches, not just for students. It\\'s going to be almost two years now in September.\\n  sec: 232\\n  time: \\'3:52\\'\\n  who: Tereza\\n- line: Then I started with PyLadies already when I was at FREE NOW. I felt like I\\n    didn\\'t really have a clique in Hamburg, like peers to exchange with. I\\'ve been\\n    in many companies, where I was like the only woman developer. It\\'s nice to be\\n    a pioneer, but not really. So that\\'s why we started PyLadies in Hamburg, because\\n    we saw that Berlin one was pretty active and then we did it in Hamburg also. One\\n    thing led to another and there was more stuff to do for the community and more\\n    interesting stuff. I think it\\'s really important and it\\'s also quite rewarding\\n    in the end.\\n  sec: 232\\n  time: \\'3:52\\'\\n  who: Tereza\\n- line: So you tried pretty much everything. First, you worked in academia as a researcher,\\n    then you joined XING as a data scientist, then you joined another company as a\\n    data engineer – so you built the data engineering platform, the data pipelines\\n    there – then you became a data scientist again, then you lead a team (you started\\n    a team) which means you are like a manager, right? You were managing the team.\\n  sec: 346\\n  time: \\'5:46\\'\\n  who: Alexey\\n- line: Oh, not really. Basically, when I was working at XING, you have to understand\\n    that I was working at XING doing data science from 2011 to 2015. We were writing\\n    code in Scala. Our recommender systems were ElasticSearch, doing smart, interesting\\n    queries on ElasticSearch.\\n  sec: 369\\n  time: \\'6:09\\'\\n  who: Tereza\\n- line: That hasn\\'t changed. [chuckles] I mean, that\\'s how people do it.\\n  sec: 391\\n  time: \\'6:31\\'\\n  who: Alexey\\n- line: \\'[laughs] Right. Okay. But it was really product-driven, so it had to be needed\\n    – it was not so much researching stuff. I think when I came to FREE NOW, and we\\n    were looking at data science, back then everybody was talking about Python, Python\\n    – and so many libraries, and everybody was doing things differently. Then it was\\n    like, “If I would have done my PhD now, things would have been way faster than\\n    doing my PhD in Java,” right? I mean, you had to implement your own Lucene. Remember\\n    Lucene? It was just so much grinding back then to write code.\\'\\n  sec: 396\\n  time: \\'6:36\\'\\n  who: Tereza\\n- line: Anyways, what was lacking when we started with the data science team, we had\\n    a lot of people – we had people that had been from data engineering, or data analytics,\\n    but they were kind of not experienced in this product mindset. So it was more\\n    like cool experiments that look nice in a Jupyter Notebook, but then they weren\\'t\\n    ever bridging to something where it actually gets used by someone. That work that\\n    has to be done was not really well planned and stuff. So I ended up actually doing\\n    product management until we hired someone for the product management role. And\\n    then I took the leadership role.\\n  sec: 396\\n  time: \\'6:36\\'\\n  who: Tereza\\n- line: That\\'s interesting. Were you hired as a data scientist first and then you\\n    realized that you need to build this data platform sort of thing, or they hired\\n    you as a data engineer first? Or as a data person in general? [cross-talk].\\n  sec: 473\\n  time: \\'7:53\\'\\n  who: Alexey\\n- line: When I applied, there were not many jobs in Hamburg in 2016, when I decided\\n    to work again with data. That was a problem. There was mytaxi – I mean, of course,\\n    there was OTTO and XING. But I\\'ve been at XING and I wasn\\'t going to go back.\\n    Also, I kind of learned at XING that I cannot function in a company the size of\\n    XING or larger, so I was definitely not gonna go to OTTO. There were not many\\n    things besides that. So there was Goodgame Studios for games, not that I\\'m particularly\\n    interested in making people play more games, so it wasn\\'t a complete culture fit\\n    for me on that side.\\n  sec: 487\\n  time: \\'8:07\\'\\n  who: Tereza\\n- line: With mytaxi, at least I had used the app and I found it very useful back then\\n    – it was the only thing where you didn\\'t need cash in the morning. It was like\\n    being stranded somewhere and you need a taxi and you don\\'t have cash – it\\'s very\\n    traumatizing. So basically, the job description I applied for was BI Developer.\\n    Really unattractive title, especially because I\\'ve seen we had different nomenclatures\\n    of jobs. BI people were people that were working on XSO and just doing inquiries\\n    and reports and had zero interaction with data science – I’m talking about 2012\\n    now, things probably have changed. Here, it was different. So BI development was\\n    basically what you would now call an ETL Developer.\\n  sec: 487\\n  time: \\'8:07\\'\\n  who: Tereza\\n- line: The first thing I did, they gave me the option, “You could join the data analytics\\n    team – you would do dashboards in Tableau.” And I was like, [laughs] “No… I don\\'t\\n    think that\\'s interesting for me.” “Or you help us build a data platform.” The\\n    ETL back then at mytaxi was (you would be surprised) but there were PostgreSQL\\n    queries glued together in Maven, because the person who originally built it was\\n    a Java developer. [chuckles] I have never seen before… [cross-talk]\\n  sec: 487\\n  time: \\'8:07\\'\\n  who: Tereza\\n- line: Well, at least it worked, right?\\n  sec: 613\\n  time: \\'10:13\\'\\n  who: Alexey\\n- line: It worked. [chuckles] We had to put this on Airflow and back then Hadoop was\\n    quite popular. So I saw the building blocks and I thought… Well, I\\'ve been there\\n    and saw the whole data infrastructure being built – I saw it happening. I wasn\\'t\\n    really getting involved. But it turned out that I had a lot of passive knowledge\\n    out of that. That was helpful and I applied it. The first thing I did was change\\n    the job title. I said, “I can\\'t put that job title on my CV. Ever.” [laughs] Also,\\n    we cannot hire anybody – nobody\\'s gonna apply. It\\'s just a different market.\\n  sec: 615\\n  time: \\'10:15\\'\\n  who: Tereza\\n- header: Working as a coach\\n- line: Now your work as a coach. So what do you do as a coach? How\\'s it different\\n    from your previous jobs?\\n  sec: 660\\n  time: \\'11:00\\'\\n  who: Alexey\\n- line: Well, now I don\\'t have to worry about not caring about the product that I\\'m\\n    working on or not. [laughs] Because I am just teaching people how to be responsible\\n    data scientists, so that whenever they go and do stuff, they are not destroying\\n    other people\\'s lives and are doing cool things with data. At Neuefische we\\'re\\n    doing data science boot camps – me and my team. There\\'s also data analytics and\\n    web and Java and AWS. We added a large product part in the data science bootcamp,\\n    because I feel that that\\'s actually the part that is stopping people from getting\\n    stuff done. And a lot of teamwork, too.\\n  sec: 667\\n  time: \\'11:07\\'\\n  who: Tereza\\n- line: We are teaching students that are coming from different backgrounds how to\\n    be data scientists that you would want to work with. I don\\'t know how to say this\\n    – not like someone who finishes university and they just learn all the tools,\\n    but they can\\'t work in a team because universities don\\'t teach working in teams\\n    and all sorts of things. Basically that.\\n  sec: 667\\n  time: \\'11:07\\'\\n  who: Tereza\\n- line: We also get a lot of PhDs and you know how it is with PhDs. I think when you\\n    perceive people, you don\\'t know whether the person did a PhD or not. But a lot\\n    of people think, “Well, a person who did a PhD, they worked alone the whole time.\\n    They don\\'t collaborate well. They don\\'t handle criticism well.” But this depends\\n    on where they did it – some PhDs are completely different, of course. But you\\n    hear a lot of people that say, “Oh, we already hired a lot of PhDs. It didn\\'t\\n    work well. We\\'re not hiring PhDs anymore.” It\\'s like companies just go 180 on\\n    this. [cross-talk]\\n  sec: 667\\n  time: \\'11:07\\'\\n  who: Tereza\\n- line: Funny that you mention that. I remember there was a time when companies would\\n    hire only PhDs. And you\\'re saying now that companies think “Oh, well, yeah – we\\n    tried that. Didn\\'t work. Let\\'s not hire PhDs at all.” [chuckles]\\n  sec: 788\\n  time: \\'13:08\\'\\n  who: Alexey\\n- line: Yeah. [chuckles] Why does it have to be so black and white? Then, of course,\\n    we are 10 coaches – so we are working as a team and trying to find sustainable\\n    ways of working and growing. The field of data just is so fluid at the moment.\\n    It just changes all the time and you have to stay on top of the game a little\\n    bit.\\n  sec: 802\\n  time: \\'13:22\\'\\n  who: Tereza\\n- header: Identifying the mismatches between your needs and that of a company\\n- line: Actually, what we wanted to talk about in this interview is decoding (understanding)\\n    data scientists’ job descriptions. A while ago, you gave a talk with the same\\n    name, or a similar name, Decoding the Data Science Job Description. That is a\\n    great talk and I wanted to talk a bit about that here. You started the talk by\\n    saying that there is a mismatch between expectations and reality for both candidates\\n    and companies.\\n  sec: 833\\n  time: \\'13:53\\'\\n  who: Alexey\\n- line: I think we talked a little bit about this already, like with hiring PhDs –\\n    first companies expected that they would just hire a bunch of PhDs and things\\n    would magically happen and then things didn\\'t magically happen. “Okay, something\\n    must be wrong with the PhDs, so let\\'s not hire them.” There is some mismatch,\\n    right? Can you tell us more about this? Why does this mismatch happen?\\n  sec: 833\\n  time: \\'13:53\\'\\n  who: Alexey\\n- line: Talking from the company perspective, I think companies are (not all the companies,\\n    of course), but most companies – just imagine, you go on LinkedIn and you look\\n    at data science jobs, and then you get depressed and you close LinkedIn. You\\'re\\n    wondering “Where is that feeling coming from?” Right? There\\'s a lot of copy/pasting\\n    going around and you have this feeling like they\\'re not really intentional – there\\'s\\n    no intent in how they\\'re writing this job description. It’s just about, “Hey,\\n    we need to hire some people. Let\\'s copy what other people are writing and let\\'s\\n    hire some people.” I think this can come out, but sometimes you don\\'t have a choice\\n    and you have to go with it. First, companies don\\'t usually know what they want\\n    – what they need.\\n  sec: 880\\n  time: \\'14:40\\'\\n  who: Tereza\\n- line: Sometimes they find out through the job interview process. They don\\'t hire\\n    the first person, the second person – by the fifth person they interview, they\\n    have “done their research” and now they know who they want to hire. This happens,\\n    right? But sometimes the way interviews are done in most companies, it has a different\\n    aim. Instead of telling a person, “This is what you\\'re going to do at work over\\n    the following period. Does this align with your needs?” You tell the person, “Hey,\\n    these are all the things that you need to know.” Then the job interview is about\\n    understanding if the person is smart. Also, can we understand if the person is\\n    smart with the least effort possible? So we start with the Take Me Home Challenge,\\n    which we say it\\'s for four hours, but everybody knows it\\'s [cross-talk]\\n  sec: 880\\n  time: \\'14:40\\'\\n  who: Tereza\\n- line: Least effort for the company side, right? Not for the candidate?\\n  sec: 982\\n  time: \\'16:22\\'\\n  who: Alexey\\n- line: Yeah. For the company side, it\\'s four hours. They say that, but then in the\\n    end, if you want to do a good job…\\n  sec: 985\\n  time: \\'16:25\\'\\n  who: Tereza\\n- line: It’s like a month. [chuckles]\\n  sec: 990\\n  time: \\'16:30\\'\\n  who: Alexey\\n- line: Yeah, a month sometimes. For example, there are some companies that put the\\n    take-home challenge very early on in the interview process.\\n  sec: 991\\n  time: \\'16:31\\'\\n  who: Tereza\\n- line: Yeah, I remember I had a case when, even before talking to a human – it was\\n    just an automatic email saying, “Hey, please do this take-home challenge.” And\\n    I thought, “Okay. Well, let me just do this.” I didn’t know that something was\\n    off there. So then I did and they said, “Oh. Sorry. I actually forgot to close\\n    the position. We already hired somebody.” [scoff] “Yeah, thank you. Thanks for\\n    telling me about that in advance.”\\n  sec: 1003\\n  time: \\'16:43\\'\\n  who: Alexey\\n- line: Yeah. Exactly. Especially in large companies, if they have a lot of PR out\\n    there and nice branding – a lot of people apply and then it becomes this work\\n    to review those people. And I\\'m not sure if every company is allocating enough\\n    resources to have proper interviews of people. It\\'s more like, “Oh, yeah. We will\\n    figure it out in the probation period – if it works out or not.” But Germany is\\n    not a good country to fire people during the probation period. It\\'s not really\\n    normal. I think it happens in other countries more often, that people get fired\\n    way faster. But in Germany, not so much.\\n  sec: 1032\\n  time: \\'17:12\\'\\n  who: Tereza\\n- line: But in general, I guess it\\'s not… I imagine for a candidate who got hired\\n    and had some expectations and for the company, letting people go is also stressful.\\n    I am a manager and I cannot imagine how difficult it is to fire somebody. It\\'s\\n    stressful for both sides, right?\\n  sec: 1076\\n  time: \\'17:56\\'\\n  who: Alexey\\n- line: Yeah, exactly. But I\\'ve also heard quite often that people got a job and it\\n    turned out to be completely different than what they expected. I think, on the\\n    other side, regarding the goals of candidates – a lot of people don\\'t really sit\\n    down by themselves and write down their goals. People also sometimes just go a\\n    little bit uninformed to the job interview. Just imagine if you\\'re a manager,\\n    you\\'ve had interviews with people – imagine how many people didn\\'t ask questions.\\n    There are some people that don\\'t ask questions, and you\\'re like, “Hmm… interesting.\\n    Is this person applying for 100 jobs so it doesn\\'t matter where you\\'re getting\\n    a job?” [chuckles] Basically, find out what is important for you and inform yourself\\n    if that\\'s happening. People take it for granted that the stuff that is important\\n    for them is going to be fine and it\\'s not the case.\\n  sec: 1094\\n  time: \\'18:14\\'\\n  who: Tereza\\n- line: To summarize, the misalignment – at least from the companies’ point of view\\n    – happens because, first of all, companies don\\'t know who they want/need. And\\n    second is, they want to do it with the least amount of time from their side. Right?\\n    Coming back to your story of how you ended up at mytaxi – you applied for a BI\\n    developer and this wasn\\'t exactly what they needed, right?\\n  sec: 1164\\n  time: \\'19:24\\'\\n  who: Alexey\\n- line: Yeah. The title was wrong. [laughs]\\n  sec: 1192\\n  time: \\'19:52\\'\\n  who: Tereza\\n- line: Was the description also wrong? Or it wasn\\'t?\\n  sec: 1195\\n  time: \\'19:55\\'\\n  who: Alexey\\n- line: No, I think the description… hmm… Let me remember.\\n  sec: 1199\\n  time: \\'19:59\\'\\n  who: Tereza\\n- line: \\'[chuckles] It was a while ago, right?\\'\\n  sec: 1205\\n  time: \\'20:05\\'\\n  who: Alexey\\n- line: It was a while ago, but basically, I read the description and thought – this\\n    is data engineering in 2016 – so I thought “This is data engineering. You set\\n    up a data warehouse and you create the platform for the analytics team to work\\n    on,” basically. But it was definitely not BI development. [chuckles]\\n  sec: 1206\\n  time: \\'20:06\\'\\n  who: Tereza\\n- line: Let\\'s say we\\'re a candidate and we want to apply for a job. We come across\\n    a job description, and we don\\'t want to get hired, start working, only then to\\n    find out that it\\'s not what we want. Because leaving the company is stressful,\\n    and it’s even worse being fired. [cross-talk] If you’re let go, that\\'s even worse.\\n  sec: 1233\\n  time: \\'20:33\\'\\n  who: Alexey\\n- line: Even having a lot of job interviews is a lot of time. If you think about it\\n    as a pyramid, you can look at 100 job descriptions, you can probably pass the\\n    first interview round with 20 – how many take-home challenges can you have? If\\n    you think about five take-home challenges, that’s like five weeks of your time,\\n    if you want to do it right. And then you take just one job. So the further down\\n    the interview line you go, it becomes more of a time-consuming effort.\\n  sec: 1256\\n  time: \\'20:56\\'\\n  who: Tereza\\n- header: How to avoid misalignments\\n- line: What companies do first is CV-screening rounds, where they will look at the\\n    candidate’s CV. The job description is a similar thing, but from the other side\\n    – for the candidates. So how can we make sure that description matches what we\\n    want?\\n  sec: 1290\\n  time: \\'21:30\\'\\n  who: Alexey\\n- line: Right. First of all, you have to think about what you want. [chuckles] And\\n    you also have to think about where you are in your career, because this changes\\n    what you need a little bit from what you want. I think, in general, you need to\\n    identify the overlap between needs and wants, because wanting something might\\n    still be the wrong thing to have. For example, a person that’s at the beginning\\n    of their career, working in a data science team that’s not a team – it\\'s just\\n    one person – it’s not going to be very rewarding for them or helping them out\\n    with their growth because they will end up doing all sorts of random things that\\n    are probably not really data science-related.\\n  sec: 1310\\n  time: \\'21:50\\'\\n  who: Tereza\\n- line: So you have to have some experience. You need to know that if you\\'re a junior\\n    or just graduated from university or from a bootcamp – starting a team or starting\\n    as a sole data scientist in a startup might not be the best idea. Right?\\n  sec: 1359\\n  time: \\'22:39\\'\\n  who: Alexey\\n- line: But there are some people that have the personality for it.\\n  sec: 1375\\n  time: \\'22:55\\'\\n  who: Tereza\\n- line: It’s not for everyone.\\n  sec: 1379\\n  time: \\'22:59\\'\\n  who: Alexey\\n- line: Yeah, they need to be able to thrive in this “chaos” [chuckles] experiment\\n    often and figuring stuff out. But then there are people that want to take it slow\\n    and have stability and enjoy their time. Then you need a bigger company, and you\\n    need a bigger team. You need a team where stuff is defined, processes are defined,\\n    and you just have to do your thing for a bit.\\n  sec: 1381\\n  time: \\'23:01\\'\\n  who: Tereza\\n- line: This is on one side, from the candidate perspective. You need to identify\\n    with yourself – are you at the part where you still need to get good at the tech\\n    part, on this little specialization thing that you\\'re doing (whether it\\'s data\\n    science, or analytics)? Or are you at the part that you should get good at generalizing.\\n    Like, “Okay, I can do all of the data science part, but I want to know machine\\n    learning engineering and I also want to learn MLOps, and also the analytics part,\\n    because I want to be able to better monitor my models. I want to go all over the\\n    place. I\\'m not there yet. What is the right order to do this? It depends, right?\\n    For some people, order works and for some people, it doesn\\'t. This is a personality\\n    thing. In my talk, I was structuring things based on, basically, if you can find\\n    information about the team, if you can find information about the role itself,\\n    if you can find information about the culture of the company, and also about (I\\n    added new things) the retention.\\n  sec: 1381\\n  time: \\'23:01\\'\\n  who: Tereza\\n- line: What is down the line, if you think about it, in a couple of years? What would\\n    it still look like? Would you still be there? Sometimes it matters. Sometimes\\n    you are at the part where you just want to have a couple of jobs in your CV or\\n    you\\'re exploring so and then it doesn\\'t matter. You can be somewhere for six months\\n    and then in another place –you need to ramp up. But sometimes you want to be there\\n    longer. On all of these aspects, I think it\\'s important to do a little bit of\\n    research to figure out if it\\'s a match. It\\'s either a fit, or there\\'s stuff that\\n    is a little bit borderline. Then you have to find out in the further down the\\n    interview if stuff is there, or missing or wrong. And if there is, is it because\\n    of ignorance, or it\\'s because it\\'s intentional?\\n  sec: 1381\\n  time: \\'23:01\\'\\n  who: Tereza\\n- header: Considering what’s mentioned in the job description, what isn’t, and why\\n- line: And by “stuff is there” you mean in the job description? What kind of stuff?\\n  sec: 1536\\n  time: \\'25:36\\'\\n  who: Alexey\\n- line: Yeah. For example, things like why the team is not mentioned in the job description.\\n    Is that because the company doesn\\'t know how to write a job description? Or is\\n    it intentional – because there is no team? [chuckles]\\n  sec: 1540\\n  time: \\'25:40\\'\\n  who: Tereza\\n- line: A good example would be “We are looking for a data scientist to join our search\\n    implementation team,” right? Then it\\'s clear which team it will be. [cross-talk]\\n  sec: 1553\\n  time: \\'25:53\\'\\n  who: Alexey\\n- line: And the area where the team is working.\\n  sec: 1563\\n  time: \\'26:03\\'\\n  who: Tereza\\n- line: Alright. And if it\\'s like, “Okay, we\\'re looking for somebody with five years\\n    of experience in data science and Perl, AWS and Docker (and just a bunch of things)\\n    then apply here.” And you\\'re thinking, “Okay, well… what exactly is this?” Right?\\n  sec: 1565\\n  time: \\'26:05\\'\\n  who: Alexey\\n- line: Yeah, you\\'re like, “Hmm. I guess they\\'re desperate? They searched all this\\n    online and this is what people are hiring these days and they also want to want\\n    to?” [laughs] Or something. I don\\'t know. So kind of like this. Sometimes the\\n    job description is not enough to figure out why something is there or not there.\\n    If it\\'s on purpose, or if it\\'s the first time they are hiring, or it\\'s a new person\\n    writing the job description, or they didn\\'t do proper research. It can also be\\n    that it\\'s harmless – just out of ignorance.\\n  sec: 1580\\n  time: \\'26:20\\'\\n  who: Tereza\\n- line: Do you maybe have some sort of a checklist? Things that we should try to find\\n    in the job description – and if they are missing, we should ask about them. Some\\n    things you said should be mentioned are the team and an area where you work. Are\\n    there any other things?\\n  sec: 1620\\n  time: \\'27:00\\'\\n  who: Alexey\\n- line: Yeah. For example, for a data science job – data science is the part that\\n    comes down the line of data, right? It\\'s not the stuff that the company starts\\n    with. So if you want to make the data people applying relaxed about it, you should\\n    just mention the fact that you already have a data engineering platform, that\\n    you already have a data infrastructure, that you already have a data analytics\\n    team. But you can also see this from the information of what they want.\\n  sec: 1638\\n  time: \\'27:18\\'\\n  who: Tereza\\n- line: If you are applying as a data scientist and they ask you all sorts of tools,\\n    like all the tools, all over the space of data, then you already know that you\\'re\\n    not really gonna do data science. [laughs] Basically, on the checklist, on the\\n    team side, I would say to figure out if there\\'s a team mentioned. How is that\\n    team mentioned? What do they say about the team? One thing that is also borderline\\n    with culture here is – do they have juniors in the team or not? Maybe they don\\'t\\n    have juniors in this team, but they have juniors in other teams. This is taking\\n    it to the culture level.\\n  sec: 1638\\n  time: \\'27:18\\'\\n  who: Tereza\\n- line: I guess this is not something you check in the job description, but rather\\n    maybe go to LinkedIn and see who the people who work in this company are and whether\\n    there are people with the junior title.\\n  sec: 1717\\n  time: \\'28:37\\'\\n  who: Alexey\\n- line: Exactly, yeah. Another thing is, in the job description – the role itself\\n    has must-haves and then the nice-to-haves. These are your responsibilities and\\n    things you do at work. This can range from being well-defined to being a bullet\\n    point, a tech stack of all the tools that are out there. This is a nice paradigm\\n    that not a lot of people are using – having objectives already mentioned in the\\n    job description.\\n  sec: 1727\\n  time: \\'28:47\\'\\n  who: Tereza\\n- line: If you think about it, which kind of job would you apply for? One that says\\n    “You have to have a PhD in whatever, plus three years work experience,” or “In\\n    the first six months your task is to improve the performance of three of our machine\\n    learning models.”? I’m saying this as a joke, but like, can you get a PhD in three\\n    years work experience in six months? No. And then the job itself is improving\\n    machine learning models. I mean, you’re really missing out on talent just by having\\n    this. Because I wouldn\\'t apply if I wouldn\\'t have a PhD and they asked for a PhD,\\n    right?\\n  sec: 1727\\n  time: \\'28:47\\'\\n  who: Tereza\\n- line: Objectives. So we need to have a team mentioned, then responsibilities should\\n    be well-defined – with objectives, not just a list of technologies, right?\\n  sec: 1809\\n  time: \\'30:09\\'\\n  who: Alexey\\n- line: Not like, “Hey, it would be nice if you know everything, because maybe some\\n    of the stuff is going to be actually relevant to something that we are going to\\n    be doing. We don\\'t know yet what we\\'re doing.” This is how I would interpret it.\\n    Like, “We have absolutely no idea what this person is supposed to be doing, so\\n    we\\'re just putting all the possible skills,” which might actually not be the case.\\n    Again, ignorance versus intent.\\n  sec: 1820\\n  time: \\'30:20\\'\\n  who: Tereza\\n- line: But this is something to think about when you have the first/second interview\\n    to ask them, actually. So at least you need to do some homework and figure out\\n    “Okay, what do I really need to ask them?” And the job description is a good indicator\\n    if they know who they want or not.\\n  sec: 1844\\n  time: \\'30:44\\'\\n  who: Alexey\\n- header: Diversity and culture of a company\\n- line: The other thing is, also, if they talk about diversity on the job description.\\n    I think “equal employment opportunity,” saying whether they care about diversity\\n    or not. Most of the time, I think it\\'s starting to be the normal thing to do,\\n    whether it\\'s part of the culture or it\\'s just PR/marketing – that\\'s something\\n    to find out in the interview process. But wording that is off-putting is already\\n    a sign of lack of diversity – the language on the job description.\\n  sec: 1863\\n  time: \\'31:03\\'\\n  who: Tereza\\n- line: For example, if I see a job description that hires a “rockstar,” or a “ninja”\\n    or something I don\\'t apply. I just don\\'t even actually have that conversation\\n    further. It’s 2022 – maybe three years ago, this would have been ignorance, but\\n    now I just think “You have a team that is thriving on competition and not on collaboration.”\\n    It\\'s just like that, you know? I would never recommend anybody to apply to a job\\n    that has terms like that.\\n  sec: 1863\\n  time: \\'31:03\\'\\n  who: Tereza\\n- line: Like “ninja” or “rockstar”. This is something we actually talked about last\\n    week on the podcast with Olga. We discussed a tool that analyzes the language\\n    of the job description, and it says [cross-talk]… Sorry?\\n  sec: 1942\\n  time: \\'32:22\\'\\n  who: Alexey\\n- line: The Gender Decoder.\\n  sec: 1962\\n  time: \\'32:42\\'\\n  who: Tereza\\n- line: I don\\'t know if it\\'s a gender decoder, but it says “Avoid using this word.”\\n    Or not “avoid” but they say, “If you use this word, it will attract more males\\n    than females. So consider changing it to this.” For example, for me as a candidate,\\n    maybe I\\'m ignorant and I don\\'t always see these red flags, but now you mentioned\\n    “rockstar, ninja,” are there other things that you would consider, maybe not red\\n    flags, but good indicators that something might be off?\\n  sec: 1964\\n  time: \\'32:44\\'\\n  who: Alexey\\n- line: Let\\'s see. Well, a lot of bullet points is off-putting. From the research\\n    that I was doing for this talk, it’s actually a sign of a rigid interview process.\\n    The thing is, the person interviewing you will end up asking you questions that\\n    you could just Google. It’s not questions about how you think about solving a\\n    problem, (which is what you actually have to do at work in the end) but they\\'re\\n    gonna ask you syntax questions for random tools or programming languages that\\n    they have there.\\n  sec: 2013\\n  time: \\'33:33\\'\\n  who: Tereza\\n- line: Again, this goes back to the culture of the interview practice. This is work\\n    that can be done on the candidate’s side. Most of the companies actually do not\\n    put in the work to fix their job description on gender decoding and all sorts\\n    of things. Sometimes, you might feel that you like the company and you like the\\n    role, but you read the job description and you don\\'t really feel like applying.\\n    Then you realize that it\\'s because of the language. Or you don\\'t even know – this\\n    happens subconsciously. It\\'s not like, “Oh, I don\\'t like it.” You know? There\\n    was this research that shows that, apparently, women apply less to jobs that have\\n    this off-putting language, but also women actually get more of the jobs that they\\n    apply to because they do this research more often. Whereas, maybe for men, there\\'s\\n    less information on the job description that would make it off-putting.\\n  sec: 2013\\n  time: \\'33:33\\'\\n  who: Tereza\\n- line: But there are words that trigger this. For example, there’s a junior position\\n    and they’re saying, “We\\'re expecting you to work fully autonomously,” [laughs]\\n    Who’s gonna do that? Or have that expectation of a junior? It depends. I mean,\\n    you want some autonomy, but you also want some goals or some guidance. I don\\'t\\n    know. I know good examples – very rare examples – that when they are there, you\\n    feel like “Oh, that is such a nice job! I don\\'t need this job. It\\'s completely\\n    out of my range of expertise.” There\\'s very few like that. I\\'ve seen a job that\\n    had short paragraphs about every team member, “This is the person you\\'re going\\n    to work with.”\\n  sec: 2013\\n  time: \\'33:33\\'\\n  who: Tereza\\n- line: Interesting. That doesn\\'t happen often, right? [chuckles]\\n  sec: 2191\\n  time: \\'36:31\\'\\n  who: Alexey\\n- line: No. [chuckles] Exactly. You see that they put a lot of effort in creating\\n    that job description. There’s also job descriptions where I like the style – they\\n    tell you, “This is what you\\'re gonna do in your first two weeks, what you\\'re gonna\\n    do in the next three months, and what you\\'re going to do in the next six months.”\\n    [cross-talk]\\n  sec: 2196\\n  time: \\'36:36\\'\\n  who: Tereza\\n- line: This is something you ask in the interview, right?\\n  sec: 2218\\n  time: \\'36:58\\'\\n  who: Alexey\\n- line: You could also have it in the job description.\\n  sec: 2222\\n  time: \\'37:02\\'\\n  who: Tereza\\n- line: Ah, okay, okay. Right – then you don\\'t have to ask these things.\\n  sec: 2224\\n  time: \\'37:04\\'\\n  who: Alexey\\n- header: Lack of a salary in the job description\\n- line: Exactly. You could put it in the job description. I mean, for people doing\\n    job descriptions, when you have a lot of repetitive questions asked in the interview\\n    by the candidate, you could just as well add it. Lack of salary on the job description\\n    – I know most companies have a lack of salary.\\n  sec: 2228\\n  time: \\'37:08\\'\\n  who: Tereza\\n- line: In Germany, it\\'s very difficult to find companies that actually put salary\\n    on the listing.\\n  sec: 2250\\n  time: \\'37:30\\'\\n  who: Alexey\\n- line: Yeah, especially because we want to [smiles, laughs] Newsflash for everybody,\\n    it is no longer illegal in Germany to talk about your salary. And newsflash for\\n    companies expecting people working at your company to not talk about salaries\\n    being naive about it. It is really more expensive to lose employees because of\\n    lack of transparency on the salary, then to just fix the salaries. Basically,\\n    every time I talked to someone that was saying, “Yeah, I have a job opening. I\\n    would love to put the salary, but I can\\'t.” And then I think, “Oh, I think this\\n    is why you don\\'t put the salaries, right?” And they\\'re like, “Yeah, that\\'s why.”\\n  sec: 2257\\n  time: \\'37:37\\'\\n  who: Tereza\\n- line: And the reasons are, “We have not fixed the salaries internally. We have older\\n    people that don\\'t have the right salary and/or people in different regions that\\n    don\\'t have the right salaries. That’s why we can\\'t write the salary in the description.”\\n    In the end, every piece of information that you think comes from not putting the\\n    salary on the description is true.\\n  sec: 2257\\n  time: \\'37:37\\'\\n  who: Tereza\\n- header: Way of doing research about company where you will potentially work\\n- line: Okay. You mentioned a couple of times that it\\'s important to do some research.\\n    For example, to see how many juniors are in the company by going to LinkedIn and\\n    checking it. How do we actually do this? In addition to checking how many juniors\\n    there are in the company, what else can we do? Do we just go to Google, put in\\n    the name of the company, and look at the first page? Or is there an approach that\\n    we can take?\\n  sec: 2331\\n  time: \\'38:51\\'\\n  who: Alexey\\n- line: Some companies (the smaller startups) actually have the team on their website.\\n    You can take a look there and you see the color of the people, the gender of the\\n    people – and if you feel represented by that, or if you want to contribute to\\n    their lack of diversity, then go for it. I think that\\'s one way. There are some\\n    companies where going to LinkedIn or asking or whatever and just checking who\\'s\\n    working there – third degree network, second degree network. Another thing on\\n    the team part is something people don\\'t really think about – you spend 30% of\\n    your time with work colleagues.\\n  sec: 2358\\n  time: \\'39:18\\'\\n  who: Tereza\\n- line: Some of us – not everybody – but some of us are at parts in our careers where\\n    we like to work with people that inspire us. This is something you can find out\\n    – are there any people in that team or in that company that you find inspiring?\\n    Any role models? You can check through conference talks, meetups, and so on. That\\'s\\n    something that’s taking it an extra mile further. You can also check past employees\\n    on LinkedIn. You can also figure out past employees and see how long they worked\\n    in the company. Also, another thing regarding career pipelines – sure, you can\\n    ask in the interview about the career path, whether they have pipelines for the\\n    career and whatnot. But you can [cross-talk]\\n  sec: 2358\\n  time: \\'39:18\\'\\n  who: Tereza\\n- line: Career pipeline is a career ladder – junior, middle senior, and so on, right?\\n  sec: 2459\\n  time: \\'40:59\\'\\n  who: Alexey\\n- line: Exactly. But you can also check that out on LinkedIn to see how many people\\n    change their jobs within the company.\\n  sec: 2464\\n  time: \\'41:04\\'\\n  who: Tereza\\n- line: Like, how many become seniors, right? Or how many become managers?\\n  sec: 2474\\n  time: \\'41:14\\'\\n  who: Alexey\\n- line: For a lot of people – for many bigger companies – it usually takes a moment\\n    of crisis to figure out that they have to fix the culture. And that moment of\\n    crisis happens in every company at some point – it turns out that it\\'s easier\\n    to get promoted by just leaving the company than staying. After a lot of people\\n    do that, then they realize, “Oh, we need to fix this. Apparently we have a problem.”\\n    [chuckles] And then they start to have a nice culture. This is fine, it\\'s just\\n    good to know about it, right? Because then you know where you are and what do\\n    you have to do about it? Maybe it\\'s really important for you to have a two-year\\n    job and then move on, because the team is still great to learn from and people\\n    are great to learn from. But you also know that some of those people that are\\n    great to learn from are going to leave while you\\'re there, because they are going\\n    to feel disenchanted with the process.\\n  sec: 2479\\n  time: \\'41:19\\'\\n  who: Tereza\\n- line: Basically, you check LinkedIn, check what people are doing, check what the\\n    company is doing, what kind of statements they make online. I think one of the\\n    things that everybody has to decide for themselves is – do they need to care about\\n    what products the company is making? What is the mission of the company? What\\n    are the things that the company is creating? What are the values of the company?\\n    Because I think it depends. Some people want job stability. They\\'re old school\\n    – that\\'s how it was before. You worked somewhere for 30 years. That\\'s how it was.\\n    And now you work somewhere for three years, and then another place for three years.\\n    Job stability is no longer the thing, so you want to be motivated. You want to\\n    enjoy your work and you want to learn because you like learning, and it\\'s cool\\n    and stuff. So maybe then it is important that you are motivated. But this is something\\n    that you have to learn about yourself. Not everybody needs to care about the environment\\n    and so on.\\n  sec: 2479\\n  time: \\'41:19\\'\\n  who: Tereza\\n- header: How to avoid a mismatch with a company other than learning from your mistakes\\n- line: Yeah. That goes back to what you mentioned at the beginning. So you need to\\n    first understand what you want before starting to read the job description and\\n    see if this matches what you want. First, you need to understand what you want.\\n    By the way, is there any good approach to this? Let\\'s say I don\\'t want anything\\n    particular – I just want to have a job. How can I approach this?\\n  sec: 2625\\n  time: \\'43:45\\'\\n  who: Alexey\\n- line: Of course, I can learn from my past mistakes – or maybe not mistakes, my “mismatches”.\\n    For example, I worked at a company where it was very difficult to work from home.\\n    Then I interview for the next company and I ask for this in advance, like “Okay,\\n    can I work from home?” With COVID, I guess everyone had to work from home but\\n    before that, it was a thing that I would ask, is there any… [cross-talk]\\n  sec: 2625\\n  time: \\'43:45\\'\\n  who: Alexey\\n- line: You can also ask about what kinds of processes they have in place for people\\n    to successfully work from home. You have to agree, working from home and being\\n    completely remote is not an organic process. It needs support, right? It needs\\n    work. If that doesn\\'t happen in a company, then you will go into here one year\\n    later, “We\\'ve decided that everybody has to come to work. Oh, and we don\\'t have\\n    parking lots.” Like at Tesla. [laughs] Sorry.\\n  sec: 2684\\n  time: \\'44:44\\'\\n  who: Tereza\\n- line: I guess one thing you can do is learn from experience. Okay, you have to go\\n    to the office, but now that you have already signed the contract, you come to\\n    the office in your car and find out that there is no parking lot. And then it\\'s\\n    an “oops” situation. Then the next time you look for a job, you will ask about\\n    this.\\n  sec: 2719\\n  time: \\'45:19\\'\\n  who: Alexey\\n- line: But is there a systematic way of thinking “What do I actually want? What do\\n    I actually need?” Instead of making all these mistakes and learning from them\\n    – instead of going and signing up for a job that maybe does not match what you\\n    need? Is there a systematic way to figure out what you need when you don\\'t have\\n    10 years of experience, for example?\\n  sec: 2719\\n  time: \\'45:19\\'\\n  who: Alexey\\n- line: Well, actually, it depends on each person. For some people, the culture won\\'t\\n    matter because they are the majority, so they won\\'t notice these things. If you\\'re\\n    part of an underrepresented group, then the culture will matter more than other\\n    things. So you need to prioritize what is most important to you. Is the mission,\\n    the culture important? You have to be aware that if the culture matters to you,\\n    then you need to know to go work at a company that has a good culture, because\\n    working on fixing the culture takes away from your development – career development.\\n    And then you\\'re like, “Oh, why am I not growing in my career as fast as other\\n    people?”\\n  sec: 2762\\n  time: \\'46:02\\'\\n  who: Tereza\\n- line: Maybe you are at that part in your career where it\\'s not so expensive to not\\n    learn as fast. You need to prioritize you, basically. You can do this list, “OK,\\n    I need the team, I need the mission. What do I have? I have the team, the role,\\n    the culture, and retention. So what is really important for me? Do I care about\\n    the culture more? Do I care about the team? Do I care about…” Which ones are must-haves\\n    and which ones are “Okay, it\\'s fine if it\\'s not.”?\\n  sec: 2762\\n  time: \\'46:02\\'\\n  who: Tereza\\n- line: Take the team, for example. If you\\'re experienced, then it doesn\\'t really\\n    matter if the team is large or small, or created or not – you can make a team.\\n    But if you\\'re at the beginning of your career, then you probably care about the\\n    team quite a lot and who is in that team. Then again, retention – if you\\'re experienced,\\n    the retention part might matter more, because if a lot of employees are quitting\\n    often and stuff like that, that\\'s a sign of something not being done right. It\\'s\\n    going to be frustrating down the line and you\\'re going to manage to do a lot of\\n    stuff at work. There\\'s a reason behind it. The other thing that’s also really\\n    important – the company may have a data science job description, but do they really\\n    need a data scientist?\\n  sec: 2762\\n  time: \\'46:02\\'\\n  who: Tereza\\n- line: How do you find out?\\n  sec: 2910\\n  time: \\'48:30\\'\\n  who: Alexey\\n- header: Before data, during data, after data (a company’s data maturity level)\\n- line: Well, so that\\'s what you have to actually find out. First you have to figure\\n    out if they actually have a data infrastructure. I think in my talk, I was talking\\n    about companies that are “before data,” “during data,” and “after data”. So which\\n    stage are they in? Before data, they don\\'t need a data scientist. They need to\\n    start tracking and they need to start with the culture with the data. Then, while\\n    they\\'re becoming data-driven, they probably have a data infrastructure and then\\n    they have data scientists.\\n  sec: 2912\\n  time: \\'48:32\\'\\n  who: Tereza\\n- line: But again, most of the stuff that data scientists are doing doesn’t actually\\n    make it to production, because it\\'s not an established culture in the company.\\n    There\\'s going to be a lot of advocacy going on. A good question to ask in the\\n    interviews would be something like, “Who in the company wants the company to be\\n    data-driven?”\\n  sec: 2912\\n  time: \\'48:32\\'\\n  who: Tereza\\n- line: “Who in the company wants the company to be data-driven?” Interesting.\\n  sec: 2961\\n  time: \\'49:21\\'\\n  who: Alexey\\n- line: Yeah. I mean, it\\'s the same with diversity, right? If a company wants to start\\n    being diverse and everything, it has to be a top-down move. If the C-level doesn\\'t\\n    push for it, they will actually resist it. The same for data culture – it\\'s a\\n    culture shift.\\n  sec: 2967\\n  time: \\'49:27\\'\\n  who: Tereza\\n- line: Going from not being data-driven to being data-driven is a culture shift.\\n    It doesn’t really happen overnight. It happens with a lot of stuff – disrupting\\n    day-to-day work. Every team needs to be told “That\\'s the way we are going and\\n    that\\'s where we are going” and not be like, “We only go there if it\\'s easy, or\\n    if we can do it on Friday.”\\n  sec: 2967\\n  time: \\'49:27\\'\\n  who: Tereza\\n- line: Why does it matter? For me as a candidate, why does it matter at which maturity\\n    stage a company is? If it\\'s before data, during data, or after data?\\n  sec: 3013\\n  time: \\'50:13\\'\\n  who: Alexey\\n- line: Well, I think it\\'s more to kind of figure out or identify what the work you\\'re\\n    going to do will be. With data science, there\\'s all this visualization about this,\\n    this, this – you gather the business people, figure out what the business value\\n    is? What are you building? Why are you building it? Then you get the data, and\\n    then you do some modeling, and then presenting and whatnot. Now, how big are the\\n    slices in the pie? Where is your effort gonna go? That kind of stuff.\\n  sec: 3024\\n  time: \\'50:24\\'\\n  who: Tereza\\n- line: If it\\'s “before data,” most of your work is going to be in just communicating\\n    with people. It\\'s going to be the first kind of communication, like getting business\\n    proposals and stuff. It\\'s not going to be so data-related. Maybe you\\'re going\\n    to do some modeling, but there\\'s just no infrastructure to help you with putting\\n    that out there if the infrastructure is not there.\\n  sec: 3024\\n  time: \\'50:24\\'\\n  who: Tereza\\n- line: There\\'s communication and then building this infrastructure and then maybe,\\n    finally, after three years, there’ll be that training of the first linear regression.\\n    Right?\\n  sec: 3094\\n  time: \\'51:34\\'\\n  who: Alexey\\n- line: Yeah. And then the team that you\\'re going to give this to are going to be\\n    like, “Wait, but we were already doing it differently before and it was working.\\n    Now you\\'re making us lose our jobs?” This is also a funny question to ask, “Okay,\\n    so your company is this old? When did you start doing data stuff?” \\xa0If they say\\n    that they were something like eight years old when they started doing data and\\n    now they\\'re one year in the process of doing data. One year is not enough for\\n    a culture shift. The company is still in the culture shift.\\n  sec: 3101\\n  time: \\'51:41\\'\\n  who: Tereza\\n- line: This is more about knowing if this fits you. Are you a good communicator?\\n    Or are you introverted and just want to do the thing? Or are you really tech oriented?\\n    Because this is not going to be a good space for you. If you are a good communicator,\\n    then you\\'re gonna thrive there. Of course, you\\'re not going to become this stellar\\n    data scientist that would have gotten the stage to do fancy models all the time.\\n    But maybe go more into product.\\n  sec: 3101\\n  time: \\'51:41\\'\\n  who: Tereza\\n- line: A couple of years ago, there was this impression that what data scientists\\n    do at work is the same kind of stuff you would do at Kaggle. You would get a clean\\n    data set, train a model, squeeze everything from this data as much as possible\\n    and then you have this perfect model that you just deployed. If a company is at\\n    the “before data” level, good luck, right? There is no data at all. [chuckles]\\n    So before you can do squeezing… [cross-talk]\\n  sec: 3177\\n  time: \\'52:57\\'\\n  who: Alexey\\n- line: “What is this data tracking?” “Oh, we didn\\'t track this because nobody thought\\n    we would need it.” And you\\'re like, “Okay…” I mean, this happens in bigger companies.\\n    The other thing you have to understand, I think, because of this mentality of\\n    what data science was, and you talk to people – they\\'re working on a project and\\n    you ask them, “So what did you do?” And they always tell you, “Yeah, we trained\\n    the model to do this. And to predict that.” And then you\\'re like, “Why? Why did\\n    you do that? For whom? How are they using it?” If you don\\'t do this extra step,\\n    then that stuff is going to be so much work to actually getting it. By the time\\n    you get to the “why,” you figured out that nobody actually had the problem you\\'re\\n    solving. [chuckles]\\n  sec: 3207\\n  time: \\'53:27\\'\\n  who: Tereza\\n- line: But yet they still decide to hire you. Because maybe consultants from McKinsey\\n    came and said, “Hey, you need to be data driven, so you need to hire one data\\n    scientist or two data scientists. Here\\'s this awesome slide deck. Goodbye.”\\n  sec: 3254\\n  time: \\'54:14\\'\\n  who: Alexey\\n- line: Yeah. This can happen, yeah. There\\'s also the other kinds of companies that\\n    have AI or machine learning as part of the company title.\\n  sec: 3271\\n  time: \\'54:31\\'\\n  who: Tereza\\n- line: Yeah. Then they have to have a data scientist, right? [chuckles]\\n  sec: 3283\\n  time: \\'54:43\\'\\n  who: Alexey\\n- line: But also oftentimes they\\'re like, “Oh, man. We have AI in the title – we need\\n    to do fancy machine learning.” And the data scientists are like “Yeah, but linear\\n    regressions solves the problem.” “No! It has to be AI.” So I think sometimes the\\n    story is a little bit different where machine learning/data science is at the\\n    core of the company product and that is the product. Like, you don\\'t do image\\n    recognition without images.\\n  sec: 3287\\n  time: \\'54:47\\'\\n  who: Tereza\\n- line: The example I gave when I was giving a talk on the product at FREE NOW was\\n    like, “Hey, you order a taxi from A to B. You\\'re sitting there and you\\'re ordering,\\n    and it tells you it\\'s going to cost 10 euros. How often does the user ask themselves\\n    ‘How is this model behind this price performing?’” [laughs] Are they sitting there,\\n    using an app and thinking, “Hmm… I wonder what model they\\'re using for this.”?\\n  sec: 3287\\n  time: \\'54:47\\'\\n  who: Tereza\\n- line: You\\'re probably wondering, “Okay, 10 euros is too much for this trip.” Or\\n    “Oh, 10 euros! Good price. Let me take it.”\\n  sec: 3356\\n  time: \\'55:56\\'\\n  who: Alexey\\n- line: Yeah, exactly. And then it was eight euros and you\\'re happy or it was 12 euros\\n    and you\\'re like, “Hmm, it lied to me. Maybe next time, I will be a bit skeptical\\n    about this.” It\\'s a jungle out there with the job description.\\n  sec: 3363\\n  time: \\'56:03\\'\\n  who: Tereza\\n- line: And how can we determine from a job description at which level the company\\n    is? To see if it’s mature enough? Is it before date, during data, or after data?\\n    I guess there are some signals in the description that we can use? Right?\\n  sec: 3381\\n  time: \\'56:21\\'\\n  who: Alexey\\n- header: The company’s tech stack\\n- line: The next step. I think I think I once looked at a job description in the energy\\n    domain and it had a tech stack that I\\'ve never heard of. It was like not even\\n    Python. [chuckles] I mean, it sounded like everything was done with Excel. I don\\'t\\n    have anything against Excel. Excel still happens. But still…\\n  sec: 3395\\n  time: \\'56:35\\'\\n  who: Tereza\\n- line: The question is, “Do you want to be the person who changes this to the “modern\\n    stack”?”\\n  sec: 3420\\n  time: \\'57:00\\'\\n  who: Alexey\\n- line: Yeah. So checking the tech stack. But for this, you need a little bit of experience\\n    with that, to figure out “Do the things from this tech stack belong together?\\n    Or is it a little bit all over the place?” Because if it\\'s all over the place,\\n    then it\\'s maybe not the thing.\\n  sec: 3428\\n  time: \\'57:08\\'\\n  who: Tereza\\n- line: Or to see if there is any tech stack at all, right? Like, do they mention\\n    cloud? If they don\\'t, maybe they don\\'t have it yet.\\n  sec: 3451\\n  time: \\'57:31\\'\\n  who: Alexey\\n- line: Yeah. Although asking people to be experts in AWS for a data scientist job\\n    is also something that’s a little bit off. In the end, you can learn it, right?\\n    If you have people to learn it from. Maybe it\\'s mentioned in the job description\\n    that they already have data engineering. They can mention the structure of the\\n    department, for example.\\n  sec: 3460\\n  time: \\'57:40\\'\\n  who: Tereza\\n- line: And if it\\'s not mentioned, then you can use something or other. With XING,\\n    can you also do this for a company? Can you see what kind of people work there?\\n    Like the titles and all that?\\n  sec: 3499\\n  time: \\'58:19\\'\\n  who: Alexey\\n- line: Yeah, I think so. Yeah, you can also see what kind of jobs people on LinkedIn\\n    have and if they don\\'t have the website of the company – this is, of course, for\\n    larger companies. For smaller companies, sometimes you hear, “We don\\'t care about\\n    titles.”\\n  sec: 3511\\n  time: \\'58:31\\'\\n  who: Tereza\\n- line: Is it a good thing or not? It depends.\\n  sec: 3529\\n  time: \\'58:49\\'\\n  who: Alexey\\n- line: Exactly. It depends.\\n  sec: 3532\\n  time: \\'58:52\\'\\n  who: Tereza\\n- line: One more thing maybe to check is if the company is doing any talks at conferences.\\n    Do they have a tech block? I think this is also a good indicator that they want\\n    to share knowledge. Okay. I think that would be it for today. Do you want to add\\n    anything? Maybe you forgot to mention something today? Is there anything you want\\n    to say before we wrap up?\\n  sec: 3535\\n  time: \\'58:55\\'\\n  who: Alexey\\n- line: Well, maybe that the talk that we mentioned is on YouTube. The slides and\\n    everything as well.\\n  sec: 3560\\n  time: \\'59:20\\'\\n  who: Tereza\\n- line: I will include the link.\\n  sec: 3569\\n  time: \\'59:29\\'\\n  who: Alexey\\n- line: In that talk, in the slides description, there\\'s a lot of links to read up\\n    on each of these aspects. But, yeah. I think more people should do research and\\n    invest their time wisely, right?\\n  sec: 3571\\n  time: \\'59:31\\'\\n  who: Tereza\\n- line: That\\'s the main takeaway, right? “Do research.”\\n  sec: 3586\\n  time: \\'59:46\\'\\n  who: Alexey\\n- line: And put some pressure on companies to write better job descriptions. Stop\\n    applying at jobs that are bad or just write them “Sorry, I would love to apply\\n    for you, but this job description is really off-putting at the moment. Maybe you\\n    can fix that.”\\n  sec: 3589\\n  time: \\'59:49\\'\\n  who: Tereza\\n- header: Finding Tereza online\\n- line: How can people find you?\\n  sec: 3607\\n  time: \\'1:00:07\\'\\n  who: Alexey\\n- line: Twitter, LinkedIn. That’s it\\n  sec: 3609\\n  time: \\'1:00:09\\'\\n  who: Tereza\\n- line: Twitter, LinkedIn. Okay. [chuckles] Yeah, thanks a lot. Thanks for joining\\n    us today. Thanks for answering questions. And thanks, everyone, for joining us\\n    today. That was fun.\\n  sec: 3613\\n  time: \\'1:00:13\\'\\n  who: Alexey\\n- line: Thank you. Likewise.\\n  sec: 3626\\n  time: \\'1:00:26\\'\\n  who: Tereza\\n---\\n\\nLinks:\\n\\n* [Decoding Data Science Job Descriptions (talk)](https://www.youtube.com/watch?v=WAs9vSNTza8){:target=\"_blank\"}\\n* [Talk at ConnectForward](https://www.youtube.com/watch?v=WAs9vSNTza8){:target=\"_blank\"}\\n* [Slides](https://www.slideshare.net/terezaif/decoding-data-science-job-descriptions-250687704){:target=\"_blank\"}\\n* [Talk at DataLift](https://www.youtube.com/watch?v=pCtQ0szJiLA){:target=\"_blank\"}\\n* [Slides](https://www.slideshare.net/terezaif/lessons-learned-from-hiring-and-retaining-data-practitioners){:target=\"_blank\"}'"
      ]
     },
     "execution_count": 6,
     "metadata": {},
     "output_type": "execute_result"
    }
   ],
   "source": [
    "datatalsclub_data[600].content"
   ]
  },
  {
   "cell_type": "code",
   "execution_count": 7,
   "id": "c53a9f4d",
   "metadata": {},
   "outputs": [],
   "source": [
    "import frontmatter\n",
    "import re\n",
    "# from frontmatter.default_handlers import YAMLHandler, TOMLHandler\n",
    "\n",
    "\n",
    "def safe_load_frontmatter(raw_text):\n",
    "    # Add quotes around any {{ ... }} that isn't already quoted\n",
    "    if \"{{\" in raw_text and \"}}\" in raw_text:\n",
    "        # Add quotes around any {{ ... }} that isn't already quoted\n",
    "        raw_text = re.sub(r'(?<!\")({{.*?}})(?!\")', r'\"\\1\"', raw_text)\n",
    "    \n",
    "    # Now safely parse with frontmatter\n",
    "    return frontmatter.loads(raw_text)\n",
    "\n",
    "\n",
    "def parse_data(data_raw):\n",
    "\n",
    "    data_parsed = []\n",
    "    try:\n",
    "        for f in data_raw:\n",
    "            folder = f.filename.split('/')[0]\n",
    "\n",
    "            if folder != '_podcast':\n",
    "                continue \n",
    "            post = safe_load_frontmatter(f.content)\n",
    "            data = post.to_dict()\n",
    "            data['filename'] = f.filename\n",
    "            data_parsed.append(data)\n",
    "    except Exception as e:\n",
    "        print(f\"Error processing {f}: {e}\")\n",
    "        \n",
    "    \n",
    "    return data_parsed\n"
   ]
  },
  {
   "cell_type": "code",
   "execution_count": 8,
   "id": "3aac91cd",
   "metadata": {},
   "outputs": [],
   "source": [
    "parsed_data = parse_data(datatalsclub_data)"
   ]
  },
  {
   "cell_type": "code",
   "execution_count": null,
   "id": "f1f8b833",
   "metadata": {},
   "outputs": [
    {
     "data": {
      "text/plain": [
       "185"
      ]
     },
     "execution_count": 9,
     "metadata": {},
     "output_type": "execute_result"
    }
   ],
   "source": [
    "# Q4 - 185 podcasts\n",
    "len(parsed_data)"
   ]
  },
  {
   "cell_type": "code",
   "execution_count": 43,
   "id": "cba985a7",
   "metadata": {},
   "outputs": [],
   "source": [
    "from typing import Any, Dict, Iterable, List\n",
    "\n",
    "def join_transcript(transcript: List):\n",
    "    content = ''\n",
    "    for entry in transcript:\n",
    "        content += entry['line'].replace('\\n', ' ')\n",
    "\n",
    "    return content\n",
    "\n",
    "def sliding_window(\n",
    "        seq: Iterable[Any],\n",
    "        size: int,\n",
    "        step: int\n",
    "    ) -> List[Dict[str, Any]]:\n",
    "    \"\"\"\n",
    "    Create overlapping chunks from a sequence using a sliding window approach.\n",
    "\n",
    "    Args:\n",
    "        seq: The input sequence (string or list) to be chunked.\n",
    "        size (int): The size of each chunk/window.\n",
    "        step (int): The step size between consecutive windows.\n",
    "\n",
    "    Returns:\n",
    "        list: A list of dictionaries, each containing:\n",
    "            - 'start': The starting position of the chunk in the original sequence\n",
    "            - 'content': The chunk content\n",
    "\n",
    "    Raises:\n",
    "        ValueError: If size or step are not positive integers.\n",
    "\n",
    "    Example:\n",
    "        >>> sliding_window(\"hello world\", size=5, step=3)\n",
    "        [{'start': 0, 'content': 'hello'}, {'start': 3, 'content': 'lo wo'}]\n",
    "    \"\"\"\n",
    "    if size <= 0 or step <= 0:\n",
    "        raise ValueError(\"size and step must be positive\")\n",
    "\n",
    "    seq_list = seq.split(' ')\n",
    "    n = len(seq_list)\n",
    "    result = []\n",
    "    for i in range(0, n, step):\n",
    "        batch = seq_list[i:i+size]\n",
    "        batch_content = \" \".join(batch)\n",
    "        result.append({'transcript': batch_content})\n",
    "        if i + size > n:\n",
    "            break\n",
    "\n",
    "    return result\n",
    "\n",
    "\n",
    "def join_transcript(transcript: list):\n",
    "    content = ''\n",
    "    for entry in transcript:\n",
    "        if 'header' in entry:\n",
    "            content += entry['header'].replace('\\n', ' ')\n",
    "            content += '. '\n",
    "\n",
    "        if 'line' in entry:\n",
    "            content += entry['line'].replace('\\n', ' ')\n",
    "            content += '. '\n",
    "    \n",
    "    return content\n",
    "\n",
    "\n",
    "def chunk_documents(\n",
    "        documents: Iterable[Dict[str, str]],\n",
    "        size: int = 30,\n",
    "        step: int = 15,\n",
    "        content_field_name: str = 'transcript'\n",
    ") -> List[Dict[str, str]]:\n",
    "    \"\"\"\n",
    "    Split a collection of documents into smaller chunks using sliding windows.\n",
    "\n",
    "    Takes documents and breaks their content into overlapping chunks while preserving\n",
    "    all other document metadata (filename, etc.) in each chunk.\n",
    "\n",
    "    Args:\n",
    "        documents: An iterable of document dictionaries. Each document must have a content field.\n",
    "        size (int, optional): The maximum size of each chunk. Defaults to 2000.\n",
    "        step (int, optional): The step size between chunks. Defaults to 1000.\n",
    "        content_field_name (str, optional): The name of the field containing document content.\n",
    "                                          Defaults to 'content'.\n",
    "\n",
    "    Returns:\n",
    "        list: A list of chunk dictionaries. Each chunk contains:\n",
    "            - All original document fields except the content field\n",
    "            - 'start': Starting position of the chunk in original content\n",
    "            - 'content': The chunk content\n",
    "\n",
    "    Example:\n",
    "        >>> documents = [{'content': 'long text...', 'filename': 'doc.txt'}]\n",
    "        >>> chunks = chunk_documents(documents, size=100, step=50)\n",
    "        >>> # Or with custom content field:\n",
    "        >>> documents = [{'text': 'long text...', 'filename': 'doc.txt'}]\n",
    "        >>> chunks = chunk_documents(documents, content_field_name='text')\n",
    "    \"\"\"\n",
    "    try:\n",
    "        \n",
    "        results = []\n",
    "        for doc in documents:\n",
    "            if content_field_name not in doc:\n",
    "                doc[content_field_name] = ''\n",
    "                results.extend(doc)\n",
    "                continue\n",
    "            \n",
    "            podcast_copy = doc.copy()\n",
    "            podcast_copy['guests'] = \",\".join(podcast_copy['guests'])\n",
    "            podcast_content = podcast_copy.pop(content_field_name)\n",
    "            podcast_content = join_transcript(podcast_content)\n",
    "            chunks = sliding_window(podcast_content, size=size, step=step)\n",
    "            for chunk in chunks:\n",
    "                chunk.update(podcast_copy)\n",
    "            \n",
    "            results.extend(chunks)\n",
    "\n",
    "        return results\n",
    "    \n",
    "    except Exception as e:\n",
    "        print(f\"Unexpected Error: {e}\")"
   ]
  },
  {
   "cell_type": "code",
   "execution_count": 44,
   "id": "c302eb74",
   "metadata": {},
   "outputs": [],
   "source": [
    "# Q5 - Chunk the lines \n",
    "# "
   ]
  },
  {
   "cell_type": "code",
   "execution_count": 45,
   "id": "f150c17d",
   "metadata": {},
   "outputs": [],
   "source": [
    "\n",
    "chunks = chunk_documents(parsed_data)"
   ]
  },
  {
   "cell_type": "code",
   "execution_count": 50,
   "id": "09323bf4",
   "metadata": {},
   "outputs": [
    {
     "data": {
      "text/plain": [
       "94539"
      ]
     },
     "execution_count": 50,
     "metadata": {},
     "output_type": "execute_result"
    }
   ],
   "source": [
    "len(chunks)"
   ]
  },
  {
   "cell_type": "code",
   "execution_count": 47,
   "id": "51671436",
   "metadata": {},
   "outputs": [
    {
     "data": {
      "text/plain": [
       "{'transcript': \"for some time. I'm really happy to be here.. Jekaterina’s background. I tried to invite you multiple times. Finally, we managed to do this. [chuckles] Before we start with our\",\n",
       " 'episode': 8,\n",
       " 'guests': 'jekaterinakokatjuhha',\n",
       " 'ids': {'anchor': 'The-Journey-of-a-Data-Generalist-From-Bioinformatics-to-Freelancing---Jekaterina-Kokatjuhha-e1upvim',\n",
       "  'youtube': 'FRi0SUtxdMw'},\n",
       " 'image': 'images/podcast/s12e08-journey-of-data-generalist-from-bioinformatics-to-freelancing.jpg',\n",
       " 'links': {'anchor': 'https://anchor.fm/datatalksclub/episodes/The-Journey-of-a-Data-Generalist-From-Bioinformatics-to-Freelancing---Jekaterina-Kokatjuhha-e1upvim',\n",
       "  'apple': 'https://podcasts.apple.com/us/podcast/the-journey-of-a-data-generalist-from/id1541710331?i=1000599125044',\n",
       "  'spotify': 'https://open.spotify.com/episode/5fB185hGlGYQmdk0kbIsPv?si=YtnsaYNzTc-fl7emZ2IjEA',\n",
       "  'youtube': 'https://www.youtube.com/watch?v=FRi0SUtxdMw'},\n",
       " 'season': 12,\n",
       " 'short': 'The Journey of a Data Generalist: From Bioinformatics to Freelancing',\n",
       " 'title': 'The Journey of a Data Generalist: From Bioinformatics to Freelancing',\n",
       " 'content': 'Links:\\n\\n* [Jekaterina\\'s LinkedIn](https://www.linkedin.com/in/jekaterina-kokatjuhha/){:target=\"_blank\"}',\n",
       " 'filename': '_podcast/_s12e08.md'}"
      ]
     },
     "execution_count": 47,
     "metadata": {},
     "output_type": "execute_result"
    }
   ],
   "source": [
    "chunks[8]"
   ]
  },
  {
   "cell_type": "code",
   "execution_count": 48,
   "id": "3044bc31",
   "metadata": {},
   "outputs": [
    {
     "data": {
      "text/plain": [
       "<minsearch.minsearch.Index at 0x144e6e4b0>"
      ]
     },
     "execution_count": 48,
     "metadata": {},
     "output_type": "execute_result"
    }
   ],
   "source": [
    "from minsearch import Index\n",
    "\n",
    "index = Index(\n",
    "    text_fields=[\"transcript\", \"title\", \"guests\"]\n",
    ")\n",
    "\n",
    "index.fit(chunks)"
   ]
  },
  {
   "cell_type": "code",
   "execution_count": 49,
   "id": "c6a6419b",
   "metadata": {},
   "outputs": [
    {
     "data": {
      "text/plain": [
       "{'transcript': \"to do anything if you're not familiar with AI.. Does that mean that if I'm a beginner, I cannot take part in Omdena challenges?. How to take part in AI\",\n",
       " 'episode': 7,\n",
       " 'guests': 'saraelateif',\n",
       " 'ids': {'anchor': 'atatalksclub/episodes/Make-an-Impact-Through-Volunteering-Open-Source-Work---Sara-EL-ATEIF-e2g4dan',\n",
       "  'youtube': 'aHdaIwOEI8Q'},\n",
       " 'image': 'images/podcast/s17e07-make-impact-through-volunteering-open-source-work.jpg',\n",
       " 'links': {'anchor': 'https://podcasters.spotify.com/pod/show/datatalksclub/episodes/Make-an-Impact-Through-Volunteering-Open-Source-Work---Sara-EL-ATEIF-e2g4dan',\n",
       "  'apple': 'https://podcasts.apple.com/us/podcast/make-an-impact-through-volunteering-open-source-work/id1541710331?i=1000646627892',\n",
       "  'spotify': 'https://open.spotify.com/episode/7tZSSgv1yAlnoMyB4ggQmb?si=AqDaME2QS26usoZjOEWNtQ',\n",
       "  'youtube': 'https://www.youtube.com/watch?v=aHdaIwOEI8Q'},\n",
       " 'season': 17,\n",
       " 'short': 'Make an Impact Through Volunteering Open Source Work',\n",
       " 'title': 'Make an Impact Through Volunteering Open Source Work',\n",
       " 'content': 'Links:\\n\\n* [Dev and AI hackathons](https://devpost.com/){:target=\"_blank\"}\\n* [Healthcare-focused challenges](https://grand-challenge.org/challenges/){:target=\"_blank\"}\\n* [Volunteering in projects (AI4Good)](https://www.fruitpunch.ai/){:target=\"_blank\"}\\n* [Volunteering in projects (AI4Good) 2](https://www.omdena.com/){:target=\"_blank\"}\\n* [Twitter](https://twitter.com/el_ateifSara){:target=\"_blank\"}\\n* [Instagram](https://www.instagram.com/saraelateif/){:target=\"_blank\"}\\n* [LinkedIn](https://www.linkedin.com/in/sara-el-ateif/){:target=\"_blank\"}\\n* [Youtube](www.youtube.com/@elateifsara){:target=\"_blank\"}',\n",
       " 'filename': '_podcast/s17e07-make-impact-through-volunteering-open-source-work.md'}"
      ]
     },
     "execution_count": 49,
     "metadata": {},
     "output_type": "execute_result"
    }
   ],
   "source": [
    "# Q6 \n",
    "# episode 7\n",
    "search_results = index.search('how do I make money with AI?')\n",
    "search_results[0]"
   ]
  },
  {
   "cell_type": "markdown",
   "id": "f1a72684",
   "metadata": {},
   "source": []
  },
  {
   "cell_type": "code",
   "execution_count": 42,
   "id": "46e2ebc8",
   "metadata": {},
   "outputs": [
    {
     "data": {
      "text/plain": [
       "[{'transcript': \"I think nowadays, that's one of the main things you have to do as a company or as a founder – you must really prove, “Okay, we have the possibility to make money and not just a good idea. We don't need 100 million to get the first money. We also have good business cases already here.” But honestly, [cross-talk] that's a tough way. I mean, you need to find first customers who are willing to pay money, even if you're probably not ready with everything. But it's an operational problem you can definitely solve.. How do you earn money\",\n",
       "  'episode': 8,\n",
       "  'guests': 'mariabruckert',\n",
       "  'ids': {'anchor': 'atatalksclub/episodes/AI-for-Digital-Health---Maria-Bruckert-e2cejoc',\n",
       "   'youtube': 'whpkDmVVGUE'},\n",
       "  'image': 'images/podcast/s16e08-ai-for-digital-health.jpg',\n",
       "  'links': {'anchor': 'https://podcasters.spotify.com/pod/show/datatalksclub/episodes/AI-for-Digital-Health---Maria-Bruckert-e2cejoc',\n",
       "   'apple': 'https://podcasts.apple.com/us/podcast/ai-for-digital-health-maria-bruckert/id1541710331?i=1000637212773',\n",
       "   'spotify': 'https://open.spotify.com/episode/2NE0vbiYwXxOuqychHIqBR?si=QdRyuJvSRE2V3bLwHaEv-Q',\n",
       "   'youtube': 'https://www.youtube.com/watch?v=whpkDmVVGUE'},\n",
       "  'season': 16,\n",
       "  'short': 'AI for Digital Health',\n",
       "  'title': 'AI for Digital Health',\n",
       "  'content': 'Links:\\n\\n* [Maria\\'s LinkedIn profile](https://www.linkedin.com/in/mariabruckert/){:target=\"_blank\"}',\n",
       "  'filename': '_podcast/s16e08-ai-for-digital-health.md'},\n",
       " {'transcript': \"out. But then I think it's because of the public.. Fruit Punch AI, they really target people who are still beginners, but for Omdena, they target people who are already advanced. You have to have done at least two to three projects in AI in order to be able to really navigate the challenge. Because it's really hard when you have a lot of experts around you and you're intimidated to do anything if you're not familiar with AI.. Does that mean that if I'm a beginner, I cannot take part in Omdena challenges?. How to take part in AI\",\n",
       "  'episode': 7,\n",
       "  'guests': 'saraelateif',\n",
       "  'ids': {'anchor': 'atatalksclub/episodes/Make-an-Impact-Through-Volunteering-Open-Source-Work---Sara-EL-ATEIF-e2g4dan',\n",
       "   'youtube': 'aHdaIwOEI8Q'},\n",
       "  'image': 'images/podcast/s17e07-make-impact-through-volunteering-open-source-work.jpg',\n",
       "  'links': {'anchor': 'https://podcasters.spotify.com/pod/show/datatalksclub/episodes/Make-an-Impact-Through-Volunteering-Open-Source-Work---Sara-EL-ATEIF-e2g4dan',\n",
       "   'apple': 'https://podcasts.apple.com/us/podcast/make-an-impact-through-volunteering-open-source-work/id1541710331?i=1000646627892',\n",
       "   'spotify': 'https://open.spotify.com/episode/7tZSSgv1yAlnoMyB4ggQmb?si=AqDaME2QS26usoZjOEWNtQ',\n",
       "   'youtube': 'https://www.youtube.com/watch?v=aHdaIwOEI8Q'},\n",
       "  'season': 17,\n",
       "  'short': 'Make an Impact Through Volunteering Open Source Work',\n",
       "  'title': 'Make an Impact Through Volunteering Open Source Work',\n",
       "  'content': 'Links:\\n\\n* [Dev and AI hackathons](https://devpost.com/){:target=\"_blank\"}\\n* [Healthcare-focused challenges](https://grand-challenge.org/challenges/){:target=\"_blank\"}\\n* [Volunteering in projects (AI4Good)](https://www.fruitpunch.ai/){:target=\"_blank\"}\\n* [Volunteering in projects (AI4Good) 2](https://www.omdena.com/){:target=\"_blank\"}\\n* [Twitter](https://twitter.com/el_ateifSara){:target=\"_blank\"}\\n* [Instagram](https://www.instagram.com/saraelateif/){:target=\"_blank\"}\\n* [LinkedIn](https://www.linkedin.com/in/sara-el-ateif/){:target=\"_blank\"}\\n* [Youtube](www.youtube.com/@elateifsara){:target=\"_blank\"}',\n",
       "  'filename': '_podcast/s17e07-make-impact-through-volunteering-open-source-work.md'},\n",
       " {'transcript': \"you have eight of them, it contributes something every month. A little bit, at least. Some books do well, some books maybe don't. But overall, eight books together, make something. How do you go about the other pieces of the puzzle?. Just any way you can. For example, I do YouTube videos. I make some money on that. I published for O’Reilly. I make some money on that. It's basically just an accumulation. If you're not in a hurry to make money, then it's much easier to make money. I think the way you never make money from distributed income\",\n",
       "  'title': 'Becoming a Solopreneur in Data',\n",
       "  'short': 'Becoming a Solopreneur in Data',\n",
       "  'guests': 'noahgift',\n",
       "  'image': 'images/podcast/s06e01-solopreneur.jpg',\n",
       "  'season': 6,\n",
       "  'episode': 1,\n",
       "  'ids': {'youtube': 'gCLUY37HGtw',\n",
       "   'anchor': 'Becoming-a-Solopreneur-in-Data---Noah-Gift-e19gqbr'},\n",
       "  'links': {'youtube': 'https://www.youtube.com/watch?v=gCLUY37HGtw',\n",
       "   'anchor': 'https://anchor.fm/datatalksclub/episodes/Becoming-a-Solopreneur-in-Data---Noah-Gift-e19gqbr',\n",
       "   'spotify': 'https://open.spotify.com/episode/264kr8rkSV71NwlU3kphHm',\n",
       "   'apple': 'https://podcasts.apple.com/us/podcast/becoming-a-solopreneur-in-data-noah-gift/id1541710331?i=1000540908616'},\n",
       "  'content': 'Links:\\n\\n- [Noah\\'s LinkedIn](https://www.linkedin.com/in/noahgift/){:target=\"_blank\"}',\n",
       "  'filename': '_podcast/s06e01-solopreneur.md'},\n",
       " {'transcript': \"and obviously create different AI products, help launch different AI products in Morgan Stanley. We work very closely with data science to make everything happen.. So you're more on the analytical side of the data.. Definitely more on the analytical side, yeah.. Responsible AI. Today’s topic is responsible AI. So what is responsible AI? How can AI be responsible?. Yeah. It's definitely a very interesting field and it's a very budding field, I would say. I've been in this regulated environment. I've been in finance for three plus years now, so I have definitely appreciated responsible AI and trustworthy AI.\",\n",
       "  'episode': 9,\n",
       "  'guests': 'supreetkaur',\n",
       "  'ids': {'anchor': 'Responsible-and-Explainable-AI---Supreet-Kaur-e1o6mgj',\n",
       "   'youtube': '8Eb5mG-pC3o'},\n",
       "  'image': 'images/podcast/s10e09-responsible-and-explainable-ai.jpg',\n",
       "  'links': {'anchor': 'https://anchor.fm/datatalksclub/episodes/Responsible-and-Explainable-AI---Supreet-Kaur-e1o6mgj',\n",
       "   'apple': 'https://podcasts.apple.com/us/podcast/responsible-and-explainable-ai-supreet-kaur/id1541710331?i=1000581178150',\n",
       "   'spotify': 'https://open.spotify.com/episode/0xCSjSCG6tTiMSGfUJrMmO',\n",
       "   'youtube': 'https://www.youtube.com/watch?v=8Eb5mG-pC3o'},\n",
       "  'season': 10,\n",
       "  'short': 'Responsible and Explainable AI',\n",
       "  'title': 'Responsible and Explainable AI',\n",
       "  'content': 'Links:\\n\\n* [LinkedIn](https://www.linkedin.com/in/supreet-kaur1995/){:target=\"_blank\"}\\n* [Databuzz page](https://www.linkedin.com/company/databuzz-club/){:target=\"_blank\"}\\n* [Medium Blog Page](https://medium.com/@supreetkaur_66831){:target=\"_blank\"}',\n",
       "  'filename': '_podcast/s10e09-responsible-and-explainable-ai.md'},\n",
       " {'transcript': 'worked on a project where we analyzed Google reviews for a company. The goal was to find out what worked and what didn’t at specific locations and generate a report.. The AI was used in the background to analyze the data, but it wasn’t presented to the user as an AI feature. There was no “Summarize with AI” button. It just made the report more useful. I think this is the most useful way to use AI—don’t show everyone you’re using it, just make the product better.. But marketing-wise, if you show people you use AI, it’s easier to attract',\n",
       "  'episode': 5,\n",
       "  'guests': 'bartoszmikulski',\n",
       "  'ids': {'anchor': 'atalksclub/episodes/Data-Intensive-AI---Bartosz-Mikulski-e30fhoi',\n",
       "   'youtube': 'BP6w_vKySN0'},\n",
       "  'image': 'images/podcast/s20e05-data-intensive-ai.jpg',\n",
       "  'links': {'anchor': 'https://creators.spotify.com/pod/show/datatalksclub/episodes/Data-Intensive-AI---Bartosz-Mikulski-e30fhoi',\n",
       "   'apple': 'https://podcasts.apple.com/us/podcast/data-intensive-ai-bartosz-mikulski/id1541710331?i=1000700288876',\n",
       "   'spotify': 'https://open.spotify.com/episode/0nFSU92IQDbM4C9FLvdn4z',\n",
       "   'youtube': 'https://www.youtube.com/watch?v=BP6w_vKySN0'},\n",
       "  'season': 20,\n",
       "  'short': 'Data Intensive AI',\n",
       "  'title': 'Data Intensive AI',\n",
       "  'content': 'Links:\\n\\n* [LinkedIn](https://www.linkedin.com/in/mikulskibartosz/){:target=\"_blank\"}\\n* [Github](https://github.com/mikulskibartosz){:target=\"_blank\"}\\n* [Website](https://mikulskibartosz.name/blog/){:target=\"_blank\"}',\n",
       "  'filename': '_podcast/s20e05-data-intensive-ai.md'}]"
      ]
     },
     "execution_count": 42,
     "metadata": {},
     "output_type": "execute_result"
    }
   ],
   "source": [
    "def search(query):\n",
    "    return index.search(\n",
    "        query=query,\n",
    "        num_results=5\n",
    "    )\n",
    "\n",
    "\n",
    "search('how do I make money with AI?')"
   ]
  },
  {
   "cell_type": "code",
   "execution_count": null,
   "id": "47fa9704",
   "metadata": {},
   "outputs": [],
   "source": []
  },
  {
   "cell_type": "code",
   "execution_count": null,
   "id": "49ea2295",
   "metadata": {},
   "outputs": [],
   "source": []
  },
  {
   "cell_type": "code",
   "execution_count": null,
   "id": "9cb4cec9",
   "metadata": {},
   "outputs": [],
   "source": []
  }
 ],
 "metadata": {
  "kernelspec": {
   "display_name": "ai-bootcamp-codespace",
   "language": "python",
   "name": "python3"
  },
  "language_info": {
   "codemirror_mode": {
    "name": "ipython",
    "version": 3
   },
   "file_extension": ".py",
   "mimetype": "text/x-python",
   "name": "python",
   "nbconvert_exporter": "python",
   "pygments_lexer": "ipython3",
   "version": "3.12.11"
  }
 },
 "nbformat": 4,
 "nbformat_minor": 5
}
