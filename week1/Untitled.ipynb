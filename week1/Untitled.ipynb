{
 "cells": [
  {
   "cell_type": "code",
   "execution_count": null,
   "id": "5059c590-0701-4802-b595-6a271ebaa07f",
   "metadata": {},
   "outputs": [],
   "source": [
    "from openai import OpenAI"
   ]
  },
  {
   "cell_type": "code",
   "execution_count": 5,
   "id": "d401054b-9018-4bb4-bb36-d376e0665442",
   "metadata": {},
   "outputs": [],
   "source": [
    "client = OpenAI()"
   ]
  },
  {
   "cell_type": "code",
   "execution_count": 6,
   "id": "32ecad7b-4279-402e-a85a-2bc1c3e5709d",
   "metadata": {},
   "outputs": [
    {
     "name": "stdout",
     "output_type": "stream",
     "text": [
      "When the sky turned from peach to purple and the first stars blinked awake, a small unicorn named Lumi stepped softly through the whispering grass. Her mane shone like dawn caught in dew, and at the tip of her horn glowed a sleep-warm light, the color of a hush.\n",
      "\n",
      "From the edge of the forest came a tremble of silver sound, like a tiny spoon tapping a teacup. Lumi followed it to a thicket where a moonbeam had tangled itself in the thorny branches. It flickered nervously, shy and shivery.\n",
      "\n",
      "“Don’t worry,” Lumi breathed, and with a gentle nod she combed her light over the thorns. The branches loosened, the moonbeam slipped free, and it curled around Lumi’s neck like a ribbon of cool milk.\n",
      "\n",
      "They walked together up the hill where the night was beginning to hum. As they went, the moonbeam brushed ponds until they wore little scarves of starlight. It kissed windows so softly that yawns floated out like dandelion seeds. Fox kits tucked their noses to their tails. Owls closed one eye, then the other.\n",
      "\n",
      "At the top of the hill the moon was waiting, round as a lullaby. The moonbeam lifted from Lumi’s shoulders and drifted home. The moon smiled wider, and its light spilled down like a blanket over the meadow.\n",
      "\n",
      "Lumi curled in the soft grass and let the crickets sing her name once, twice, and then not at all. The night held its breath, gentle and kind.\n",
      "\n",
      "Sleep now, whispered the moon. And all was quiet, all was warm, all was safe. Good night.\n"
     ]
    }
   ],
   "source": [
    "response = client.responses.create(\n",
    "    model=\"gpt-5\",\n",
    "    input=\"Write a short bedtime story about a unicorn.\"\n",
    ")\n",
    "\n",
    "print(response.output_text)"
   ]
  },
  {
   "cell_type": "code",
   "execution_count": null,
   "id": "6f392ccf-765e-4b19-b171-cd3543c879c0",
   "metadata": {},
   "outputs": [],
   "source": []
  }
 ],
 "metadata": {
  "kernelspec": {
   "display_name": "Python 3 (ipykernel)",
   "language": "python",
   "name": "python3"
  },
  "language_info": {
   "codemirror_mode": {
    "name": "ipython",
    "version": 3
   },
   "file_extension": ".py",
   "mimetype": "text/x-python",
   "name": "python",
   "nbconvert_exporter": "python",
   "pygments_lexer": "ipython3",
   "version": "3.12.1"
  }
 },
 "nbformat": 4,
 "nbformat_minor": 5
}
