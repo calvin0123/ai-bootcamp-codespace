{
 "cells": [
  {
   "cell_type": "code",
   "execution_count": 18,
   "id": "dd870099-f09f-421d-9c64-e3d9271a464d",
   "metadata": {},
   "outputs": [
    {
     "data": {
      "text/plain": [
       "True"
      ]
     },
     "execution_count": 18,
     "metadata": {},
     "output_type": "execute_result"
    }
   ],
   "source": [
    "from pydantic_ai import Agent\n",
    "from pydantic import BaseModel, Field\n",
    "import agents\n",
    "from dotenv import load_dotenv\n",
    "\n",
    "load_dotenv()"
   ]
  },
  {
   "cell_type": "code",
   "execution_count": null,
   "id": "59649da4",
   "metadata": {},
   "outputs": [],
   "source": [
    "# Clarifier Agent: Understands user intent and refines research questions\n",
    "# Research Agent: Performs systematic exploration across three stages\n",
    "\n",
    "# Verifier/Synthesizer Agent: Verifies that the claims are correct and combines findings into a cohesive article\n",
    "\n"
   ]
  },
  {
   "cell_type": "code",
   "execution_count": 5,
   "id": "6f5bcd4d",
   "metadata": {},
   "outputs": [],
   "source": [
    "# Prepare for the data - youtube podcasts\n",
    "\n",
    "from pathlib import Path\n",
    "\n",
    "data_folder = Path('../data_cache/youtube_videos/')\n",
    "data_files = sorted(data_folder.glob(\"*.txt\"))\n"
   ]
  },
  {
   "cell_type": "markdown",
   "id": "ae2df9b6",
   "metadata": {},
   "source": []
  },
  {
   "cell_type": "code",
   "execution_count": 6,
   "id": "1ed8c25b",
   "metadata": {},
   "outputs": [
    {
     "data": {
      "application/vnd.jupyter.widget-view+json": {
       "model_id": "701db5363569441ba59c26d9ed0a1327",
       "version_major": 2,
       "version_minor": 0
      },
      "text/plain": [
       "  0%|          | 0/190 [00:00<?, ?it/s]"
      ]
     },
     "metadata": {},
     "output_type": "display_data"
    }
   ],
   "source": [
    "import docs\n",
    "from tqdm.auto import tqdm\n",
    "\n",
    "documents = []\n",
    "\n",
    "for f in tqdm(data_files):\n",
    "    filename = f.name\n",
    "    video_id, _ = filename.split('.')\n",
    "    content = f.read_text(encoding='utf-8')\n",
    "    chunks = docs.sliding_window(content, size=3000, step=1500)\n",
    "\n",
    "    for chunk in chunks:\n",
    "        chunk['video_id'] = video_id\n",
    "        documents.append(chunk)\n"
   ]
  },
  {
   "cell_type": "code",
   "execution_count": 7,
   "id": "badcb3b1",
   "metadata": {},
   "outputs": [
    {
     "data": {
      "text/plain": [
       "<minsearch.minsearch.Index at 0x136dd5d00>"
      ]
     },
     "execution_count": 7,
     "metadata": {},
     "output_type": "execute_result"
    }
   ],
   "source": [
    "from minsearch import Index\n",
    "\n",
    "\n",
    "index = Index(\n",
    "    text_fields=[\"content\"],\n",
    "    keyword_fields=[\"video_id\"]\n",
    ")\n",
    "\n",
    "index.fit(documents)"
   ]
  },
  {
   "cell_type": "code",
   "execution_count": 8,
   "id": "dbf8709b",
   "metadata": {},
   "outputs": [],
   "source": [
    "# Start building the tools for \n",
    "\n",
    "# Seach tools - retreival capabilities\n",
    "# Verify agent - get the video id and verify"
   ]
  },
  {
   "cell_type": "code",
   "execution_count": 10,
   "id": "7466306d",
   "metadata": {},
   "outputs": [],
   "source": [
    "from typing import Any, Dict, List, TypedDict, Optional\n",
    "\n",
    "class SearchResult(TypedDict):\n",
    "    \"\"\"Represent a single search result entry\"\"\"\n",
    "    start: int\n",
    "    content: str\n",
    "    video_id: str\n",
    "    _id: int\n",
    "\n",
    "\n",
    "class SearchTools:\n",
    "    def __init__(self, index):\n",
    "        self.index = index\n",
    "\n",
    "    def search(self, query: str) -> List[SearchResult]:\n",
    "        \"\"\"\n",
    "        Search the index for documents matching the given query.\n",
    "    \n",
    "        Args:\n",
    "            query (str): The search query string.\n",
    "    \n",
    "        Returns:\n",
    "            List[SearchResult]: A list of search results. Each result dictionary contains:\n",
    "                - start (int): The starting position or offset within the source file.\n",
    "                - content (str): A text excerpt or snippet containing the match.\n",
    "                - video_id (str): Youtube video_id for the snippet.\n",
    "                - _id (int): The unique id for the document\n",
    "        \"\"\"\n",
    "        return self.index.search(\n",
    "            query=query,\n",
    "            num_results=5,\n",
    "            output_ids=True,\n",
    "        )\n",
    "\n",
    "    \n",
    "    def get_document_by_id(self, _id: int) -> Optional[SearchResult]:\n",
    "        \"\"\"\n",
    "        Retrieve a document by its unique ID.\n",
    "\n",
    "        Args:\n",
    "            _id (int): The document id.\n",
    "\n",
    "        Returns:\n",
    "            SearchResult: The document corresponding to the given ID or None if it's not in the index.\n",
    "        \"\"\"\n",
    "        if _id < 0 or _id >= len(self.index.docs):\n",
    "            return None\n",
    "\n",
    "        return self.index.docs[_id]\n"
   ]
  },
  {
   "cell_type": "code",
   "execution_count": null,
   "id": "487c1f3d",
   "metadata": {},
   "outputs": [],
   "source": []
  },
  {
   "cell_type": "code",
   "execution_count": 11,
   "id": "9359f6d5",
   "metadata": {},
   "outputs": [],
   "source": [
    "tools = SearchTools(index)"
   ]
  },
  {
   "cell_type": "code",
   "execution_count": 21,
   "id": "b08a71d6",
   "metadata": {},
   "outputs": [],
   "source": [
    "# tool calling monitoring \n",
    "\n",
    "from pydantic_ai.messages import FunctionToolCallEvent\n",
    "\n",
    "class NamedCallback:\n",
    "\n",
    "    def __init__(self, agent):\n",
    "        self.agent_name = agent.name\n",
    "\n",
    "    async def print_function_calls(self, ctx, event):\n",
    "        # Detect nested streams\n",
    "        if hasattr(event, \"__aiter__\"):\n",
    "            async for sub in event:\n",
    "                await self.print_function_calls(ctx, sub)\n",
    "            return\n",
    "\n",
    "        if isinstance(event, FunctionToolCallEvent):\n",
    "            tool_name = event.part.tool_name\n",
    "            args = event.part.args\n",
    "            print(f\"TOOL CALL ({self.agent_name}): {tool_name}({args})\")\n",
    "\n",
    "    async def __call__(self, ctx, event):\n",
    "        return await self.print_function_calls(ctx, event)\n",
    "\n"
   ]
  },
  {
   "cell_type": "code",
   "execution_count": 22,
   "id": "440e40ef",
   "metadata": {},
   "outputs": [],
   "source": [
    "# building clarify agent \n",
    "# Insturctions - outputstructure\n",
    "# Run\n",
    "\n",
    "from pydantic import BaseModel, Field\n",
    "from pydantic_ai import Agent"
   ]
  },
  {
   "cell_type": "code",
   "execution_count": 29,
   "id": "894a0542",
   "metadata": {},
   "outputs": [],
   "source": [
    "clarifier_instructions = \"\"\"\n",
    "Your task is to understand what user wants and what their intent is\n",
    "Later this will be passed to the researcher to go deeper in exploring it\n",
    "\n",
    "Use your own knowledge as well as the results from the search to clarify \n",
    "the intent of the user. \n",
    "ask the user for clarification once\n",
    "\n",
    "after that, process the response and prepare the handoff to \n",
    "the research agent\n",
    "\"\"\"\n",
    "\n",
    "clarifier = Agent(\n",
    "    name='clarifier',\n",
    "    instructions=clarifier_instructions,\n",
    "    tools=[tools.search],\n",
    "    model='gpt-4o-mini'\n",
    ")"
   ]
  },
  {
   "cell_type": "code",
   "execution_count": null,
   "id": "36949cd2",
   "metadata": {},
   "outputs": [],
   "source": [
    "question = \"Do research on making money with AI\"\n",
    "\n",
    "results = await clarifier.run(\n",
    "    user_prompt=question,\n",
    "    event_stream_handler=NamedCallback(clarifier)\n",
    ")"
   ]
  },
  {
   "cell_type": "code",
   "execution_count": 26,
   "id": "3db5317b",
   "metadata": {},
   "outputs": [
    {
     "name": "stdout",
     "output_type": "stream",
     "text": [
      "Could you please clarify if you're looking for specific ideas or strategies on how to make money with AI, such as building AI applications, investing in AI companies, or using AI tools for businesses? Your specific interest will help narrow down the research effectively.\n"
     ]
    }
   ],
   "source": [
    "print(results.output)"
   ]
  },
  {
   "cell_type": "code",
   "execution_count": null,
   "id": "bbc72984",
   "metadata": {},
   "outputs": [],
   "source": [
    "# Base on the first input, iterate and refine\n",
    "\n",
    "# Better instruction\n",
    "# Better output sturcture\n",
    "\n",
    "clarifier_instructions = \"\"\"\n",
    "You are the CLARIFIER agent.\n",
    "\n",
    "ROLE\n",
    "Your job is to interpret and refine the user's research request so that it can be passed\n",
    "to the RESEARCH agent for structured exploration.\n",
    "\n",
    "OBJECTIVES\n",
    "1. Understand what the user truly wants to learn or achieve (their intent).\n",
    "2. Identify the core topic and any implicit goals (e.g., learn, compare, evaluate, predict, build).\n",
    "3. Ask the user one targeted clarification question — to confirm scope, focus, or purpose.\n",
    "4. Once the user responds, synthesize a refined version of their request that includes:\n",
    "   - The clarified intent (what the user ultimately wants)\n",
    "   - The initial request (in their own words)\n",
    "   - The refined research focus (a precise version suitable for the RESEARCH agent)\n",
    "   - 3–7 search queries that capture the clarified scope and intent\n",
    "   - A short instruction summary for the RESEARCH agent explaining what to explore\n",
    "\n",
    "DATA SOURCES\n",
    "- You may use your own general knowledge to infer user intent.\n",
    "- You may use the `search()` tool to quickly check ambiguous terms or context.\n",
    "\n",
    "INTENT HANDLING\n",
    "- Before searching, infer the underlying intent behind the user's request.\n",
    "  Examples:\n",
    "    - “getting into ML” → learning pathways, beginner resources, first projects\n",
    "    - “AI safety concerns” → risks, ethical challenges, mitigation strategies\n",
    "    - “startup funding trends” → investment patterns, valuations, stages\n",
    "- Generate searches that reflect this **intent**, not just literal words.\n",
    "\n",
    "CONSTRAINTS\n",
    "- Ask the user for clarification **once only**.\n",
    "- Do not fabricate information; if uncertain, clarify directly with the user.\n",
    "- The goal is to output a structured handoff ready for the RESEARCH agent's Stage 1 process.\n",
    "\"\"\""
   ]
  },
  {
   "cell_type": "code",
   "execution_count": 30,
   "id": "b04ebdd5",
   "metadata": {},
   "outputs": [],
   "source": [
    "# Initial requests\n",
    "# refined requests\n",
    "# user_intent\n",
    "# queries\n",
    "# instructions\n",
    "\n",
    "class ResearchInstructions(BaseModel):\n",
    "    \"\"\"\n",
    "    Output of the CLARIFIER agent.\n",
    "    Provides both the user's raw input and the refined, structured guidance\n",
    "    for the RESEARCH agent to begin its first stage.\n",
    "    \"\"\"\n",
    "\n",
    "    initial_request: str = Field(\n",
    "        ...,\n",
    "        description=\"The user's original question or request, captured verbatim.\"\n",
    "    )\n",
    "    refined_request: str = Field(\n",
    "        ...,\n",
    "        description=\"A clarified, rephrased, and contextually grounded version of the initial request.\"\n",
    "    )\n",
    "    user_intent: str = Field(\n",
    "        ...,\n",
    "        description=(\n",
    "            \"A short summary (1–2 sentences) of what the user truly wants to accomplish \"\n",
    "            \"or learn, inferred from both the initial request and clarification.\"\n",
    "        )\n",
    "    )\n",
    "    queries: List[str] = Field(\n",
    "        ...,\n",
    "        description=(\n",
    "            \"A list of 3–7 specific search queries derived from the refined request, \"\n",
    "            \"covering complementary angles or subtopics the RESEARCH agent should explore.\"\n",
    "        )\n",
    "    )\n",
    "    instructions: str = Field(\n",
    "        ...,\n",
    "        description=(\n",
    "            \"Concise operational guidance for the RESEARCH agent, explaining how to use \"\n",
    "            \"the queries and what to prioritize during Stage 1 research.\"\n",
    "        )\n",
    "    )\n",
    "\n",
    "clarifier = Agent(\n",
    "    name='clarifier_v2',\n",
    "    instructions=clarifier_instructions,\n",
    "    tools=[tools.search],\n",
    "    output_type=ResearchInstructions,\n",
    "    model='gpt-4o-mini'\n",
    ")\n"
   ]
  },
  {
   "cell_type": "code",
   "execution_count": null,
   "id": "129ae557",
   "metadata": {},
   "outputs": [
    {
     "name": "stdout",
     "output_type": "stream",
     "text": [
      "initial_request='I want to work as a freelancer' refined_request='How can I start my career as a freelancer?' user_intent='The user wants guidance on how to begin a freelancing career, including steps, platforms, and strategies.' queries=['How to start freelancing as a beginner?', 'Best freelancing platforms for new freelancers', 'Tips for successfully landing freelance jobs', 'Managing finances as a freelancer', 'Skills in demand for freelancers in 2023'] instructions='Research the steps and resources available for starting a freelancing career, including platforms, tips for job sourcing, and essential skills.'\n",
      "TOOL CALL (clarifier_v2): search({\"query\":\"how to start freelancing\"})\n"
     ]
    }
   ],
   "source": [
    "# TODO: Callback\n",
    "\n",
    "# Test the clarifier with a sample interaction:\n",
    "\n",
    "callback = NamedCallback(clarifier)\n",
    "\n",
    "results = await clarifier.run(\n",
    "    user_prompt='I want to work as a freelancer',\n",
    "    event_stream_handler=callback\n",
    ")\n",
    "\n",
    "print(results.output)\n",
    "\n",
    "results = await clarifier.run(\n",
    "    user_prompt='I want to work as a freelancer',\n",
    "    message_history=results.new_messages(),\n",
    "    event_stream_handler=callback,\n",
    "    output_type=ResearchInstructions\n",
    ")"
   ]
  },
  {
   "cell_type": "code",
   "execution_count": null,
   "id": "c44a0f4a",
   "metadata": {},
   "outputs": [
    {
     "name": "stdout",
     "output_type": "stream",
     "text": [
      "initial_request:  I want to work as a freelancer\n",
      "refined_request:  What steps can I take to start freelancing, including tips and platforms to use?\n",
      "user_intent:  The user wants practical advice and information on how to start a freelancing career.\n",
      "instructions:  Gather information about the initial steps for becoming a freelancer, including practical advice, platform recommendations, and tips for time management.\n"
     ]
    }
   ],
   "source": [
    "print('initial_request: ', results.output.initial_request)\n",
    "print('refined_request: ', results.output.refined_request)\n",
    "print('user_intent: ', results.boutput.user_intent)\n",
    "print('instructions: ', results.output.instructions)"
   ]
  },
  {
   "cell_type": "code",
   "execution_count": 40,
   "id": "b4dbafe7",
   "metadata": {},
   "outputs": [
    {
     "data": {
      "text/plain": [
       "ResearchInstructions(initial_request='I want to work as a freelancer', refined_request='What steps can I take to start freelancing, including tips and platforms to use?', user_intent='The user wants practical advice and information on how to start a freelancing career.', queries=['Steps to start freelancing', 'Best platforms for freelancers', 'Common skills needed for freelancing', 'Tips for succeeding in freelance work', 'How to manage time and workload as a freelancer'], instructions='Gather information about the initial steps for becoming a freelancer, including practical advice, platform recommendations, and tips for time management.')"
      ]
     },
     "execution_count": 40,
     "metadata": {},
     "output_type": "execute_result"
    }
   ],
   "source": [
    "research_task = results.output\n",
    "research_task"
   ]
  },
  {
   "cell_type": "code",
   "execution_count": null,
   "id": "aa4d0622",
   "metadata": {},
   "outputs": [],
   "source": [
    "### Reserach agent\n",
    "\n",
    "# Output from the clarify agent into the research agent\n",
    "\n",
    "# instruction\n",
    "# tool\n",
    "# agent\n",
    "# output scheduma\n",
    "\n"
   ]
  },
  {
   "cell_type": "code",
   "execution_count": null,
   "id": "e90af4f0",
   "metadata": {},
   "outputs": [],
   "source": [
    "# Start with the basic structure\n",
    "class Reference(BaseModel):\n",
    "    document_id: int\n",
    "    quote: str\n",
    "    timestamp: str\n",
    "\n",
    "class ResearchKeyword(BaseModel):\n",
    "    keyword: str\n",
    "    relevant_references: List[Reference]\n",
    "\n",
    "class VerifiableInsight(BaseModel):\n",
    "    insight: str\n",
    "    references: List[Reference]\n",
    "\n",
    "class ResearchStageReport(BaseModel):\n",
    "    stage: int\n",
    "    explored_keywords: List[ResearchKeyword]\n",
    "    verifiable_insights: List[VerifiableInsight]\n",
    "    stage_summary: str\n",
    "    recommended_next_steps: str\n",
    "    recommended_next_keywords: List[str]\n"
   ]
  },
  {
   "cell_type": "code",
   "execution_count": 39,
   "id": "1c20ed00",
   "metadata": {},
   "outputs": [],
   "source": [
    "researcher_instructions = \"\"\"\n",
    "You are the RESEARCH agent.\n",
    "\n",
    "ROLE\n",
    "You perform structured research on a proprietary podcast/video database for a specific stage\n",
    "of exploration (Stage 1, 2, or 3).\n",
    "\n",
    "DATA SOURCE\n",
    "- You may ONLY use the `search()` function, which returns transcript snippets with:\n",
    "  { video_id, _id }\n",
    "- Every reference must cite a real snippet with a valid `youtube_id`, `timestamp` and `_id`.\n",
    "- Do not invent data, names, or timestamps.\n",
    "\n",
    "STAGES\n",
    "\n",
    "Stage 1 — Initial Search\n",
    "- Use the user's question or clarified keywords from context.\n",
    "- Identify 3–5 primary keywords, run one or more searches.\n",
    "- Summarize the main findings, highlighting initial insights and directions.\n",
    "\n",
    "Stage 2 — Expansion\n",
    "- Build upon Stage 1 outputs (from context).\n",
    "- Generate 5–7 related or complementary queries.\n",
    "- Summarize recurring ideas and patterns across new results.\n",
    "\n",
    "Stage 3 — Deep Dive\n",
    "- Build upon Stage 1 and Stage 2.\n",
    "- Generate 5–7 deeper or contrasting queries.\n",
    "- Explore nuances, counterpoints, or mechanisms.\n",
    "- Provide a more analytical synthesis.\n",
    "\n",
    "CONSTRAINTS\n",
    "- Use context from previous stages to guide deeper exploration.\n",
    "- You must perform the necessary amount of queries for each stage:\n",
    "    - 3-5 for stage 1\n",
    "    - 5-7 for stage 2\n",
    "    - 5-7 for stage 3\n",
    "\"\"\"\n",
    "\n",
    "researcher = Agent(\n",
    "    name='researcher',\n",
    "    instructions=researcher_instructions,\n",
    "    tools=[tools.search],\n",
    "    model='gpt-4o-mini',\n",
    "    output_type=ResearchStageReport\n",
    ")\n"
   ]
  },
  {
   "cell_type": "code",
   "execution_count": 47,
   "id": "cbc52a36",
   "metadata": {},
   "outputs": [],
   "source": [
    "# Create a helper function to execute research stages\n",
    "# TODO: Async, Await\n",
    "\n",
    "\n",
    "async def do_research(\n",
    "    stage :int,\n",
    "    stage_instructions: str,\n",
    "    previous_stages: List[ResearchStageReport]\n",
    ") -> ResearchStageReport:\n",
    "    \"\"\"pass in the previous stage output to the current stage\n",
    "    Create a new user prompt - user prompot with \n",
    "    Keep searching\n",
    "    \"\"\"\n",
    "    previous_stages_json = '\\n'.join([r.model_dump_json() for r in previous_stages])\n",
    "    \n",
    "    user_prompt = f\"\"\"\n",
    "    Current stage: {stage}\n",
    "\n",
    "    Stage instrustructions:\n",
    "    {stage_instructions}\n",
    "\n",
    "    Previous stages:\n",
    "    {previous_stages_json}\n",
    "    \"\"\"\n",
    "\n",
    "    callback = NamedCallback(researcher)\n",
    "    \n",
    "    results = await researcher.run(\n",
    "        user_prompt=user_prompt,\n",
    "        event_stream_handler=callback\n",
    "    )\n",
    "\n",
    "    return results.output"
   ]
  },
  {
   "cell_type": "code",
   "execution_count": 48,
   "id": "a2308036",
   "metadata": {},
   "outputs": [
    {
     "data": {
      "text/plain": [
       "ResearchInstructions(initial_request='I want to work as a freelancer', refined_request='What steps can I take to start freelancing, including tips and platforms to use?', user_intent='The user wants practical advice and information on how to start a freelancing career.', queries=['Steps to start freelancing', 'Best platforms for freelancers', 'Common skills needed for freelancing', 'Tips for succeeding in freelance work', 'How to manage time and workload as a freelancer'], instructions='Gather information about the initial steps for becoming a freelancer, including practical advice, platform recommendations, and tips for time management.')"
      ]
     },
     "execution_count": 48,
     "metadata": {},
     "output_type": "execute_result"
    }
   ],
   "source": [
    "research_task"
   ]
  },
  {
   "cell_type": "code",
   "execution_count": 49,
   "id": "b8f3a4de",
   "metadata": {},
   "outputs": [
    {
     "name": "stdout",
     "output_type": "stream",
     "text": [
      "TOOL CALL (researcher): search({\"query\": \"Steps to start freelancing\"})\n",
      "TOOL CALL (researcher): search({\"query\": \"Best platforms for freelancers\"})\n",
      "TOOL CALL (researcher): search({\"query\": \"Common skills needed for freelancing\"})\n",
      "TOOL CALL (researcher): search({\"query\": \"Tips for succeeding in freelance work\"})\n",
      "TOOL CALL (researcher): search({\"query\": \"How to manage time and workload as a freelancer\"})\n"
     ]
    }
   ],
   "source": [
    "stage_1_instructions = f\"\"\"\n",
    "do initial research using this instructions:\n",
    "\n",
    "{research_task.model_dump_json()}\n",
    "\"\"\"\n",
    "\n",
    "stage_1 = await do_research(\n",
    "    stage=1,\n",
    "    stage_instructions=stage_1_instructions,\n",
    "    previous_stages=[]\n",
    ")"
   ]
  },
  {
   "cell_type": "code",
   "execution_count": 51,
   "id": "d5e03d04",
   "metadata": {},
   "outputs": [
    {
     "name": "stdout",
     "output_type": "stream",
     "text": [
      "Steps to start freelancing\n",
      "document_id=3252 quote='you can definitely do freelancing um there are different ways of how to transition into freelancing ... a weekend freelancer ... there’s the transitioning phase where people say hey I have a part-time job ... there’s the fulltime jump into the cold water' timestamp='49:30'\n",
      "\n",
      "Best platforms for freelancers\n",
      "document_id=3252 quote='you usually do it with those online freelancing platforms because they are small projects on them... the weekend projects ... platforms such as upwork' timestamp='49:04'\n",
      "\n",
      "Common skills needed for freelancing\n",
      "document_id=7182 quote='and for me freelancing is exchanging time for money ... you are responsible ... for the outcomes so you need to have good communication skills' timestamp='6:03'\n",
      "\n",
      "Tips for succeeding in freelance work\n",
      "document_id=3400 quote=\"iterate improve your profile right that was one of the things ... while you're doing that see where you want to focus your skills or whether you want to learn something new\" timestamp='50:10'\n",
      "\n",
      "How to manage time and workload as a freelancer\n",
      "document_id=3416 quote='as a freelancer you you are more focused on machine learning right... because as you might have a person again you have to control the the whole process with the client' timestamp='47:19'\n",
      "\n"
     ]
    }
   ],
   "source": [
    "for kw in stage_1.explored_keywords:\n",
    "    print(kw.keyword)\n",
    "    for ref in kw.relevant_references:\n",
    "        print(ref)\n",
    "    print()\n",
    "# stage_1"
   ]
  },
  {
   "cell_type": "code",
   "execution_count": 52,
   "id": "6da85ec6",
   "metadata": {},
   "outputs": [],
   "source": [
    "# imporve the output structure and the prompt\n",
    "\n",
    "\n",
    "class Reference(BaseModel):\n",
    "    \"\"\"\n",
    "    A single, verifiable citation to a transcript snippet or video segment.\n",
    "    Must correspond to a real snippet returned by the `search()` tool.\n",
    "    \"\"\"\n",
    "    document_id: int = Field(..., description=\"Internal ID of the transcript snippet.\")\n",
    "    quote: str = Field(..., description=\"Exact snippet that supports the keyword or insight.\")\n",
    "    timestamp: str = Field(..., description=\"Timestamp in the source video where the quote occurs, 'mm:ss' or 'h:mm:ss'\")\n",
    "    relevance_to_keyword: str = Field(..., description=\"Explanation of *how* this quote supports or illustrates the specific keyword or concept being explored.\")\n",
    "    relevance_to_user_intent:  str = Field(..., description=\"Explanation of *how* this quote help the user with their intent.\")\n",
    "\n",
    "class ResearchKeyword(BaseModel):\n",
    "    \"\"\"\n",
    "    Represents a keyword explicitly searched during this research stage.\n",
    "    Each keyword must match an actual query used in the search tool calls.\n",
    "    \"\"\"\n",
    "    keyword: str = Field(..., description=\"The exact keyword or phrase used in the search() tool call.\")\n",
    "    relevant_references: List[Reference] = Field(\n",
    "        ..., \n",
    "        description=\"List of transcript snippets directly relevant to this keyword. Each must include a 'relevance_to_keyword' explanation.\"\n",
    "    )\n",
    "\n",
    "\n",
    "class VerifiableInsight(BaseModel):\n",
    "    \"\"\"\n",
    "    A synthesized insight that can be traced back to specific evidence.\n",
    "    Each insight must be supported by at least one real reference.\n",
    "    \"\"\"\n",
    "    insight: str = Field(..., description=\"An insight derived from the research, phrased in an evidence-based, verifiable way.\")\n",
    "    references: List[Reference] = Field(..., description=\"Citations that directly support this insight. Must contain valid timestamps and IDs.\")\n",
    "\n",
    "\n",
    "class ResearchStageReport(BaseModel):\n",
    "    \"\"\"\n",
    "    Structured output for each research stage (1–3).\n",
    "    Ensures traceability between searches, keywords, and findings.\n",
    "    \"\"\"\n",
    "    stage: int = Field(..., description=\"The research stage number (1 = Initial Search, 2 = Expansion, 3 = Deep Dive).\")\n",
    "    explored_keywords: List[ResearchKeyword] = Field(\n",
    "        ..., \n",
    "        description=\"List of the *exact* keywords used in this stage's search() calls, along with references showing their relevance.\"\n",
    "    )\n",
    "    verifiable_insights: List[VerifiableInsight] = Field(\n",
    "        ..., \n",
    "        description=\"List of data-backed insights derived from the references gathered at this stage.\"\n",
    "    )\n",
    "    stage_summary: str = Field(..., description=\"Analytical summary of what was learned at this stage, connecting evidence to emerging themes.\")\n",
    "    recommended_next_steps: str = Field(..., description=\"Guidance for what to do in the next stage — e.g., new angles, counterpoints, or subtopics.\")\n",
    "    recommended_next_keywords: List[str] = Field(\n",
    "        ..., \n",
    "        description=\"Suggested next queries based on gaps or promising directions discovered in this stage.\"\n",
    "    )\n",
    "\n",
    "\n",
    "\n",
    "researcher_instructions = \"\"\"\n",
    "You are the RESEARCH agent.\n",
    "\n",
    "ROLE\n",
    "You perform structured research on a proprietary podcast/video database for a specific stage\n",
    "of exploration (Stage 1, 2, or 3).\n",
    "\n",
    "DATA SOURCE\n",
    "- You may ONLY use the `search()` function\n",
    "- Every reference must cite a real snippet with a valid `youtube_id`, `timestamp` and `_id`.\n",
    "- Do not invent data, names, or timestamps.\n",
    "\n",
    "STAGES\n",
    "\n",
    "Stage 1 — Initial Search\n",
    "- Use the user’s question or clarified keywords from context.\n",
    "- Identify 3–5 primary keywords, run one or more searches.\n",
    "- Summarize the main findings, highlighting initial insights and directions.\n",
    "\n",
    "Stage 2 — Expansion\n",
    "- Build upon Stage 1 outputs (from context).\n",
    "- Generate 5–7 related or complementary queries.\n",
    "- Summarize recurring ideas and patterns across new results.\n",
    "\n",
    "Stage 3 — Deep Dive\n",
    "- Build upon Stage 1 and Stage 2.\n",
    "- Generate 5–7 deeper or contrasting queries.\n",
    "- Explore nuances, counterpoints, or mechanisms.\n",
    "- Provide a more analytical synthesis.\n",
    "\n",
    "CONSTRAINTS\n",
    "- Use context from previous stages to guide deeper exploration.\n",
    "- You must perform the necessary amount of queries for each stage:\n",
    "    - 3-5 for stage 1\n",
    "    - 5-7 for stage 2\n",
    "    - 5-7 for stage 3\n",
    "\"\"\"\n"
   ]
  },
  {
   "cell_type": "code",
   "execution_count": 53,
   "id": "3bd69751",
   "metadata": {},
   "outputs": [],
   "source": [
    "researcher = Agent(\n",
    "    name='researcher_v2',\n",
    "    instructions=researcher_instructions,\n",
    "    tools=[tools.search],\n",
    "    model='gpt-4o-mini',\n",
    "    output_type=ResearchStageReport\n",
    ")"
   ]
  },
  {
   "cell_type": "code",
   "execution_count": 54,
   "id": "63c0c3fe",
   "metadata": {},
   "outputs": [
    {
     "name": "stdout",
     "output_type": "stream",
     "text": [
      "TOOL CALL (researcher_v2): search({\"query\": \"Steps to start freelancing\"})\n",
      "TOOL CALL (researcher_v2): search({\"query\": \"Best platforms for freelancers\"})\n",
      "TOOL CALL (researcher_v2): search({\"query\": \"Common skills needed for freelancing\"})\n",
      "TOOL CALL (researcher_v2): search({\"query\": \"Tips for succeeding in freelance work\"})\n",
      "TOOL CALL (researcher_v2): search({\"query\": \"How to manage time and workload as a freelancer\"})\n"
     ]
    }
   ],
   "source": [
    "stage_1 = await do_research(\n",
    "    stage=1,\n",
    "    stage_instructions=stage_1_instructions,\n",
    "    previous_stages=[]\n",
    ")"
   ]
  },
  {
   "cell_type": "code",
   "execution_count": 55,
   "id": "edc0c1f6",
   "metadata": {},
   "outputs": [
    {
     "name": "stdout",
     "output_type": "stream",
     "text": [
      "Steps to start freelancing\n",
      "document_id=3253 quote=\"I mean you can definitely do freelancing... there are different ways of how to transition into freelancing... there's the fulltime jump into the cold water... there are people that... try to hustle their way...\" timestamp='47:51' relevance_to_keyword='This quote discusses different paths to starting as a freelancer, including transitioning slowly or taking the plunge into full-time freelancing.' relevance_to_user_intent='It provides insight into the initial steps someone can take when considering freelancing.'\n",
      "\n",
      "Best platforms for freelancers\n",
      "document_id=7182 quote='...places like Upwork... create a profile and then directly apply to them and here the pricing... I believe platforms like Upwork and Fiverr...' timestamp='26:48' relevance_to_keyword='This illustrates popular platforms that freelancers can use to find work and navigate pricing.' relevance_to_user_intent='It offers practical advice on where to begin searching for freelance opportunities.'\n",
      "\n",
      "Common skills needed for freelancing\n",
      "document_id=4577 quote='...this is something I need to pick up if I want to be a freelancer...' timestamp='47:35' relevance_to_keyword='This indicates the need for various skills, such as marketing and self-promotion, that are essential for freelancers.' relevance_to_user_intent='It highlights the skills required for successful freelancing.'\n",
      "\n",
      "Tips for succeeding in freelance work\n",
      "document_id=3400 quote='...make sure your profile is always up to date and try to broaden your skill set.' timestamp='26:16' relevance_to_keyword='Suggests proactive measures to enhance a freelancer’s profile and skill set as a strategy for success.' relevance_to_user_intent='Addresses strategies for improving one’s prospects in freelancing.'\n",
      "\n",
      "How to manage time and workload as a freelancer\n",
      "document_id=3253 quote='...there are different ways of how to transition into freelancing... try to hustle their way... every time their work is off they have an extra hour they try to get a client...' timestamp='49:31' relevance_to_keyword='Describes different ways to manage time when transitioning to freelancing, emphasizing flexibility in workloads.' relevance_to_user_intent='It provides insights into time management as a freelancer.'\n",
      "\n",
      "insight='Freelancers can transition from traditional jobs to freelancing gradually or make a full-time commitment immediately, though each approach has different implications for workload management.' references=[Reference(document_id=3253, quote=\"I mean you can definitely do freelancing... there are different ways of how to transition into freelancing... there's the fulltime jump into the cold water... there are people that... try to hustle their way...\", timestamp='47:51', relevance_to_keyword='This quote discusses different paths to starting as a freelancer, including transitioning slowly or taking the plunge into full-time freelancing.', relevance_to_user_intent='It provides insight into the initial steps someone can take when considering freelancing.')]\n",
      "insight='Popular platforms like Upwork and Fiverr are recommended for freelancers to find work and establish their profiles to set competitive pricing based on market demand.' references=[Reference(document_id=7182, quote='...places like Upwork... create a profile and then directly apply to them and here the pricing... I believe platforms like Upwork and Fiverr...', timestamp='26:48', relevance_to_keyword='This illustrates popular platforms that freelancers can use to find work and navigate pricing.', relevance_to_user_intent='It offers practical advice on where to begin searching for freelance opportunities.')]\n",
      "insight='Successful freelancers often require a diverse skill set, including self-promotion and communication, to effectively market their services and manage client relationships.' references=[Reference(document_id=4577, quote='...this is something I need to pick up if I want to be a freelancer...', timestamp='47:35', relevance_to_keyword='This indicates the need for various skills, such as marketing and self-promotion, that are essential for freelancers.', relevance_to_user_intent='It highlights the skills required for successful freelancing.')]\n",
      "insight='To succeed in freelancing, it is essential to continuously improve your profile and skills while exploring the market needs to identify where to position oneself effectively.' references=[Reference(document_id=3400, quote='...make sure your profile is always up to date and try to broaden your skill set.', timestamp='26:16', relevance_to_keyword='Suggests proactive measures to enhance a freelancer’s profile and skill set as a strategy for success.', relevance_to_user_intent='Addresses strategies for improving one’s prospects in freelancing.')]\n",
      "insight='Managing workload as a freelancer can require flexibility and time management to juggle multiple clients and projects, especially when transitioning from full-time employment.' references=[Reference(document_id=3253, quote='...there are different ways of how to transition into freelancing... try to hustle their way... every time their work is off they have an extra hour they try to get a client...', timestamp='49:31', relevance_to_keyword='Describes different ways to manage time when transitioning to freelancing, emphasizing flexibility in workloads.', relevance_to_user_intent='It provides insights into time management as a freelancer.')]\n",
      "insight='Engaging with other freelancers and communities can provide valuable support and insights that enhance a newcomer’s understanding of the freelancing landscape.' references=[Reference(document_id=3416, quote='...we are a small community of... like-minded freelancers... we try to support each other', timestamp='47:48', relevance_to_keyword='This emphasizes the importance of community and support among freelancers to share knowledge and experiences.', relevance_to_user_intent='It highlights the benefits of networking in the freelancing community.')]\n"
     ]
    }
   ],
   "source": [
    "for kw in stage_1.explored_keywords:\n",
    "    print(kw.keyword)\n",
    "    for ref in kw.relevant_references:\n",
    "        print(ref)\n",
    "    print()\n",
    "\n",
    "for insight in stage_1.verifiable_insights:\n",
    "    print(insight)\n"
   ]
  },
  {
   "cell_type": "code",
   "execution_count": 56,
   "id": "24081592",
   "metadata": {},
   "outputs": [
    {
     "name": "stdout",
     "output_type": "stream",
     "text": [
      "TOOL CALL (researcher_v2): search({\"query\": \"Financial management for freelancers\"})\n",
      "TOOL CALL (researcher_v2): search({\"query\": \"Long-term success in freelancing\"})\n",
      "TOOL CALL (researcher_v2): search({\"query\": \"Niche freelancing opportunities\"})\n",
      "TOOL CALL (researcher_v2): search({\"query\": \"Freelance marketing strategies\"})\n",
      "TOOL CALL (researcher_v2): search({\"query\": \"Client relationship management\"})\n",
      "TOOL CALL (researcher_v2): search({\"query\": \"Tools for freelancers\"})\n",
      "TOOL CALL (researcher_v2): search({\"query\": \"Freelance financial strategies\"})\n",
      "TOOL CALL (researcher_v2): search({\"query\": \"Challenges of part-time to full-time freelancing\"})\n",
      "TOOL CALL (researcher_v2): search({\"query\": \"Stress management for freelancers\"})\n",
      "TOOL CALL (researcher_v2): search({\"query\": \"Motivational techniques for freelance success\"})\n",
      "TOOL CALL (researcher_v2): search({\"query\": \"Scalability of freelance businesses\"})\n",
      "TOOL CALL (researcher_v2): search({\"query\": \"Long-term financial planning for freelancers\"})\n"
     ]
    }
   ],
   "source": [
    "stage_2 = await do_research(\n",
    "    stage=2,\n",
    "    stage_instructions=\"continue research\",\n",
    "    previous_stages=[stage_1]\n",
    ")\n",
    "\n",
    "stage_3 = await do_research(\n",
    "    stage=3,\n",
    "    stage_instructions=\"continue research, go deeper and broader, explore tangently relaveted topics\",\n",
    "    previous_stages=[stage_1, stage_2]\n",
    ")\n"
   ]
  },
  {
   "cell_type": "markdown",
   "id": "531e318b",
   "metadata": {},
   "source": [
    "### Synthesizer and Verifier"
   ]
  },
  {
   "cell_type": "code",
   "execution_count": null,
   "id": "3e87efc7",
   "metadata": {},
   "outputs": [],
   "source": []
  },
  {
   "cell_type": "code",
   "execution_count": 79,
   "id": "30f93a69",
   "metadata": {},
   "outputs": [],
   "source": [
    "# get stage 1, 2, 3 results\n",
    "# Combine them together into one article\n",
    "synthesizer_instructions = \"\"\"\n",
    "You synthesize research findings from all three stages (StageReports 1–3)\n",
    "into a cohesive, factual final report.\n",
    "\n",
    "TASKS\n",
    "1. Read and interpret all reports\n",
    "2. Verify each claim you put in the article\n",
    "3. Make sure the output matches the intention of the user\n",
    "4. Create the article\n",
    "\n",
    "ARTICLE RULES\n",
    "- The article should have instruction, 5-6 sections and conclusion \n",
    "- Each section should group 3–4 related claims.\n",
    "- Each claim: 3–4 sentences and reference\n",
    "- Do not add new facts beyond what's supported in reports\n",
    "- You must verify each source\n",
    "\"\"\"\n"
   ]
  },
  {
   "cell_type": "code",
   "execution_count": null,
   "id": "e9c4976f",
   "metadata": {},
   "outputs": [],
   "source": [
    "synthesizer = Agent(\n",
    "    name='synthesizer',\n",
    "    instructions=synthesizer_instructions,\n",
    "    tools=[tools.get_document_by_id],\n",
    "    model='gpt-4o-mini'\n",
    ")"
   ]
  },
  {
   "cell_type": "code",
   "execution_count": 81,
   "id": "310e0a45",
   "metadata": {},
   "outputs": [],
   "source": [
    "all_reports = [stage_1, stage_2, stage_3]\n",
    "reports = '\\n'.join([r.model_dump_json() for r in all_reports])\n",
    "\n",
    "user_prompt = f\"\"\"\n",
    "initial request:\n",
    "{research_task.model_dump_json()}\n",
    "\n",
    "reports:\n",
    "{reports}\n",
    "\"\"\"\n",
    "\n",
    "callback = NamedCallback(synthesizer)\n",
    "\n",
    "results = await synthesizer.run(\n",
    "    user_prompt=user_prompt,\n",
    "    event_stream_handler=callback.print_function_calls\n",
    ")"
   ]
  },
  {
   "cell_type": "code",
   "execution_count": 82,
   "id": "8e4e82c8",
   "metadata": {},
   "outputs": [
    {
     "data": {
      "text/plain": [
       "[ResearchStageReport(stage=1, explored_keywords=[ResearchKeyword(keyword='Steps to start freelancing', relevant_references=[Reference(document_id=3253, quote=\"I mean you can definitely do freelancing... there are different ways of how to transition into freelancing... there's the fulltime jump into the cold water... there are people that... try to hustle their way...\", timestamp='47:51', relevance_to_keyword='This quote discusses different paths to starting as a freelancer, including transitioning slowly or taking the plunge into full-time freelancing.', relevance_to_user_intent='It provides insight into the initial steps someone can take when considering freelancing.')]), ResearchKeyword(keyword='Best platforms for freelancers', relevant_references=[Reference(document_id=7182, quote='...places like Upwork... create a profile and then directly apply to them and here the pricing... I believe platforms like Upwork and Fiverr...', timestamp='26:48', relevance_to_keyword='This illustrates popular platforms that freelancers can use to find work and navigate pricing.', relevance_to_user_intent='It offers practical advice on where to begin searching for freelance opportunities.')]), ResearchKeyword(keyword='Common skills needed for freelancing', relevant_references=[Reference(document_id=4577, quote='...this is something I need to pick up if I want to be a freelancer...', timestamp='47:35', relevance_to_keyword='This indicates the need for various skills, such as marketing and self-promotion, that are essential for freelancers.', relevance_to_user_intent='It highlights the skills required for successful freelancing.')]), ResearchKeyword(keyword='Tips for succeeding in freelance work', relevant_references=[Reference(document_id=3400, quote='...make sure your profile is always up to date and try to broaden your skill set.', timestamp='26:16', relevance_to_keyword='Suggests proactive measures to enhance a freelancer’s profile and skill set as a strategy for success.', relevance_to_user_intent='Addresses strategies for improving one’s prospects in freelancing.')]), ResearchKeyword(keyword='How to manage time and workload as a freelancer', relevant_references=[Reference(document_id=3253, quote='...there are different ways of how to transition into freelancing... try to hustle their way... every time their work is off they have an extra hour they try to get a client...', timestamp='49:31', relevance_to_keyword='Describes different ways to manage time when transitioning to freelancing, emphasizing flexibility in workloads.', relevance_to_user_intent='It provides insights into time management as a freelancer.')])], verifiable_insights=[VerifiableInsight(insight='Freelancers can transition from traditional jobs to freelancing gradually or make a full-time commitment immediately, though each approach has different implications for workload management.', references=[Reference(document_id=3253, quote=\"I mean you can definitely do freelancing... there are different ways of how to transition into freelancing... there's the fulltime jump into the cold water... there are people that... try to hustle their way...\", timestamp='47:51', relevance_to_keyword='This quote discusses different paths to starting as a freelancer, including transitioning slowly or taking the plunge into full-time freelancing.', relevance_to_user_intent='It provides insight into the initial steps someone can take when considering freelancing.')]), VerifiableInsight(insight='Popular platforms like Upwork and Fiverr are recommended for freelancers to find work and establish their profiles to set competitive pricing based on market demand.', references=[Reference(document_id=7182, quote='...places like Upwork... create a profile and then directly apply to them and here the pricing... I believe platforms like Upwork and Fiverr...', timestamp='26:48', relevance_to_keyword='This illustrates popular platforms that freelancers can use to find work and navigate pricing.', relevance_to_user_intent='It offers practical advice on where to begin searching for freelance opportunities.')]), VerifiableInsight(insight='Successful freelancers often require a diverse skill set, including self-promotion and communication, to effectively market their services and manage client relationships.', references=[Reference(document_id=4577, quote='...this is something I need to pick up if I want to be a freelancer...', timestamp='47:35', relevance_to_keyword='This indicates the need for various skills, such as marketing and self-promotion, that are essential for freelancers.', relevance_to_user_intent='It highlights the skills required for successful freelancing.')]), VerifiableInsight(insight='To succeed in freelancing, it is essential to continuously improve your profile and skills while exploring the market needs to identify where to position oneself effectively.', references=[Reference(document_id=3400, quote='...make sure your profile is always up to date and try to broaden your skill set.', timestamp='26:16', relevance_to_keyword='Suggests proactive measures to enhance a freelancer’s profile and skill set as a strategy for success.', relevance_to_user_intent='Addresses strategies for improving one’s prospects in freelancing.')]), VerifiableInsight(insight='Managing workload as a freelancer can require flexibility and time management to juggle multiple clients and projects, especially when transitioning from full-time employment.', references=[Reference(document_id=3253, quote='...there are different ways of how to transition into freelancing... try to hustle their way... every time their work is off they have an extra hour they try to get a client...', timestamp='49:31', relevance_to_keyword='Describes different ways to manage time when transitioning to freelancing, emphasizing flexibility in workloads.', relevance_to_user_intent='It provides insights into time management as a freelancer.')]), VerifiableInsight(insight='Engaging with other freelancers and communities can provide valuable support and insights that enhance a newcomer’s understanding of the freelancing landscape.', references=[Reference(document_id=3416, quote='...we are a small community of... like-minded freelancers... we try to support each other', timestamp='47:48', relevance_to_keyword='This emphasizes the importance of community and support among freelancers to share knowledge and experiences.', relevance_to_user_intent='It highlights the benefits of networking in the freelancing community.')])], stage_summary='The initial search focused on practical steps and insights for starting a freelancing career. Key findings include the various paths to transitioning into freelancing, including gradual or immediate full-time commitment, and the importance of platforms like Upwork and Fiverr for finding work. Essential skills for success include self-promotion and time management, alongside the necessity of continual improvement in profiles and skill sets. Engaging with freelancer communities can also provide valuable support and insights. Overall, the evidence gathered lays a groundwork for practical strategies to commence a freelancing career.', recommended_next_steps='In the next stage, I recommend exploring deeper aspects of freelancing, such as financial management for freelancers, long-term success strategies, or the impact of different niches on freelancing prospects. This will help in understanding more nuanced factors that contribute to a sustainable freelancing career.', recommended_next_keywords=['Financial management for freelancers', 'Long-term success in freelancing', 'Niche freelancing opportunities', 'Freelance marketing strategies', 'Client relationship management', 'Tools for freelancers']),\n",
       " ResearchStageReport(stage=2, explored_keywords=[ResearchKeyword(keyword='Financial management for freelancers', relevant_references=[Reference(document_id=3407, quote=\"...if you want to be autonomous that is a good way an alternative if you're just getting started would be to get in touch with smaller agencies...\", timestamp='36:07', relevance_to_keyword='Discusses different pathways for freelancing, including the financial aspects of finding clients and setting rates through agencies.', relevance_to_user_intent='Provides insights into managing financial aspects when starting as a freelancer.')]), ResearchKeyword(keyword='Long-term success in freelancing', relevant_references=[Reference(document_id=3253, quote='...once you get your fair share, a handful of good clients, um basically they can support you for a long time...', timestamp='36:36', relevance_to_keyword='Addresses the importance of securing a few reliable clients for sustainable freelancing success.', relevance_to_user_intent='Highlights strategies for building a long-term freelance career.')]), ResearchKeyword(keyword='Niche freelancing opportunities', relevant_references=[Reference(document_id=3408, quote=\"...if you get to that stage you have that confidence that you don't worry oh will I get the next client...\", timestamp='34:25', relevance_to_keyword='Mentions the potential of choosing a niche for confidence in freelancing.', relevance_to_user_intent='Emphasizes the benefit of specializing in a niche to gain more control over freelancing success.')]), ResearchKeyword(keyword='Freelance marketing strategies', relevant_references=[Reference(document_id=3416, quote=\"...so we're trying to support each other and, uh on the side I also organize... some community events where I invite anyone related to freelancing activities...\", timestamp='47:22', relevance_to_keyword='Describes community engagement and its role in freelance marketing strategies.', relevance_to_user_intent=\"Provides ideas for leveraging community support in marketing one's freelance services.\")]), ResearchKeyword(keyword='Client relationship management', relevant_references=[Reference(document_id=3252, quote='...I can tell you what a client is willing to charge and you can basically say yes fine with me or not...', timestamp='30:39', relevance_to_keyword='Details the relationship dynamics between freelancers and agencies, useful for client management.', relevance_to_user_intent='Offers practical advice on managing client expectations and negotiations.')]), ResearchKeyword(keyword='Tools for freelancers', relevant_references=[Reference(document_id=7182, quote='...and I try to segment it by data analyst, data engineer, data architect...', timestamp='23:34', relevance_to_keyword='Addresses how freelancers can use tools for job searching in niche markets.', relevance_to_user_intent='Suggests utilizing specific tools for finding freelance opportunities in various domains.')])], verifiable_insights=[VerifiableInsight(insight='Managing finances and relationships through agencies can help freelancers secure clients more effectively, but may come at the cost of lower pay.', references=[Reference(document_id=3407, quote=\"...if you want to be autonomous that is a good way an alternative if you're just getting started would be to get in touch with smaller agencies...\", timestamp='36:07', relevance_to_keyword='Discusses different pathways for freelancing, including the financial aspects of finding clients and setting rates through agencies.', relevance_to_user_intent='Provides insights into managing financial aspects when starting as a freelancer.')]), VerifiableInsight(insight='For long-term success in freelancing, establishing a small number of reliable clients can provide the necessary stability for a sustainable career.', references=[Reference(document_id=3253, quote='...once you get your fair share, a handful of good clients, um basically they can support you for a long time...', timestamp='36:36', relevance_to_keyword='Addresses the importance of securing a few reliable clients for sustainable freelancing success.', relevance_to_user_intent='Highlights strategies for building a long-term freelance career.')]), VerifiableInsight(insight='Choosing a niche can provide freelancers with confidence and an opportunity to build a specialized portfolio, potentially leading to better opportunities.', references=[Reference(document_id=3408, quote=\"...if you get to that stage you have that confidence that you don't worry oh will I get the next client...\", timestamp='34:25', relevance_to_keyword='Mentions the potential of choosing a niche for confidence in freelancing.', relevance_to_user_intent='Emphasizes the benefit of specializing in a niche to gain more control over freelancing success.')]), VerifiableInsight(insight='Community engagement and knowledge sharing in freelancing networks can enhance marketing strategies and client attraction methods for freelancers.', references=[Reference(document_id=3416, quote=\"...so we're trying to support each other and, uh on the side I also organize... some community events where I invite anyone related to freelancing activities...\", timestamp='47:22', relevance_to_keyword='Describes community engagement and its role in freelance marketing strategies.', relevance_to_user_intent=\"Provides ideas for leveraging community support in marketing one's freelance services.\")]), VerifiableInsight(insight='Effectively managing client negotiations regarding fees and expectations can lead to more favorable outcomes for freelancers rather than relying solely on agencies.', references=[Reference(document_id=3252, quote='...I can tell you what a client is willing to charge and you can basically say yes fine with me or not...', timestamp='30:39', relevance_to_keyword='Details the relationship dynamics between freelancers and agencies, useful for client management.', relevance_to_user_intent='Offers practical advice on managing client expectations and negotiations.')]), VerifiableInsight(insight=\"Using specialized tools and platforms tailored to specific niches can enhance freelancers' visibility and connections in their chosen domains.\", references=[Reference(document_id=7182, quote='...and I try to segment it by data analyst, data engineer, data architect...', timestamp='23:34', relevance_to_keyword='Addresses how freelancers can use tools for job searching in niche markets.', relevance_to_user_intent='Suggests utilizing specific tools for finding freelance opportunities in various domains.')])], stage_summary='The expansion stage delved deeper into the financial and operational aspects of a successful freelancing career. Key findings include the importance of aligning with agencies for securing clients, maintaining long-term relationships for sustainable income, and the power of niche specialization. Marketing strategies centered around community engagement and the use of specialized tools are essential for freelancer outreach. Managing client relationships and negotiations can drastically affect income potential. Overall, these insights provide a nuanced understanding of the dynamic elements of freelancing.', recommended_next_steps='In the next stage, I recommend examining broader financial strategies, potential challenges in transitioning to full-time freelancing from part-time roles, and exploring the psychological aspects of freelance work such as stress management and motivation. This will help in uncovering more complex layers related to freelancing careers.', recommended_next_keywords=['Freelance financial strategies', 'Challenges of part-time to full-time freelancing', 'Stress management for freelancers', 'Motivational techniques for freelance success', 'Scalability of freelance businesses', 'Long-term financial planning for freelancers']),\n",
       " ResearchStageReport(stage=3, explored_keywords=[ResearchKeyword(keyword='Freelance financial strategies', relevant_references=[Reference(document_id=3407, quote=\"...if you want to be autonomous that is a good way an alternative if you're just getting started would be to get in touch with smaller agencies...\", timestamp='36:07', relevance_to_keyword='Discusses different pathways for freelancing, including the financial aspects of finding clients and setting rates through agencies.', relevance_to_user_intent='Provides insights into managing financial aspects when starting as a freelancer.')]), ResearchKeyword(keyword='Challenges of part-time to full-time freelancing', relevant_references=[Reference(document_id=3253, quote='...once you get your fair share, a handful of good clients, um basically they can support you for a long time...', timestamp='36:36', relevance_to_keyword='Addresses the importance of securing a few reliable clients for sustainable freelancing success.', relevance_to_user_intent='Highlights strategies for building a long-term freelance career.')]), ResearchKeyword(keyword='Stress management for freelancers', relevant_references=[Reference(document_id=3408, quote=\"...if you get to that stage you have that confidence that you don't worry oh will I get the next client...\", timestamp='34:25', relevance_to_keyword='Mentions the potential of choosing a niche for confidence in freelancing.', relevance_to_user_intent='Emphasizes the benefit of specializing in a niche to gain more control over freelancing success.')]), ResearchKeyword(keyword='Motivational techniques for freelance success', relevant_references=[Reference(document_id=3399, quote='...I see you can do some failures and you can learn from them...', timestamp='48:37', relevance_to_keyword='Highlights learning from failures as an essential part of freelancing and maintaining motivation.', relevance_to_user_intent='Provides an approach to handling the emotional ups and downs of freelancing.')]), ResearchKeyword(keyword='Scalability of freelance businesses', relevant_references=[Reference(document_id=3408, quote='...once you get your fair share, a handful of good clients...', timestamp='36:36', relevance_to_keyword='Discusses building a sustainable freelance business through reliable clients.', relevance_to_user_intent='Indicates that focusing on a few significant clients can lead to scalability in freelancing.')]), ResearchKeyword(keyword='Long-term financial planning for freelancers', relevant_references=[Reference(document_id=3254, quote=\"...getting new clients is is a hassle. It's a challenge...\", timestamp='36:40', relevance_to_keyword='Highlights the ongoing need for client acquisition and income stability in freelancing.', relevance_to_user_intent='Sheds light on the long-term financial strategy freelancers must adopt.')])], verifiable_insights=[VerifiableInsight(insight='Effective financial strategies for freelancers include leveraging smaller agencies to navigate client relations and setting competitive rates based on market trends.', references=[Reference(document_id=3407, quote=\"...if you want to be autonomous that is a good way an alternative if you're just getting started would be to get in touch with smaller agencies...\", timestamp='36:07', relevance_to_keyword='Discusses different pathways for freelancing, including the financial aspects of finding clients and setting rates through agencies.', relevance_to_user_intent='Provides insights into managing financial aspects when starting as a freelancer.')]), VerifiableInsight(insight='Transitioning from part-time to full-time freelancing necessitates securing a reliable client base, which can create financial stability in the long-run.', references=[Reference(document_id=3253, quote='...once you get your fair share, a handful of good clients, um basically they can support you for a long time...', timestamp='36:36', relevance_to_keyword='Addresses the importance of securing a few reliable clients for sustainable freelancing success.', relevance_to_user_intent='Highlights strategies for building a long-term freelance career.')]), VerifiableInsight(insight='Freelancers can manage stress effectively by specializing in a niche, which boosts their confidence and helps mitigate the anxiety of client acquisition.', references=[Reference(document_id=3408, quote=\"...if you get to that stage you have that confidence that you don't worry oh will I get the next client...\", timestamp='34:25', relevance_to_keyword='Mentions the potential of choosing a niche for confidence in freelancing.', relevance_to_user_intent='Emphasizes the benefit of specializing in a niche to gain more control over freelancing success.')]), VerifiableInsight(insight='Maintaining motivation in freelancing is enhanced by learning from failures, as this mindset fosters resilience and adaptability in a fluctuating marketplace.', references=[Reference(document_id=3399, quote='...I see you can do some failures and you can learn from them...', timestamp='48:37', relevance_to_keyword='Highlights learning from failures as an essential part of freelancing and maintaining motivation.', relevance_to_user_intent='Provides an approach to handling the emotional ups and downs of freelancing.')]), VerifiableInsight(insight='Scalability in freelancing often relies on establishing a core group of reliable clients, which allows freelancers to focus on delivering quality work without overextending themselves.', references=[Reference(document_id=3408, quote='...once you get your fair share, a handful of good clients...', timestamp='36:36', relevance_to_keyword='Discusses building a sustainable freelance business through reliable clients.', relevance_to_user_intent='Indicates that focusing on a few significant clients can lead to scalability in freelancing.')]), VerifiableInsight(insight='Long-term financial planning for freelancers involves addressing the ongoing challenge of client acquisition, which is necessary for sustained income and business growth.', references=[Reference(document_id=3254, quote=\"...getting new clients is is a hassle. It's a challenge...\", timestamp='36:40', relevance_to_keyword='Highlights the ongoing need for client acquisition and income stability in freelancing.', relevance_to_user_intent='Sheds light on the long-term financial strategy freelancers must adopt.')])], stage_summary='The final stage of exploration investigated deeper themes related to freelancing, focusing on financial strategies, motivational techniques, and the challenges freelancers face in their careers. Key insights emphasize the importance of establishing reliable client relationships for long-term stability, leveraging small agencies to navigate the freelance marketplace, and managing stress through niche specialization. By learning from failures and maintaining a proactive mindset, freelancers can enhance their resilience and scalability in the industry. Additionally, effective financial planning is identified as crucial for sustaining an independent freelancing career, highlighting the need for continuous client acquisition and engagement.', recommended_next_steps='Continuing research could focus on the mental health aspects of freelancing, support networks available for freelancers, and strategies for freelance marketing in competitive fields. Delving into the role of technology in facilitating freelance work and assessing future trends in the freelance market would also be insightful.', recommended_next_keywords=['Mental health strategies for freelancers', 'Freelancer support networks', 'Freelance marketing techniques', 'Future trends in freelancing', 'Impact of technology on freelancing'])]"
      ]
     },
     "execution_count": 82,
     "metadata": {},
     "output_type": "execute_result"
    }
   ],
   "source": [
    "all_reports"
   ]
  },
  {
   "cell_type": "code",
   "execution_count": null,
   "id": "f016f8ad",
   "metadata": {},
   "outputs": [],
   "source": []
  },
  {
   "cell_type": "code",
   "execution_count": 83,
   "id": "00c57fe1",
   "metadata": {},
   "outputs": [
    {
     "name": "stdout",
     "output_type": "stream",
     "text": [
      "# A Practical Guide to Starting Your Freelancing Career\n",
      "\n",
      "Freelancing offers the freedom to choose your work, clients, and schedule. To help you embark on this exciting journey, this guide consolidates actionable steps, platform recommendations, essential skills, and tips for managing your freelance business effectively.\n",
      "\n",
      "## 1. Steps to Start Your Freelancing Journey\n",
      "\n",
      "Beginning your freelancing career can be approached in various ways. One path is to transition gradually from a traditional job, allowing you to build a client base while managing your current responsibilities. Alternatively, some opt for an immediate full-time commitment to freelancing, jumping into the \"cold water.\" This decision significantly impacts workload management and personal adaptability (Stage 1 Report, Document ID: 3253).\n",
      "\n",
      "To launch effectively, consider engaging with smaller agencies, which can offer avenues for securing clients while allowing you to gain hands-on experience (Stage 2 Report, Document ID: 3407). Whichever path you choose, establishing a reliable workflow and client acquisition strategy will be crucial for long-term success.\n",
      "\n",
      "## 2. Finding the Right Platforms\n",
      "\n",
      "To connect with clients, popular platforms like Upwork and Fiverr serve as valuable tools for freelancers. These platforms enable you to create a profile showcasing your skills and experiences, allowing you to apply for jobs that match your expertise (Stage 1 Report, Document ID: 7182). It’s essential to price your services competitively based on market demand to attract potential clients effectively.\n",
      "\n",
      "Moreover, exploring niche platforms specific to your field can give you an edge by connecting you with targeted opportunities, thereby enhancing your visibility in the marketplace (Stage 2 Report, Document ID: 7182).\n",
      "\n",
      "## 3. Skills You'll Need\n",
      "\n",
      "A successful freelancer cultivates a diverse skill set beyond their primary service offering. Essential skills include self-promotion, communication, and marketing, allowing you to effectively market your services and manage client relationships (Stage 1 Report, Document ID: 4577). Being adaptable and continuously enhancing your capabilities can open doors to new opportunities and improve prospects.\n",
      "\n",
      "Establishing a specialization or niche can also boost confidence, providing a clearer path for marketing and increasing client retention (Stage 3 Report, Document ID: 3408). This focus will help distinguish you from the competition and foster a loyal client base.\n",
      "\n",
      "## 4. Tips for Succeeding as a Freelancer\n",
      "\n",
      "To thrive in the freelance world, maintaining an updated profile that reflects your skills and accomplishments is key (Stage 1 Report, Document ID: 3400). Networking with other freelancers can also offer valuable insights and support, helping you navigate the complexities of freelancing. Engaging in community events or attending workshops can further enhance your marketing strategies and client connection methods (Stage 2 Report, Document ID: 3416).\n",
      "\n",
      "Finally, learning from failures and adopting a resilient mindset can significantly enhance your motivation and keep you focused on your long-term goals (Stage 3 Report, Document ID: 3399).\n",
      "\n",
      "## 5. Managing Time and Workload\n",
      "\n",
      "As a freelancer, you'll need to develop effective time management strategies to balance multiple clients efficiently. Transitioning into full-time freelancing typically requires establishing a core group of reliable clients to ensure consistent income (Stage 2 Report, Document ID: 3253). Flexibility is essential—allocating extra hours during downtime or managing work unpredictably can help maintain a steady workload.\n",
      "\n",
      "Utilizing tools tailored to time management and project tracking can also streamline your freelance operations, enabling you to deliver quality work without feeling overwhelmed (Stage 2 Report, Document ID: 7182).\n",
      "\n",
      "## Conclusion\n",
      "\n",
      "Starting a freelancing career is a rewarding yet challenging endeavor. Whether you choose to ease into it or dive in fully, the right preparation can set you up for success. By selecting suitable platforms, sharpening your skills, building reliable client relationships, and mastering time management, you can create a sustainable and fulfilling freelance career. Embrace the journey, and remember that learning and adaptation are lifelong components of the freelancing landscape.\n"
     ]
    }
   ],
   "source": [
    "print(results.output)"
   ]
  },
  {
   "cell_type": "code",
   "execution_count": 71,
   "id": "4f293378",
   "metadata": {},
   "outputs": [
    {
     "data": {
      "text/plain": [
       "{'start': 36000,\n",
       " 'content': \"has is built differently um\\n33:55 everyone has different aspirations and\\n33:58 uh again um I think first of all if\\n34:00 someone starts out freelancing and they\\n34:02 have had their first initial success\\n34:04 with the first clients and they see it's\\n34:06 working and it's working for them as a\\n34:08 let's say as a source of supporting\\n34:10 their um uh their lifestyle their life\\n34:14 and everything because that's why I\\n34:15 think for me it's I call it a lifestyle\\n34:17 business\\n34:19 um if you get to that stage you have\\n34:21 that confidence that you don't worry oh\\n34:24 will I get the next client and so on so\\n34:25 forth for so that's probably the moment\\n34:27 where you ask yourself should I grow as\\n34:30 a business um and that's something that\\n34:33 I've done myself uh in my second year\\n34:36 because I thought the first year went so\\n34:37 well uh now the next natural step is to\\n34:39 become let's say an agency where I'm\\n34:42 pretty good on sales I get more clients\\n34:44 and now I outsource to other freelancers\\n34:46 who do the job for me and some people\\n34:50 are pretty good at that and they enjoy\\n34:51 that um for me it was a lesson that I\\n34:55 learned that I'm not that type of\\n34:56 person. I've uh basically um had two\\n35:00 very let's say I would say larger\\n35:03 projects with two clients uh where on\\n35:05 the one side I uh the first project I uh\\n35:08 hired or subcontracted four freelancers\\n35:10 and the second project I had uh nine\\n35:12 freelancers. So that's already a big\\n35:15 number or bigger team to um to manage.\\n35:19 And for me those two experiences were\\n35:22 crazy pain points uh to manage people,\\n35:25 follow up, check if everything was fine\\n35:27 and deliver something to to the client\\n35:30 and kind of help them to keep things\\n35:33 alive, you know, the maintenance part of\\n35:35 it. And yeah, so I figured out for\\n35:37 myself that uh I'm not the the agents\\n35:40 type of person. Um and therefore I\\n35:43 personally discarded this that idea or\\n35:45 that path for me. But uh some people are\\n35:49 good at it and make it work and it I\\n35:51 mean there are data agencies out there.\\n35:53 Um so it's it's possible just uh not for\\n35:57 me. Um and then what other path are are\\n36:00 there? Again\\n36:02 um for me uh I came to the realization\\n36:05 that I want to be basically the the one\\n36:08 person uh um a one person team. Uh I\\n36:12 don't mind sometimes collaborating uh if\\n36:14 there's a um if there if there's a right\\n36:18 opportunity, but\\n36:19 usually I I I work with clients as a\\n36:22 freelancer to be honest. You don't need\\n36:24 100 clients. You don't need to have to\\n36:26 chase clients. Once you get your fair\\n36:28 share, a handful of good clients, um\\n36:31 basically they can support you for a\\n36:33 long time, for a good time. Um again,\\n36:36 getting new clients is is a hassle. It's\\n36:39 a challenge. Doesn't matter if you just\\n36:40 started out or if you're there after 10\\n36:42 years or probably 20 years. New clients\\n36:44 is al\",\n",
       " 'video_id': 'S93V8RgwBig'}"
      ]
     },
     "execution_count": 71,
     "metadata": {},
     "output_type": "execute_result"
    }
   ],
   "source": [
    "tools.get_document_by_id(3408)"
   ]
  },
  {
   "cell_type": "code",
   "execution_count": null,
   "id": "7cce448b",
   "metadata": {},
   "outputs": [],
   "source": [
    "# version 2 improvment"
   ]
  },
  {
   "cell_type": "code",
   "execution_count": 84,
   "id": "92b3a943",
   "metadata": {},
   "outputs": [],
   "source": [
    "synthesizer_instructions = \"\"\"\n",
    "You are the SYNTHESIZER agent.\n",
    "\n",
    "ROLE\n",
    "You create a cohesive, factual article by synthesizing verified information from all\n",
    "three research stages (StageReports 1–3).\n",
    "\n",
    "DATA SOURCES\n",
    "- You will receive one or more `ResearchStageReport` objects, each containing\n",
    "  verifiable references with document_ids, timestamps, and quotes.\n",
    "- You have access to the tool `get_document_by_id` to retrieve full source text\n",
    "  for any reference.\n",
    "- You must use this tool to verify every claim that appears in your article.\n",
    "\n",
    "TASKS\n",
    "1. Carefully read all StageReports and extract recurring insights and verified facts.\n",
    "2. Use `get_document_by_id` to check each cited reference and confirm that\n",
    "   the quote or insight is correctly represented.\n",
    "3. Only include claims that are explicitly supported by at least one verified source.\n",
    "4. Synthesize related findings into 5–6 cohesive sections with a logical flow.\n",
    "5. Ensure that the article aligns with the original user intent (as passed from the clarifier).\n",
    "\n",
    "ARTICLE STRUCTURE\n",
    "- Introduction: Summarize what the article will explore and why it matters.\n",
    "- 5-6 body sections, each:\n",
    "  - Centered on one major theme or subtopic.\n",
    "  - Contains 3–4 related claims (each 3–4 sentences long).\n",
    "  - Each claim includes an in-text reference\n",
    "- Conclusion: Summarize the most important insights and actionable takeaways.\n",
    "\n",
    "VERIFICATION RULES\n",
    "- For every claim, retrieve at least one cited source using `get_document_by_id`\n",
    "  and confirm that the text supports the claim.\n",
    "- If a reference cannot be verified or is inconsistent, omit it.\n",
    "- Do not invent or infer facts beyond what’s supported by verified material.\n",
    "\n",
    "STYLE\n",
    "- Maintain factual, neutral, and coherent tone.\n",
    "- Avoid speculation, exaggeration, or unsupported synthesis.\n",
    "- Write in clear prose suitable for an informed but general audience.\n",
    "\n",
    "OUTPUT\n",
    "- A single, well-structured factual article ready for presentation.\n",
    "- All references cited\n",
    "\"\"\".strip()\n",
    "\n",
    "synthesizer = Agent(\n",
    "    name='synthesizer_v2',\n",
    "    instructions=synthesizer_instructions,\n",
    "    tools=[tools.get_document_by_id],\n",
    "    model='gpt-4o-mini',\n",
    ")   \n"
   ]
  },
  {
   "cell_type": "code",
   "execution_count": 85,
   "id": "50887a28",
   "metadata": {},
   "outputs": [
    {
     "name": "stdout",
     "output_type": "stream",
     "text": [
      "TOOL CALL (synthesizer_v2): get_document_by_id({\"_id\": 3253})\n",
      "TOOL CALL (synthesizer_v2): get_document_by_id({\"_id\": 7182})\n",
      "TOOL CALL (synthesizer_v2): get_document_by_id({\"_id\": 4577})\n",
      "TOOL CALL (synthesizer_v2): get_document_by_id({\"_id\": 3400})\n",
      "TOOL CALL (synthesizer_v2): get_document_by_id({\"_id\": 3416})\n",
      "TOOL CALL (synthesizer_v2): get_document_by_id({\"_id\": 3407})\n",
      "TOOL CALL (synthesizer_v2): get_document_by_id({\"_id\": 3252})\n",
      "TOOL CALL (synthesizer_v2): get_document_by_id({\"_id\": 3408})\n",
      "TOOL CALL (synthesizer_v2): get_document_by_id({\"_id\": 3399})\n",
      "TOOL CALL (synthesizer_v2): get_document_by_id({\"_id\": 3254})\n"
     ]
    }
   ],
   "source": [
    "all_reports = [stage_1, stage_2, stage_3]\n",
    "reports = '\\n'.join([r.model_dump_json() for r in all_reports])\n",
    "\n",
    "user_prompt = f\"\"\"\n",
    "initial request:\n",
    "{research_task.model_dump_json()}\n",
    "\n",
    "reports:\n",
    "{reports}\n",
    "\"\"\"\n",
    "\n",
    "callback = NamedCallback(synthesizer)\n",
    "\n",
    "results = await synthesizer.run(\n",
    "    user_prompt=user_prompt,\n",
    "    event_stream_handler=callback.print_function_calls\n",
    ")"
   ]
  },
  {
   "cell_type": "code",
   "execution_count": 73,
   "id": "45a134de",
   "metadata": {},
   "outputs": [
    {
     "name": "stdout",
     "output_type": "stream",
     "text": [
      "# Starting Your Freelancing Career: A Comprehensive Guide\n",
      "\n",
      "Freelancing offers a unique opportunity for individuals looking to enhance their lifestyle, gain more autonomy over their work, and potentially earn a substantial income. However, embarking on a freelancing career requires careful planning and the development of a diverse skill set. This article delves into the essential steps to start freelancing, the best platforms for finding work, vital skills, and tips for thriving in this ever-evolving environment.\n",
      "\n",
      "## Steps to Start Freelancing\n",
      "\n",
      "Transitioning into freelancing can be approached in various ways. One common method is the gradual shift from a traditional job to freelancing, often initiated as \"weekend freelancing,\" where individuals take on small projects outside of their regular job hours to test the waters (Stage 1, Report 1). Others may jump into freelancing full-time, which can be a riskier but rewarding endeavor if they have secured a client base or have sufficient savings to support themselves during the initial phase.\n",
      "\n",
      "Identifying a niche or specialty is crucial when starting. This involves evaluating market demands and aligning one's skills with what clients are seeking (Stage 2, Report 2). By narrowing your focus, you enhance your potential for success and can market your services more effectively to the right audience.\n",
      "\n",
      "## Best Platforms for Freelancers\n",
      "\n",
      "Several platforms have established themselves as reliable places for freelancers to find work. Notable among these are Upwork and Fiverr, where users can create profiles, showcase their skills, and apply for projects directly (Stage 1, Report 1). These platforms facilitate connections between freelancers and clients, allowing freelancers to establish a competitive pricing strategy based on current market trends.\n",
      "\n",
      "Additionally, cultivating a professional online presence, including a comprehensive personal website and an active LinkedIn profile, can offer further avenues for prospecting clients beyond these platforms (Stage 3, Report 3). Participating in community events and networking can enhance visibility and lead to valuable opportunities.\n",
      "\n",
      "## Common Skills Needed for Freelancing\n",
      "\n",
      "Freelancers need a diverse skill set that extends beyond their technical abilities. Key skills include self-promotion, effective communication, and time management (Stage 1, Report 1). Being adept at marketing yourself online and understanding how to negotiate can significantly influence your success.\n",
      "\n",
      "Moreover, freelancers should continuously seek to improve and broaden their skill sets. This might involve learning new tools or methodologies relevant to their respective industries or using existing platforms for training and certification (Stage 1, Report 1). These continuous learning efforts can set you apart in a competitive marketplace.\n",
      "\n",
      "## Tips for Succeeding in Freelance Work\n",
      "\n",
      "To thrive as a freelancer, staying proactive is essential. Regularly updating your portfolio and profiles on job platforms can attract more clients and showcase your evolving skill set (Stage 1, Report 1). Engaging actively with the freelancing community, mentoring others, or seeking mentorship can also foster growth and understanding of industry trends (Stage 1, Report 3).\n",
      "\n",
      "Developing strong client relationships is another secret to success. Clear communication about project timelines, expectations, and payment structures can ensure that both parties are satisfied and more likely to foster long-term collaboration (Stage 3, Report 2).\n",
      "\n",
      "## Managing Time and Workload\n",
      "\n",
      "Time management can pose a significant challenge for freelancers, especially when they take on multiple clients or projects. It is vital to establish a realistic schedule that allows for flexibility while ensuring all clients receive the attention they require. Effective workload management might include using project management tools or setting clear boundaries on work hours to avoid burnout (Stage 2, Report 1).\n",
      "\n",
      "Additionally, many freelancers find value in niche specialization. It not only helps in building confidence but also allows for more focused marketing efforts, reducing anxiety related to client acquisition (Stage 3, Report 3).\n",
      "\n",
      "# Conclusion\n",
      "\n",
      "Freelancing can be an incredibly rewarding career path, offering autonomy and varied work opportunities. However, success hinges on effective strategies for starting, skill development, and proactive engagement with both clients and the freelance community. Aspiring freelancers should evaluate their skills, explore platforms, and continuously adapt to market needs while building a solid foundation for a sustainable career. By following these principles, anyone can set the stage for a successful freelancing journey.\n"
     ]
    }
   ],
   "source": [
    "print(results.output)"
   ]
  },
  {
   "cell_type": "code",
   "execution_count": null,
   "id": "fc8064c2",
   "metadata": {},
   "outputs": [],
   "source": [
    "# learning\n",
    "\n",
    "# Required for the agent\n",
    "# 1. Function -> tool\n",
    "# 2. Instruction \n",
    "# 3. Output Schema\n",
    "\n",
    "\n",
    "# Agent with instruction, name, tool, output_type"
   ]
  },
  {
   "cell_type": "markdown",
   "id": "468387a1",
   "metadata": {},
   "source": [
    "### Note\n",
    "\n",
    "##### Required for the agent\n",
    "    - Step of building the agent\n",
    "\n",
    "    1. tool -> functino -> class object\n",
    "    2. Instruction -> System instruction Role, data source, tasks, structure, verifications, style, output\n",
    "    3. Output Schema -> Like a data schema\n",
    "    \n",
    "    Build Agent with the instruction, name, tool, output_type\n",
    "    Run the user query and monitoring \n",
    "\n",
    "    Final step\n",
    "    1. Keep iterating and improving slowly\n",
    "    - Note: Questino is how can we have a better way to monitor and improve"
   ]
  }
 ],
 "metadata": {
  "kernelspec": {
   "display_name": "ai-bootcamp-codespace",
   "language": "python",
   "name": "python3"
  },
  "language_info": {
   "codemirror_mode": {
    "name": "ipython",
    "version": 3
   },
   "file_extension": ".py",
   "mimetype": "text/x-python",
   "name": "python",
   "nbconvert_exporter": "python",
   "pygments_lexer": "ipython3",
   "version": "3.12.11"
  }
 },
 "nbformat": 4,
 "nbformat_minor": 5
}
