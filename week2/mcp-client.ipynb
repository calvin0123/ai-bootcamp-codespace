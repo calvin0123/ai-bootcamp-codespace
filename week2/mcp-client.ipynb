{
 "cells": [
  {
   "cell_type": "code",
   "execution_count": 1,
   "id": "ed9dcd57-3228-4242-b131-45027f7401e0",
   "metadata": {},
   "outputs": [],
   "source": [
    "from toyaikit.mcp import MCPClient, SubprocessMCPTransport"
   ]
  },
  {
   "cell_type": "code",
   "execution_count": 2,
   "id": "57260814-ed4c-4e08-8250-10ddfe94522f",
   "metadata": {},
   "outputs": [],
   "source": [
    "command = \"uv run python main.py\".split()\n",
    "workdir = \"mcp_faq\"\n",
    "\n",
    "client = MCPClient(\n",
    "    transport=SubprocessMCPTransport(\n",
    "        server_command=command,\n",
    "        workdir=workdir\n",
    "    )\n",
    ")"
   ]
  },
  {
   "cell_type": "code",
   "execution_count": 3,
   "id": "1b78fb73-aa18-4a60-81a5-73f6653581f2",
   "metadata": {},
   "outputs": [
    {
     "name": "stdout",
     "output_type": "stream",
     "text": [
      "Started server with command: uv run python main.py\n"
     ]
    }
   ],
   "source": [
    "client.start_server()"
   ]
  },
  {
   "cell_type": "code",
   "execution_count": 4,
   "id": "6de5cc01-b95c-4e7a-ba50-dc3bc64a5a1d",
   "metadata": {},
   "outputs": [
    {
     "name": "stdout",
     "output_type": "stream",
     "text": [
      "Sending initialize request...\n",
      "Initialize response: {'protocolVersion': '2024-11-05', 'capabilities': {'experimental': {}, 'prompts': {'listChanged': False}, 'resources': {'subscribe': False, 'listChanged': False}, 'tools': {'listChanged': True}}, 'serverInfo': {'name': 'Demo 🚀', 'version': '1.16.0'}}\n"
     ]
    },
    {
     "data": {
      "text/plain": [
       "{'protocolVersion': '2024-11-05',\n",
       " 'capabilities': {'experimental': {},\n",
       "  'prompts': {'listChanged': False},\n",
       "  'resources': {'subscribe': False, 'listChanged': False},\n",
       "  'tools': {'listChanged': True}},\n",
       " 'serverInfo': {'name': 'Demo 🚀', 'version': '1.16.0'}}"
      ]
     },
     "execution_count": 4,
     "metadata": {},
     "output_type": "execute_result"
    }
   ],
   "source": [
    "client.initialize()"
   ]
  },
  {
   "cell_type": "code",
   "execution_count": 5,
   "id": "e27516f4-f9a0-4c46-b8aa-6103526c19aa",
   "metadata": {},
   "outputs": [
    {
     "name": "stdout",
     "output_type": "stream",
     "text": [
      "Sending initialized notification...\n",
      "Handshake completed successfully\n"
     ]
    }
   ],
   "source": [
    "client.initialized()"
   ]
  },
  {
   "cell_type": "code",
   "execution_count": 6,
   "id": "5f74ef3b-54b1-4449-8b59-e4c2cc05986c",
   "metadata": {},
   "outputs": [
    {
     "name": "stdout",
     "output_type": "stream",
     "text": [
      "Retrieving available tools...\n",
      "Available tools: ['add_entry', 'search']\n"
     ]
    },
    {
     "data": {
      "text/plain": [
       "[{'name': 'add_entry',\n",
       "  'description': 'Add a new entry to the FAQ database.\\n\\nArgs:\\n    question (str): The question to be added to the FAQ database.\\n    answer (str): The corresponding answer to the question.',\n",
       "  'inputSchema': {'properties': {'question': {'type': 'string'},\n",
       "    'answer': {'type': 'string'}},\n",
       "   'required': ['question', 'answer'],\n",
       "   'type': 'object'},\n",
       "  '_meta': {'_fastmcp': {'tags': []}}},\n",
       " {'name': 'search',\n",
       "  'description': 'Search the FAQ database for entries matching the given query.\\n\\nArgs:\\n    query (str): Search query text to look up in the course FAQ.\\n\\nReturns:\\n    List[Dict[str, Any]]: A list of search result entries, each containing relevant metadata.',\n",
       "  'inputSchema': {'properties': {'query': {'type': 'string'}},\n",
       "   'required': ['query'],\n",
       "   'type': 'object'},\n",
       "  'outputSchema': {'properties': {'result': {'items': {'additionalProperties': True,\n",
       "      'type': 'object'},\n",
       "     'type': 'array'}},\n",
       "   'required': ['result'],\n",
       "   'type': 'object',\n",
       "   'x-fastmcp-wrap-result': True},\n",
       "  '_meta': {'_fastmcp': {'tags': []}}}]"
      ]
     },
     "execution_count": 6,
     "metadata": {},
     "output_type": "execute_result"
    }
   ],
   "source": [
    "client.get_tools()"
   ]
  },
  {
   "cell_type": "code",
   "execution_count": 7,
   "id": "abadd8a8-ae97-4fa1-a9bb-eff67937f5d7",
   "metadata": {},
   "outputs": [
    {
     "name": "stdout",
     "output_type": "stream",
     "text": [
      "Calling tool 'search' with arguments: {'query': 'how do I run docker?'}\n"
     ]
    }
   ],
   "source": [
    "\n",
    "result = client.call_tool('search', {'query': 'how do I run docker?'})"
   ]
  },
  {
   "cell_type": "code",
   "execution_count": 8,
   "id": "720e9c97-96fd-47a0-b008-058156dbfea7",
   "metadata": {},
   "outputs": [],
   "source": [
    "from toyaikit.mcp import MCPTools"
   ]
  },
  {
   "cell_type": "code",
   "execution_count": 10,
   "id": "3710aa17-8fff-4797-b6ea-f895fd09b5b9",
   "metadata": {},
   "outputs": [
    {
     "data": {
      "text/plain": [
       "True"
      ]
     },
     "execution_count": 10,
     "metadata": {},
     "output_type": "execute_result"
    }
   ],
   "source": [
    "import agents\n",
    "from dotenv import load_dotenv\n",
    "# from openai import OpenAI\n",
    "# openai_client = OpenAI()\n",
    "load_dotenv()\n",
    "\n"
   ]
  },
  {
   "cell_type": "code",
   "execution_count": 20,
   "id": "5fb5f6bf-859d-4d39-b2a4-342151dfbe07",
   "metadata": {},
   "outputs": [],
   "source": [
    "from toyaikit.llm import OpenAIClient\n",
    "from toyaikit.mcp import MCPTools\n",
    "from toyaikit.chat import IPythonChatInterface\n",
    "from toyaikit.chat.runners import OpenAIResponsesRunner"
   ]
  },
  {
   "cell_type": "code",
   "execution_count": 21,
   "id": "0b4db1d4-843f-401e-aefb-43dad3f4350a",
   "metadata": {},
   "outputs": [],
   "source": [
    "mcp_tools = MCPTools(client)"
   ]
  },
  {
   "cell_type": "code",
   "execution_count": 22,
   "id": "f710926d-9db2-4826-bad7-46847c76ef5d",
   "metadata": {},
   "outputs": [],
   "source": [
    "chat_interface = IPythonChatInterface()\n",
    "\n",
    "runner = OpenAIResponsesRunner(\n",
    "    tools=mcp_tools,\n",
    "    # developer_prompt=developer_prompt,\n",
    "    chat_interface=chat_interface,\n",
    "    llm_client=OpenAIClient(model='gpt-4o-mini')\n",
    ")"
   ]
  },
  {
   "cell_type": "code",
   "execution_count": 23,
   "id": "448ba101-a868-48c2-93a1-8db688a79c41",
   "metadata": {},
   "outputs": [
    {
     "name": "stdin",
     "output_type": "stream",
     "text": [
      "You: how do i install Kafak?\n"
     ]
    },
    {
     "name": "stdout",
     "output_type": "stream",
     "text": [
      "Retrieving available tools...\n",
      "Available tools: ['add_entry', 'search']\n",
      "Calling tool 'search' with arguments: {'query': 'install Kafka'}\n"
     ]
    },
    {
     "data": {
      "text/html": [
       "\n",
       "            <details>\n",
       "            <summary>Function call: <tt>search({\"query\":\"install Kafka\"})</tt></summary>\n",
       "            <div>\n",
       "                <b>Call</b>\n",
       "                <pre>{\"query\":\"install Kafka\"}</pre>\n",
       "            </div>\n",
       "            <div>\n",
       "                <b>Output</b>\n",
       "                <pre>{'type': 'function_call_output', 'call_id': 'call_9UrAmoh1QWyjMPOtcRCrAFjd', 'output': '[{\"text\":\"confluent-kafka: `pip install confluent-kafka` or `conda install conda-forge::python-confluent-kafka`\\\\nfastavro: pip install fastavro\\\\nAbhirup Ghosh\\\\nCan install Faust Library for Module 6 Python Version due to dependency conflicts?\\\\nThe Faust repository and library is no longer maintained - https://github.com/robinhood/faust\\\\nIf you do not know Java, you now have the option to follow the Python Videos 6.13 & 6.14 here https://www.youtube.com/watch?v=BgAlVknDFlQ&list=PL3MmuxUbc_hJed7dXYoJw8DoCuVHhGEQb&index=80  and follow the RedPanda Python version here https://github.com/DataTalksClub/data-engineering-zoomcamp/tree/main/06-streaming/python/redpanda_example - NOTE: I highly recommend watching the Java videos to understand the concept of streaming but you can skip the coding parts - all will become clear when you get to the Python videos and RedPanda files.\",\"section\":\"Module 6: streaming with kafka\",\"question\":\"Python Kafka: Installing dependencies for python3 06-streaming/python/avro_example/producer.py\",\"course\":\"data-engineering-zoomcamp\"},{\"text\":\"tip:As the videos have low audio so I downloaded them and used VLC media player with putting the audio to the max 200% of original audio and the audio became quite good or try to use auto caption generated on Youtube directly.\\\\nKafka Python Videos - Rides.csv\\\\nThere is no clear explanation of the rides.csv data that the producer.py python programs use. You can find that here https://raw.githubusercontent.com/DataTalksClub/data-engineering-zoomcamp/2bd33e89906181e424f7b12a299b70b19b7cfcd5/week_6_stream_processing/python/resources/rides.csv.\",\"section\":\"Module 6: streaming with kafka\",\"question\":\"Kafka- python videos have low audio and hard to follow up\",\"course\":\"data-engineering-zoomcamp\"},{\"text\":\"If you have this error, it most likely that your kafka broker docker container is not working.\\\\nUse docker ps to confirm\\\\nThen in the docker compose yaml file folder, run docker compose up -d to start all the instances.\",\"section\":\"Module 6: streaming with kafka\",\"question\":\"kafka.errors.NoBrokersAvailable: NoBrokersAvailable\",\"course\":\"data-engineering-zoomcamp\"},{\"text\":\"For example, when running JsonConsumer.java, got:\\\\nConsuming form kafka started\\\\nRESULTS:::0\\\\nRESULTS:::0\\\\nRESULTS:::0\\\\nOr when running JsonProducer.java, got:\\\\nException in thread \\\\\"main\\\\\" java.util.concurrent.ExecutionException: org.apache.kafka.common.errors.SaslAuthenticationException: Authentication failed\\\\nSolution:\\\\nMake sure in the scripts in src/main/java/org/example/ that you are running (e.g. JsonConsumer.java, JsonProducer.java), the StreamsConfig.BOOTSTRAP_SERVERS_CONFIG is the correct server url (e.g. europe-west3 from example vs europe-west2)\\\\nMake sure cluster key and secrets are updated in src/main/java/org/example/Secrets.java (KAFKA_CLUSTER_KEY and KAFKA_CLUSTER_SECRET)\",\"section\":\"Module 6: streaming with kafka\",\"question\":\"Java Kafka: When running the producer/consumer/etc java scripts, no results retrieved or no message sent\",\"course\":\"data-engineering-zoomcamp\"},{\"text\":\"In my set up, all of the dependencies listed in gradle.build were not installed in <project_name>-1.0-SNAPSHOT.jar.\\\\nSolution:\\\\nIn build.gradle file, I added the following at the end:\\\\nshadowJar {\\\\narchiveBaseName = \\\\\"java-kafka-rides\\\\\"\\\\narchiveClassifier = \\'\\'\\\\n}\\\\nAnd then in the command line ran ‘gradle shadowjar’, and run the script from java-kafka-rides-1.0-SNAPSHOT.jar created by the shadowjar\",\"section\":\"Module 6: streaming with kafka\",\"question\":\"Java Kafka: <project_name>-1.0-SNAPSHOT.jar errors: package xxx does not exist even after gradle build\",\"course\":\"data-engineering-zoomcamp\"}]'}</pre>\n",
       "            </div>\n",
       "            \n",
       "            </details>\n",
       "        "
      ],
      "text/plain": [
       "<IPython.core.display.HTML object>"
      ]
     },
     "metadata": {},
     "output_type": "display_data"
    },
    {
     "data": {
      "text/html": [
       "\n",
       "            <div>\n",
       "                <div><b>Assistant:</b></div>\n",
       "                <div><p>To install Kafka, follow these steps:</p>\n",
       "<ol>\n",
       "<li><p><strong>Download Kafka</strong>:</p>\n",
       "<ul>\n",
       "<li>Visit the <a href=\"https://kafka.apache.org/downloads\">Apache Kafka downloads page</a>.</li>\n",
       "<li>Choose the latest version and download the binary files.</li>\n",
       "</ul>\n",
       "</li>\n",
       "<li><p><strong>Extract the Files</strong>:</p>\n",
       "<ul>\n",
       "<li>Once downloaded, extract the files using a command like:<pre><code class=\"language-bash\">tar -xzf kafka_2.12-2.8.0.tgz\n",
       "</code></pre>\n",
       "</li>\n",
       "<li>Navigate into the extracted directory:<pre><code class=\"language-bash\">cd kafka_2.12-2.8.0\n",
       "</code></pre>\n",
       "</li>\n",
       "</ul>\n",
       "</li>\n",
       "<li><p><strong>Start the Zookeeper Server</strong>:</p>\n",
       "<ul>\n",
       "<li>Kafka requires Zookeeper to manage its cluster. Start it using:<pre><code class=\"language-bash\">bin/zookeeper-server-start.sh config/zookeeper.properties\n",
       "</code></pre>\n",
       "</li>\n",
       "</ul>\n",
       "</li>\n",
       "<li><p><strong>Start the Kafka Server</strong>:</p>\n",
       "<ul>\n",
       "<li>After Zookeeper is up, start Kafka:<pre><code class=\"language-bash\">bin/kafka-server-start.sh config/server.properties\n",
       "</code></pre>\n",
       "</li>\n",
       "</ul>\n",
       "</li>\n",
       "<li><p><strong>Create a Topic (Optional)</strong>:</p>\n",
       "<ul>\n",
       "<li>You can create a Kafka topic for testing:<pre><code class=\"language-bash\">bin/kafka-topics.sh --create --topic test --bootstrap-server localhost:9092 --partitions 1 --replication-factor 1\n",
       "</code></pre>\n",
       "</li>\n",
       "</ul>\n",
       "</li>\n",
       "<li><p><strong>Send and Receive Messages</strong>:</p>\n",
       "<ul>\n",
       "<li>To send messages, use:<pre><code class=\"language-bash\">bin/kafka-console-producer.sh --topic test --bootstrap-server localhost:9092\n",
       "</code></pre>\n",
       "</li>\n",
       "<li>To receive messages, use:<pre><code class=\"language-bash\">bin/kafka-console-consumer.sh --topic test --from-beginning --bootstrap-server localhost:9092\n",
       "</code></pre>\n",
       "</li>\n",
       "</ul>\n",
       "</li>\n",
       "</ol>\n",
       "<p>Make sure you have Java installed, as Kafka runs on the JVM. You can check this by running <code>java -version</code>. If you need to install it, you can download it from <a href=\"https://www.oracle.com/java/technologies/javase-jdk11-downloads.html\">Oracle's website</a> or use a package manager appropriate for your operating system.</p>\n",
       "</div>\n",
       "            </div>\n",
       "        "
      ],
      "text/plain": [
       "<IPython.core.display.HTML object>"
      ]
     },
     "metadata": {},
     "output_type": "display_data"
    },
    {
     "name": "stdin",
     "output_type": "stream",
     "text": [
      "You: stop\n"
     ]
    },
    {
     "name": "stdout",
     "output_type": "stream",
     "text": [
      "Chat ended.\n"
     ]
    }
   ],
   "source": [
    "runner.run();"
   ]
  },
  {
   "cell_type": "code",
   "execution_count": null,
   "id": "cf1877bf-914a-4425-9ba3-c74078b90ba3",
   "metadata": {},
   "outputs": [],
   "source": []
  },
  {
   "cell_type": "code",
   "execution_count": null,
   "id": "b9688eac-b6f9-4c49-8890-fb9a527baf28",
   "metadata": {},
   "outputs": [],
   "source": []
  },
  {
   "cell_type": "code",
   "execution_count": null,
   "id": "14ba31a3-eed6-4f5a-9349-74bd601754a8",
   "metadata": {},
   "outputs": [],
   "source": []
  }
 ],
 "metadata": {
  "kernelspec": {
   "display_name": "Python 3 (ipykernel)",
   "language": "python",
   "name": "python3"
  },
  "language_info": {
   "codemirror_mode": {
    "name": "ipython",
    "version": 3
   },
   "file_extension": ".py",
   "mimetype": "text/x-python",
   "name": "python",
   "nbconvert_exporter": "python",
   "pygments_lexer": "ipython3",
   "version": "3.12.11"
  }
 },
 "nbformat": 4,
 "nbformat_minor": 5
}
