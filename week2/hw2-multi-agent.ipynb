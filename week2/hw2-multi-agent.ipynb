{
 "cells": [
  {
   "cell_type": "code",
   "execution_count": 3,
   "id": "a49265d7",
   "metadata": {},
   "outputs": [
    {
     "data": {
      "text/plain": [
       "True"
      ]
     },
     "execution_count": 3,
     "metadata": {},
     "output_type": "execute_result"
    }
   ],
   "source": [
    "from dotenv import load_dotenv\n",
    "load_dotenv()\n"
   ]
  },
  {
   "cell_type": "code",
   "execution_count": 4,
   "id": "91385224",
   "metadata": {},
   "outputs": [],
   "source": [
    "\n",
    "# Prepare for the data\n",
    "# Jina website - Fetch Web Page – \n",
    "# The agent should be able to fetch the content of a web page given its URL.\n",
    "\n",
    "\n",
    "# Agent\n",
    "# Save Summary – The agent should be able to save a summary of the page it processed.\n",
    "# Search – The agent should be able to perform a search for relevant or related information.\n",
    "\n",
    "# Orchestration agent to orchestrate which agent to use"
   ]
  },
  {
   "cell_type": "markdown",
   "id": "02a4d26e",
   "metadata": {},
   "source": []
  },
  {
   "cell_type": "code",
   "execution_count": 5,
   "id": "5af5ce21",
   "metadata": {},
   "outputs": [],
   "source": [
    "# Which framework you chose (if any)\n",
    "# Which LLM provider you used\n",
    "\n",
    "# If you have time, \n",
    "# # I suggest trying to implement some of the things yourself before using a framework. \n",
    "# You can refer to lectures and ToyAIKit code for details."
   ]
  },
  {
   "cell_type": "code",
   "execution_count": 6,
   "id": "c514a274",
   "metadata": {},
   "outputs": [],
   "source": [
    "# Prep data agent\n",
    "import requests\n",
    "from requests.exceptions import RequestException\n",
    "from typing import Optional\n",
    "\n",
    "\n",
    "# Make the function with docstring, and type -> Easily parsed by the agent \n",
    "def fetch_url(url: str) -> Optional[str]:\n",
    "    \"\"\"\n",
    "    Fetch the textual content of a webpage.\n",
    "\n",
    "    Args:\n",
    "        url (str): The target URL to fetch content from.\n",
    "\n",
    "    Returns:\n",
    "        Optional[str]: The decoded HTML/text content of the fetched page if successful,\n",
    "        or None if an error occurred.\n",
    "\n",
    "    Raises:\n",
    "        ValueError: If the provided URL is empty or invalid.\n",
    "    \"\"\"\n",
    "    if not url or not isinstance(url, str):\n",
    "        raise ValueError(\"The 'url' parameter must be a non-empty string.\")\n",
    "\n",
    "    jina_reader_base_url = \"https://r.jina.ai/\"\n",
    "    jina_reader_url = jina_reader_base_url + url.lstrip(\"/\")\n",
    "\n",
    "    try:\n",
    "        response = requests.get(jina_reader_url, timeout=10)\n",
    "        response.raise_for_status()  # Raises HTTPError for bad status codes\n",
    "        return response.content.decode(\"utf-8\")\n",
    "    except RequestException as e:\n",
    "        # Catch all network-related errors (e.g., ConnectionError, Timeout, HTTPError)\n",
    "        print(f\"Error fetching URL '{jina_reader_url}': {e}\")\n",
    "        return None\n",
    "    except UnicodeDecodeError:\n",
    "        print(f\"Error decoding response from '{jina_reader_url}'.\")\n",
    "        return None"
   ]
  },
  {
   "cell_type": "code",
   "execution_count": 7,
   "id": "e3e5ee09",
   "metadata": {},
   "outputs": [],
   "source": [
    "result = fetch_url('https://en.wikipedia.org/wiki/LeBron_James')"
   ]
  },
  {
   "cell_type": "code",
   "execution_count": 8,
   "id": "ce69ab40",
   "metadata": {},
   "outputs": [
    {
     "data": {
      "text/plain": [
       "120479.0"
      ]
     },
     "execution_count": 8,
     "metadata": {},
     "output_type": "execute_result"
    }
   ],
   "source": [
    "len(result) / 2"
   ]
  },
  {
   "cell_type": "code",
   "execution_count": 9,
   "id": "a3060f7e",
   "metadata": {},
   "outputs": [],
   "source": [
    "from pydantic_ai import Agent\n",
    "from pydantic import BaseModel, Field"
   ]
  },
  {
   "cell_type": "code",
   "execution_count": 10,
   "id": "c26ee37e",
   "metadata": {},
   "outputs": [],
   "source": [
    "from pydantic_ai.messages import FunctionToolCallEvent\n",
    "\n",
    "async def print_function_calls(ctx, event):\n",
    "    # Detect nested streams\n",
    "    if hasattr(event, \"__aiter__\"):\n",
    "        async for sub in event:\n",
    "            await print_function_calls(ctx, sub)\n",
    "        return\n",
    "\n",
    "    if isinstance(event, FunctionToolCallEvent):\n",
    "        print(\"TOOL CALL:\", event.part.tool_name, event.part.args)"
   ]
  },
  {
   "cell_type": "code",
   "execution_count": null,
   "id": "a18666dc",
   "metadata": {},
   "outputs": [],
   "source": []
  },
  {
   "cell_type": "code",
   "execution_count": 11,
   "id": "fdea74f2",
   "metadata": {},
   "outputs": [],
   "source": [
    "\n",
    "class WikipediaRetrieveOutput(BaseModel):\n",
    "    \"\"\"\n",
    "    A single, verifiable citation to a transcript snippet or video segment.\n",
    "    Must correspond to a real snippet returned by the `search()` tool.\n",
    "    \"\"\"\n",
    "    title: str = Field(..., description=\"The title of the Wikipedia page, e.g., 'LeBron James'.\")\n",
    "    url: str = Field(..., description=\"Fetch URL.\")\n",
    "    content: str = Field(..., description=\"The full clean text content of the Wikipedia article body, excluding references or unrelated sections.\")\n"
   ]
  },
  {
   "cell_type": "code",
   "execution_count": 12,
   "id": "4a5ef2c4",
   "metadata": {},
   "outputs": [],
   "source": [
    "instructions = \"\"\"\n",
    "You are a fetching agent specialized in retrieving Wikipedia content.\n",
    "\n",
    "**Role:**\n",
    "Your role is to access and extract the main content of a given Wikipedia page accurately.\n",
    "\n",
    "**Objective:**\n",
    "1. Given a Wikipedia URL or topic name, fetch the full textual content of that page.\n",
    "2. Include the title and the main article body only — exclude unrelated sections such as “References,” “See also,” or “External links.”\n",
    "3. Return the content in plain text format suitable for downstream processing by a summarization agent.\n",
    "\n",
    "**Data Source:**\n",
    "Use only the official Wikipedia page corresponding to the given URL or topic. Do not include information from any other websites or your own prior knowledge.\n",
    "\n",
    "\"\"\"\n",
    "\n",
    "web_agent = Agent(\n",
    "    name='web',\n",
    "    instructions=instructions,\n",
    "    tools=[fetch_url],\n",
    "    model='gpt-4o-mini',\n",
    "    output_type=WikipediaRetrieveOutput\n",
    ")"
   ]
  },
  {
   "cell_type": "code",
   "execution_count": 13,
   "id": "6f9beff4",
   "metadata": {},
   "outputs": [
    {
     "name": "stdout",
     "output_type": "stream",
     "text": [
      "TOOL CALL: fetch_url {\"url\":\"https://en.wikipedia.org/wiki/Capybara\"}\n"
     ]
    }
   ],
   "source": [
    "# question = \"What is this page about 'https://en.wikipedia.org/wiki/LeBron_James'\" # exceed the token .... TODO solve this\n",
    "question = 'What is this page about? https://en.wikipedia.org/wiki/Capybara'\n",
    "\n",
    "results = await web_agent.run(\n",
    "    user_prompt=question,\n",
    "    event_stream_handler=print_function_calls\n",
    ")"
   ]
  },
  {
   "cell_type": "code",
   "execution_count": 14,
   "id": "28c2e194",
   "metadata": {},
   "outputs": [
    {
     "name": "stdout",
     "output_type": "stream",
     "text": [
      "AgentRunResult(output=WikipediaRetrieveOutput(title='Capybara', url='https://en.wikipedia.org/wiki/Capybara', content='The capybara or greater capybara (_Hydrochoerus hydrochaeris_) is the largest living rodent, native to South America. It is a member of the genus Hydrochoerus. Its close relatives include guinea pigs and rock cavies, and it is more distantly related to the agouti, the chinchilla, and the nutria. The capybara inhabits savannas and dense forests and lives near bodies of water. It is a highly social species and can be found in groups as large as one hundred individuals, but usually lives in groups of 10–20 individuals. The capybara is hunted for its meat and hide and also for grease from its thick fatty skin.\\n\\nEtymology\\nIts common name is derived from Tupi _ka\\'apiûara_, a complex agglutination of _kaá_ (leaf) + _píi_ (slender) + _ú_ (eat) + _ara_ (a suffix for agent nouns), meaning \"one who eats slender leaves\", or \"grass-eater\". The genus name, _hydrochoerus_, comes from Greek ὕδωρ (_hýdor_ \"water\") and χοῖρος (_choíros_ \"pig, hog\") and the species name, _hydrochaeris_, comes from Greek ὕδωρ (_hýdor_ \"water\") and χαίρω (_chairo_ \"feel happy, enjoy\").\\n\\nClassification and phylogeny\\nThe capybara and the lesser capybara both belong to the subfamily Hydrochoerinae along with the rock cavies. The living capybaras and their extinct relatives were previously classified in their own family Hydrochoeridae. Since 2002, molecular phylogenetic studies have recognized a close relationship between Hydrochoerus and Kerodon, the rock cavies, supporting placement of both genera in a subfamily of Caviidae.\\n\\nPaleontological classifications previously used Hydrochoeridae for all capybaras, while using Hydrochoerinae for the living genus and its closest fossil relatives, such as _Neochoerus_, but more recently have adopted the classification of Hydrochoerinae within Caviidae. The taxonomy of fossil hydrochoerines is also in a state of flux. \\n\\nDescription\\nThe capybara has a heavy, barrel-shaped body and short head, with reddish-brown fur on the upper part of its body that turns yellowish-brown underneath. Its sweat glands can be found in the surface of the hairy portions of its skin, an unusual trait among rodents. The animal lacks down hair, and its guard hair differs little from over hair. \\n\\nAdult capybaras grow to 106 to 134 cm (3.48 to 4.40 ft) in length, stand 50 to 62 cm (20 to 24 in) tall at the withers, and typically weigh 35 to 66 kg (77 to 146 lb), with an average in the Venezuelan llanos of 48.9 kg (108 lb). Females are slightly heavier than males. \\n\\nEcology\\nCapybaras are semiaquatic mammals found throughout all countries of South America except Chile. They live in densely forested areas near bodies of water, such as lakes, rivers, swamps, ponds, and marshes, as well as flooded savannah and along rivers in the tropical rainforest. They are superb swimmers and can hold their breath underwater for up to five minutes at a time. Capybara have flourished in cattle ranches. They roam in home ranges averaging 10 hectares (25 acres) in high-density populations.\\n\\nDiet and predation\\nCapybaras are herbivores, grazing mainly on grasses and aquatic plants, as well as fruit and tree bark. They are very selective feeders and feed on the leaves of one species and disregard other species surrounding it. While they eat grass during the wet season, they have to switch to more abundant reeds during the dry season. The capybara\\'s jaw hinge is not perpendicular, so they chew food by grinding back-and-forth rather than side-to-side. \\n\\nThe maximum lifespan of the capybara is 8 to 10 years, but in the wild capybaras usually do not live longer than four years because of predation from South American big cats such as jaguars and cougars and from non-mammalian predators such as harpy eagles, caimans, green anacondas and piranhas. \\n\\nCapybaras are known to be gregarious. While they sometimes live solitarily, they are more commonly found in groups of around 10–20 individuals, with two to four adult males, four to seven adult females, and the remainder juveniles. \\n\\nReproduction\\nCapybara have a gestation of 130–150 days, producing a litter of four young on average, but may produce between one and eight in a single litter. Birth is on land and the female rejoins the group within a few hours of delivering the newborn capybaras, which join the group as soon as they are mobile.\\n\\nConservation and human interaction\\nCapybaras are not considered a threatened species; their population is stable throughout most of their South American range, though in some areas hunting has reduced their numbers. Capybaras are hunted for their meat and pelts in some areas and otherwise killed by humans who see their grazing as competition for livestock. In some areas, they are farmed, which has the effect of ensuring the wetland habitats are protected. \\n\\nCapybaras have adapted well to urbanization in South America. They can be found in many areas in zoos and parks, and may live for 12 years in captivity, more than double their wild lifespan.'))\n"
     ]
    }
   ],
   "source": [
    "print(results)"
   ]
  },
  {
   "cell_type": "code",
   "execution_count": 15,
   "id": "f97b577b",
   "metadata": {},
   "outputs": [],
   "source": [
    "# def print_messages(messages):\n",
    "#     contents = []\n",
    "    \n",
    "#     for m in messages:\n",
    "#         print(m.kind)\n",
    "\n",
    "#         for p in m.parts:\n",
    "#             print(p.part_kind)\n",
    "#             kind = p.part_kind\n",
    "#             if kind == 'user-prompt' or kind == 'text':\n",
    "#                 print(p.content)\n",
    "#             if kind == 'tool-call': \n",
    "#                 print(p.tool_name, p.args)\n",
    "#             if kind == 'tool-return':\n",
    "#                 print(type(p.content), p.content)\n",
    "#             print()\n",
    "\n",
    "#         print()\n",
    "\n",
    "# messages = orchestrator_results.new_messages()\n",
    "# # message_history.extend(messages)\n",
    "# print_messages(messages)"
   ]
  },
  {
   "cell_type": "code",
   "execution_count": 16,
   "id": "a63ad4aa",
   "metadata": {},
   "outputs": [
    {
     "name": "stdout",
     "output_type": "stream",
     "text": [
      "ModelRequest(parts=[UserPromptPart(content='What is this page about? https://en.wikipedia.org/wiki/Capybara', timestamp=datetime.datetime(2025, 10, 27, 6, 0, 15, 278916, tzinfo=datetime.timezone.utc))], instructions='You are a fetching agent specialized in retrieving Wikipedia content.\\n\\n**Role:**\\nYour role is to access and extract the main content of a given Wikipedia page accurately.\\n\\n**Objective:**\\n1. Given a Wikipedia URL or topic name, fetch the full textual content of that page.\\n2. Include the title and the main article body only — exclude unrelated sections such as “References,” “See also,” or “External links.”\\n3. Return the content in plain text format suitable for downstream processing by a summarization agent.\\n\\n**Data Source:**\\nUse only the official Wikipedia page corresponding to the given URL or topic. Do not include information from any other websites or your own prior knowledge.')\n",
      "UserPromptPart(content='What is this page about? https://en.wikipedia.org/wiki/Capybara', timestamp=datetime.datetime(2025, 10, 27, 6, 0, 15, 278916, tzinfo=datetime.timezone.utc))\n",
      "\n",
      "ModelResponse(parts=[ToolCallPart(tool_name='fetch_url', args='{\"url\":\"https://en.wikipedia.org/wiki/Capybara\"}', tool_call_id='call_IuIo78LCgbtylqT6GzezjaiG')], usage=RequestUsage(input_tokens=334, output_tokens=23, details={'accepted_prediction_tokens': 0, 'audio_tokens': 0, 'reasoning_tokens': 0, 'rejected_prediction_tokens': 0}), model_name='gpt-4o-mini-2024-07-18', timestamp=datetime.datetime(2025, 10, 27, 6, 0, 16, tzinfo=TzInfo(0)), provider_name='openai', provider_details={'finish_reason': 'tool_calls'}, provider_response_id='chatcmpl-CVAZ6yIY972Fn4p5qWbm0GYYQFGJT', finish_reason='tool_call')\n",
      "ToolCallPart(tool_name='fetch_url', args='{\"url\":\"https://en.wikipedia.org/wiki/Capybara\"}', tool_call_id='call_IuIo78LCgbtylqT6GzezjaiG')\n",
      "\n",
      "ModelRequest(parts=[ToolReturnPart(tool_name='fetch_url', content='Title: Capybara\\n\\nURL Source: https://en.wikipedia.org/wiki/Capybara\\n\\nPublished Time: 2001-10-13T20:04:37Z\\n\\nMarkdown Content:\\n[![Image 1: This is a good article. Click here for more information.](https://upload.wikimedia.org/wikipedia/en/thumb/9/94/Symbol_support_vote.svg/20px-Symbol_support_vote.svg.png)](https://en.wikipedia.org/wiki/Wikipedia:Good_articles* \"This is a good article. Click here for more information.\")\\n\\n[![Image 2: Page semi-protected](https://upload.wikimedia.org/wikipedia/en/thumb/1/1b/Semi-protection-shackle.svg/20px-Semi-protection-shackle.svg.png)](https://en.wikipedia.org/wiki/Wikipedia:Protection_policy#semi \"This article is semi-protected until March 17, 2028 at 19:23 UTC.\")\\n\\nFrom Wikipedia, the free encyclopedia\\n\\n| Capybara |\\n| --- |\\n| [![Image 3](https://upload.wikimedia.org/wikipedia/commons/thumb/3/34/Hydrochoeris_hydrochaeris_in_Brazil_in_Petr%C3%B3polis%2C_Rio_de_Janeiro%2C_Brazil_09.jpg/250px-Hydrochoeris_hydrochaeris_in_Brazil_in_Petr%C3%B3polis%2C_Rio_de_Janeiro%2C_Brazil_09.jpg)](https://en.wikipedia.org/wiki/File:Hydrochoeris_hydrochaeris_in_Brazil_in_Petr%C3%B3polis,_Rio_de_Janeiro,_Brazil_09.jpg) |\\n| In [Petrópolis](https://en.wikipedia.org/wiki/Petr%C3%B3polis \"Petrópolis\"), Brazil |\\n| [Conservation status](https://en.wikipedia.org/wiki/Conservation_status \"Conservation status\") |\\n| ![Image 4](https://upload.wikimedia.org/wikipedia/commons/thumb/5/5a/Status_iucn3.1_LC.svg/250px-Status_iucn3.1_LC.svg.png) [Least Concern](https://en.wikipedia.org/wiki/Least_Concern \"Least Concern\")([IUCN 3.1](https://en.wikipedia.org/wiki/IUCN_Red_List \"IUCN Red List\"))[[1]](https://en.wikipedia.org/wiki/Capybara#cite_note-iucn_status_19_November_2021-1) |\\n| [Scientific classification](https://en.wikipedia.org/wiki/Taxonomy_(biology) \"Taxonomy (biology)\")[![Image 5: Edit this classification](https://upload.wikimedia.org/wikipedia/commons/thumb/8/8a/OOjs_UI_icon_edit-ltr.svg/20px-OOjs_UI_icon_edit-ltr.svg.png)](https://en.wikipedia.org/wiki/Template:Taxonomy/Hydrochoerus \"Edit this classification\") |\\n| Kingdom: | [Animalia](https://en.wikipedia.org/wiki/Animal \"Animal\") |\\n| Phylum: | [Chordata](https://en.wikipedia.org/wiki/Chordate \"Chordate\") |\\n| Class: | [Mammalia](https://en.wikipedia.org/wiki/Mammal \"Mammal\") |\\n| Order: | [Rodentia](https://en.wikipedia.org/wiki/Rodent \"Rodent\") |\\n| Family: | [Caviidae](https://en.wikipedia.org/wiki/Caviidae \"Caviidae\") |\\n| Genus: | [_Hydrochoerus_](https://en.wikipedia.org/wiki/Hydrochoerus \"Hydrochoerus\") |\\n| Species: | _**H.hydrochaeris**_ |\\n| [Binomial name](https://en.wikipedia.org/wiki/Binomial_nomenclature \"Binomial nomenclature\") |\\n| **_Hydrochoerus hydrochaeris_** ([Linnaeus](https://en.wikipedia.org/wiki/Carl_Linnaeus \"Carl Linnaeus\"), [1766](https://en.wikipedia.org/wiki/12th_edition_of_Systema_Naturae \"12th edition of Systema Naturae\")) |\\n| [![Image 6](https://upload.wikimedia.org/wikipedia/commons/thumb/e/ee/Capybara_range.svg/250px-Capybara_range.svg.png)](https://en.wikipedia.org/wiki/File:Capybara_range.svg) |\\n| Native range |\\n| [Synonyms](https://en.wikipedia.org/wiki/Synonym_(taxonomy) \"Synonym (taxonomy)\") |\\n| _Sus hydrochaeris_ Linnaeus,1766 |\\n\\nThe **capybara**[[a]](https://en.wikipedia.org/wiki/Capybara#cite_note-2) or **greater capybara** (_**Hydrochoerus hydrochaeris**_) is the largest living rodent,[[2]](https://en.wikipedia.org/wiki/Capybara#cite_note-3) native to [South America](https://en.wikipedia.org/wiki/South_America \"South America\"). It is a member of the genus _[Hydrochoerus](https://en.wikipedia.org/wiki/Hydrochoerus \"Hydrochoerus\")_. Its close relatives include [guinea pigs](https://en.wikipedia.org/wiki/Cavia \"Cavia\") and [rock cavies](https://en.wikipedia.org/wiki/Kerodon \"Kerodon\"), and it is more distantly related to the [agouti](https://en.wikipedia.org/wiki/Agouti \"Agouti\"), the [chinchilla](https://en.wikipedia.org/wiki/Chinchilla \"Chinchilla\"), and the [nutria](https://en.wikipedia.org/wiki/Nutria \"Nutria\"). The capybara inhabits savannas and dense forests, and lives near bodies of water. It is a highly social species and can be found in groups as large as one hundred individuals, but usually live in groups of 10–20 individuals. The capybara is hunted for its meat and hide and also for grease from its thick fatty skin.[[3]](https://en.wikipedia.org/wiki/Capybara#cite_note-4)\\n\\nEtymology\\n---------\\n\\nIts common name is derived from [Tupi](https://en.wikipedia.org/wiki/Tupi_language \"Tupi language\")_ka\\'apiûara_, a complex agglutination of _kaá_ (leaf) + _píi_ (slender) + _ú_ (eat) + _ara_ (a suffix for agent nouns), meaning \"one who eats slender leaves\", or \"grass-eater\".[[4]](https://en.wikipedia.org/wiki/Capybara#cite_note-5) The [genus name](https://en.wikipedia.org/wiki/Genus_name \"Genus name\"), _hydrochoerus_, comes from [Greek](https://en.wikipedia.org/wiki/Ancient_Greek \"Ancient Greek\")ὕδωρ (_\\\\_hýdor\\\\__ \"water\") and χοῖρος (_\\\\_choíros\\\\__ \"pig, hog\") and the species name, _hydrochaeris_, comes from Greek ὕδωρ (_\\\\_hýdor\\\\__ \"water\") and χαίρω (_\\\\_chairo\\\\__ \"feel happy, enjoy\").[[5]](https://en.wikipedia.org/wiki/Capybara#cite_note-msw3-6)[[6]](https://en.wikipedia.org/wiki/Capybara#cite_note-inDarwin-7)\\n\\nClassification and phylogeny\\n----------------------------\\n\\nThe capybara and the [lesser capybara](https://en.wikipedia.org/wiki/Lesser_capybara \"Lesser capybara\") both belong to the subfamily [Hydrochoerinae](https://en.wikipedia.org/wiki/Hydrochoerinae \"Hydrochoerinae\") along with the [rock cavies](https://en.wikipedia.org/wiki/Kerodon \"Kerodon\"). The living capybaras and their extinct relatives were previously classified in their own family Hydrochoeridae.[[7]](https://en.wikipedia.org/wiki/Capybara#cite_note-r4-8) Since 2002, molecular phylogenetic studies have recognized a close relationship between _Hydrochoerus_ and _[Kerodon](https://en.wikipedia.org/wiki/Kerodon \"Kerodon\")_, the rock cavies,[[8]](https://en.wikipedia.org/wiki/Capybara#cite_note-Rowe_2002-9) supporting placement of both genera in a subfamily of [Caviidae](https://en.wikipedia.org/wiki/Caviidae \"Caviidae\").[[5]](https://en.wikipedia.org/wiki/Capybara#cite_note-msw3-6)\\n\\nPaleontological classifications previously used Hydrochoeridae for all capybaras, while using Hydrochoerinae for the living genus and its closest fossil relatives, such as _[Neochoerus](https://en.wikipedia.org/wiki/Neochoerus \"Neochoerus\")_,[[9]](https://en.wikipedia.org/wiki/Capybara#cite_note-Vucetich_2005-10)[[10]](https://en.wikipedia.org/wiki/Capybara#cite_note-Deschamp_2007-11) but more recently have adopted the classification of Hydrochoerinae within Caviidae.[[11]](https://en.wikipedia.org/wiki/Capybara#cite_note-Cerde%C3%B1o_2019-12) The taxonomy of fossil hydrochoerines is also in a state of flux. In recent years, the diversity of fossil hydrochoerines has been substantially reduced.[[9]](https://en.wikipedia.org/wiki/Capybara#cite_note-Vucetich_2005-10)[[10]](https://en.wikipedia.org/wiki/Capybara#cite_note-Deschamp_2007-11) This is largely due to the recognition that capybara molar teeth show strong variation in shape over the life of an individual. In one instance, material once referred to four genera and seven species on the basis of differences in molar shape is now thought to represent differently aged individuals of a single species, _Cardiatherium paranense_.[[9]](https://en.wikipedia.org/wiki/Capybara#cite_note-Vucetich_2005-10) Among fossil species, the name \"capybara\" can refer to the many species of Hydrochoerinae that are more closely related to the modern _Hydrochoerus_ than to the \"cardiomyine\" rodents like _Cardiomys_. The fossil genera _Cardiatherium_, _Phugatherium_, _Hydrochoeropsis_, and _Neochoerus_ are all capybaras under that concept.[[11]](https://en.wikipedia.org/wiki/Capybara#cite_note-Cerde%C3%B1o_2019-12)\\n\\nDescription\\n-----------\\n\\n[![Image 7: Taxidermy specimen of a capybara](https://upload.wikimedia.org/wikipedia/commons/thumb/6/64/Taxidermy_specimen_of_Capybara_%28Hydrochoerus_hydrochaeris%29.jpg/250px-Taxidermy_specimen_of_Capybara_%28Hydrochoerus_hydrochaeris%29.jpg)](https://en.wikipedia.org/wiki/File:Taxidermy_specimen_of_Capybara_(Hydrochoerus_hydrochaeris).jpg)\\n\\n[![Image 8: Skeleton of a capybara](https://upload.wikimedia.org/wikipedia/commons/thumb/5/59/Capybara_skeleton.jpg/250px-Capybara_skeleton.jpg)](https://en.wikipedia.org/wiki/File:Capybara_skeleton.jpg)\\n\\nFrom left to right: Taxidermy specimen and skeleton of a capybara\\n\\nThe capybara has a heavy, barrel-shaped body and short head, with reddish-brown fur on the upper part of its body that turns yellowish-brown underneath. Its sweat glands can be found in the surface of the hairy portions of its skin, an unusual trait among rodents.[[7]](https://en.wikipedia.org/wiki/Capybara#cite_note-r4-8) The animal lacks [down hair](https://en.wikipedia.org/wiki/Fur#Down_hair \"Fur\"), and its [guard hair](https://en.wikipedia.org/wiki/Fur#Guard_hair \"Fur\") differs little from over hair.[[12]](https://en.wikipedia.org/wiki/Capybara#cite_note-13)\\n\\nAdult capybaras grow to 106 to 134 cm (3.48 to 4.40 ft) in length, stand 50 to 62 cm (20 to 24 in) tall at the [withers](https://en.wikipedia.org/wiki/Withers \"Withers\"), and typically weigh 35 to 66 kg (77 to 146 lb), with an average in the Venezuelan [llanos](https://en.wikipedia.org/wiki/Llanos \"Llanos\") of 48.9 kg (108 lb).[[13]](https://en.wikipedia.org/wiki/Capybara#cite_note-Arkive-14)[[14]](https://en.wikipedia.org/wiki/Capybara#cite_note-Smithsonian-15)[[15]](https://en.wikipedia.org/wiki/Capybara#cite_note-Palm_Beach_Zoo-16) Females are slightly heavier than males. The top recorded weights are 91 kg (201 lb) for a wild female from Brazil and 73.5 kg (162 lb) for a wild male from Uruguay.[[7]](https://en.wikipedia.org/wiki/Capybara#cite_note-r4-8)[[16]](https://en.wikipedia.org/wiki/Capybara#cite_note-r3-17) Also, an 81 kg individual was reported in São Paulo in 2001 or 2002.[[17]](https://en.wikipedia.org/wiki/Capybara#cite_note-18) The [dental formula](https://en.wikipedia.org/wiki/Dental_formula \"Dental formula\") is 1.0.1.3 1.0.1.3. Capybaras have slightly [webbed](https://en.wikipedia.org/wiki/Interdigital_webbing \"Interdigital webbing\") feet and [vestigial](https://en.wikipedia.org/wiki/Vestigiality \"Vestigiality\") tails.[[7]](https://en.wikipedia.org/wiki/Capybara#cite_note-r4-8) Their hind legs are slightly longer than their forelegs; they have three toes on their rear feet and four toes on their front feet.[[18]](https://en.wikipedia.org/wiki/Capybara#cite_note-enchantedlearning.com-19) Their muzzles are blunt, with nostrils, and the eyes and ears are near the top of their heads.\\n\\nIts [karyotype](https://en.wikipedia.org/wiki/Karyotype \"Karyotype\") has [2n](https://en.wikipedia.org/wiki/Diploid \"Diploid\") = 66 and [FN](https://en.wikipedia.org/wiki/Fundamental_number \"Fundamental number\") = 102, meaning it has 66 chromosomes with a total of 102 arms.[[5]](https://en.wikipedia.org/wiki/Capybara#cite_note-msw3-6)[[7]](https://en.wikipedia.org/wiki/Capybara#cite_note-r4-8)\\n\\nEcology\\n-------\\n\\n[![Image 9](https://upload.wikimedia.org/wikipedia/commons/thumb/e/e1/Cattle_tyrant_%28Machetornis_rixosa%29_on_Capybara.jpg/250px-Cattle_tyrant_%28Machetornis_rixosa%29_on_Capybara.jpg)](https://en.wikipedia.org/wiki/File:Cattle_tyrant_(Machetornis_rixosa)_on_Capybara.jpg)\\n\\n[Cattle tyrant](https://en.wikipedia.org/wiki/Cattle_tyrant \"Cattle tyrant\") on a capybara\\n\\nCapybaras are [semiaquatic](https://en.wikipedia.org/wiki/Semiaquatic \"Semiaquatic\") mammals[[15]](https://en.wikipedia.org/wiki/Capybara#cite_note-Palm_Beach_Zoo-16) found throughout all countries of South America except [Chile](https://en.wikipedia.org/wiki/Chile \"Chile\").[[19]](https://en.wikipedia.org/wiki/Capybara#cite_note-Bristol-20) They live in densely forested areas near bodies of water, such as lakes, rivers, swamps, ponds, and marshes,[[14]](https://en.wikipedia.org/wiki/Capybara#cite_note-Smithsonian-15) as well as flooded savannah and along rivers in the tropical rainforest. They are superb swimmers and can hold their breath underwater for up to five minutes at a time. Capybara have flourished in cattle ranches. They roam in home ranges averaging 10 hectares (25 acres) in high-density populations.[[7]](https://en.wikipedia.org/wiki/Capybara#cite_note-r4-8)\\n\\nMany escapees from captivity can also be found in similar watery habitats around the world. Sightings are fairly common in [Florida](https://en.wikipedia.org/wiki/Florida \"Florida\"), although a breeding population has not yet been confirmed.[[20]](https://en.wikipedia.org/wiki/Capybara#cite_note-21) In 2011, one specimen was spotted on the [Central Coast of California](https://en.wikipedia.org/wiki/Central_Coast_(California) \"Central Coast (California)\").[[21]](https://en.wikipedia.org/wiki/Capybara#cite_note-22) These escaped populations occur in areas where prehistoric capybaras inhabited; [late Pleistocene](https://en.wikipedia.org/wiki/Late_Pleistocene \"Late Pleistocene\") capybaras inhabited Florida[[22]](https://en.wikipedia.org/wiki/Capybara#cite_note-23) and _[Hydrochoerus hesperotiganites](https://en.wikipedia.org/wiki/Hydrochoerus\\\\_hesperotiganites \"Hydrochoerus hesperotiganites\")_ in [California](https://en.wikipedia.org/wiki/California \"California\") and _[Hydrochoerus gaylordi](https://en.wikipedia.org/wiki/Hydrochoerus\\\\_gaylordi \"Hydrochoerus gaylordi\")_ in [Grenada](https://en.wikipedia.org/wiki/Grenada \"Grenada\"), and feral capybaras in North America may actually fill the ecological niche of the Pleistocene species.[[23]](https://en.wikipedia.org/wiki/Capybara#cite_note-24)\\n\\n### Diet and predation\\n\\n[![Image 10](https://upload.wikimedia.org/wikipedia/commons/thumb/9/96/Capybara_Eating_Hay_11_11_2018.jpg/250px-Capybara_Eating_Hay_11_11_2018.jpg)](https://en.wikipedia.org/wiki/File:Capybara_Eating_Hay_11_11_2018.jpg)\\n\\nA capybara eating hay at [Franklin Park Zoo](https://en.wikipedia.org/wiki/Franklin_Park_Zoo \"Franklin Park Zoo\"), Boston, Massachusetts\\n\\nCapybaras are [herbivores](https://en.wikipedia.org/wiki/Herbivore \"Herbivore\"), grazing mainly on grasses and [aquatic plants](https://en.wikipedia.org/wiki/Aquatic_plants \"Aquatic plants\"),[[14]](https://en.wikipedia.org/wiki/Capybara#cite_note-Smithsonian-15)[[24]](https://en.wikipedia.org/wiki/Capybara#cite_note-RevBiolTrop-25) as well as fruit and tree bark.[[15]](https://en.wikipedia.org/wiki/Capybara#cite_note-Palm_Beach_Zoo-16) They are very selective feeders[[25]](https://en.wikipedia.org/wiki/Capybara#cite_note-Quintana_1998-26) and feed on the leaves of one species and disregard other species surrounding it. They eat a greater variety of plants during the dry season, as fewer plants are available. While they eat grass during the wet season, they have to switch to more abundant reeds during the dry season.[[26]](https://en.wikipedia.org/wiki/Capybara#cite_note-Barreto_1998-27) Plants that capybaras eat during the summer lose their nutritional value in the winter, so they are not consumed at that time.[[25]](https://en.wikipedia.org/wiki/Capybara#cite_note-Quintana_1998-26) The capybara\\'s jaw hinge is not perpendicular, so they chew food by grinding back-and-forth rather than side-to-side.[[27]](https://en.wikipedia.org/wiki/Capybara#cite_note-SFZoo-28) Capybaras are [autocoprophagous](https://en.wikipedia.org/wiki/Coprophagous \"Coprophagous\"),[[28]](https://en.wikipedia.org/wiki/Capybara#cite_note-taronga-zoo-29) meaning they eat their own feces as a source of bacterial [gut flora](https://en.wikipedia.org/wiki/Gut_flora \"Gut flora\"), to help digest the [cellulose](https://en.wikipedia.org/wiki/Cellulose \"Cellulose\") in the grass that forms their normal diet, and to extract the maximum protein and vitamins from their food. They also regurgitate food to masticate again, similar to cud-chewing by cattle.[[28]](https://en.wikipedia.org/wiki/Capybara#cite_note-taronga-zoo-29)[[29]](https://en.wikipedia.org/wiki/Capybara#cite_note-Lord-Rexford_1994-30) Like other rodents, a capybara\\'s front teeth grow continually to compensate for the constant wear from eating grasses;[[19]](https://en.wikipedia.org/wiki/Capybara#cite_note-Bristol-20) their cheek teeth also grow continuously.[[27]](https://en.wikipedia.org/wiki/Capybara#cite_note-SFZoo-28)\\n\\nLike its relative the guinea pig, the capybara does not have the capacity to synthesize [vitamin C](https://en.wikipedia.org/wiki/Vitamin_C \"Vitamin C\"), and capybaras not supplemented with vitamin C in captivity have been reported to develop [gum disease](https://en.wikipedia.org/wiki/Periodontal_disease \"Periodontal disease\") as a sign of [scurvy](https://en.wikipedia.org/wiki/Scurvy \"Scurvy\").[[30]](https://en.wikipedia.org/wiki/Capybara#cite_note-r2-31)\\n\\nThe maximum lifespan of the capybara is 8 to 10 years,[[31]](https://en.wikipedia.org/wiki/Capybara#cite_note-r6-32) but in the wild capybaras usually do not live longer than four years because of predation from South American [big cats](https://en.wikipedia.org/wiki/Big_cats \"Big cats\") such as [jaguars](https://en.wikipedia.org/wiki/Jaguar \"Jaguar\") and [cougars](https://en.wikipedia.org/wiki/Cougar \"Cougar\") and from non-mammalian predators such as [harpy eagles](https://en.wikipedia.org/wiki/Harpy_eagle \"Harpy eagle\"), [caimans](https://en.wikipedia.org/wiki/Caiman \"Caiman\"), [green anacondas](https://en.wikipedia.org/wiki/Eunectes_murinus \"Eunectes murinus\") and [piranhas](https://en.wikipedia.org/wiki/Piranha \"Piranha\").[[19]](https://en.wikipedia.org/wiki/Capybara#cite_note-Bristol-20)[[32]](https://en.wikipedia.org/wiki/Capybara#cite_note-SoundsandColours-33)\\n\\n[![Image 11](https://upload.wikimedia.org/wikipedia/commons/thumb/3/32/Capybara_%28Hydrochoerus_hydrochaeris%29_alpha_male.JPG/250px-Capybara_%28Hydrochoerus_hydrochaeris%29_alpha_male.JPG)](https://en.wikipedia.org/wiki/File:Capybara_(Hydrochoerus_hydrochaeris)_alpha_male.JPG)\\n\\nCapybaras have a scent gland on their noses.\\n\\nCapybaras are known to be [gregarious](https://en.wikipedia.org/wiki/Gregarious \"Gregarious\"). While they sometimes live solitarily, they are more commonly found in groups of around 10–20 individuals, with two to four adult males, four to seven adult females, and the remainder juveniles.[[33]](https://en.wikipedia.org/wiki/Capybara#cite_note-Alho_1987-34) Capybara groups can consist of as many as 50 or 100 individuals during the dry season[[29]](https://en.wikipedia.org/wiki/Capybara#cite_note-Lord-Rexford_1994-30)[[34]](https://en.wikipedia.org/wiki/Capybara#cite_note-Macdonald_1981-35) when the animals gather around available water sources. Males establish social bonds, dominance, or general group consensus.[[34]](https://en.wikipedia.org/wiki/Capybara#cite_note-Macdonald_1981-35) They can make dog-like barks[[29]](https://en.wikipedia.org/wiki/Capybara#cite_note-Lord-Rexford_1994-30) when threatened or when females are herding young.[[35]](https://en.wikipedia.org/wiki/Capybara#cite_note-Murphey_1985-36)\\n\\nCapybaras have two types of [scent glands](https://en.wikipedia.org/wiki/Scent_gland \"Scent gland\"): a morrillo, located on the snout, and [anal glands](https://en.wikipedia.org/wiki/Anal_gland \"Anal gland\"). Both sexes have these glands, but males have much larger morrillos and use their anal glands more frequently. The anal glands of males are also lined with detachable hairs. A crystalline form of scent secretion is coated on these hairs and is released when in contact with objects such as plants. These hairs have a longer-lasting scent mark and are tasted by other capybaras. Capybaras scent-mark by rubbing their morrillos on objects, or by walking over scrub and marking it with their anal glands. Capybaras can spread their scent farther by urinating; however, females usually mark without urinating and scent-mark less frequently than males overall. Females mark more often during the wet season when they are in [estrus](https://en.wikipedia.org/wiki/Estrus \"Estrus\"). In addition to objects, males also scent-mark females.[[36]](https://en.wikipedia.org/wiki/Capybara#cite_note-Macdonald_1984-37)\\n\\n### Reproduction\\n\\n[![Image 12](https://upload.wikimedia.org/wikipedia/commons/thumb/c/c9/Young_capybaras.jpg/250px-Young_capybaras.jpg)](https://en.wikipedia.org/wiki/File:Young_capybaras.jpg)\\n\\nMother with typical litter of about four pups\\n\\nWhen in [estrus](https://en.wikipedia.org/wiki/Estrus \"Estrus\"), the female\\'s scent changes subtly and nearby males begin pursuit.[[37]](https://en.wikipedia.org/wiki/Capybara#cite_note-Herrera_1993-38) In addition, a female alerts males she is in estrus by whistling through her nose.[[29]](https://en.wikipedia.org/wiki/Capybara#cite_note-Lord-Rexford_1994-30) During mating, the female has the advantage and mating choice. Capybaras mate only in water, and if a female does not want to mate with a certain male, she either submerges or leaves the water.[[29]](https://en.wikipedia.org/wiki/Capybara#cite_note-Lord-Rexford_1994-30)[[34]](https://en.wikipedia.org/wiki/Capybara#cite_note-Macdonald_1981-35) Dominant males are highly protective of the females, but they usually cannot prevent some of the subordinates from copulating. The larger the group, the harder it is for the male to watch all the females. Dominant males secure significantly more matings than each subordinate, but subordinate males, as a class, are responsible for more matings than each dominant male.[[37]](https://en.wikipedia.org/wiki/Capybara#cite_note-Herrera_1993-38) The lifespan of the capybara\\'s sperm is longer than that of other rodents.[[38]](https://en.wikipedia.org/wiki/Capybara#cite_note-r1-39) Capybara [gestation](https://en.wikipedia.org/wiki/Gestation \"Gestation\") is 130–150 days, and produces a litter of four young on average, but may produce between one and eight in a single litter.[[7]](https://en.wikipedia.org/wiki/Capybara#cite_note-r4-8) Birth is on land and the female rejoins the group within a few hours of delivering the newborn capybaras, which join the group as soon as they are mobile. Within a week, the young can eat grass, but continue to suckle—from any female in the group—until weaned around 16 weeks. The young form a group within the main group.[[19]](https://en.wikipedia.org/wiki/Capybara#cite_note-Bristol-20)[Alloparenting](https://en.wikipedia.org/wiki/Alloparenting \"Alloparenting\") has been observed in this species.[[34]](https://en.wikipedia.org/wiki/Capybara#cite_note-Macdonald_1981-35) Breeding peaks between April and May in Venezuela and between October and November in [Mato Grosso](https://en.wikipedia.org/wiki/Mato_Grosso \"Mato Grosso\"), Brazil.[[7]](https://en.wikipedia.org/wiki/Capybara#cite_note-r4-8)\\n\\n### Activities\\n\\nThough quite agile on land, capybaras are equally at home in the water. They are excellent swimmers, and can remain completely submerged for up to five minutes,[[14]](https://en.wikipedia.org/wiki/Capybara#cite_note-Smithsonian-15) an ability they use to evade predators. Capybaras can sleep in water, keeping only their noses out. As temperatures increase during the day, they wallow in water and then graze during the late afternoon and early evening.[[7]](https://en.wikipedia.org/wiki/Capybara#cite_note-r4-8) They also spend time wallowing in mud.[[18]](https://en.wikipedia.org/wiki/Capybara#cite_note-enchantedlearning.com-19) They rest around midnight and then continue to graze before dawn.[[7]](https://en.wikipedia.org/wiki/Capybara#cite_note-r4-8)\\n\\n### Communication\\n\\nCapybaras communicate using barks, chirps, whistles, huffs, and purrs.[[39]](https://en.wikipedia.org/wiki/Capybara#cite_note-40)\\n\\nA capybara in captivity, 2009\\n\\nConservation and human interaction\\n----------------------------------\\n\\nCapybaras are not considered a threatened species;[[1]](https://en.wikipedia.org/wiki/Capybara#cite_note-iucn_status_19_November_2021-1) their population is stable throughout most of their South American range, though in some areas hunting has reduced their numbers.[[14]](https://en.wikipedia.org/wiki/Capybara#cite_note-Smithsonian-15)[[19]](https://en.wikipedia.org/wiki/Capybara#cite_note-Bristol-20) Capybaras are hunted for their meat and pelts in some areas,[[40]](https://en.wikipedia.org/wiki/Capybara#cite_note-inRich-41) and otherwise killed by humans who see their grazing as competition for livestock. In some areas, they are farmed, which has the effect of ensuring the wetland habitats are protected. Their survival is aided by their ability to breed rapidly.[[19]](https://en.wikipedia.org/wiki/Capybara#cite_note-Bristol-20)\\n\\nCapybaras have adapted well to urbanization in South America. They can be found in many areas in zoos and parks,[[27]](https://en.wikipedia.org/wiki/Capybara#cite_note-SFZoo-28) and may live for 12 years in captivity, more than double their wild lifespan.[[19]](https://en.wikipedia.org/wiki/Capybara#cite_note-Bristol-20) Capybaras are docile and usually allow humans to pet and hand-feed them, but physical contact is normally discouraged, as their [ticks](https://en.wikipedia.org/wiki/Tick \"Tick\") can be [vectors](https://en.wikipedia.org/wiki/Vector_(epidemiology) \"Vector (epidemiology)\") to [Rocky Mountain spotted fever](https://en.wikipedia.org/wiki/Rocky_Mountain_spotted_fever \"Rocky Mountain spotted fever\").[[41]](https://en.wikipedia.org/wiki/Capybara#cite_note-42) The [European Association of Zoos and Aquaria](https://en.wikipedia.org/wiki/European_Association_of_Zoos_and_Aquaria \"European Association of Zoos and Aquaria\") asked [Drusillas Park](https://en.wikipedia.org/wiki/Drusillas_Park \"Drusillas Park\") in [Alfriston](https://en.wikipedia.org/wiki/Alfriston \"Alfriston\"), [Sussex](https://en.wikipedia.org/wiki/Sussex \"Sussex\"), England, to keep the [studbook](https://en.wikipedia.org/wiki/Studbook \"Studbook\") for capybaras, to monitor captive populations in Europe. The studbook includes information about all births, deaths and movements of capybaras, as well as how they are related.[[42]](https://en.wikipedia.org/wiki/Capybara#cite_note-43)\\n\\nCapybaras are farmed for meat and skins in South America.[[43]](https://en.wikipedia.org/wiki/Capybara#cite_note-SDzoo-44) The meat is considered unsuitable to eat in some areas, while in other areas it is considered an important source of protein.[[7]](https://en.wikipedia.org/wiki/Capybara#cite_note-r4-8) In parts of South America, especially in Venezuela, capybara meat is popular during [Lent](https://en.wikipedia.org/wiki/Lent \"Lent\") and [Holy Week](https://en.wikipedia.org/wiki/Holy_Week \"Holy Week\") as the Catholic Church (according to a legend) previously issued special dispensation to allow it to be eaten while other meats are [generally forbidden](https://en.wikipedia.org/wiki/Fasting_and_abstinence_in_the_Catholic_Church \"Fasting and abstinence in the Catholic Church\").[[44]](https://en.wikipedia.org/wiki/Capybara#cite_note-NYSun-45)[[45]](https://en.wikipedia.org/wiki/Capybara#cite_note-NYTimes2007-46) There is widespread perception in Venezuela that consumption of capybaras is exclusive to rural people.[[45]](https://en.wikipedia.org/wiki/Capybara#cite_note-NYTimes2007-46)\\n\\nIn August 2021, Argentine and international media reported that capybaras had been disturbing residents of [Nordelta](https://en.wikipedia.org/wiki/Nordelta \"Nordelta\"), an affluent gated community north of [Buenos Aires](https://en.wikipedia.org/wiki/Buenos_Aires \"Buenos Aires\") built atop the local capybara\\'s preexisting wetland habitat. This inspired social media users to jokingly adopt the capybara as a symbol of [class struggle](https://en.wikipedia.org/wiki/Class_struggle \"Class struggle\") and [communism](https://en.wikipedia.org/wiki/Communism \"Communism\").[[46]](https://en.wikipedia.org/wiki/Capybara#cite_note-TheGuardian_20210822-47) Brazilian Lyme-like [borreliosis](https://en.wikipedia.org/wiki/Borreliosis \"Borreliosis\") likely involves capybaras as reservoirs and _[Amblyomma](https://en.wikipedia.org/wiki/Amblyomma \"Amblyomma\")_ and _[Rhipicephalus](https://en.wikipedia.org/wiki/Rhipicephalus \"Rhipicephalus\")_ ticks as vectors.[[47]](https://en.wikipedia.org/wiki/Capybara#cite_note-48)\\n\\nA [Capybara café](https://en.wikipedia.org/wiki/Animal_cafe#Capybara_caf%C3%A9 \"Animal cafe\") in [St. Augustine](https://en.wikipedia.org/wiki/St._Augustine,_Florida \"St. Augustine, Florida\"), [Florida](https://en.wikipedia.org/wiki/Florida \"Florida\") allows visitors to interact with and give head scratches to the rodents.[[48]](https://en.wikipedia.org/wiki/Capybara#cite_note-49)\\n\\nIn popular culture\\n------------------\\n\\n[Izu Shaboten Zoo](https://en.wikipedia.org/wiki/Izu_Shaboten_Zoo \"Izu Shaboten Zoo\") and other zoos in Japan have prepared [hot spring baths](https://en.wikipedia.org/wiki/Onsen \"Onsen\") for capybaras.[[49]](https://en.wikipedia.org/wiki/Capybara#cite_note-reuters-50) Video clips of the bathing capybaras have gained millions of views.[[49]](https://en.wikipedia.org/wiki/Capybara#cite_note-reuters-50) The capybaras have influenced an anime character named _Kapibara-san_, and a series of merchandise such as [plush toys](https://en.wikipedia.org/wiki/Plush_toy \"Plush toy\").[[50]](https://en.wikipedia.org/wiki/Capybara#cite_note-51)\\n\\nCapybaras have long been a figure in [meme culture](https://en.wikipedia.org/wiki/Internet_meme \"Internet meme\"),[[51]](https://en.wikipedia.org/wiki/Capybara#cite_note-52) particularly in the 2020s.[[52]](https://en.wikipedia.org/wiki/Capybara#cite_note-euronewsmeme-53) In 2022, [Peronists](https://en.wikipedia.org/wiki/Peronists \"Peronists\") in Argentina presented them as figures of class struggle after the disturbances in Nordelta.[[46]](https://en.wikipedia.org/wiki/Capybara#cite_note-TheGuardian_20210822-47) Common meme formats pair capybaras with the song \"[After Party](https://en.wikipedia.org/wiki/After_Party_(song) \"After Party (song)\")\" by [Don Toliver](https://en.wikipedia.org/wiki/Don_Toliver \"Don Toliver\").[[52]](https://en.wikipedia.org/wiki/Capybara#cite_note-euronewsmeme-53)[[53]](https://en.wikipedia.org/wiki/Capybara#cite_note-54)\\n\\nSee also\\n--------\\n\\n*   _[Josephoartigasia monesi](https://en.wikipedia.org/wiki/Josephoartigasia\\\\_monesi \"Josephoartigasia monesi\")_, an extinct species identified as the largest known rodent ever\\n*   [Kurloff cell](https://en.wikipedia.org/wiki/Kurloff_cell \"Kurloff cell\"), a type of cell found in capybaras and guinea pigs\\n*   _[Capybara Walking](https://en.wikipedia.org/wiki/Capybara\\\\_Walking \"Capybara Walking\")_, a historical animal locomotion film by [Eadweard Muybridge](https://en.wikipedia.org/wiki/Eadweard_Muybridge \"Eadweard Muybridge\")\\n\\nNotes\\n-----\\n\\n1.   **[^](https://en.wikipedia.org/wiki/Capybara#cite_ref-2)** Also referred as **capivara** (in Brazil), **capiguara** (in Bolivia), **chigüire**, **chigüiro**, or **fercho** (in Colombia and Venezuela), **carpincho** (in Argentina, Paraguay and Uruguay) and **ronsoco** (in Peru).\\n\\nReferences\\n----------\\n\\n1.   ^ [_**a**_](https://en.wikipedia.org/wiki/Capybara#cite_ref-iucn_status_19_November_2021_1-0)[_**b**_](https://en.wikipedia.org/wiki/Capybara#cite_ref-iucn_status_19_November_2021_1-1)Reid, F. (2016). [\"_Hydrochoerus hydrochaeris_\"](https://www.iucnredlist.org/species/10300/22190005). _[IUCN Red List of Threatened Species](https://en.wikipedia.org/wiki/IUCN\\\\_Red\\\\_List \"IUCN Red List\")_. **2016** e.T10300A22190005. [doi](https://en.wikipedia.org/wiki/Doi_(identifier) \"Doi (identifier)\"):[10.2305/IUCN.UK.2016-2.RLTS.T10300A22190005.en](https://doi.org/10.2305%2FIUCN.UK.2016-2.RLTS.T10300A22190005.en). Retrieved 19 November 2021.\\n2.   **[^](https://en.wikipedia.org/wiki/Capybara#cite_ref-3)**Basic Biology (2015). [\"Rodents\"](https://basicbiology.net/animal/mammals/rodents).\\n3.   **[^](https://en.wikipedia.org/wiki/Capybara#cite_ref-4)**[Capybara (_Hydrochoerus hydrochaeris_)](http://www.arkive.org/capybara/hydrochoerus-hydrochaeris/)[Archived](https://web.archive.org/web/20120103075238/http://www.arkive.org/capybara/hydrochoerus-hydrochaeris/) 2012-01-03 at the [Wayback Machine](https://en.wikipedia.org/wiki/Wayback_Machine \"Wayback Machine\"). ARKive.org\\n4.   **[^](https://en.wikipedia.org/wiki/Capybara#cite_ref-5)**Ferreira, A. B. H. (1986) _[Novo Dicionário da Língua Portuguesa](https://en.wikipedia.org/wiki/Novo\\\\_Dicion%C3%A1rio\\\\_da\\\\_L%C3%ADngua\\\\_Portuguesa \"Novo Dicionário da Língua Portuguesa\")_, 2nd ed., Rio de Janeiro: Nova Fronteira, p.344\\n5.   ^ [_**a**_](https://en.wikipedia.org/wiki/Capybara#cite_ref-msw3_6-0)[_**b**_](https://en.wikipedia.org/wiki/Capybara#cite_ref-msw3_6-1)[_**c**_](https://en.wikipedia.org/wiki/Capybara#cite_ref-msw3_6-2)Woods, C.A.; Kilpatrick, C.W. (2005). [\"Infraorder Hystricognathi\"](http://www.departments.bucknell.edu/biology/resources/msw3/browse.asp?id=13400218). In [Wilson, D.E.](https://en.wikipedia.org/wiki/Don_E._Wilson \"Don E. Wilson\"); Reeder, D.M (eds.). [_Mammal Species of the World: A Taxonomic and Geographic Reference_](http://www.google.com/books?id=JgAMbNSt8ikC&pg=PA1556) (3rd ed.). Johns Hopkins University Press. p.1556. [ISBN](https://en.wikipedia.org/wiki/ISBN_(identifier) \"ISBN (identifier)\")[978-0-8018-8221-0](https://en.wikipedia.org/wiki/Special:BookSources/978-0-8018-8221-0 \"Special:BookSources/978-0-8018-8221-0\"). [OCLC](https://en.wikipedia.org/wiki/OCLC_(identifier) \"OCLC (identifier)\")[62265494](https://search.worldcat.org/oclc/62265494).\\n6.   **[^](https://en.wikipedia.org/wiki/Capybara#cite_ref-inDarwin_7-0)**[Darwin, Charles R.](https://en.wikipedia.org/wiki/Charles_Darwin \"Charles Darwin\") (1839). [_Narrative of the surveying voyages of His Majesty\\'s Ships Adventure and Beagle between the years 1826 and 1836, describing their examination of the southern shores of South America, and the Beagle\\'s circumnavigation of the globe. Journal and remarks. 1832–1836_](https://en.wikipedia.org/wiki/The_Voyage_of_the_Beagle \"The Voyage of the Beagle\"). London: [Henry Colburn](https://en.wikipedia.org/wiki/Henry_Colburn \"Henry Colburn\"). p.619.\\n    *   In page 57, Darwin says \"The largest gnawing animal in the world, the _Hydrochærus Capybara_ (the water-hog), is here also common.\"\\n    *   See it also in [The Complete Work of Charles Darwin Online](http://darwin-online.org.uk/content/frameset?itemID=F10.3&viewtype=side&pageseq=1)\\n\\n7.   ^ [_**a**_](https://en.wikipedia.org/wiki/Capybara#cite_ref-r4_8-0)[_**b**_](https://en.wikipedia.org/wiki/Capybara#cite_ref-r4_8-1)[_**c**_](https://en.wikipedia.org/wiki/Capybara#cite_ref-r4_8-2)[_**d**_](https://en.wikipedia.org/wiki/Capybara#cite_ref-r4_8-3)[_**e**_](https://en.wikipedia.org/wiki/Capybara#cite_ref-r4_8-4)[_**f**_](https://en.wikipedia.org/wiki/Capybara#cite_ref-r4_8-5)[_**g**_](https://en.wikipedia.org/wiki/Capybara#cite_ref-r4_8-6)[_**h**_](https://en.wikipedia.org/wiki/Capybara#cite_ref-r4_8-7)[_**i**_](https://en.wikipedia.org/wiki/Capybara#cite_ref-r4_8-8)[_**j**_](https://en.wikipedia.org/wiki/Capybara#cite_ref-r4_8-9)[_**k**_](https://en.wikipedia.org/wiki/Capybara#cite_ref-r4_8-10)Mones, Alvaro; Ojasti, Juhani (16 June 1986). [\"Hydrochoerus hydrochaeris\"](https://doi.org/10.2307%2F3503784). _Mammalian Species_ (264): 1–7. [doi](https://en.wikipedia.org/wiki/Doi_(identifier) \"Doi (identifier)\"):[10.2307/3503784](https://doi.org/10.2307%2F3503784). [JSTOR](https://en.wikipedia.org/wiki/JSTOR_(identifier) \"JSTOR (identifier)\")[3503784](https://www.jstor.org/stable/3503784). [S2CID](https://en.wikipedia.org/wiki/S2CID_(identifier) \"S2CID (identifier)\")[250991487](https://api.semanticscholar.org/CorpusID:250991487).\\n8.   **[^](https://en.wikipedia.org/wiki/Capybara#cite_ref-Rowe_2002_9-0)**Rowe, Diane L.; Honeycutt, Rodney L. (March 2002). [\"Phylogenetic Relationships, Ecological Correlates, and Molecular Evolution Within the Cavioidea (Mammalia, Rodentia)\"](https://doi.org/10.1093%2Foxfordjournals.molbev.a004080). _Molecular Biology and Evolution_. **19** (3): 263–277. [doi](https://en.wikipedia.org/wiki/Doi_(identifier) \"Doi (identifier)\"):[10.1093/oxfordjournals.molbev.a004080](https://doi.org/10.1093%2Foxfordjournals.molbev.a004080). [PMID](https://en.wikipedia.org/wiki/PMID_(identifier) \"PMID (identifier)\")[11861886](https://pubmed.ncbi.nlm.nih.gov/11861886).\\n9.   ^ [_**a**_](https://en.wikipedia.org/wiki/Capybara#cite_ref-Vucetich_2005_10-0)[_**b**_](https://en.wikipedia.org/wiki/Capybara#cite_ref-Vucetich_2005_10-1)[_**c**_](https://en.wikipedia.org/wiki/Capybara#cite_ref-Vucetich_2005_10-2)Vucetich, María G.; Deschamps, Cecilia M.; Olivares, Itatí; Dozo, María T. (2005). [\"Capybaras, size, shape, and time: A model kit\"](https://www.app.pan.pl/article/item/app50-259.html). _Acta Palaeontologica Polonica_. **50** (2): 259–272.\\n10.   ^ [_**a**_](https://en.wikipedia.org/wiki/Capybara#cite_ref-Deschamp_2007_11-0)[_**b**_](https://en.wikipedia.org/wiki/Capybara#cite_ref-Deschamp_2007_11-1)Deschamps, Cecilia M.; Olivares, Itatí; Vieytes, Emma Carolina; Vucetich, María Guiomar (12 September 2007). \"Ontogeny and diversity of the oldest capybaras (Rodentia: Hydrochoeridae; late Miocene of Argentina)\". _Journal of Vertebrate Paleontology_. **27** (3): 683–692. [doi](https://en.wikipedia.org/wiki/Doi_(identifier) \"Doi (identifier)\"):[10.1671/0272-4634(2007)27[683:oadoto]2.0.co;2](https://doi.org/10.1671%2F0272-4634%282007%2927%5B683%3Aoadoto%5D2.0.co%3B2). [JSTOR](https://en.wikipedia.org/wiki/JSTOR_(identifier) \"JSTOR (identifier)\")[30126368](https://www.jstor.org/stable/30126368). [S2CID](https://en.wikipedia.org/wiki/S2CID_(identifier) \"S2CID (identifier)\")[86217854](https://api.semanticscholar.org/CorpusID:86217854).\\n11.   ^ [_**a**_](https://en.wikipedia.org/wiki/Capybara#cite_ref-Cerde%C3%B1o_2019_12-0)[_**b**_](https://en.wikipedia.org/wiki/Capybara#cite_ref-Cerde%C3%B1o_2019_12-1)Cerdeño, E.; Pérez, M.E.; Deschamps, C.M.; Contreras, V.H. (2019). [\"A new capybara from the late Miocene of San Juan Province, Argentina, and its phylogenetic implications\"](https://doi.org/10.4202%2Fapp.00544.2018). _Acta Palaeontologica Polonica_. **64** (1): 199–212. [doi](https://en.wikipedia.org/wiki/Doi_(identifier) \"Doi (identifier)\"):[10.4202/app.00544.2018](https://doi.org/10.4202%2Fapp.00544.2018). [hdl](https://en.wikipedia.org/wiki/Hdl_(identifier) \"Hdl (identifier)\"):[11336/117299](https://hdl.handle.net/11336%2F117299).\\n12.   **[^](https://en.wikipedia.org/wiki/Capybara#cite_ref-13)**[\"The Cabybara – 10 Facts About the World\\'s Largest Rodent\"](https://www.worldatlas.com/articles/10-delightful-facts-about-capybaras.html). _WorldAtlas_. 26 July 2019. Retrieved 18 March 2020.\\n13.   **[^](https://en.wikipedia.org/wiki/Capybara#cite_ref-Arkive_14-0)**[Capybara](http://www.arkive.org/capybara/hydrochoerus-hydrochaeris/#text=Facts)[Archived](https://web.archive.org/web/20120103075238/http://www.arkive.org/capybara/hydrochoerus-hydrochaeris/#text=Facts#text=Facts) 2012-01-03 at the [Wayback Machine](https://en.wikipedia.org/wiki/Wayback_Machine \"Wayback Machine\"), Arkive\\n14.   ^ [_**a**_](https://en.wikipedia.org/wiki/Capybara#cite_ref-Smithsonian_15-0)[_**b**_](https://en.wikipedia.org/wiki/Capybara#cite_ref-Smithsonian_15-1)[_**c**_](https://en.wikipedia.org/wiki/Capybara#cite_ref-Smithsonian_15-2)[_**d**_](https://en.wikipedia.org/wiki/Capybara#cite_ref-Smithsonian_15-3)[_**e**_](https://en.wikipedia.org/wiki/Capybara#cite_ref-Smithsonian_15-4)[Capybara Facts.](https://web.archive.org/web/20050930231549/http://nationalzoo.si.edu/Animals/Amazonia/Facts/capybarafacts.cfm)[Smithsonian National Zoological Park](https://en.wikipedia.org/wiki/Smithsonian_National_Zoological_Park \"Smithsonian National Zoological Park\"). Retrieved on 16 December 2007.\\n15.   ^ [_**a**_](https://en.wikipedia.org/wiki/Capybara#cite_ref-Palm_Beach_Zoo_16-0)[_**b**_](https://en.wikipedia.org/wiki/Capybara#cite_ref-Palm_Beach_Zoo_16-1)[_**c**_](https://en.wikipedia.org/wiki/Capybara#cite_ref-Palm_Beach_Zoo_16-2)[Capybara.](https://web.archive.org/web/20100620162726/http://palmbeachzoo.org/animals/capybara.html) Palm Beach Zoo. Retrieved on 17 December 2007.\\n16.   **[^](https://en.wikipedia.org/wiki/Capybara#cite_ref-r3_17-0)**[World Association of Zoos and Aquariums](http://www.waza.org/virtualzoo/factsheet.php?id=110-020-001-001&view=Rodents%20and%20Hares&main=virtualzoo). [WAZA](https://en.wikipedia.org/wiki/World_Association_of_Zoos_and_Aquariums \"World Association of Zoos and Aquariums\"). Retrieved on 2011-12-07.\\n17.   **[^](https://en.wikipedia.org/wiki/Capybara#cite_ref-18)**Ferraz, Katia Maria Paschoaletto Micchi de Barros; Bonach, Kelly; Verdade, Luciano Martins (2005). [\"Relationship between body mass and body length in capybaras (_Hydrochoerus hydrochaeris_)\"](https://doi.org/10.1590%2FS1676-06032005000100020). _Biota Neotropica_. **5** (1): 197–200. [doi](https://en.wikipedia.org/wiki/Doi_(identifier) \"Doi (identifier)\"):[10.1590/S1676-06032005000100020](https://doi.org/10.1590%2FS1676-06032005000100020).\\n18.   ^ [_**a**_](https://en.wikipedia.org/wiki/Capybara#cite_ref-enchantedlearning.com_19-0)[_**b**_](https://en.wikipedia.org/wiki/Capybara#cite_ref-enchantedlearning.com_19-1)[\"Capybara Printout\"](http://www.enchantedlearning.com/subjects/mammals/rodent/Capybaraprintout.shtml). Enchantedlearning.com. Retrieved 27 May 2013.\\n19.   ^ [_**a**_](https://en.wikipedia.org/wiki/Capybara#cite_ref-Bristol_20-0)[_**b**_](https://en.wikipedia.org/wiki/Capybara#cite_ref-Bristol_20-1)[_**c**_](https://en.wikipedia.org/wiki/Capybara#cite_ref-Bristol_20-2)[_**d**_](https://en.wikipedia.org/wiki/Capybara#cite_ref-Bristol_20-3)[_**e**_](https://en.wikipedia.org/wiki/Capybara#cite_ref-Bristol_20-4)[_**f**_](https://en.wikipedia.org/wiki/Capybara#cite_ref-Bristol_20-5)[_**g**_](https://en.wikipedia.org/wiki/Capybara#cite_ref-Bristol_20-6)[Bristol Zoo Gardens (UK) _Capybara_](http://www.bristolzoo.org.uk/learning/animals/mammals/capybara)[Archived](https://web.archive.org/web/20070918183854/http://www.bristolzoo.org.uk/learning/animals/mammals/capybara) 2007-09-18 at the [Wayback Machine](https://en.wikipedia.org/wiki/Wayback_Machine \"Wayback Machine\"). Bristolzoo.org.uk. Retrieved on 2011-12-07.\\n20.   **[^](https://en.wikipedia.org/wiki/Capybara#cite_ref-21)**[\"Nonnatives – Capybara\"](https://web.archive.org/web/20140406221051/http://myfwc.com/wildlifehabitats/nonnatives/mammals/capybara/). _myfwc.com_. Archived from [the original](http://myfwc.com/wildlifehabitats/nonnatives/mammals/capybara/) on 6 April 2014. Retrieved 30 August 2013.\\n21.   **[^](https://en.wikipedia.org/wiki/Capybara#cite_ref-22)**Mather, Kate (18 August 2011). [\"A gnawing question answered: It\\'s a capybara roaming Paso Robles\"](http://www.latimes.com/news/local/la-me-0818-capybara-20110818,0,104462.story). _[Los Angeles Times](https://en.wikipedia.org/wiki/Los\\\\_Angeles\\\\_Times \"Los Angeles Times\")_. Retrieved 10 January 2012.\\n22.   **[^](https://en.wikipedia.org/wiki/Capybara#cite_ref-23)**Baskin, Jon; Gervais, P. Darrow; Gervais, Camille J. (2020). [\"A Late Pleistocene capybara (Rodentia, Caviidae, Hydrochoerinae) from near Houston, Texas, USA, with a brief review of North American fossil capybaras\"](https://bioone.org/journals/proceedings-of-the-academy-of-natural-sciences-of-philadelphia/volume-167/issue-1/053.167.0105/A-Late-Pleistocene-capybara-Rodentia-Caviidae-Hydrochoerinae-from-near-Houston/10.1635/053.167.0105.short). _Proceedings of the Academy of Natural Sciences of Philadelphia_. **167** (1): 57. [Bibcode](https://en.wikipedia.org/wiki/Bibcode_(identifier) \"Bibcode (identifier)\"):[2020PANSP.167...57B](https://ui.adsabs.harvard.edu/abs/2020PANSP.167...57B). [doi](https://en.wikipedia.org/wiki/Doi_(identifier) \"Doi (identifier)\"):[10.1635/053.167.0105](https://doi.org/10.1635%2F053.167.0105). [S2CID](https://en.wikipedia.org/wiki/S2CID_(identifier) \"S2CID (identifier)\")[216241471](https://api.semanticscholar.org/CorpusID:216241471).\\n23.   **[^](https://en.wikipedia.org/wiki/Capybara#cite_ref-24)**Erick J. Lundgren, Daniel Ramp, John Rowan, Owen Middleton, Simon D. Schowanek, Oscar Sanisidro, Scott P. Carroll, Matt Davis, Christopher J. Sandom, Jens-Christian Svenning, Arian D. Wallach, James A. Estes, 2020, _[Introduced herbivores restore Late Pleistocene ecological functions](https://www.pnas.org/content/117/14/7871)_, PNAS, 117 (14), pp.7871-7878, [Proceedings of the National Academy of Sciences of the United States of America](https://en.wikipedia.org/wiki/Proceedings_of_the_National_Academy_of_Sciences_of_the_United_States_of_America \"Proceedings of the National Academy of Sciences of the United States of America\")\\n24.   **[^](https://en.wikipedia.org/wiki/Capybara#cite_ref-RevBiolTrop_25-0)**Forero-Montaña, Jimena; Betancur, Julio; Cavelier, Jaime (June 2003). [\"Dieta del capibara _Hydrochaeris hydrochaeris_ (Rodentia: Hydrochaeridae) en Caño Limón, Arauca, Colombia\"](https://www.scielo.sa.cr/scielo.php?script=sci_arttext&pid=S0034-77442003000200029) [Distribution and abundance of Caiman crocodilus in the Caño Negro National Wild Life Refuge, Costa Rica]. _[Revista de Biología Tropical](https://en.wikipedia.org/wiki/Revista\\\\_de\\\\_Biolog%C3%ADa\\\\_Tropical \"Revista de Biología Tropical\")_ (in Spanish). **51** (2): 571–578. [PMID](https://en.wikipedia.org/wiki/PMID_(identifier) \"PMID (identifier)\")[15162749](https://pubmed.ncbi.nlm.nih.gov/15162749).\\n25.   ^ [_**a**_](https://en.wikipedia.org/wiki/Capybara#cite_ref-Quintana_1998_26-0)[_**b**_](https://en.wikipedia.org/wiki/Capybara#cite_ref-Quintana_1998_26-1)Quintana, R.D.; Monge, S.; Malvárez, A.I. (1998). \"Feeding patterns of capybara _Hydrochaeris hydrochaeris_ (Rodentia, Hydrochaeridae) and cattle in the non-insular area of the Lower Delta of the Paraná River, Argentina\". _Mammalia_. **62** (1): 37–52. [doi](https://en.wikipedia.org/wiki/Doi_(identifier) \"Doi (identifier)\"):[10.1515/mamm.1998.62.1.37](https://doi.org/10.1515%2Fmamm.1998.62.1.37). [S2CID](https://en.wikipedia.org/wiki/S2CID_(identifier) \"S2CID (identifier)\")[83976640](https://api.semanticscholar.org/CorpusID:83976640).\\n26.   **[^](https://en.wikipedia.org/wiki/Capybara#cite_ref-Barreto_1998_27-0)**Barreto, Guillermo R.; Herrera, Emilio A. (1998). \"Foraging patterns of capybaras in a seasonally flooded savanna of Venezuela\". _Journal of Tropical Ecology_. **14** (1): 87–98. [doi](https://en.wikipedia.org/wiki/Doi_(identifier) \"Doi (identifier)\"):[10.1017/S0266467498000078](https://doi.org/10.1017%2FS0266467498000078). [JSTOR](https://en.wikipedia.org/wiki/JSTOR_(identifier) \"JSTOR (identifier)\")[2559868](https://www.jstor.org/stable/2559868). [S2CID](https://en.wikipedia.org/wiki/S2CID_(identifier) \"S2CID (identifier)\")[84982123](https://api.semanticscholar.org/CorpusID:84982123).\\n27.   ^ [_**a**_](https://en.wikipedia.org/wiki/Capybara#cite_ref-SFZoo_28-0)[_**b**_](https://en.wikipedia.org/wiki/Capybara#cite_ref-SFZoo_28-1)[_**c**_](https://en.wikipedia.org/wiki/Capybara#cite_ref-SFZoo_28-2)[Capybara. _Hydrochaeris hydrochaeris_](https://web.archive.org/web/20070614005832/http://www.sfzoo.org/cgi-bin/animals.py?ID=90). San Francisco Zoo\\n28.   ^ [_**a**_](https://en.wikipedia.org/wiki/Capybara#cite_ref-taronga-zoo_29-0)[_**b**_](https://en.wikipedia.org/wiki/Capybara#cite_ref-taronga-zoo_29-1)[\"Meet Taronga\\'s Capybaras\"](https://taronga.org.au/sydney-zoo/must-see/capybaras). _Taronga Zoo_. Retrieved 29 December 2021.\\n29.   ^ [_**a**_](https://en.wikipedia.org/wiki/Capybara#cite_ref-Lord-Rexford_1994_30-0)[_**b**_](https://en.wikipedia.org/wiki/Capybara#cite_ref-Lord-Rexford_1994_30-1)[_**c**_](https://en.wikipedia.org/wiki/Capybara#cite_ref-Lord-Rexford_1994_30-2)[_**d**_](https://en.wikipedia.org/wiki/Capybara#cite_ref-Lord-Rexford_1994_30-3)[_**e**_](https://en.wikipedia.org/wiki/Capybara#cite_ref-Lord-Rexford_1994_30-4)Lord, Rexford D. (March 1994). \"A descriptive account of capybara behaviour\". _Studies on Neotropical Fauna and Environment_. **29** (1): 11–22. [Bibcode](https://en.wikipedia.org/wiki/Bibcode_(identifier) \"Bibcode (identifier)\"):[1994SNFE...29...11L](https://ui.adsabs.harvard.edu/abs/1994SNFE...29...11L). [doi](https://en.wikipedia.org/wiki/Doi_(identifier) \"Doi (identifier)\"):[10.1080/01650529409360912](https://doi.org/10.1080%2F01650529409360912).\\n30.   **[^](https://en.wikipedia.org/wiki/Capybara#cite_ref-r2_31-0)**Cueto, Gerardo Ruben; Allekotte, Roman; Kravetz, Fernando Osvaldo (January 2000). [\"Scurvy in capybaras bred in captivity in Argentine\"](https://doi.org/10.7589%2F0090-3558-36.1.97). _Journal of Wildlife Diseases_. **36** (1): 97–101. [doi](https://en.wikipedia.org/wiki/Doi_(identifier) \"Doi (identifier)\"):[10.7589/0090-3558-36.1.97](https://doi.org/10.7589%2F0090-3558-36.1.97). [PMID](https://en.wikipedia.org/wiki/PMID_(identifier) \"PMID (identifier)\")[10682750](https://pubmed.ncbi.nlm.nih.gov/10682750). [S2CID](https://en.wikipedia.org/wiki/S2CID_(identifier) \"S2CID (identifier)\")[6491859](https://api.semanticscholar.org/CorpusID:6491859).\\n31.   **[^](https://en.wikipedia.org/wiki/Capybara#cite_ref-r6_32-0)**Burton M and Burton R. (2002) _The International Wildlife Encyclopedia_. Marshall Cavendish, [ISBN](https://en.wikipedia.org/wiki/ISBN_(identifier) \"ISBN (identifier)\")[0-7614-7269-X](https://en.wikipedia.org/wiki/Special:BookSources/0-7614-7269-X \"Special:BookSources/0-7614-7269-X\"), p. 384\\n32.   **[^](https://en.wikipedia.org/wiki/Capybara#cite_ref-SoundsandColours_33-0)**[Capybara, the master of the grasses: pest or prey](http://soundsandcolours.com/subjects/south-american-nature/capybara-the-master-of-the-grasses-pest-or-prey-3937/) Sounds and Colours. Retrieved on 23 January 2011.\\n33.   **[^](https://en.wikipedia.org/wiki/Capybara#cite_ref-Alho_1987_34-0)**Alho, Cleber J.R.; Rondon, Nelson L. (1987). [\"Habitats, population densities, and social structure of capybaras (_Hydrochaeris Hydrochaeris_, Rodentia) in the Pantanal, Brazil\"](https://doi.org/10.1590%2Fs0101-81751987000200006). _[Revista Brasileira de Zoologia](https://en.wikipedia.org/w/index.php?title=Revista\\\\_Brasileira\\\\_de\\\\_Zoologia&action=edit&redlink=1 \"Revista Brasileira de Zoologia (page does not exist)\")_. **4** (2): 139–149. [doi](https://en.wikipedia.org/wiki/Doi_(identifier) \"Doi (identifier)\"):[10.1590/s0101-81751987000200006](https://doi.org/10.1590%2Fs0101-81751987000200006).\\n34.   ^ [_**a**_](https://en.wikipedia.org/wiki/Capybara#cite_ref-Macdonald_1981_35-0)[_**b**_](https://en.wikipedia.org/wiki/Capybara#cite_ref-Macdonald_1981_35-1)[_**c**_](https://en.wikipedia.org/wiki/Capybara#cite_ref-Macdonald_1981_35-2)[_**d**_](https://en.wikipedia.org/wiki/Capybara#cite_ref-Macdonald_1981_35-3)Macdonald, D. W. (July 1981). \"Dwindling resources and the social behaviour of Capybaras, (_Hydrochoerus hydrochaeris_) (Mammalia)\". _Journal of Zoology_. **194** (3): 371–391. [doi](https://en.wikipedia.org/wiki/Doi_(identifier) \"Doi (identifier)\"):[10.1111/j.1469-7998.1981.tb04588.x](https://doi.org/10.1111%2Fj.1469-7998.1981.tb04588.x).\\n35.   **[^](https://en.wikipedia.org/wiki/Capybara#cite_ref-Murphey_1985_36-0)**Murphey, Robert M.; Mariano, Jorge S.; Moura Duarte, Francisco A. (May 1985). \"Behavioral observations in a capybara colony (_Hydrochoerus hydrochaeris_)\". _Applied Animal Behaviour Science_. **14** (1): 89–98. [doi](https://en.wikipedia.org/wiki/Doi_(identifier) \"Doi (identifier)\"):[10.1016/0168-1591(85)90040-1](https://doi.org/10.1016%2F0168-1591%2885%2990040-1).\\n36.   **[^](https://en.wikipedia.org/wiki/Capybara#cite_ref-Macdonald_1984_37-0)**Macdonald, D. W.; Krantz, K.; Aplin, R. T. (March 1984). \"Behavioral anatomical and chemical aspects of scent marking among Capybaras (_Hydrochaeris hypdrochaeris_) (Rodentia: Caviomorpha)\". _Journal of Zoology_. **202** (3): 341–360. [doi](https://en.wikipedia.org/wiki/Doi_(identifier) \"Doi (identifier)\"):[10.1111/j.1469-7998.1984.tb05087.x](https://doi.org/10.1111%2Fj.1469-7998.1984.tb05087.x).\\n37.   ^ [_**a**_](https://en.wikipedia.org/wiki/Capybara#cite_ref-Herrera_1993_38-0)[_**b**_](https://en.wikipedia.org/wiki/Capybara#cite_ref-Herrera_1993_38-1)Herrera, Emilio A.; MacDonald, David W. (1993). \"Aggression, dominance, and mating success among capybara males (_Hydrochaeris hypdrochaeris_)\". _[Behavioral Ecology](https://en.wikipedia.org/wiki/Behavioral\\\\_Ecology\\\\_(journal) \"Behavioral Ecology (journal)\")_. **4** (2): 114. [doi](https://en.wikipedia.org/wiki/Doi_(identifier) \"Doi (identifier)\"):[10.1093/beheco/4.2.114](https://doi.org/10.1093%2Fbeheco%2F4.2.114).\\n38.   **[^](https://en.wikipedia.org/wiki/Capybara#cite_ref-r1_39-0)**Paula, T.A.R.; Chiarini-Garcia, H.; França, L.R. (June 1999). \"Seminiferous epithelium cycle and its duration in capybaras (Hydrochoerus hydrochaeris)\". _Tissue and Cell_. **31** (3): 327–334. [doi](https://en.wikipedia.org/wiki/Doi_(identifier) \"Doi (identifier)\"):[10.1054/tice.1999.0039](https://doi.org/10.1054%2Ftice.1999.0039). [PMID](https://en.wikipedia.org/wiki/PMID_(identifier) \"PMID (identifier)\")[10481304](https://pubmed.ncbi.nlm.nih.gov/10481304).\\n39.   **[^](https://en.wikipedia.org/wiki/Capybara#cite_ref-40)**[\"Capybara\"](https://zoo.sandiegozoo.org/animals/capybara).\\n40.   **[^](https://en.wikipedia.org/wiki/Capybara#cite_ref-inRich_41-0)**Thompson, Andy (18 January 2008) [Trip to South America gives new meaning to outdoors life](https://archive.today/20130204101346/http://www2.timesdispatch.com/lifestyles/2008/jan/18/-rtd_2008_01_18_0043-ar-147752/). Richmond Times.\\n41.   **[^](https://en.wikipedia.org/wiki/Capybara#cite_ref-42)**[\"Febre maculosa: \"Os médicos no Brasil não conhecem a doença\"](http://drauziovarella.com.br/audios-videos/estacao-medicina/febre-maculosa/) [Rocky Mountain spotted fever: Brazilian doctors unaware of the disease] (in Portuguese). drauziovarella.com.br. 12 April 2011. Retrieved 13 August 2015.\\n42.   **[^](https://en.wikipedia.org/wiki/Capybara#cite_ref-43)**[\"Conservation at Drusillas Park\"](https://www.drusillas.co.uk/conservation-1). Drusillas.co.uk. Retrieved 27 May 2013.\\n43.   **[^](https://en.wikipedia.org/wiki/Capybara#cite_ref-SDzoo_44-0)**[\"Capybara, _Hydrochoerus hydrochaeris_\"](https://web.archive.org/web/20110930051431/http://library.sandiegozoo.org/factsheets/capybara/capybara.htm). San Diego Zoo. October 2008. Archived from [the original](http://library.sandiegozoo.org/factsheets/capybara/capybara.htm) on 30 September 2011. Retrieved 22 June 2011.\\n44.   **[^](https://en.wikipedia.org/wiki/Capybara#cite_ref-NYSun_45-0)**Ellsworth, Brian (24 March 2005). [\"In Days Before Easter, Venezuelans Tuck Into Rodent-Related Delicacy\"](http://www.nysun.com/article/11063)[Archived](https://web.archive.org/web/20080705215536/http://www.nysun.com/article/11063) 5 July 2008 at the [Wayback Machine](https://en.wikipedia.org/wiki/Wayback_Machine \"Wayback Machine\"). _[New York Sun](https://en.wikipedia.org/wiki/New\\\\_York\\\\_Sun \"New York Sun\")_.\\n45.   ^ [_**a**_](https://en.wikipedia.org/wiki/Capybara#cite_ref-NYTimes2007_46-0)[_**b**_](https://en.wikipedia.org/wiki/Capybara#cite_ref-NYTimes2007_46-1)Romero, Simon (21 March 2007). [\"In Venezuela, Rodents Can Be a Delicacy\"](https://archive.today/20131014211839/http://www.nytimes.com/2007/03/21/world/americas/21rodent.html?_r=0). _The New York Times_. [ISSN](https://en.wikipedia.org/wiki/ISSN_(identifier) \"ISSN (identifier)\")[0362-4331](https://search.worldcat.org/issn/0362-4331). Archived from [the original](https://www.nytimes.com/2007/03/21/world/americas/21rodent.html) on 14 October 2013. Retrieved 27 April 2021. Legend has it that eating capybara, known here as chigüire (pronounced chee-GWEE-reh), got a boost in the 18th century when the local clergy asked the Vatican to give capybara the status of fish. (...) It remains more popular in Venezuela\\'s rural interior than in the capital.\\n46.   ^ [_**a**_](https://en.wikipedia.org/wiki/Capybara#cite_ref-TheGuardian_20210822_47-0)[_**b**_](https://en.wikipedia.org/wiki/Capybara#cite_ref-TheGuardian_20210822_47-1)Goñi, Uki (22 August 2021). [\"Attack of the giant rodents or class war? Argentina\\'s rich riled by new neighbors\"](https://www.theguardian.com/world/2021/aug/22/argentina-capybaras-giant-rodents-gated-community). _[The Guardian](https://en.wikipedia.org/wiki/The\\\\_Guardian \"The Guardian\")_.\\n47.   **[^](https://en.wikipedia.org/wiki/Capybara#cite_ref-48)**Basile, Roberta Carvalho; Yoshinari, Natalino Hajime; Mantovani, Elenice; Bonoldi, Virgínia Nazário; Macoris, Delphim da Graça; Queiroz-Neto, Antonio de (4 October 2016). [\"Brazilian borreliosis with special emphasis on humans and horses\"](https://www.ncbi.nlm.nih.gov/pmc/articles/PMC5220628). _Brazilian Journal of Microbiology_. **48** (1): 167–172. [doi](https://en.wikipedia.org/wiki/Doi_(identifier) \"Doi (identifier)\"):[10.1016/j.bjm.2016.09.005](https://doi.org/10.1016%2Fj.bjm.2016.09.005). [PMC](https://en.wikipedia.org/wiki/PMC_(identifier) \"PMC (identifier)\")[5220628](https://www.ncbi.nlm.nih.gov/pmc/articles/PMC5220628). [PMID](https://en.wikipedia.org/wiki/PMID_(identifier) \"PMID (identifier)\")[27769883](https://pubmed.ncbi.nlm.nih.gov/27769883).\\n48.   **[^](https://en.wikipedia.org/wiki/Capybara#cite_ref-49)**[\"Giant rodents cuddle with visitors at the Capybara Cafe in Florida\"](https://apnews.com/article/florida-capybara-cafe-st-augustine-54ce3807f084e9de61f72a79c6633e10). _Associated Press News_. 12 April 2025.\\n49.   ^ [_**a**_](https://en.wikipedia.org/wiki/Capybara#cite_ref-reuters_50-0)[_**b**_](https://en.wikipedia.org/wiki/Capybara#cite_ref-reuters_50-1)Murakami, Sakura (4 February 2020). [\"Olympics and Year of the Rat give starring role to Japan\\'s capybaras\"](https://www.reuters.com/article/us-olympics-2020-capybara-idCAKBN1ZY0FY). _[Reuters](https://en.wikipedia.org/wiki/Reuters \"Reuters\")_. Retrieved 23 October 2021.\\n50.   **[^](https://en.wikipedia.org/wiki/Capybara#cite_ref-51)**Steger, Isabella (19 May 2017). [\"How the world\\'s largest rodent became a superstar in Japan\"](https://qz.com/986398/how-the-capybara-the-worlds-largest-rodent-became-a-superstar-in-japan/). _[Quartz](https://en.wikipedia.org/wiki/Quartz\\\\_(publication) \"Quartz (publication)\")_. Retrieved 23 October 2021.\\n51.   **[^](https://en.wikipedia.org/wiki/Capybara#cite_ref-52)**Diaz, Ana (2 March 2023). [\"Capybaras are taking over TikTok and we\\'re better for it\"](https://www.polygon.com/23620358/capybara-tiktok-meme-audio-trend). _Polygon_. Retrieved 28 February 2025.\\n52.   ^ [_**a**_](https://en.wikipedia.org/wiki/Capybara#cite_ref-euronewsmeme_53-0)[_**b**_](https://en.wikipedia.org/wiki/Capybara#cite_ref-euronewsmeme_53-1)Mouriquand, David (4 December 2023). [\"Why are capybaras systematically taking over social media?\"](https://www.euronews.com/culture/2023/04/12/why-are-capybaras-systematically-taking-over-social-media). _Euro News_. Retrieved 24 February 2025.\\n53.   **[^](https://en.wikipedia.org/wiki/Capybara#cite_ref-54)**Lopez, Sophia (1 August 2022). [\"Capybaras are taking over the internet\"](https://thegauntlet.ca/2022/08/01/capybaras-are-taking-over-the-internet/). _The Gauntlet_. Retrieved 2 September 2022.\\n\\nExternal links\\n--------------\\n\\n[![Image 13](https://upload.wikimedia.org/wikipedia/commons/thumb/4/4c/Wikisource-logo.svg/40px-Wikisource-logo.svg.png)](https://en.wikipedia.org/wiki/File:Wikisource-logo.svg)\\n\\n[![Image 14](https://upload.wikimedia.org/wikipedia/commons/thumb/9/99/Wiktionary-logo-en-v2.svg/40px-Wiktionary-logo-en-v2.svg.png)](https://en.wikipedia.org/wiki/File:Wiktionary-logo-en-v2.svg)\\n\\nLook up _**[capybara](https://en.wiktionary.org/wiki/capybara \"wiktionary:capybara\")**_ in Wiktionary, the free dictionary.\\n\\n*   Alan Taylor (29 November 2018). [\"Companionable Capybaras (18 Photos)\"](https://www.theatlantic.com/photo/2018/11/photos-companionable-capybaras/576991/). _The Atlantic_.\\n*   [Animal Diversity Web _Hydrochoerus hydrochaeris_](https://animaldiversity.org/site/accounts/information/Hydrochoerus_hydrochaeris.html)\\n*   [Capybara information](https://capybarafacts.com/)\\n', tool_call_id='call_IuIo78LCgbtylqT6GzezjaiG', timestamp=datetime.datetime(2025, 10, 27, 6, 0, 19, 390869, tzinfo=datetime.timezone.utc))], instructions='You are a fetching agent specialized in retrieving Wikipedia content.\\n\\n**Role:**\\nYour role is to access and extract the main content of a given Wikipedia page accurately.\\n\\n**Objective:**\\n1. Given a Wikipedia URL or topic name, fetch the full textual content of that page.\\n2. Include the title and the main article body only — exclude unrelated sections such as “References,” “See also,” or “External links.”\\n3. Return the content in plain text format suitable for downstream processing by a summarization agent.\\n\\n**Data Source:**\\nUse only the official Wikipedia page corresponding to the given URL or topic. Do not include information from any other websites or your own prior knowledge.')\n",
      "ToolReturnPart(tool_name='fetch_url', content='Title: Capybara\\n\\nURL Source: https://en.wikipedia.org/wiki/Capybara\\n\\nPublished Time: 2001-10-13T20:04:37Z\\n\\nMarkdown Content:\\n[![Image 1: This is a good article. Click here for more information.](https://upload.wikimedia.org/wikipedia/en/thumb/9/94/Symbol_support_vote.svg/20px-Symbol_support_vote.svg.png)](https://en.wikipedia.org/wiki/Wikipedia:Good_articles* \"This is a good article. Click here for more information.\")\\n\\n[![Image 2: Page semi-protected](https://upload.wikimedia.org/wikipedia/en/thumb/1/1b/Semi-protection-shackle.svg/20px-Semi-protection-shackle.svg.png)](https://en.wikipedia.org/wiki/Wikipedia:Protection_policy#semi \"This article is semi-protected until March 17, 2028 at 19:23 UTC.\")\\n\\nFrom Wikipedia, the free encyclopedia\\n\\n| Capybara |\\n| --- |\\n| [![Image 3](https://upload.wikimedia.org/wikipedia/commons/thumb/3/34/Hydrochoeris_hydrochaeris_in_Brazil_in_Petr%C3%B3polis%2C_Rio_de_Janeiro%2C_Brazil_09.jpg/250px-Hydrochoeris_hydrochaeris_in_Brazil_in_Petr%C3%B3polis%2C_Rio_de_Janeiro%2C_Brazil_09.jpg)](https://en.wikipedia.org/wiki/File:Hydrochoeris_hydrochaeris_in_Brazil_in_Petr%C3%B3polis,_Rio_de_Janeiro,_Brazil_09.jpg) |\\n| In [Petrópolis](https://en.wikipedia.org/wiki/Petr%C3%B3polis \"Petrópolis\"), Brazil |\\n| [Conservation status](https://en.wikipedia.org/wiki/Conservation_status \"Conservation status\") |\\n| ![Image 4](https://upload.wikimedia.org/wikipedia/commons/thumb/5/5a/Status_iucn3.1_LC.svg/250px-Status_iucn3.1_LC.svg.png) [Least Concern](https://en.wikipedia.org/wiki/Least_Concern \"Least Concern\")([IUCN 3.1](https://en.wikipedia.org/wiki/IUCN_Red_List \"IUCN Red List\"))[[1]](https://en.wikipedia.org/wiki/Capybara#cite_note-iucn_status_19_November_2021-1) |\\n| [Scientific classification](https://en.wikipedia.org/wiki/Taxonomy_(biology) \"Taxonomy (biology)\")[![Image 5: Edit this classification](https://upload.wikimedia.org/wikipedia/commons/thumb/8/8a/OOjs_UI_icon_edit-ltr.svg/20px-OOjs_UI_icon_edit-ltr.svg.png)](https://en.wikipedia.org/wiki/Template:Taxonomy/Hydrochoerus \"Edit this classification\") |\\n| Kingdom: | [Animalia](https://en.wikipedia.org/wiki/Animal \"Animal\") |\\n| Phylum: | [Chordata](https://en.wikipedia.org/wiki/Chordate \"Chordate\") |\\n| Class: | [Mammalia](https://en.wikipedia.org/wiki/Mammal \"Mammal\") |\\n| Order: | [Rodentia](https://en.wikipedia.org/wiki/Rodent \"Rodent\") |\\n| Family: | [Caviidae](https://en.wikipedia.org/wiki/Caviidae \"Caviidae\") |\\n| Genus: | [_Hydrochoerus_](https://en.wikipedia.org/wiki/Hydrochoerus \"Hydrochoerus\") |\\n| Species: | _**H.hydrochaeris**_ |\\n| [Binomial name](https://en.wikipedia.org/wiki/Binomial_nomenclature \"Binomial nomenclature\") |\\n| **_Hydrochoerus hydrochaeris_** ([Linnaeus](https://en.wikipedia.org/wiki/Carl_Linnaeus \"Carl Linnaeus\"), [1766](https://en.wikipedia.org/wiki/12th_edition_of_Systema_Naturae \"12th edition of Systema Naturae\")) |\\n| [![Image 6](https://upload.wikimedia.org/wikipedia/commons/thumb/e/ee/Capybara_range.svg/250px-Capybara_range.svg.png)](https://en.wikipedia.org/wiki/File:Capybara_range.svg) |\\n| Native range |\\n| [Synonyms](https://en.wikipedia.org/wiki/Synonym_(taxonomy) \"Synonym (taxonomy)\") |\\n| _Sus hydrochaeris_ Linnaeus,1766 |\\n\\nThe **capybara**[[a]](https://en.wikipedia.org/wiki/Capybara#cite_note-2) or **greater capybara** (_**Hydrochoerus hydrochaeris**_) is the largest living rodent,[[2]](https://en.wikipedia.org/wiki/Capybara#cite_note-3) native to [South America](https://en.wikipedia.org/wiki/South_America \"South America\"). It is a member of the genus _[Hydrochoerus](https://en.wikipedia.org/wiki/Hydrochoerus \"Hydrochoerus\")_. Its close relatives include [guinea pigs](https://en.wikipedia.org/wiki/Cavia \"Cavia\") and [rock cavies](https://en.wikipedia.org/wiki/Kerodon \"Kerodon\"), and it is more distantly related to the [agouti](https://en.wikipedia.org/wiki/Agouti \"Agouti\"), the [chinchilla](https://en.wikipedia.org/wiki/Chinchilla \"Chinchilla\"), and the [nutria](https://en.wikipedia.org/wiki/Nutria \"Nutria\"). The capybara inhabits savannas and dense forests, and lives near bodies of water. It is a highly social species and can be found in groups as large as one hundred individuals, but usually live in groups of 10–20 individuals. The capybara is hunted for its meat and hide and also for grease from its thick fatty skin.[[3]](https://en.wikipedia.org/wiki/Capybara#cite_note-4)\\n\\nEtymology\\n---------\\n\\nIts common name is derived from [Tupi](https://en.wikipedia.org/wiki/Tupi_language \"Tupi language\")_ka\\'apiûara_, a complex agglutination of _kaá_ (leaf) + _píi_ (slender) + _ú_ (eat) + _ara_ (a suffix for agent nouns), meaning \"one who eats slender leaves\", or \"grass-eater\".[[4]](https://en.wikipedia.org/wiki/Capybara#cite_note-5) The [genus name](https://en.wikipedia.org/wiki/Genus_name \"Genus name\"), _hydrochoerus_, comes from [Greek](https://en.wikipedia.org/wiki/Ancient_Greek \"Ancient Greek\")ὕδωρ (_\\\\_hýdor\\\\__ \"water\") and χοῖρος (_\\\\_choíros\\\\__ \"pig, hog\") and the species name, _hydrochaeris_, comes from Greek ὕδωρ (_\\\\_hýdor\\\\__ \"water\") and χαίρω (_\\\\_chairo\\\\__ \"feel happy, enjoy\").[[5]](https://en.wikipedia.org/wiki/Capybara#cite_note-msw3-6)[[6]](https://en.wikipedia.org/wiki/Capybara#cite_note-inDarwin-7)\\n\\nClassification and phylogeny\\n----------------------------\\n\\nThe capybara and the [lesser capybara](https://en.wikipedia.org/wiki/Lesser_capybara \"Lesser capybara\") both belong to the subfamily [Hydrochoerinae](https://en.wikipedia.org/wiki/Hydrochoerinae \"Hydrochoerinae\") along with the [rock cavies](https://en.wikipedia.org/wiki/Kerodon \"Kerodon\"). The living capybaras and their extinct relatives were previously classified in their own family Hydrochoeridae.[[7]](https://en.wikipedia.org/wiki/Capybara#cite_note-r4-8) Since 2002, molecular phylogenetic studies have recognized a close relationship between _Hydrochoerus_ and _[Kerodon](https://en.wikipedia.org/wiki/Kerodon \"Kerodon\")_, the rock cavies,[[8]](https://en.wikipedia.org/wiki/Capybara#cite_note-Rowe_2002-9) supporting placement of both genera in a subfamily of [Caviidae](https://en.wikipedia.org/wiki/Caviidae \"Caviidae\").[[5]](https://en.wikipedia.org/wiki/Capybara#cite_note-msw3-6)\\n\\nPaleontological classifications previously used Hydrochoeridae for all capybaras, while using Hydrochoerinae for the living genus and its closest fossil relatives, such as _[Neochoerus](https://en.wikipedia.org/wiki/Neochoerus \"Neochoerus\")_,[[9]](https://en.wikipedia.org/wiki/Capybara#cite_note-Vucetich_2005-10)[[10]](https://en.wikipedia.org/wiki/Capybara#cite_note-Deschamp_2007-11) but more recently have adopted the classification of Hydrochoerinae within Caviidae.[[11]](https://en.wikipedia.org/wiki/Capybara#cite_note-Cerde%C3%B1o_2019-12) The taxonomy of fossil hydrochoerines is also in a state of flux. In recent years, the diversity of fossil hydrochoerines has been substantially reduced.[[9]](https://en.wikipedia.org/wiki/Capybara#cite_note-Vucetich_2005-10)[[10]](https://en.wikipedia.org/wiki/Capybara#cite_note-Deschamp_2007-11) This is largely due to the recognition that capybara molar teeth show strong variation in shape over the life of an individual. In one instance, material once referred to four genera and seven species on the basis of differences in molar shape is now thought to represent differently aged individuals of a single species, _Cardiatherium paranense_.[[9]](https://en.wikipedia.org/wiki/Capybara#cite_note-Vucetich_2005-10) Among fossil species, the name \"capybara\" can refer to the many species of Hydrochoerinae that are more closely related to the modern _Hydrochoerus_ than to the \"cardiomyine\" rodents like _Cardiomys_. The fossil genera _Cardiatherium_, _Phugatherium_, _Hydrochoeropsis_, and _Neochoerus_ are all capybaras under that concept.[[11]](https://en.wikipedia.org/wiki/Capybara#cite_note-Cerde%C3%B1o_2019-12)\\n\\nDescription\\n-----------\\n\\n[![Image 7: Taxidermy specimen of a capybara](https://upload.wikimedia.org/wikipedia/commons/thumb/6/64/Taxidermy_specimen_of_Capybara_%28Hydrochoerus_hydrochaeris%29.jpg/250px-Taxidermy_specimen_of_Capybara_%28Hydrochoerus_hydrochaeris%29.jpg)](https://en.wikipedia.org/wiki/File:Taxidermy_specimen_of_Capybara_(Hydrochoerus_hydrochaeris).jpg)\\n\\n[![Image 8: Skeleton of a capybara](https://upload.wikimedia.org/wikipedia/commons/thumb/5/59/Capybara_skeleton.jpg/250px-Capybara_skeleton.jpg)](https://en.wikipedia.org/wiki/File:Capybara_skeleton.jpg)\\n\\nFrom left to right: Taxidermy specimen and skeleton of a capybara\\n\\nThe capybara has a heavy, barrel-shaped body and short head, with reddish-brown fur on the upper part of its body that turns yellowish-brown underneath. Its sweat glands can be found in the surface of the hairy portions of its skin, an unusual trait among rodents.[[7]](https://en.wikipedia.org/wiki/Capybara#cite_note-r4-8) The animal lacks [down hair](https://en.wikipedia.org/wiki/Fur#Down_hair \"Fur\"), and its [guard hair](https://en.wikipedia.org/wiki/Fur#Guard_hair \"Fur\") differs little from over hair.[[12]](https://en.wikipedia.org/wiki/Capybara#cite_note-13)\\n\\nAdult capybaras grow to 106 to 134 cm (3.48 to 4.40 ft) in length, stand 50 to 62 cm (20 to 24 in) tall at the [withers](https://en.wikipedia.org/wiki/Withers \"Withers\"), and typically weigh 35 to 66 kg (77 to 146 lb), with an average in the Venezuelan [llanos](https://en.wikipedia.org/wiki/Llanos \"Llanos\") of 48.9 kg (108 lb).[[13]](https://en.wikipedia.org/wiki/Capybara#cite_note-Arkive-14)[[14]](https://en.wikipedia.org/wiki/Capybara#cite_note-Smithsonian-15)[[15]](https://en.wikipedia.org/wiki/Capybara#cite_note-Palm_Beach_Zoo-16) Females are slightly heavier than males. The top recorded weights are 91 kg (201 lb) for a wild female from Brazil and 73.5 kg (162 lb) for a wild male from Uruguay.[[7]](https://en.wikipedia.org/wiki/Capybara#cite_note-r4-8)[[16]](https://en.wikipedia.org/wiki/Capybara#cite_note-r3-17) Also, an 81 kg individual was reported in São Paulo in 2001 or 2002.[[17]](https://en.wikipedia.org/wiki/Capybara#cite_note-18) The [dental formula](https://en.wikipedia.org/wiki/Dental_formula \"Dental formula\") is 1.0.1.3 1.0.1.3. Capybaras have slightly [webbed](https://en.wikipedia.org/wiki/Interdigital_webbing \"Interdigital webbing\") feet and [vestigial](https://en.wikipedia.org/wiki/Vestigiality \"Vestigiality\") tails.[[7]](https://en.wikipedia.org/wiki/Capybara#cite_note-r4-8) Their hind legs are slightly longer than their forelegs; they have three toes on their rear feet and four toes on their front feet.[[18]](https://en.wikipedia.org/wiki/Capybara#cite_note-enchantedlearning.com-19) Their muzzles are blunt, with nostrils, and the eyes and ears are near the top of their heads.\\n\\nIts [karyotype](https://en.wikipedia.org/wiki/Karyotype \"Karyotype\") has [2n](https://en.wikipedia.org/wiki/Diploid \"Diploid\") = 66 and [FN](https://en.wikipedia.org/wiki/Fundamental_number \"Fundamental number\") = 102, meaning it has 66 chromosomes with a total of 102 arms.[[5]](https://en.wikipedia.org/wiki/Capybara#cite_note-msw3-6)[[7]](https://en.wikipedia.org/wiki/Capybara#cite_note-r4-8)\\n\\nEcology\\n-------\\n\\n[![Image 9](https://upload.wikimedia.org/wikipedia/commons/thumb/e/e1/Cattle_tyrant_%28Machetornis_rixosa%29_on_Capybara.jpg/250px-Cattle_tyrant_%28Machetornis_rixosa%29_on_Capybara.jpg)](https://en.wikipedia.org/wiki/File:Cattle_tyrant_(Machetornis_rixosa)_on_Capybara.jpg)\\n\\n[Cattle tyrant](https://en.wikipedia.org/wiki/Cattle_tyrant \"Cattle tyrant\") on a capybara\\n\\nCapybaras are [semiaquatic](https://en.wikipedia.org/wiki/Semiaquatic \"Semiaquatic\") mammals[[15]](https://en.wikipedia.org/wiki/Capybara#cite_note-Palm_Beach_Zoo-16) found throughout all countries of South America except [Chile](https://en.wikipedia.org/wiki/Chile \"Chile\").[[19]](https://en.wikipedia.org/wiki/Capybara#cite_note-Bristol-20) They live in densely forested areas near bodies of water, such as lakes, rivers, swamps, ponds, and marshes,[[14]](https://en.wikipedia.org/wiki/Capybara#cite_note-Smithsonian-15) as well as flooded savannah and along rivers in the tropical rainforest. They are superb swimmers and can hold their breath underwater for up to five minutes at a time. Capybara have flourished in cattle ranches. They roam in home ranges averaging 10 hectares (25 acres) in high-density populations.[[7]](https://en.wikipedia.org/wiki/Capybara#cite_note-r4-8)\\n\\nMany escapees from captivity can also be found in similar watery habitats around the world. Sightings are fairly common in [Florida](https://en.wikipedia.org/wiki/Florida \"Florida\"), although a breeding population has not yet been confirmed.[[20]](https://en.wikipedia.org/wiki/Capybara#cite_note-21) In 2011, one specimen was spotted on the [Central Coast of California](https://en.wikipedia.org/wiki/Central_Coast_(California) \"Central Coast (California)\").[[21]](https://en.wikipedia.org/wiki/Capybara#cite_note-22) These escaped populations occur in areas where prehistoric capybaras inhabited; [late Pleistocene](https://en.wikipedia.org/wiki/Late_Pleistocene \"Late Pleistocene\") capybaras inhabited Florida[[22]](https://en.wikipedia.org/wiki/Capybara#cite_note-23) and _[Hydrochoerus hesperotiganites](https://en.wikipedia.org/wiki/Hydrochoerus\\\\_hesperotiganites \"Hydrochoerus hesperotiganites\")_ in [California](https://en.wikipedia.org/wiki/California \"California\") and _[Hydrochoerus gaylordi](https://en.wikipedia.org/wiki/Hydrochoerus\\\\_gaylordi \"Hydrochoerus gaylordi\")_ in [Grenada](https://en.wikipedia.org/wiki/Grenada \"Grenada\"), and feral capybaras in North America may actually fill the ecological niche of the Pleistocene species.[[23]](https://en.wikipedia.org/wiki/Capybara#cite_note-24)\\n\\n### Diet and predation\\n\\n[![Image 10](https://upload.wikimedia.org/wikipedia/commons/thumb/9/96/Capybara_Eating_Hay_11_11_2018.jpg/250px-Capybara_Eating_Hay_11_11_2018.jpg)](https://en.wikipedia.org/wiki/File:Capybara_Eating_Hay_11_11_2018.jpg)\\n\\nA capybara eating hay at [Franklin Park Zoo](https://en.wikipedia.org/wiki/Franklin_Park_Zoo \"Franklin Park Zoo\"), Boston, Massachusetts\\n\\nCapybaras are [herbivores](https://en.wikipedia.org/wiki/Herbivore \"Herbivore\"), grazing mainly on grasses and [aquatic plants](https://en.wikipedia.org/wiki/Aquatic_plants \"Aquatic plants\"),[[14]](https://en.wikipedia.org/wiki/Capybara#cite_note-Smithsonian-15)[[24]](https://en.wikipedia.org/wiki/Capybara#cite_note-RevBiolTrop-25) as well as fruit and tree bark.[[15]](https://en.wikipedia.org/wiki/Capybara#cite_note-Palm_Beach_Zoo-16) They are very selective feeders[[25]](https://en.wikipedia.org/wiki/Capybara#cite_note-Quintana_1998-26) and feed on the leaves of one species and disregard other species surrounding it. They eat a greater variety of plants during the dry season, as fewer plants are available. While they eat grass during the wet season, they have to switch to more abundant reeds during the dry season.[[26]](https://en.wikipedia.org/wiki/Capybara#cite_note-Barreto_1998-27) Plants that capybaras eat during the summer lose their nutritional value in the winter, so they are not consumed at that time.[[25]](https://en.wikipedia.org/wiki/Capybara#cite_note-Quintana_1998-26) The capybara\\'s jaw hinge is not perpendicular, so they chew food by grinding back-and-forth rather than side-to-side.[[27]](https://en.wikipedia.org/wiki/Capybara#cite_note-SFZoo-28) Capybaras are [autocoprophagous](https://en.wikipedia.org/wiki/Coprophagous \"Coprophagous\"),[[28]](https://en.wikipedia.org/wiki/Capybara#cite_note-taronga-zoo-29) meaning they eat their own feces as a source of bacterial [gut flora](https://en.wikipedia.org/wiki/Gut_flora \"Gut flora\"), to help digest the [cellulose](https://en.wikipedia.org/wiki/Cellulose \"Cellulose\") in the grass that forms their normal diet, and to extract the maximum protein and vitamins from their food. They also regurgitate food to masticate again, similar to cud-chewing by cattle.[[28]](https://en.wikipedia.org/wiki/Capybara#cite_note-taronga-zoo-29)[[29]](https://en.wikipedia.org/wiki/Capybara#cite_note-Lord-Rexford_1994-30) Like other rodents, a capybara\\'s front teeth grow continually to compensate for the constant wear from eating grasses;[[19]](https://en.wikipedia.org/wiki/Capybara#cite_note-Bristol-20) their cheek teeth also grow continuously.[[27]](https://en.wikipedia.org/wiki/Capybara#cite_note-SFZoo-28)\\n\\nLike its relative the guinea pig, the capybara does not have the capacity to synthesize [vitamin C](https://en.wikipedia.org/wiki/Vitamin_C \"Vitamin C\"), and capybaras not supplemented with vitamin C in captivity have been reported to develop [gum disease](https://en.wikipedia.org/wiki/Periodontal_disease \"Periodontal disease\") as a sign of [scurvy](https://en.wikipedia.org/wiki/Scurvy \"Scurvy\").[[30]](https://en.wikipedia.org/wiki/Capybara#cite_note-r2-31)\\n\\nThe maximum lifespan of the capybara is 8 to 10 years,[[31]](https://en.wikipedia.org/wiki/Capybara#cite_note-r6-32) but in the wild capybaras usually do not live longer than four years because of predation from South American [big cats](https://en.wikipedia.org/wiki/Big_cats \"Big cats\") such as [jaguars](https://en.wikipedia.org/wiki/Jaguar \"Jaguar\") and [cougars](https://en.wikipedia.org/wiki/Cougar \"Cougar\") and from non-mammalian predators such as [harpy eagles](https://en.wikipedia.org/wiki/Harpy_eagle \"Harpy eagle\"), [caimans](https://en.wikipedia.org/wiki/Caiman \"Caiman\"), [green anacondas](https://en.wikipedia.org/wiki/Eunectes_murinus \"Eunectes murinus\") and [piranhas](https://en.wikipedia.org/wiki/Piranha \"Piranha\").[[19]](https://en.wikipedia.org/wiki/Capybara#cite_note-Bristol-20)[[32]](https://en.wikipedia.org/wiki/Capybara#cite_note-SoundsandColours-33)\\n\\n[![Image 11](https://upload.wikimedia.org/wikipedia/commons/thumb/3/32/Capybara_%28Hydrochoerus_hydrochaeris%29_alpha_male.JPG/250px-Capybara_%28Hydrochoerus_hydrochaeris%29_alpha_male.JPG)](https://en.wikipedia.org/wiki/File:Capybara_(Hydrochoerus_hydrochaeris)_alpha_male.JPG)\\n\\nCapybaras have a scent gland on their noses.\\n\\nCapybaras are known to be [gregarious](https://en.wikipedia.org/wiki/Gregarious \"Gregarious\"). While they sometimes live solitarily, they are more commonly found in groups of around 10–20 individuals, with two to four adult males, four to seven adult females, and the remainder juveniles.[[33]](https://en.wikipedia.org/wiki/Capybara#cite_note-Alho_1987-34) Capybara groups can consist of as many as 50 or 100 individuals during the dry season[[29]](https://en.wikipedia.org/wiki/Capybara#cite_note-Lord-Rexford_1994-30)[[34]](https://en.wikipedia.org/wiki/Capybara#cite_note-Macdonald_1981-35) when the animals gather around available water sources. Males establish social bonds, dominance, or general group consensus.[[34]](https://en.wikipedia.org/wiki/Capybara#cite_note-Macdonald_1981-35) They can make dog-like barks[[29]](https://en.wikipedia.org/wiki/Capybara#cite_note-Lord-Rexford_1994-30) when threatened or when females are herding young.[[35]](https://en.wikipedia.org/wiki/Capybara#cite_note-Murphey_1985-36)\\n\\nCapybaras have two types of [scent glands](https://en.wikipedia.org/wiki/Scent_gland \"Scent gland\"): a morrillo, located on the snout, and [anal glands](https://en.wikipedia.org/wiki/Anal_gland \"Anal gland\"). Both sexes have these glands, but males have much larger morrillos and use their anal glands more frequently. The anal glands of males are also lined with detachable hairs. A crystalline form of scent secretion is coated on these hairs and is released when in contact with objects such as plants. These hairs have a longer-lasting scent mark and are tasted by other capybaras. Capybaras scent-mark by rubbing their morrillos on objects, or by walking over scrub and marking it with their anal glands. Capybaras can spread their scent farther by urinating; however, females usually mark without urinating and scent-mark less frequently than males overall. Females mark more often during the wet season when they are in [estrus](https://en.wikipedia.org/wiki/Estrus \"Estrus\"). In addition to objects, males also scent-mark females.[[36]](https://en.wikipedia.org/wiki/Capybara#cite_note-Macdonald_1984-37)\\n\\n### Reproduction\\n\\n[![Image 12](https://upload.wikimedia.org/wikipedia/commons/thumb/c/c9/Young_capybaras.jpg/250px-Young_capybaras.jpg)](https://en.wikipedia.org/wiki/File:Young_capybaras.jpg)\\n\\nMother with typical litter of about four pups\\n\\nWhen in [estrus](https://en.wikipedia.org/wiki/Estrus \"Estrus\"), the female\\'s scent changes subtly and nearby males begin pursuit.[[37]](https://en.wikipedia.org/wiki/Capybara#cite_note-Herrera_1993-38) In addition, a female alerts males she is in estrus by whistling through her nose.[[29]](https://en.wikipedia.org/wiki/Capybara#cite_note-Lord-Rexford_1994-30) During mating, the female has the advantage and mating choice. Capybaras mate only in water, and if a female does not want to mate with a certain male, she either submerges or leaves the water.[[29]](https://en.wikipedia.org/wiki/Capybara#cite_note-Lord-Rexford_1994-30)[[34]](https://en.wikipedia.org/wiki/Capybara#cite_note-Macdonald_1981-35) Dominant males are highly protective of the females, but they usually cannot prevent some of the subordinates from copulating. The larger the group, the harder it is for the male to watch all the females. Dominant males secure significantly more matings than each subordinate, but subordinate males, as a class, are responsible for more matings than each dominant male.[[37]](https://en.wikipedia.org/wiki/Capybara#cite_note-Herrera_1993-38) The lifespan of the capybara\\'s sperm is longer than that of other rodents.[[38]](https://en.wikipedia.org/wiki/Capybara#cite_note-r1-39) Capybara [gestation](https://en.wikipedia.org/wiki/Gestation \"Gestation\") is 130–150 days, and produces a litter of four young on average, but may produce between one and eight in a single litter.[[7]](https://en.wikipedia.org/wiki/Capybara#cite_note-r4-8) Birth is on land and the female rejoins the group within a few hours of delivering the newborn capybaras, which join the group as soon as they are mobile. Within a week, the young can eat grass, but continue to suckle—from any female in the group—until weaned around 16 weeks. The young form a group within the main group.[[19]](https://en.wikipedia.org/wiki/Capybara#cite_note-Bristol-20)[Alloparenting](https://en.wikipedia.org/wiki/Alloparenting \"Alloparenting\") has been observed in this species.[[34]](https://en.wikipedia.org/wiki/Capybara#cite_note-Macdonald_1981-35) Breeding peaks between April and May in Venezuela and between October and November in [Mato Grosso](https://en.wikipedia.org/wiki/Mato_Grosso \"Mato Grosso\"), Brazil.[[7]](https://en.wikipedia.org/wiki/Capybara#cite_note-r4-8)\\n\\n### Activities\\n\\nThough quite agile on land, capybaras are equally at home in the water. They are excellent swimmers, and can remain completely submerged for up to five minutes,[[14]](https://en.wikipedia.org/wiki/Capybara#cite_note-Smithsonian-15) an ability they use to evade predators. Capybaras can sleep in water, keeping only their noses out. As temperatures increase during the day, they wallow in water and then graze during the late afternoon and early evening.[[7]](https://en.wikipedia.org/wiki/Capybara#cite_note-r4-8) They also spend time wallowing in mud.[[18]](https://en.wikipedia.org/wiki/Capybara#cite_note-enchantedlearning.com-19) They rest around midnight and then continue to graze before dawn.[[7]](https://en.wikipedia.org/wiki/Capybara#cite_note-r4-8)\\n\\n### Communication\\n\\nCapybaras communicate using barks, chirps, whistles, huffs, and purrs.[[39]](https://en.wikipedia.org/wiki/Capybara#cite_note-40)\\n\\nA capybara in captivity, 2009\\n\\nConservation and human interaction\\n----------------------------------\\n\\nCapybaras are not considered a threatened species;[[1]](https://en.wikipedia.org/wiki/Capybara#cite_note-iucn_status_19_November_2021-1) their population is stable throughout most of their South American range, though in some areas hunting has reduced their numbers.[[14]](https://en.wikipedia.org/wiki/Capybara#cite_note-Smithsonian-15)[[19]](https://en.wikipedia.org/wiki/Capybara#cite_note-Bristol-20) Capybaras are hunted for their meat and pelts in some areas,[[40]](https://en.wikipedia.org/wiki/Capybara#cite_note-inRich-41) and otherwise killed by humans who see their grazing as competition for livestock. In some areas, they are farmed, which has the effect of ensuring the wetland habitats are protected. Their survival is aided by their ability to breed rapidly.[[19]](https://en.wikipedia.org/wiki/Capybara#cite_note-Bristol-20)\\n\\nCapybaras have adapted well to urbanization in South America. They can be found in many areas in zoos and parks,[[27]](https://en.wikipedia.org/wiki/Capybara#cite_note-SFZoo-28) and may live for 12 years in captivity, more than double their wild lifespan.[[19]](https://en.wikipedia.org/wiki/Capybara#cite_note-Bristol-20) Capybaras are docile and usually allow humans to pet and hand-feed them, but physical contact is normally discouraged, as their [ticks](https://en.wikipedia.org/wiki/Tick \"Tick\") can be [vectors](https://en.wikipedia.org/wiki/Vector_(epidemiology) \"Vector (epidemiology)\") to [Rocky Mountain spotted fever](https://en.wikipedia.org/wiki/Rocky_Mountain_spotted_fever \"Rocky Mountain spotted fever\").[[41]](https://en.wikipedia.org/wiki/Capybara#cite_note-42) The [European Association of Zoos and Aquaria](https://en.wikipedia.org/wiki/European_Association_of_Zoos_and_Aquaria \"European Association of Zoos and Aquaria\") asked [Drusillas Park](https://en.wikipedia.org/wiki/Drusillas_Park \"Drusillas Park\") in [Alfriston](https://en.wikipedia.org/wiki/Alfriston \"Alfriston\"), [Sussex](https://en.wikipedia.org/wiki/Sussex \"Sussex\"), England, to keep the [studbook](https://en.wikipedia.org/wiki/Studbook \"Studbook\") for capybaras, to monitor captive populations in Europe. The studbook includes information about all births, deaths and movements of capybaras, as well as how they are related.[[42]](https://en.wikipedia.org/wiki/Capybara#cite_note-43)\\n\\nCapybaras are farmed for meat and skins in South America.[[43]](https://en.wikipedia.org/wiki/Capybara#cite_note-SDzoo-44) The meat is considered unsuitable to eat in some areas, while in other areas it is considered an important source of protein.[[7]](https://en.wikipedia.org/wiki/Capybara#cite_note-r4-8) In parts of South America, especially in Venezuela, capybara meat is popular during [Lent](https://en.wikipedia.org/wiki/Lent \"Lent\") and [Holy Week](https://en.wikipedia.org/wiki/Holy_Week \"Holy Week\") as the Catholic Church (according to a legend) previously issued special dispensation to allow it to be eaten while other meats are [generally forbidden](https://en.wikipedia.org/wiki/Fasting_and_abstinence_in_the_Catholic_Church \"Fasting and abstinence in the Catholic Church\").[[44]](https://en.wikipedia.org/wiki/Capybara#cite_note-NYSun-45)[[45]](https://en.wikipedia.org/wiki/Capybara#cite_note-NYTimes2007-46) There is widespread perception in Venezuela that consumption of capybaras is exclusive to rural people.[[45]](https://en.wikipedia.org/wiki/Capybara#cite_note-NYTimes2007-46)\\n\\nIn August 2021, Argentine and international media reported that capybaras had been disturbing residents of [Nordelta](https://en.wikipedia.org/wiki/Nordelta \"Nordelta\"), an affluent gated community north of [Buenos Aires](https://en.wikipedia.org/wiki/Buenos_Aires \"Buenos Aires\") built atop the local capybara\\'s preexisting wetland habitat. This inspired social media users to jokingly adopt the capybara as a symbol of [class struggle](https://en.wikipedia.org/wiki/Class_struggle \"Class struggle\") and [communism](https://en.wikipedia.org/wiki/Communism \"Communism\").[[46]](https://en.wikipedia.org/wiki/Capybara#cite_note-TheGuardian_20210822-47) Brazilian Lyme-like [borreliosis](https://en.wikipedia.org/wiki/Borreliosis \"Borreliosis\") likely involves capybaras as reservoirs and _[Amblyomma](https://en.wikipedia.org/wiki/Amblyomma \"Amblyomma\")_ and _[Rhipicephalus](https://en.wikipedia.org/wiki/Rhipicephalus \"Rhipicephalus\")_ ticks as vectors.[[47]](https://en.wikipedia.org/wiki/Capybara#cite_note-48)\\n\\nA [Capybara café](https://en.wikipedia.org/wiki/Animal_cafe#Capybara_caf%C3%A9 \"Animal cafe\") in [St. Augustine](https://en.wikipedia.org/wiki/St._Augustine,_Florida \"St. Augustine, Florida\"), [Florida](https://en.wikipedia.org/wiki/Florida \"Florida\") allows visitors to interact with and give head scratches to the rodents.[[48]](https://en.wikipedia.org/wiki/Capybara#cite_note-49)\\n\\nIn popular culture\\n------------------\\n\\n[Izu Shaboten Zoo](https://en.wikipedia.org/wiki/Izu_Shaboten_Zoo \"Izu Shaboten Zoo\") and other zoos in Japan have prepared [hot spring baths](https://en.wikipedia.org/wiki/Onsen \"Onsen\") for capybaras.[[49]](https://en.wikipedia.org/wiki/Capybara#cite_note-reuters-50) Video clips of the bathing capybaras have gained millions of views.[[49]](https://en.wikipedia.org/wiki/Capybara#cite_note-reuters-50) The capybaras have influenced an anime character named _Kapibara-san_, and a series of merchandise such as [plush toys](https://en.wikipedia.org/wiki/Plush_toy \"Plush toy\").[[50]](https://en.wikipedia.org/wiki/Capybara#cite_note-51)\\n\\nCapybaras have long been a figure in [meme culture](https://en.wikipedia.org/wiki/Internet_meme \"Internet meme\"),[[51]](https://en.wikipedia.org/wiki/Capybara#cite_note-52) particularly in the 2020s.[[52]](https://en.wikipedia.org/wiki/Capybara#cite_note-euronewsmeme-53) In 2022, [Peronists](https://en.wikipedia.org/wiki/Peronists \"Peronists\") in Argentina presented them as figures of class struggle after the disturbances in Nordelta.[[46]](https://en.wikipedia.org/wiki/Capybara#cite_note-TheGuardian_20210822-47) Common meme formats pair capybaras with the song \"[After Party](https://en.wikipedia.org/wiki/After_Party_(song) \"After Party (song)\")\" by [Don Toliver](https://en.wikipedia.org/wiki/Don_Toliver \"Don Toliver\").[[52]](https://en.wikipedia.org/wiki/Capybara#cite_note-euronewsmeme-53)[[53]](https://en.wikipedia.org/wiki/Capybara#cite_note-54)\\n\\nSee also\\n--------\\n\\n*   _[Josephoartigasia monesi](https://en.wikipedia.org/wiki/Josephoartigasia\\\\_monesi \"Josephoartigasia monesi\")_, an extinct species identified as the largest known rodent ever\\n*   [Kurloff cell](https://en.wikipedia.org/wiki/Kurloff_cell \"Kurloff cell\"), a type of cell found in capybaras and guinea pigs\\n*   _[Capybara Walking](https://en.wikipedia.org/wiki/Capybara\\\\_Walking \"Capybara Walking\")_, a historical animal locomotion film by [Eadweard Muybridge](https://en.wikipedia.org/wiki/Eadweard_Muybridge \"Eadweard Muybridge\")\\n\\nNotes\\n-----\\n\\n1.   **[^](https://en.wikipedia.org/wiki/Capybara#cite_ref-2)** Also referred as **capivara** (in Brazil), **capiguara** (in Bolivia), **chigüire**, **chigüiro**, or **fercho** (in Colombia and Venezuela), **carpincho** (in Argentina, Paraguay and Uruguay) and **ronsoco** (in Peru).\\n\\nReferences\\n----------\\n\\n1.   ^ [_**a**_](https://en.wikipedia.org/wiki/Capybara#cite_ref-iucn_status_19_November_2021_1-0)[_**b**_](https://en.wikipedia.org/wiki/Capybara#cite_ref-iucn_status_19_November_2021_1-1)Reid, F. (2016). [\"_Hydrochoerus hydrochaeris_\"](https://www.iucnredlist.org/species/10300/22190005). _[IUCN Red List of Threatened Species](https://en.wikipedia.org/wiki/IUCN\\\\_Red\\\\_List \"IUCN Red List\")_. **2016** e.T10300A22190005. [doi](https://en.wikipedia.org/wiki/Doi_(identifier) \"Doi (identifier)\"):[10.2305/IUCN.UK.2016-2.RLTS.T10300A22190005.en](https://doi.org/10.2305%2FIUCN.UK.2016-2.RLTS.T10300A22190005.en). Retrieved 19 November 2021.\\n2.   **[^](https://en.wikipedia.org/wiki/Capybara#cite_ref-3)**Basic Biology (2015). [\"Rodents\"](https://basicbiology.net/animal/mammals/rodents).\\n3.   **[^](https://en.wikipedia.org/wiki/Capybara#cite_ref-4)**[Capybara (_Hydrochoerus hydrochaeris_)](http://www.arkive.org/capybara/hydrochoerus-hydrochaeris/)[Archived](https://web.archive.org/web/20120103075238/http://www.arkive.org/capybara/hydrochoerus-hydrochaeris/) 2012-01-03 at the [Wayback Machine](https://en.wikipedia.org/wiki/Wayback_Machine \"Wayback Machine\"). ARKive.org\\n4.   **[^](https://en.wikipedia.org/wiki/Capybara#cite_ref-5)**Ferreira, A. B. H. (1986) _[Novo Dicionário da Língua Portuguesa](https://en.wikipedia.org/wiki/Novo\\\\_Dicion%C3%A1rio\\\\_da\\\\_L%C3%ADngua\\\\_Portuguesa \"Novo Dicionário da Língua Portuguesa\")_, 2nd ed., Rio de Janeiro: Nova Fronteira, p.344\\n5.   ^ [_**a**_](https://en.wikipedia.org/wiki/Capybara#cite_ref-msw3_6-0)[_**b**_](https://en.wikipedia.org/wiki/Capybara#cite_ref-msw3_6-1)[_**c**_](https://en.wikipedia.org/wiki/Capybara#cite_ref-msw3_6-2)Woods, C.A.; Kilpatrick, C.W. (2005). [\"Infraorder Hystricognathi\"](http://www.departments.bucknell.edu/biology/resources/msw3/browse.asp?id=13400218). In [Wilson, D.E.](https://en.wikipedia.org/wiki/Don_E._Wilson \"Don E. Wilson\"); Reeder, D.M (eds.). [_Mammal Species of the World: A Taxonomic and Geographic Reference_](http://www.google.com/books?id=JgAMbNSt8ikC&pg=PA1556) (3rd ed.). Johns Hopkins University Press. p.1556. [ISBN](https://en.wikipedia.org/wiki/ISBN_(identifier) \"ISBN (identifier)\")[978-0-8018-8221-0](https://en.wikipedia.org/wiki/Special:BookSources/978-0-8018-8221-0 \"Special:BookSources/978-0-8018-8221-0\"). [OCLC](https://en.wikipedia.org/wiki/OCLC_(identifier) \"OCLC (identifier)\")[62265494](https://search.worldcat.org/oclc/62265494).\\n6.   **[^](https://en.wikipedia.org/wiki/Capybara#cite_ref-inDarwin_7-0)**[Darwin, Charles R.](https://en.wikipedia.org/wiki/Charles_Darwin \"Charles Darwin\") (1839). [_Narrative of the surveying voyages of His Majesty\\'s Ships Adventure and Beagle between the years 1826 and 1836, describing their examination of the southern shores of South America, and the Beagle\\'s circumnavigation of the globe. Journal and remarks. 1832–1836_](https://en.wikipedia.org/wiki/The_Voyage_of_the_Beagle \"The Voyage of the Beagle\"). London: [Henry Colburn](https://en.wikipedia.org/wiki/Henry_Colburn \"Henry Colburn\"). p.619.\\n    *   In page 57, Darwin says \"The largest gnawing animal in the world, the _Hydrochærus Capybara_ (the water-hog), is here also common.\"\\n    *   See it also in [The Complete Work of Charles Darwin Online](http://darwin-online.org.uk/content/frameset?itemID=F10.3&viewtype=side&pageseq=1)\\n\\n7.   ^ [_**a**_](https://en.wikipedia.org/wiki/Capybara#cite_ref-r4_8-0)[_**b**_](https://en.wikipedia.org/wiki/Capybara#cite_ref-r4_8-1)[_**c**_](https://en.wikipedia.org/wiki/Capybara#cite_ref-r4_8-2)[_**d**_](https://en.wikipedia.org/wiki/Capybara#cite_ref-r4_8-3)[_**e**_](https://en.wikipedia.org/wiki/Capybara#cite_ref-r4_8-4)[_**f**_](https://en.wikipedia.org/wiki/Capybara#cite_ref-r4_8-5)[_**g**_](https://en.wikipedia.org/wiki/Capybara#cite_ref-r4_8-6)[_**h**_](https://en.wikipedia.org/wiki/Capybara#cite_ref-r4_8-7)[_**i**_](https://en.wikipedia.org/wiki/Capybara#cite_ref-r4_8-8)[_**j**_](https://en.wikipedia.org/wiki/Capybara#cite_ref-r4_8-9)[_**k**_](https://en.wikipedia.org/wiki/Capybara#cite_ref-r4_8-10)Mones, Alvaro; Ojasti, Juhani (16 June 1986). [\"Hydrochoerus hydrochaeris\"](https://doi.org/10.2307%2F3503784). _Mammalian Species_ (264): 1–7. [doi](https://en.wikipedia.org/wiki/Doi_(identifier) \"Doi (identifier)\"):[10.2307/3503784](https://doi.org/10.2307%2F3503784). [JSTOR](https://en.wikipedia.org/wiki/JSTOR_(identifier) \"JSTOR (identifier)\")[3503784](https://www.jstor.org/stable/3503784). [S2CID](https://en.wikipedia.org/wiki/S2CID_(identifier) \"S2CID (identifier)\")[250991487](https://api.semanticscholar.org/CorpusID:250991487).\\n8.   **[^](https://en.wikipedia.org/wiki/Capybara#cite_ref-Rowe_2002_9-0)**Rowe, Diane L.; Honeycutt, Rodney L. (March 2002). [\"Phylogenetic Relationships, Ecological Correlates, and Molecular Evolution Within the Cavioidea (Mammalia, Rodentia)\"](https://doi.org/10.1093%2Foxfordjournals.molbev.a004080). _Molecular Biology and Evolution_. **19** (3): 263–277. [doi](https://en.wikipedia.org/wiki/Doi_(identifier) \"Doi (identifier)\"):[10.1093/oxfordjournals.molbev.a004080](https://doi.org/10.1093%2Foxfordjournals.molbev.a004080). [PMID](https://en.wikipedia.org/wiki/PMID_(identifier) \"PMID (identifier)\")[11861886](https://pubmed.ncbi.nlm.nih.gov/11861886).\\n9.   ^ [_**a**_](https://en.wikipedia.org/wiki/Capybara#cite_ref-Vucetich_2005_10-0)[_**b**_](https://en.wikipedia.org/wiki/Capybara#cite_ref-Vucetich_2005_10-1)[_**c**_](https://en.wikipedia.org/wiki/Capybara#cite_ref-Vucetich_2005_10-2)Vucetich, María G.; Deschamps, Cecilia M.; Olivares, Itatí; Dozo, María T. (2005). [\"Capybaras, size, shape, and time: A model kit\"](https://www.app.pan.pl/article/item/app50-259.html). _Acta Palaeontologica Polonica_. **50** (2): 259–272.\\n10.   ^ [_**a**_](https://en.wikipedia.org/wiki/Capybara#cite_ref-Deschamp_2007_11-0)[_**b**_](https://en.wikipedia.org/wiki/Capybara#cite_ref-Deschamp_2007_11-1)Deschamps, Cecilia M.; Olivares, Itatí; Vieytes, Emma Carolina; Vucetich, María Guiomar (12 September 2007). \"Ontogeny and diversity of the oldest capybaras (Rodentia: Hydrochoeridae; late Miocene of Argentina)\". _Journal of Vertebrate Paleontology_. **27** (3): 683–692. [doi](https://en.wikipedia.org/wiki/Doi_(identifier) \"Doi (identifier)\"):[10.1671/0272-4634(2007)27[683:oadoto]2.0.co;2](https://doi.org/10.1671%2F0272-4634%282007%2927%5B683%3Aoadoto%5D2.0.co%3B2). [JSTOR](https://en.wikipedia.org/wiki/JSTOR_(identifier) \"JSTOR (identifier)\")[30126368](https://www.jstor.org/stable/30126368). [S2CID](https://en.wikipedia.org/wiki/S2CID_(identifier) \"S2CID (identifier)\")[86217854](https://api.semanticscholar.org/CorpusID:86217854).\\n11.   ^ [_**a**_](https://en.wikipedia.org/wiki/Capybara#cite_ref-Cerde%C3%B1o_2019_12-0)[_**b**_](https://en.wikipedia.org/wiki/Capybara#cite_ref-Cerde%C3%B1o_2019_12-1)Cerdeño, E.; Pérez, M.E.; Deschamps, C.M.; Contreras, V.H. (2019). [\"A new capybara from the late Miocene of San Juan Province, Argentina, and its phylogenetic implications\"](https://doi.org/10.4202%2Fapp.00544.2018). _Acta Palaeontologica Polonica_. **64** (1): 199–212. [doi](https://en.wikipedia.org/wiki/Doi_(identifier) \"Doi (identifier)\"):[10.4202/app.00544.2018](https://doi.org/10.4202%2Fapp.00544.2018). [hdl](https://en.wikipedia.org/wiki/Hdl_(identifier) \"Hdl (identifier)\"):[11336/117299](https://hdl.handle.net/11336%2F117299).\\n12.   **[^](https://en.wikipedia.org/wiki/Capybara#cite_ref-13)**[\"The Cabybara – 10 Facts About the World\\'s Largest Rodent\"](https://www.worldatlas.com/articles/10-delightful-facts-about-capybaras.html). _WorldAtlas_. 26 July 2019. Retrieved 18 March 2020.\\n13.   **[^](https://en.wikipedia.org/wiki/Capybara#cite_ref-Arkive_14-0)**[Capybara](http://www.arkive.org/capybara/hydrochoerus-hydrochaeris/#text=Facts)[Archived](https://web.archive.org/web/20120103075238/http://www.arkive.org/capybara/hydrochoerus-hydrochaeris/#text=Facts#text=Facts) 2012-01-03 at the [Wayback Machine](https://en.wikipedia.org/wiki/Wayback_Machine \"Wayback Machine\"), Arkive\\n14.   ^ [_**a**_](https://en.wikipedia.org/wiki/Capybara#cite_ref-Smithsonian_15-0)[_**b**_](https://en.wikipedia.org/wiki/Capybara#cite_ref-Smithsonian_15-1)[_**c**_](https://en.wikipedia.org/wiki/Capybara#cite_ref-Smithsonian_15-2)[_**d**_](https://en.wikipedia.org/wiki/Capybara#cite_ref-Smithsonian_15-3)[_**e**_](https://en.wikipedia.org/wiki/Capybara#cite_ref-Smithsonian_15-4)[Capybara Facts.](https://web.archive.org/web/20050930231549/http://nationalzoo.si.edu/Animals/Amazonia/Facts/capybarafacts.cfm)[Smithsonian National Zoological Park](https://en.wikipedia.org/wiki/Smithsonian_National_Zoological_Park \"Smithsonian National Zoological Park\"). Retrieved on 16 December 2007.\\n15.   ^ [_**a**_](https://en.wikipedia.org/wiki/Capybara#cite_ref-Palm_Beach_Zoo_16-0)[_**b**_](https://en.wikipedia.org/wiki/Capybara#cite_ref-Palm_Beach_Zoo_16-1)[_**c**_](https://en.wikipedia.org/wiki/Capybara#cite_ref-Palm_Beach_Zoo_16-2)[Capybara.](https://web.archive.org/web/20100620162726/http://palmbeachzoo.org/animals/capybara.html) Palm Beach Zoo. Retrieved on 17 December 2007.\\n16.   **[^](https://en.wikipedia.org/wiki/Capybara#cite_ref-r3_17-0)**[World Association of Zoos and Aquariums](http://www.waza.org/virtualzoo/factsheet.php?id=110-020-001-001&view=Rodents%20and%20Hares&main=virtualzoo). [WAZA](https://en.wikipedia.org/wiki/World_Association_of_Zoos_and_Aquariums \"World Association of Zoos and Aquariums\"). Retrieved on 2011-12-07.\\n17.   **[^](https://en.wikipedia.org/wiki/Capybara#cite_ref-18)**Ferraz, Katia Maria Paschoaletto Micchi de Barros; Bonach, Kelly; Verdade, Luciano Martins (2005). [\"Relationship between body mass and body length in capybaras (_Hydrochoerus hydrochaeris_)\"](https://doi.org/10.1590%2FS1676-06032005000100020). _Biota Neotropica_. **5** (1): 197–200. [doi](https://en.wikipedia.org/wiki/Doi_(identifier) \"Doi (identifier)\"):[10.1590/S1676-06032005000100020](https://doi.org/10.1590%2FS1676-06032005000100020).\\n18.   ^ [_**a**_](https://en.wikipedia.org/wiki/Capybara#cite_ref-enchantedlearning.com_19-0)[_**b**_](https://en.wikipedia.org/wiki/Capybara#cite_ref-enchantedlearning.com_19-1)[\"Capybara Printout\"](http://www.enchantedlearning.com/subjects/mammals/rodent/Capybaraprintout.shtml). Enchantedlearning.com. Retrieved 27 May 2013.\\n19.   ^ [_**a**_](https://en.wikipedia.org/wiki/Capybara#cite_ref-Bristol_20-0)[_**b**_](https://en.wikipedia.org/wiki/Capybara#cite_ref-Bristol_20-1)[_**c**_](https://en.wikipedia.org/wiki/Capybara#cite_ref-Bristol_20-2)[_**d**_](https://en.wikipedia.org/wiki/Capybara#cite_ref-Bristol_20-3)[_**e**_](https://en.wikipedia.org/wiki/Capybara#cite_ref-Bristol_20-4)[_**f**_](https://en.wikipedia.org/wiki/Capybara#cite_ref-Bristol_20-5)[_**g**_](https://en.wikipedia.org/wiki/Capybara#cite_ref-Bristol_20-6)[Bristol Zoo Gardens (UK) _Capybara_](http://www.bristolzoo.org.uk/learning/animals/mammals/capybara)[Archived](https://web.archive.org/web/20070918183854/http://www.bristolzoo.org.uk/learning/animals/mammals/capybara) 2007-09-18 at the [Wayback Machine](https://en.wikipedia.org/wiki/Wayback_Machine \"Wayback Machine\"). Bristolzoo.org.uk. Retrieved on 2011-12-07.\\n20.   **[^](https://en.wikipedia.org/wiki/Capybara#cite_ref-21)**[\"Nonnatives – Capybara\"](https://web.archive.org/web/20140406221051/http://myfwc.com/wildlifehabitats/nonnatives/mammals/capybara/). _myfwc.com_. Archived from [the original](http://myfwc.com/wildlifehabitats/nonnatives/mammals/capybara/) on 6 April 2014. Retrieved 30 August 2013.\\n21.   **[^](https://en.wikipedia.org/wiki/Capybara#cite_ref-22)**Mather, Kate (18 August 2011). [\"A gnawing question answered: It\\'s a capybara roaming Paso Robles\"](http://www.latimes.com/news/local/la-me-0818-capybara-20110818,0,104462.story). _[Los Angeles Times](https://en.wikipedia.org/wiki/Los\\\\_Angeles\\\\_Times \"Los Angeles Times\")_. Retrieved 10 January 2012.\\n22.   **[^](https://en.wikipedia.org/wiki/Capybara#cite_ref-23)**Baskin, Jon; Gervais, P. Darrow; Gervais, Camille J. (2020). [\"A Late Pleistocene capybara (Rodentia, Caviidae, Hydrochoerinae) from near Houston, Texas, USA, with a brief review of North American fossil capybaras\"](https://bioone.org/journals/proceedings-of-the-academy-of-natural-sciences-of-philadelphia/volume-167/issue-1/053.167.0105/A-Late-Pleistocene-capybara-Rodentia-Caviidae-Hydrochoerinae-from-near-Houston/10.1635/053.167.0105.short). _Proceedings of the Academy of Natural Sciences of Philadelphia_. **167** (1): 57. [Bibcode](https://en.wikipedia.org/wiki/Bibcode_(identifier) \"Bibcode (identifier)\"):[2020PANSP.167...57B](https://ui.adsabs.harvard.edu/abs/2020PANSP.167...57B). [doi](https://en.wikipedia.org/wiki/Doi_(identifier) \"Doi (identifier)\"):[10.1635/053.167.0105](https://doi.org/10.1635%2F053.167.0105). [S2CID](https://en.wikipedia.org/wiki/S2CID_(identifier) \"S2CID (identifier)\")[216241471](https://api.semanticscholar.org/CorpusID:216241471).\\n23.   **[^](https://en.wikipedia.org/wiki/Capybara#cite_ref-24)**Erick J. Lundgren, Daniel Ramp, John Rowan, Owen Middleton, Simon D. Schowanek, Oscar Sanisidro, Scott P. Carroll, Matt Davis, Christopher J. Sandom, Jens-Christian Svenning, Arian D. Wallach, James A. Estes, 2020, _[Introduced herbivores restore Late Pleistocene ecological functions](https://www.pnas.org/content/117/14/7871)_, PNAS, 117 (14), pp.7871-7878, [Proceedings of the National Academy of Sciences of the United States of America](https://en.wikipedia.org/wiki/Proceedings_of_the_National_Academy_of_Sciences_of_the_United_States_of_America \"Proceedings of the National Academy of Sciences of the United States of America\")\\n24.   **[^](https://en.wikipedia.org/wiki/Capybara#cite_ref-RevBiolTrop_25-0)**Forero-Montaña, Jimena; Betancur, Julio; Cavelier, Jaime (June 2003). [\"Dieta del capibara _Hydrochaeris hydrochaeris_ (Rodentia: Hydrochaeridae) en Caño Limón, Arauca, Colombia\"](https://www.scielo.sa.cr/scielo.php?script=sci_arttext&pid=S0034-77442003000200029) [Distribution and abundance of Caiman crocodilus in the Caño Negro National Wild Life Refuge, Costa Rica]. _[Revista de Biología Tropical](https://en.wikipedia.org/wiki/Revista\\\\_de\\\\_Biolog%C3%ADa\\\\_Tropical \"Revista de Biología Tropical\")_ (in Spanish). **51** (2): 571–578. [PMID](https://en.wikipedia.org/wiki/PMID_(identifier) \"PMID (identifier)\")[15162749](https://pubmed.ncbi.nlm.nih.gov/15162749).\\n25.   ^ [_**a**_](https://en.wikipedia.org/wiki/Capybara#cite_ref-Quintana_1998_26-0)[_**b**_](https://en.wikipedia.org/wiki/Capybara#cite_ref-Quintana_1998_26-1)Quintana, R.D.; Monge, S.; Malvárez, A.I. (1998). \"Feeding patterns of capybara _Hydrochaeris hydrochaeris_ (Rodentia, Hydrochaeridae) and cattle in the non-insular area of the Lower Delta of the Paraná River, Argentina\". _Mammalia_. **62** (1): 37–52. [doi](https://en.wikipedia.org/wiki/Doi_(identifier) \"Doi (identifier)\"):[10.1515/mamm.1998.62.1.37](https://doi.org/10.1515%2Fmamm.1998.62.1.37). [S2CID](https://en.wikipedia.org/wiki/S2CID_(identifier) \"S2CID (identifier)\")[83976640](https://api.semanticscholar.org/CorpusID:83976640).\\n26.   **[^](https://en.wikipedia.org/wiki/Capybara#cite_ref-Barreto_1998_27-0)**Barreto, Guillermo R.; Herrera, Emilio A. (1998). \"Foraging patterns of capybaras in a seasonally flooded savanna of Venezuela\". _Journal of Tropical Ecology_. **14** (1): 87–98. [doi](https://en.wikipedia.org/wiki/Doi_(identifier) \"Doi (identifier)\"):[10.1017/S0266467498000078](https://doi.org/10.1017%2FS0266467498000078). [JSTOR](https://en.wikipedia.org/wiki/JSTOR_(identifier) \"JSTOR (identifier)\")[2559868](https://www.jstor.org/stable/2559868). [S2CID](https://en.wikipedia.org/wiki/S2CID_(identifier) \"S2CID (identifier)\")[84982123](https://api.semanticscholar.org/CorpusID:84982123).\\n27.   ^ [_**a**_](https://en.wikipedia.org/wiki/Capybara#cite_ref-SFZoo_28-0)[_**b**_](https://en.wikipedia.org/wiki/Capybara#cite_ref-SFZoo_28-1)[_**c**_](https://en.wikipedia.org/wiki/Capybara#cite_ref-SFZoo_28-2)[Capybara. _Hydrochaeris hydrochaeris_](https://web.archive.org/web/20070614005832/http://www.sfzoo.org/cgi-bin/animals.py?ID=90). San Francisco Zoo\\n28.   ^ [_**a**_](https://en.wikipedia.org/wiki/Capybara#cite_ref-taronga-zoo_29-0)[_**b**_](https://en.wikipedia.org/wiki/Capybara#cite_ref-taronga-zoo_29-1)[\"Meet Taronga\\'s Capybaras\"](https://taronga.org.au/sydney-zoo/must-see/capybaras). _Taronga Zoo_. Retrieved 29 December 2021.\\n29.   ^ [_**a**_](https://en.wikipedia.org/wiki/Capybara#cite_ref-Lord-Rexford_1994_30-0)[_**b**_](https://en.wikipedia.org/wiki/Capybara#cite_ref-Lord-Rexford_1994_30-1)[_**c**_](https://en.wikipedia.org/wiki/Capybara#cite_ref-Lord-Rexford_1994_30-2)[_**d**_](https://en.wikipedia.org/wiki/Capybara#cite_ref-Lord-Rexford_1994_30-3)[_**e**_](https://en.wikipedia.org/wiki/Capybara#cite_ref-Lord-Rexford_1994_30-4)Lord, Rexford D. (March 1994). \"A descriptive account of capybara behaviour\". _Studies on Neotropical Fauna and Environment_. **29** (1): 11–22. [Bibcode](https://en.wikipedia.org/wiki/Bibcode_(identifier) \"Bibcode (identifier)\"):[1994SNFE...29...11L](https://ui.adsabs.harvard.edu/abs/1994SNFE...29...11L). [doi](https://en.wikipedia.org/wiki/Doi_(identifier) \"Doi (identifier)\"):[10.1080/01650529409360912](https://doi.org/10.1080%2F01650529409360912).\\n30.   **[^](https://en.wikipedia.org/wiki/Capybara#cite_ref-r2_31-0)**Cueto, Gerardo Ruben; Allekotte, Roman; Kravetz, Fernando Osvaldo (January 2000). [\"Scurvy in capybaras bred in captivity in Argentine\"](https://doi.org/10.7589%2F0090-3558-36.1.97). _Journal of Wildlife Diseases_. **36** (1): 97–101. [doi](https://en.wikipedia.org/wiki/Doi_(identifier) \"Doi (identifier)\"):[10.7589/0090-3558-36.1.97](https://doi.org/10.7589%2F0090-3558-36.1.97). [PMID](https://en.wikipedia.org/wiki/PMID_(identifier) \"PMID (identifier)\")[10682750](https://pubmed.ncbi.nlm.nih.gov/10682750). [S2CID](https://en.wikipedia.org/wiki/S2CID_(identifier) \"S2CID (identifier)\")[6491859](https://api.semanticscholar.org/CorpusID:6491859).\\n31.   **[^](https://en.wikipedia.org/wiki/Capybara#cite_ref-r6_32-0)**Burton M and Burton R. (2002) _The International Wildlife Encyclopedia_. Marshall Cavendish, [ISBN](https://en.wikipedia.org/wiki/ISBN_(identifier) \"ISBN (identifier)\")[0-7614-7269-X](https://en.wikipedia.org/wiki/Special:BookSources/0-7614-7269-X \"Special:BookSources/0-7614-7269-X\"), p. 384\\n32.   **[^](https://en.wikipedia.org/wiki/Capybara#cite_ref-SoundsandColours_33-0)**[Capybara, the master of the grasses: pest or prey](http://soundsandcolours.com/subjects/south-american-nature/capybara-the-master-of-the-grasses-pest-or-prey-3937/) Sounds and Colours. Retrieved on 23 January 2011.\\n33.   **[^](https://en.wikipedia.org/wiki/Capybara#cite_ref-Alho_1987_34-0)**Alho, Cleber J.R.; Rondon, Nelson L. (1987). [\"Habitats, population densities, and social structure of capybaras (_Hydrochaeris Hydrochaeris_, Rodentia) in the Pantanal, Brazil\"](https://doi.org/10.1590%2Fs0101-81751987000200006). _[Revista Brasileira de Zoologia](https://en.wikipedia.org/w/index.php?title=Revista\\\\_Brasileira\\\\_de\\\\_Zoologia&action=edit&redlink=1 \"Revista Brasileira de Zoologia (page does not exist)\")_. **4** (2): 139–149. [doi](https://en.wikipedia.org/wiki/Doi_(identifier) \"Doi (identifier)\"):[10.1590/s0101-81751987000200006](https://doi.org/10.1590%2Fs0101-81751987000200006).\\n34.   ^ [_**a**_](https://en.wikipedia.org/wiki/Capybara#cite_ref-Macdonald_1981_35-0)[_**b**_](https://en.wikipedia.org/wiki/Capybara#cite_ref-Macdonald_1981_35-1)[_**c**_](https://en.wikipedia.org/wiki/Capybara#cite_ref-Macdonald_1981_35-2)[_**d**_](https://en.wikipedia.org/wiki/Capybara#cite_ref-Macdonald_1981_35-3)Macdonald, D. W. (July 1981). \"Dwindling resources and the social behaviour of Capybaras, (_Hydrochoerus hydrochaeris_) (Mammalia)\". _Journal of Zoology_. **194** (3): 371–391. [doi](https://en.wikipedia.org/wiki/Doi_(identifier) \"Doi (identifier)\"):[10.1111/j.1469-7998.1981.tb04588.x](https://doi.org/10.1111%2Fj.1469-7998.1981.tb04588.x).\\n35.   **[^](https://en.wikipedia.org/wiki/Capybara#cite_ref-Murphey_1985_36-0)**Murphey, Robert M.; Mariano, Jorge S.; Moura Duarte, Francisco A. (May 1985). \"Behavioral observations in a capybara colony (_Hydrochoerus hydrochaeris_)\". _Applied Animal Behaviour Science_. **14** (1): 89–98. [doi](https://en.wikipedia.org/wiki/Doi_(identifier) \"Doi (identifier)\"):[10.1016/0168-1591(85)90040-1](https://doi.org/10.1016%2F0168-1591%2885%2990040-1).\\n36.   **[^](https://en.wikipedia.org/wiki/Capybara#cite_ref-Macdonald_1984_37-0)**Macdonald, D. W.; Krantz, K.; Aplin, R. T. (March 1984). \"Behavioral anatomical and chemical aspects of scent marking among Capybaras (_Hydrochaeris hypdrochaeris_) (Rodentia: Caviomorpha)\". _Journal of Zoology_. **202** (3): 341–360. [doi](https://en.wikipedia.org/wiki/Doi_(identifier) \"Doi (identifier)\"):[10.1111/j.1469-7998.1984.tb05087.x](https://doi.org/10.1111%2Fj.1469-7998.1984.tb05087.x).\\n37.   ^ [_**a**_](https://en.wikipedia.org/wiki/Capybara#cite_ref-Herrera_1993_38-0)[_**b**_](https://en.wikipedia.org/wiki/Capybara#cite_ref-Herrera_1993_38-1)Herrera, Emilio A.; MacDonald, David W. (1993). \"Aggression, dominance, and mating success among capybara males (_Hydrochaeris hypdrochaeris_)\". _[Behavioral Ecology](https://en.wikipedia.org/wiki/Behavioral\\\\_Ecology\\\\_(journal) \"Behavioral Ecology (journal)\")_. **4** (2): 114. [doi](https://en.wikipedia.org/wiki/Doi_(identifier) \"Doi (identifier)\"):[10.1093/beheco/4.2.114](https://doi.org/10.1093%2Fbeheco%2F4.2.114).\\n38.   **[^](https://en.wikipedia.org/wiki/Capybara#cite_ref-r1_39-0)**Paula, T.A.R.; Chiarini-Garcia, H.; França, L.R. (June 1999). \"Seminiferous epithelium cycle and its duration in capybaras (Hydrochoerus hydrochaeris)\". _Tissue and Cell_. **31** (3): 327–334. [doi](https://en.wikipedia.org/wiki/Doi_(identifier) \"Doi (identifier)\"):[10.1054/tice.1999.0039](https://doi.org/10.1054%2Ftice.1999.0039). [PMID](https://en.wikipedia.org/wiki/PMID_(identifier) \"PMID (identifier)\")[10481304](https://pubmed.ncbi.nlm.nih.gov/10481304).\\n39.   **[^](https://en.wikipedia.org/wiki/Capybara#cite_ref-40)**[\"Capybara\"](https://zoo.sandiegozoo.org/animals/capybara).\\n40.   **[^](https://en.wikipedia.org/wiki/Capybara#cite_ref-inRich_41-0)**Thompson, Andy (18 January 2008) [Trip to South America gives new meaning to outdoors life](https://archive.today/20130204101346/http://www2.timesdispatch.com/lifestyles/2008/jan/18/-rtd_2008_01_18_0043-ar-147752/). Richmond Times.\\n41.   **[^](https://en.wikipedia.org/wiki/Capybara#cite_ref-42)**[\"Febre maculosa: \"Os médicos no Brasil não conhecem a doença\"](http://drauziovarella.com.br/audios-videos/estacao-medicina/febre-maculosa/) [Rocky Mountain spotted fever: Brazilian doctors unaware of the disease] (in Portuguese). drauziovarella.com.br. 12 April 2011. Retrieved 13 August 2015.\\n42.   **[^](https://en.wikipedia.org/wiki/Capybara#cite_ref-43)**[\"Conservation at Drusillas Park\"](https://www.drusillas.co.uk/conservation-1). Drusillas.co.uk. Retrieved 27 May 2013.\\n43.   **[^](https://en.wikipedia.org/wiki/Capybara#cite_ref-SDzoo_44-0)**[\"Capybara, _Hydrochoerus hydrochaeris_\"](https://web.archive.org/web/20110930051431/http://library.sandiegozoo.org/factsheets/capybara/capybara.htm). San Diego Zoo. October 2008. Archived from [the original](http://library.sandiegozoo.org/factsheets/capybara/capybara.htm) on 30 September 2011. Retrieved 22 June 2011.\\n44.   **[^](https://en.wikipedia.org/wiki/Capybara#cite_ref-NYSun_45-0)**Ellsworth, Brian (24 March 2005). [\"In Days Before Easter, Venezuelans Tuck Into Rodent-Related Delicacy\"](http://www.nysun.com/article/11063)[Archived](https://web.archive.org/web/20080705215536/http://www.nysun.com/article/11063) 5 July 2008 at the [Wayback Machine](https://en.wikipedia.org/wiki/Wayback_Machine \"Wayback Machine\"). _[New York Sun](https://en.wikipedia.org/wiki/New\\\\_York\\\\_Sun \"New York Sun\")_.\\n45.   ^ [_**a**_](https://en.wikipedia.org/wiki/Capybara#cite_ref-NYTimes2007_46-0)[_**b**_](https://en.wikipedia.org/wiki/Capybara#cite_ref-NYTimes2007_46-1)Romero, Simon (21 March 2007). [\"In Venezuela, Rodents Can Be a Delicacy\"](https://archive.today/20131014211839/http://www.nytimes.com/2007/03/21/world/americas/21rodent.html?_r=0). _The New York Times_. [ISSN](https://en.wikipedia.org/wiki/ISSN_(identifier) \"ISSN (identifier)\")[0362-4331](https://search.worldcat.org/issn/0362-4331). Archived from [the original](https://www.nytimes.com/2007/03/21/world/americas/21rodent.html) on 14 October 2013. Retrieved 27 April 2021. Legend has it that eating capybara, known here as chigüire (pronounced chee-GWEE-reh), got a boost in the 18th century when the local clergy asked the Vatican to give capybara the status of fish. (...) It remains more popular in Venezuela\\'s rural interior than in the capital.\\n46.   ^ [_**a**_](https://en.wikipedia.org/wiki/Capybara#cite_ref-TheGuardian_20210822_47-0)[_**b**_](https://en.wikipedia.org/wiki/Capybara#cite_ref-TheGuardian_20210822_47-1)Goñi, Uki (22 August 2021). [\"Attack of the giant rodents or class war? Argentina\\'s rich riled by new neighbors\"](https://www.theguardian.com/world/2021/aug/22/argentina-capybaras-giant-rodents-gated-community). _[The Guardian](https://en.wikipedia.org/wiki/The\\\\_Guardian \"The Guardian\")_.\\n47.   **[^](https://en.wikipedia.org/wiki/Capybara#cite_ref-48)**Basile, Roberta Carvalho; Yoshinari, Natalino Hajime; Mantovani, Elenice; Bonoldi, Virgínia Nazário; Macoris, Delphim da Graça; Queiroz-Neto, Antonio de (4 October 2016). [\"Brazilian borreliosis with special emphasis on humans and horses\"](https://www.ncbi.nlm.nih.gov/pmc/articles/PMC5220628). _Brazilian Journal of Microbiology_. **48** (1): 167–172. [doi](https://en.wikipedia.org/wiki/Doi_(identifier) \"Doi (identifier)\"):[10.1016/j.bjm.2016.09.005](https://doi.org/10.1016%2Fj.bjm.2016.09.005). [PMC](https://en.wikipedia.org/wiki/PMC_(identifier) \"PMC (identifier)\")[5220628](https://www.ncbi.nlm.nih.gov/pmc/articles/PMC5220628). [PMID](https://en.wikipedia.org/wiki/PMID_(identifier) \"PMID (identifier)\")[27769883](https://pubmed.ncbi.nlm.nih.gov/27769883).\\n48.   **[^](https://en.wikipedia.org/wiki/Capybara#cite_ref-49)**[\"Giant rodents cuddle with visitors at the Capybara Cafe in Florida\"](https://apnews.com/article/florida-capybara-cafe-st-augustine-54ce3807f084e9de61f72a79c6633e10). _Associated Press News_. 12 April 2025.\\n49.   ^ [_**a**_](https://en.wikipedia.org/wiki/Capybara#cite_ref-reuters_50-0)[_**b**_](https://en.wikipedia.org/wiki/Capybara#cite_ref-reuters_50-1)Murakami, Sakura (4 February 2020). [\"Olympics and Year of the Rat give starring role to Japan\\'s capybaras\"](https://www.reuters.com/article/us-olympics-2020-capybara-idCAKBN1ZY0FY). _[Reuters](https://en.wikipedia.org/wiki/Reuters \"Reuters\")_. Retrieved 23 October 2021.\\n50.   **[^](https://en.wikipedia.org/wiki/Capybara#cite_ref-51)**Steger, Isabella (19 May 2017). [\"How the world\\'s largest rodent became a superstar in Japan\"](https://qz.com/986398/how-the-capybara-the-worlds-largest-rodent-became-a-superstar-in-japan/). _[Quartz](https://en.wikipedia.org/wiki/Quartz\\\\_(publication) \"Quartz (publication)\")_. Retrieved 23 October 2021.\\n51.   **[^](https://en.wikipedia.org/wiki/Capybara#cite_ref-52)**Diaz, Ana (2 March 2023). [\"Capybaras are taking over TikTok and we\\'re better for it\"](https://www.polygon.com/23620358/capybara-tiktok-meme-audio-trend). _Polygon_. Retrieved 28 February 2025.\\n52.   ^ [_**a**_](https://en.wikipedia.org/wiki/Capybara#cite_ref-euronewsmeme_53-0)[_**b**_](https://en.wikipedia.org/wiki/Capybara#cite_ref-euronewsmeme_53-1)Mouriquand, David (4 December 2023). [\"Why are capybaras systematically taking over social media?\"](https://www.euronews.com/culture/2023/04/12/why-are-capybaras-systematically-taking-over-social-media). _Euro News_. Retrieved 24 February 2025.\\n53.   **[^](https://en.wikipedia.org/wiki/Capybara#cite_ref-54)**Lopez, Sophia (1 August 2022). [\"Capybaras are taking over the internet\"](https://thegauntlet.ca/2022/08/01/capybaras-are-taking-over-the-internet/). _The Gauntlet_. Retrieved 2 September 2022.\\n\\nExternal links\\n--------------\\n\\n[![Image 13](https://upload.wikimedia.org/wikipedia/commons/thumb/4/4c/Wikisource-logo.svg/40px-Wikisource-logo.svg.png)](https://en.wikipedia.org/wiki/File:Wikisource-logo.svg)\\n\\n[![Image 14](https://upload.wikimedia.org/wikipedia/commons/thumb/9/99/Wiktionary-logo-en-v2.svg/40px-Wiktionary-logo-en-v2.svg.png)](https://en.wikipedia.org/wiki/File:Wiktionary-logo-en-v2.svg)\\n\\nLook up _**[capybara](https://en.wiktionary.org/wiki/capybara \"wiktionary:capybara\")**_ in Wiktionary, the free dictionary.\\n\\n*   Alan Taylor (29 November 2018). [\"Companionable Capybaras (18 Photos)\"](https://www.theatlantic.com/photo/2018/11/photos-companionable-capybaras/576991/). _The Atlantic_.\\n*   [Animal Diversity Web _Hydrochoerus hydrochaeris_](https://animaldiversity.org/site/accounts/information/Hydrochoerus_hydrochaeris.html)\\n*   [Capybara information](https://capybarafacts.com/)\\n', tool_call_id='call_IuIo78LCgbtylqT6GzezjaiG', timestamp=datetime.datetime(2025, 10, 27, 6, 0, 19, 390869, tzinfo=datetime.timezone.utc))\n",
      "\n",
      "ModelResponse(parts=[ToolCallPart(tool_name='final_result', args='{\"title\":\"Capybara\",\"url\":\"https://en.wikipedia.org/wiki/Capybara\",\"content\":\"The capybara or greater capybara (_Hydrochoerus hydrochaeris_) is the largest living rodent, native to South America. It is a member of the genus Hydrochoerus. Its close relatives include guinea pigs and rock cavies, and it is more distantly related to the agouti, the chinchilla, and the nutria. The capybara inhabits savannas and dense forests and lives near bodies of water. It is a highly social species and can be found in groups as large as one hundred individuals, but usually lives in groups of 10–20 individuals. The capybara is hunted for its meat and hide and also for grease from its thick fatty skin.\\\\n\\\\nEtymology\\\\nIts common name is derived from Tupi _ka\\'apiûara_, a complex agglutination of _kaá_ (leaf) + _píi_ (slender) + _ú_ (eat) + _ara_ (a suffix for agent nouns), meaning \\\\\"one who eats slender leaves\\\\\", or \\\\\"grass-eater\\\\\". The genus name, _hydrochoerus_, comes from Greek ὕδωρ (_hýdor_ \\\\\"water\\\\\") and χοῖρος (_choíros_ \\\\\"pig, hog\\\\\") and the species name, _hydrochaeris_, comes from Greek ὕδωρ (_hýdor_ \\\\\"water\\\\\") and χαίρω (_chairo_ \\\\\"feel happy, enjoy\\\\\").\\\\n\\\\nClassification and phylogeny\\\\nThe capybara and the lesser capybara both belong to the subfamily Hydrochoerinae along with the rock cavies. The living capybaras and their extinct relatives were previously classified in their own family Hydrochoeridae. Since 2002, molecular phylogenetic studies have recognized a close relationship between Hydrochoerus and Kerodon, the rock cavies, supporting placement of both genera in a subfamily of Caviidae.\\\\n\\\\nPaleontological classifications previously used Hydrochoeridae for all capybaras, while using Hydrochoerinae for the living genus and its closest fossil relatives, such as _Neochoerus_, but more recently have adopted the classification of Hydrochoerinae within Caviidae. The taxonomy of fossil hydrochoerines is also in a state of flux. \\\\n\\\\nDescription\\\\nThe capybara has a heavy, barrel-shaped body and short head, with reddish-brown fur on the upper part of its body that turns yellowish-brown underneath. Its sweat glands can be found in the surface of the hairy portions of its skin, an unusual trait among rodents. The animal lacks down hair, and its guard hair differs little from over hair. \\\\n\\\\nAdult capybaras grow to 106 to 134 cm (3.48 to 4.40 ft) in length, stand 50 to 62 cm (20 to 24 in) tall at the withers, and typically weigh 35 to 66 kg (77 to 146 lb), with an average in the Venezuelan llanos of 48.9 kg (108 lb). Females are slightly heavier than males. \\\\n\\\\nEcology\\\\nCapybaras are semiaquatic mammals found throughout all countries of South America except Chile. They live in densely forested areas near bodies of water, such as lakes, rivers, swamps, ponds, and marshes, as well as flooded savannah and along rivers in the tropical rainforest. They are superb swimmers and can hold their breath underwater for up to five minutes at a time. Capybara have flourished in cattle ranches. They roam in home ranges averaging 10 hectares (25 acres) in high-density populations.\\\\n\\\\nDiet and predation\\\\nCapybaras are herbivores, grazing mainly on grasses and aquatic plants, as well as fruit and tree bark. They are very selective feeders and feed on the leaves of one species and disregard other species surrounding it. While they eat grass during the wet season, they have to switch to more abundant reeds during the dry season. The capybara\\'s jaw hinge is not perpendicular, so they chew food by grinding back-and-forth rather than side-to-side. \\\\n\\\\nThe maximum lifespan of the capybara is 8 to 10 years, but in the wild capybaras usually do not live longer than four years because of predation from South American big cats such as jaguars and cougars and from non-mammalian predators such as harpy eagles, caimans, green anacondas and piranhas. \\\\n\\\\nCapybaras are known to be gregarious. While they sometimes live solitarily, they are more commonly found in groups of around 10–20 individuals, with two to four adult males, four to seven adult females, and the remainder juveniles. \\\\n\\\\nReproduction\\\\nCapybara have a gestation of 130–150 days, producing a litter of four young on average, but may produce between one and eight in a single litter. Birth is on land and the female rejoins the group within a few hours of delivering the newborn capybaras, which join the group as soon as they are mobile.\\\\n\\\\nConservation and human interaction\\\\nCapybaras are not considered a threatened species; their population is stable throughout most of their South American range, though in some areas hunting has reduced their numbers. Capybaras are hunted for their meat and pelts in some areas and otherwise killed by humans who see their grazing as competition for livestock. In some areas, they are farmed, which has the effect of ensuring the wetland habitats are protected. \\\\n\\\\nCapybaras have adapted well to urbanization in South America. They can be found in many areas in zoos and parks, and may live for 12 years in captivity, more than double their wild lifespan.\"}', tool_call_id='call_ezsFVfiux5gh2PhUCyOo435G')], usage=RequestUsage(input_tokens=18820, output_tokens=1259, details={'accepted_prediction_tokens': 0, 'audio_tokens': 0, 'reasoning_tokens': 0, 'rejected_prediction_tokens': 0}), model_name='gpt-4o-mini-2024-07-18', timestamp=datetime.datetime(2025, 10, 27, 6, 0, 19, tzinfo=TzInfo(0)), provider_name='openai', provider_details={'finish_reason': 'tool_calls'}, provider_response_id='chatcmpl-CVAZ9hKB2R3XqpNaMaU8GGkOXTQRU', finish_reason='tool_call')\n",
      "ToolCallPart(tool_name='final_result', args='{\"title\":\"Capybara\",\"url\":\"https://en.wikipedia.org/wiki/Capybara\",\"content\":\"The capybara or greater capybara (_Hydrochoerus hydrochaeris_) is the largest living rodent, native to South America. It is a member of the genus Hydrochoerus. Its close relatives include guinea pigs and rock cavies, and it is more distantly related to the agouti, the chinchilla, and the nutria. The capybara inhabits savannas and dense forests and lives near bodies of water. It is a highly social species and can be found in groups as large as one hundred individuals, but usually lives in groups of 10–20 individuals. The capybara is hunted for its meat and hide and also for grease from its thick fatty skin.\\\\n\\\\nEtymology\\\\nIts common name is derived from Tupi _ka\\'apiûara_, a complex agglutination of _kaá_ (leaf) + _píi_ (slender) + _ú_ (eat) + _ara_ (a suffix for agent nouns), meaning \\\\\"one who eats slender leaves\\\\\", or \\\\\"grass-eater\\\\\". The genus name, _hydrochoerus_, comes from Greek ὕδωρ (_hýdor_ \\\\\"water\\\\\") and χοῖρος (_choíros_ \\\\\"pig, hog\\\\\") and the species name, _hydrochaeris_, comes from Greek ὕδωρ (_hýdor_ \\\\\"water\\\\\") and χαίρω (_chairo_ \\\\\"feel happy, enjoy\\\\\").\\\\n\\\\nClassification and phylogeny\\\\nThe capybara and the lesser capybara both belong to the subfamily Hydrochoerinae along with the rock cavies. The living capybaras and their extinct relatives were previously classified in their own family Hydrochoeridae. Since 2002, molecular phylogenetic studies have recognized a close relationship between Hydrochoerus and Kerodon, the rock cavies, supporting placement of both genera in a subfamily of Caviidae.\\\\n\\\\nPaleontological classifications previously used Hydrochoeridae for all capybaras, while using Hydrochoerinae for the living genus and its closest fossil relatives, such as _Neochoerus_, but more recently have adopted the classification of Hydrochoerinae within Caviidae. The taxonomy of fossil hydrochoerines is also in a state of flux. \\\\n\\\\nDescription\\\\nThe capybara has a heavy, barrel-shaped body and short head, with reddish-brown fur on the upper part of its body that turns yellowish-brown underneath. Its sweat glands can be found in the surface of the hairy portions of its skin, an unusual trait among rodents. The animal lacks down hair, and its guard hair differs little from over hair. \\\\n\\\\nAdult capybaras grow to 106 to 134 cm (3.48 to 4.40 ft) in length, stand 50 to 62 cm (20 to 24 in) tall at the withers, and typically weigh 35 to 66 kg (77 to 146 lb), with an average in the Venezuelan llanos of 48.9 kg (108 lb). Females are slightly heavier than males. \\\\n\\\\nEcology\\\\nCapybaras are semiaquatic mammals found throughout all countries of South America except Chile. They live in densely forested areas near bodies of water, such as lakes, rivers, swamps, ponds, and marshes, as well as flooded savannah and along rivers in the tropical rainforest. They are superb swimmers and can hold their breath underwater for up to five minutes at a time. Capybara have flourished in cattle ranches. They roam in home ranges averaging 10 hectares (25 acres) in high-density populations.\\\\n\\\\nDiet and predation\\\\nCapybaras are herbivores, grazing mainly on grasses and aquatic plants, as well as fruit and tree bark. They are very selective feeders and feed on the leaves of one species and disregard other species surrounding it. While they eat grass during the wet season, they have to switch to more abundant reeds during the dry season. The capybara\\'s jaw hinge is not perpendicular, so they chew food by grinding back-and-forth rather than side-to-side. \\\\n\\\\nThe maximum lifespan of the capybara is 8 to 10 years, but in the wild capybaras usually do not live longer than four years because of predation from South American big cats such as jaguars and cougars and from non-mammalian predators such as harpy eagles, caimans, green anacondas and piranhas. \\\\n\\\\nCapybaras are known to be gregarious. While they sometimes live solitarily, they are more commonly found in groups of around 10–20 individuals, with two to four adult males, four to seven adult females, and the remainder juveniles. \\\\n\\\\nReproduction\\\\nCapybara have a gestation of 130–150 days, producing a litter of four young on average, but may produce between one and eight in a single litter. Birth is on land and the female rejoins the group within a few hours of delivering the newborn capybaras, which join the group as soon as they are mobile.\\\\n\\\\nConservation and human interaction\\\\nCapybaras are not considered a threatened species; their population is stable throughout most of their South American range, though in some areas hunting has reduced their numbers. Capybaras are hunted for their meat and pelts in some areas and otherwise killed by humans who see their grazing as competition for livestock. In some areas, they are farmed, which has the effect of ensuring the wetland habitats are protected. \\\\n\\\\nCapybaras have adapted well to urbanization in South America. They can be found in many areas in zoos and parks, and may live for 12 years in captivity, more than double their wild lifespan.\"}', tool_call_id='call_ezsFVfiux5gh2PhUCyOo435G')\n",
      "\n",
      "ModelRequest(parts=[ToolReturnPart(tool_name='final_result', content='Final result processed.', tool_call_id='call_ezsFVfiux5gh2PhUCyOo435G', timestamp=datetime.datetime(2025, 10, 27, 6, 0, 50, 744280, tzinfo=datetime.timezone.utc))])\n",
      "ToolReturnPart(tool_name='final_result', content='Final result processed.', tool_call_id='call_ezsFVfiux5gh2PhUCyOo435G', timestamp=datetime.datetime(2025, 10, 27, 6, 0, 50, 744280, tzinfo=datetime.timezone.utc))\n",
      "\n"
     ]
    }
   ],
   "source": [
    "for m in results.new_messages():\n",
    "    print(m)\n",
    "    for part in m.parts:\n",
    "        print(part)\n",
    "    print()"
   ]
  },
  {
   "cell_type": "code",
   "execution_count": 17,
   "id": "dce05d6a",
   "metadata": {},
   "outputs": [],
   "source": [
    "wikioutput = results.output"
   ]
  },
  {
   "cell_type": "code",
   "execution_count": 18,
   "id": "644f7632",
   "metadata": {},
   "outputs": [
    {
     "name": "stdout",
     "output_type": "stream",
     "text": [
      "Capybara\n",
      "The capybara or greater capybara (_Hydrochoerus hydrochaeris_) is the largest living rodent, native to South America. It is a member of the genus Hydrochoerus. Its close relatives include guinea pigs and rock cavies, and it is more distantly related to the agouti, the chinchilla, and the nutria. The capybara inhabits savannas and dense forests and lives near bodies of water. It is a highly social species and can be found in groups as large as one hundred individuals, but usually lives in groups of 10–20 individuals. The capybara is hunted for its meat and hide and also for grease from its thick fatty skin.\n",
      "\n",
      "Etymology\n",
      "Its common name is derived from Tupi _ka'apiûara_, a complex agglutination of _kaá_ (leaf) + _píi_ (slender) + _ú_ (eat) + _ara_ (a suffix for agent nouns), meaning \"one who eats slender leaves\", or \"grass-eater\". The genus name, _hydrochoerus_, comes from Greek ὕδωρ (_hýdor_ \"water\") and χοῖρος (_choíros_ \"pig, hog\") and the species name, _hydrochaeris_, comes from Greek ὕδωρ (_hýdor_ \"water\") and χαίρω (_chairo_ \"feel happy, enjoy\").\n",
      "\n",
      "Classification and phylogeny\n",
      "The capybara and the lesser capybara both belong to the subfamily Hydrochoerinae along with the rock cavies. The living capybaras and their extinct relatives were previously classified in their own family Hydrochoeridae. Since 2002, molecular phylogenetic studies have recognized a close relationship between Hydrochoerus and Kerodon, the rock cavies, supporting placement of both genera in a subfamily of Caviidae.\n",
      "\n",
      "Paleontological classifications previously used Hydrochoeridae for all capybaras, while using Hydrochoerinae for the living genus and its closest fossil relatives, such as _Neochoerus_, but more recently have adopted the classification of Hydrochoerinae within Caviidae. The taxonomy of fossil hydrochoerines is also in a state of flux. \n",
      "\n",
      "Description\n",
      "The capybara has a heavy, barrel-shaped body and short head, with reddish-brown fur on the upper part of its body that turns yellowish-brown underneath. Its sweat glands can be found in the surface of the hairy portions of its skin, an unusual trait among rodents. The animal lacks down hair, and its guard hair differs little from over hair. \n",
      "\n",
      "Adult capybaras grow to 106 to 134 cm (3.48 to 4.40 ft) in length, stand 50 to 62 cm (20 to 24 in) tall at the withers, and typically weigh 35 to 66 kg (77 to 146 lb), with an average in the Venezuelan llanos of 48.9 kg (108 lb). Females are slightly heavier than males. \n",
      "\n",
      "Ecology\n",
      "Capybaras are semiaquatic mammals found throughout all countries of South America except Chile. They live in densely forested areas near bodies of water, such as lakes, rivers, swamps, ponds, and marshes, as well as flooded savannah and along rivers in the tropical rainforest. They are superb swimmers and can hold their breath underwater for up to five minutes at a time. Capybara have flourished in cattle ranches. They roam in home ranges averaging 10 hectares (25 acres) in high-density populations.\n",
      "\n",
      "Diet and predation\n",
      "Capybaras are herbivores, grazing mainly on grasses and aquatic plants, as well as fruit and tree bark. They are very selective feeders and feed on the leaves of one species and disregard other species surrounding it. While they eat grass during the wet season, they have to switch to more abundant reeds during the dry season. The capybara's jaw hinge is not perpendicular, so they chew food by grinding back-and-forth rather than side-to-side. \n",
      "\n",
      "The maximum lifespan of the capybara is 8 to 10 years, but in the wild capybaras usually do not live longer than four years because of predation from South American big cats such as jaguars and cougars and from non-mammalian predators such as harpy eagles, caimans, green anacondas and piranhas. \n",
      "\n",
      "Capybaras are known to be gregarious. While they sometimes live solitarily, they are more commonly found in groups of around 10–20 individuals, with two to four adult males, four to seven adult females, and the remainder juveniles. \n",
      "\n",
      "Reproduction\n",
      "Capybara have a gestation of 130–150 days, producing a litter of four young on average, but may produce between one and eight in a single litter. Birth is on land and the female rejoins the group within a few hours of delivering the newborn capybaras, which join the group as soon as they are mobile.\n",
      "\n",
      "Conservation and human interaction\n",
      "Capybaras are not considered a threatened species; their population is stable throughout most of their South American range, though in some areas hunting has reduced their numbers. Capybaras are hunted for their meat and pelts in some areas and otherwise killed by humans who see their grazing as competition for livestock. In some areas, they are farmed, which has the effect of ensuring the wetland habitats are protected. \n",
      "\n",
      "Capybaras have adapted well to urbanization in South America. They can be found in many areas in zoos and parks, and may live for 12 years in captivity, more than double their wild lifespan.\n"
     ]
    }
   ],
   "source": [
    "print(results.output.title)\n",
    "print(results.output.content)"
   ]
  },
  {
   "cell_type": "code",
   "execution_count": null,
   "id": "44b17fc8",
   "metadata": {},
   "outputs": [],
   "source": []
  },
  {
   "cell_type": "code",
   "execution_count": 19,
   "id": "9e8fee06",
   "metadata": {},
   "outputs": [],
   "source": [
    "# wiki summary agent\n",
    "\n",
    "# input is the wiki content"
   ]
  },
  {
   "cell_type": "code",
   "execution_count": 20,
   "id": "86c64aff",
   "metadata": {},
   "outputs": [],
   "source": [
    "# tool calling monitoring \n",
    "\n",
    "from pydantic_ai.messages import FunctionToolCallEvent\n",
    "\n",
    "class NamedCallback:\n",
    "\n",
    "    def __init__(self, agent):\n",
    "        self.agent_name = agent.name\n",
    "\n",
    "    async def print_function_calls(self, ctx, event):\n",
    "        # Detect nested streams\n",
    "        if hasattr(event, \"__aiter__\"):\n",
    "            async for sub in event:\n",
    "                await self.print_function_calls(ctx, sub)\n",
    "            return\n",
    "\n",
    "        if isinstance(event, FunctionToolCallEvent):\n",
    "            tool_name = event.part.tool_name\n",
    "            args = event.part.args\n",
    "            print(f\"TOOL CALL ({self.agent_name}): {tool_name}({args})\")\n",
    "\n",
    "    async def __call__(self, ctx, event):\n",
    "        return await self.print_function_calls(ctx, event)"
   ]
  },
  {
   "cell_type": "code",
   "execution_count": 21,
   "id": "cc8e6e5a",
   "metadata": {},
   "outputs": [],
   "source": [
    "# need to save the summary and the content\n",
    "\n",
    "# index tool\n",
    "from minsearch import AppendableIndex\n",
    "\n",
    "index = AppendableIndex(\n",
    "    text_fields=[\"title\", \"summary\", \"details\"],\n",
    "    keyword_fields=[\"category\"]\n",
    ")\n",
    "\n"
   ]
  },
  {
   "cell_type": "code",
   "execution_count": 22,
   "id": "2a24e8d8",
   "metadata": {},
   "outputs": [],
   "source": [
    "from typing import Any, Dict, List\n",
    "\n",
    "class SearchTools:\n",
    "\n",
    "    def __init__(self, index):\n",
    "        self.index = index\n",
    "    \n",
    "    def search(self, query: str, num_results: int = 5) -> List[Dict[str, Any]]:\n",
    "        \"\"\"\n",
    "        Search for documents in the index related to the given query.\n",
    "\n",
    "        Args:\n",
    "            query (str): The search query string.\n",
    "            num_results (int, optional): The maximum number of search results to return. Default is 5.\n",
    "\n",
    "        Returns:\n",
    "            List[Dict[str, Any]]: \n",
    "                A list of search results, where each result is represented as a dictionary containing \n",
    "                the document’s metadata and content fields (e.g., title, summary, details).\n",
    "                \n",
    "        Example:\n",
    "            >>> tools.search(\"LeBron James\")\n",
    "            [\n",
    "                {\"title\": \"LeBron James\", \"summary\": \"NBA player...\", \"details\": \"...\"},\n",
    "                {\"title\": \"Michael Jordan\", \"summary\": \"Former NBA player...\", \"details\": \"...\"}\n",
    "            ]\n",
    "        \"\"\"\n",
    "        boost = {\"title\": 2.0, \"summary\": 1.0, \"details\": 0.5}\n",
    "        \n",
    "        results = self.index.search(\n",
    "            query=query,\n",
    "            boost_dict=boost,\n",
    "            num_results=num_results,\n",
    "        )\n",
    "        return results\n",
    "\n",
    "    def add_entry(self, title: str, category: str, summary: str, details: str, url: str) -> None:\n",
    "        \"\"\"\n",
    "        Add a new document entry to the index for future search and retrieval.\n",
    "\n",
    "        Args:\n",
    "            title (str): The title of the document or topic.\n",
    "            category (str): The category or type of content (e.g., 'Wikipedia', 'News', 'UserNote').\n",
    "            summary (str): A short summary of the content.\n",
    "            details (str): Detailed information or extended description.\n",
    "\n",
    "        Returns:\n",
    "            None\n",
    "\n",
    "        Example:\n",
    "            >>> tools.add_entry(\n",
    "            ...     title=\"LeBron James\",\n",
    "            ...     category=\"Wikipedia\",\n",
    "            ...     summary=\"American professional basketball player.\",\n",
    "            ...     details=\"Born in 1984, LeBron has played for the Cavaliers, Heat, and Lakers...\"\n",
    "            ... )\n",
    "        \"\"\"\n",
    "        doc = {\n",
    "            \"title\": title,\n",
    "            \"category\": category,\n",
    "            \"summary\": summary,\n",
    "            \"details\": details,\n",
    "            \"section\": \"user_added\"\n",
    "        }\n",
    "        self.index.append(doc)\n",
    "\n",
    "\n",
    "tools = SearchTools(index)"
   ]
  },
  {
   "cell_type": "code",
   "execution_count": null,
   "id": "bb6571a3",
   "metadata": {},
   "outputs": [],
   "source": [
    "\n"
   ]
  },
  {
   "cell_type": "code",
   "execution_count": 23,
   "id": "6aa805b7",
   "metadata": {},
   "outputs": [],
   "source": [
    "wiki_instruction = wikioutput.model_dump_json()"
   ]
  },
  {
   "cell_type": "code",
   "execution_count": 24,
   "id": "336cca7e",
   "metadata": {},
   "outputs": [],
   "source": [
    "search_instruction = \"\"\"\n",
    "You are a SEARCH agent responsible for retrieving existing summaries from the local knowledge base.\n",
    "\n",
    "\n",
    "**ROLE:**\n",
    "Your role is to search the database for existing summaries that match the user's query.\n",
    "- If relevant content exists, return it directly (including the title, summary, and details).\n",
    "- If no relevant information is found, do NOT generate or invent anything. \n",
    "  Instead, return an explicit signal indicating that the Summary Agent should be called to create a new summary.\n",
    "\n",
    "**OBJECTIVE:**\n",
    "1. Evaluate the query against the local database using the `search()` function.\n",
    "2. Determine whether a relevant entry already exists.\n",
    "3. Return:\n",
    "   - `\"status\": \"found\"` along with the matching summaries, if relevant content exists.\n",
    "   - `\"status\": \"not_found\"` if there is no relevant summary in the database.\n",
    "\n",
    "**DATA SOURCE:**\n",
    "- You may ONLY use the `search()` function provided.\n",
    "- Do NOT fabricate or modify any titles, summaries, or details.\n",
    "- If the search returns nothing relevant, clearly indicate that no summary was found.\n",
    "\"\"\"\n",
    "\n",
    "from typing import Literal\n",
    "\n",
    "class SearchOutput(BaseModel):\n",
    "    \"\"\"\n",
    "    Structured output for the Search Agent.\n",
    "\n",
    "    This model defines the expected response after the agent searches the local database.\n",
    "    It clearly indicates whether relevant information was found and provides the matching entries if any.\n",
    "    \"\"\"\n",
    "    user_query: str = Field(..., description=\"User input query.\")\n",
    "    status: Literal[\"Found\", \"Not Found\"] = Field(..., description=\"Search if is in the local database and return the status, eg: 'Found' or 'Not Found'\")\n",
    "    results: str = Field(...,\n",
    "        description=(\n",
    "            \"A list of search results containing the fields 'title', 'summary', and 'details'. If no relevant data is found, return an empty list.\"\n",
    "        )\n",
    "    )\n"
   ]
  },
  {
   "cell_type": "code",
   "execution_count": 25,
   "id": "f6a2ec9e",
   "metadata": {},
   "outputs": [],
   "source": [
    "search_agent = Agent(\n",
    "    name='Searcher',\n",
    "    instructions=search_instruction,\n",
    "    tools=[tools.search],\n",
    "    model='gpt-4o-mini',\n",
    "    output_type=SearchOutput\n",
    ")\n",
    "\n",
    "searcher_callback = NamedCallback(search_agent)"
   ]
  },
  {
   "cell_type": "code",
   "execution_count": 26,
   "id": "6c88463c",
   "metadata": {},
   "outputs": [
    {
     "name": "stdout",
     "output_type": "stream",
     "text": [
      "TOOL CALL (Searcher): search({\"query\":\"Capybara\"})\n"
     ]
    }
   ],
   "source": [
    "results = await search_agent.run(\n",
    "        user_prompt=\"Capybara\",\n",
    "        event_stream_handler=searcher_callback,\n",
    "    )"
   ]
  },
  {
   "cell_type": "code",
   "execution_count": null,
   "id": "4682ce9f",
   "metadata": {},
   "outputs": [],
   "source": []
  },
  {
   "cell_type": "code",
   "execution_count": 27,
   "id": "d268f619",
   "metadata": {},
   "outputs": [
    {
     "data": {
      "text/plain": [
       "[ModelRequest(parts=[UserPromptPart(content='Capybara', timestamp=datetime.datetime(2025, 10, 27, 6, 0, 51, 825099, tzinfo=datetime.timezone.utc))], instructions='You are a SEARCH agent responsible for retrieving existing summaries from the local knowledge base.\\n\\n\\n**ROLE:**\\nYour role is to search the database for existing summaries that match the user\\'s query.\\n- If relevant content exists, return it directly (including the title, summary, and details).\\n- If no relevant information is found, do NOT generate or invent anything. \\n  Instead, return an explicit signal indicating that the Summary Agent should be called to create a new summary.\\n\\n**OBJECTIVE:**\\n1. Evaluate the query against the local database using the `search()` function.\\n2. Determine whether a relevant entry already exists.\\n3. Return:\\n   - `\"status\": \"found\"` along with the matching summaries, if relevant content exists.\\n   - `\"status\": \"not_found\"` if there is no relevant summary in the database.\\n\\n**DATA SOURCE:**\\n- You may ONLY use the `search()` function provided.\\n- Do NOT fabricate or modify any titles, summaries, or details.\\n- If the search returns nothing relevant, clearly indicate that no summary was found.'),\n",
       " ModelResponse(parts=[ToolCallPart(tool_name='search', args='{\"query\":\"Capybara\"}', tool_call_id='call_iPDwlO4WD2vaGfxAzO2C9aFu')], usage=RequestUsage(input_tokens=480, output_tokens=15, details={'accepted_prediction_tokens': 0, 'audio_tokens': 0, 'reasoning_tokens': 0, 'rejected_prediction_tokens': 0}), model_name='gpt-4o-mini-2024-07-18', timestamp=datetime.datetime(2025, 10, 27, 6, 0, 52, tzinfo=TzInfo(0)), provider_name='openai', provider_details={'finish_reason': 'tool_calls'}, provider_response_id='chatcmpl-CVAZgqbmHqlyP2qZJtOBozV9zeRDR', finish_reason='tool_call'),\n",
       " ModelRequest(parts=[ToolReturnPart(tool_name='search', content=[], tool_call_id='call_iPDwlO4WD2vaGfxAzO2C9aFu', timestamp=datetime.datetime(2025, 10, 27, 6, 0, 53, 355853, tzinfo=datetime.timezone.utc))], instructions='You are a SEARCH agent responsible for retrieving existing summaries from the local knowledge base.\\n\\n\\n**ROLE:**\\nYour role is to search the database for existing summaries that match the user\\'s query.\\n- If relevant content exists, return it directly (including the title, summary, and details).\\n- If no relevant information is found, do NOT generate or invent anything. \\n  Instead, return an explicit signal indicating that the Summary Agent should be called to create a new summary.\\n\\n**OBJECTIVE:**\\n1. Evaluate the query against the local database using the `search()` function.\\n2. Determine whether a relevant entry already exists.\\n3. Return:\\n   - `\"status\": \"found\"` along with the matching summaries, if relevant content exists.\\n   - `\"status\": \"not_found\"` if there is no relevant summary in the database.\\n\\n**DATA SOURCE:**\\n- You may ONLY use the `search()` function provided.\\n- Do NOT fabricate or modify any titles, summaries, or details.\\n- If the search returns nothing relevant, clearly indicate that no summary was found.'),\n",
       " ModelResponse(parts=[ToolCallPart(tool_name='final_result', args='{\"user_query\":\"Capybara\",\"status\":\"Not Found\",\"results\":\"\"}', tool_call_id='call_AY0aKyauIPPQnvzHuz183Vud')], usage=RequestUsage(input_tokens=503, output_tokens=26, details={'accepted_prediction_tokens': 0, 'audio_tokens': 0, 'reasoning_tokens': 0, 'rejected_prediction_tokens': 0}), model_name='gpt-4o-mini-2024-07-18', timestamp=datetime.datetime(2025, 10, 27, 6, 0, 54, tzinfo=TzInfo(0)), provider_name='openai', provider_details={'finish_reason': 'tool_calls'}, provider_response_id='chatcmpl-CVAZiJ7TkTDldHbzTZQkTJb5Xt7Sl', finish_reason='tool_call'),\n",
       " ModelRequest(parts=[ToolReturnPart(tool_name='final_result', content='Final result processed.', tool_call_id='call_AY0aKyauIPPQnvzHuz183Vud', timestamp=datetime.datetime(2025, 10, 27, 6, 1, 0, 699692, tzinfo=datetime.timezone.utc))])]"
      ]
     },
     "execution_count": 27,
     "metadata": {},
     "output_type": "execute_result"
    }
   ],
   "source": [
    "results.new_messages()\n"
   ]
  },
  {
   "cell_type": "code",
   "execution_count": 28,
   "id": "6d02a432",
   "metadata": {},
   "outputs": [],
   "source": [
    "async def do_serach(agent: Agent, search_stage_instruction: str, previous_search_stages_instructions: List[SearchOutput]) -> SearchOutput:\n",
    "\n",
    "    # search_stage_instruction = search_stage_instruction.model_dump_json()\n",
    "    previous_search_stages_instructions = '\\n'.join([r.model_dump_json() for r in previous_search_stages_instructions])\n",
    "\n",
    "    user_prompt = f\"\"\"\n",
    "    User serach instrustructions:\n",
    "    {search_stage_instruction}\n",
    "\n",
    "    Previous User search instrustructions:\n",
    "    {previous_search_stages_instructions}\n",
    "    \"\"\"\n",
    "\n",
    "    callback = NamedCallback(agent)\n",
    "\n",
    "    results = await agent.run(\n",
    "        user_prompt=user_prompt,\n",
    "        event_stream_handler=callback,\n",
    "    )\n",
    "\n",
    "    return results.output\n",
    "\n",
    "\n"
   ]
  },
  {
   "cell_type": "code",
   "execution_count": 29,
   "id": "ecbd5ec0",
   "metadata": {},
   "outputs": [],
   "source": [
    "# wikioutput\n",
    "# TODO: Await, Async, ....."
   ]
  },
  {
   "cell_type": "code",
   "execution_count": 30,
   "id": "e73d0337",
   "metadata": {},
   "outputs": [
    {
     "name": "stdout",
     "output_type": "stream",
     "text": [
      "TOOL CALL (Searcher): search({\"query\":\"Lebron James\"})\n"
     ]
    }
   ],
   "source": [
    "search_result_1 = await do_serach(\n",
    "    agent=search_agent, \n",
    "    search_stage_instruction='Lebron James',\n",
    "    previous_search_stages_instructions=[])"
   ]
  },
  {
   "cell_type": "code",
   "execution_count": 31,
   "id": "24392a4e",
   "metadata": {},
   "outputs": [
    {
     "data": {
      "text/plain": [
       "SearchOutput(user_query='Lebron James', status='Not Found', results='')"
      ]
     },
     "execution_count": 31,
     "metadata": {},
     "output_type": "execute_result"
    }
   ],
   "source": [
    "search_result_1"
   ]
  },
  {
   "cell_type": "code",
   "execution_count": 32,
   "id": "9321d337",
   "metadata": {},
   "outputs": [
    {
     "name": "stdout",
     "output_type": "stream",
     "text": [
      "TOOL CALL (Searcher): search({\"query\":\"Capybara\"})\n"
     ]
    }
   ],
   "source": [
    "search_result_2 = await do_serach(\n",
    "    agent=search_agent, \n",
    "    search_stage_instruction='Capybara',\n",
    "    previous_search_stages_instructions=[search_result_1])"
   ]
  },
  {
   "cell_type": "code",
   "execution_count": 33,
   "id": "0ab37971",
   "metadata": {},
   "outputs": [
    {
     "data": {
      "text/plain": [
       "SearchOutput(user_query='Capybara', status='Not Found', results='')"
      ]
     },
     "execution_count": 33,
     "metadata": {},
     "output_type": "execute_result"
    }
   ],
   "source": [
    "search_result_2"
   ]
  },
  {
   "cell_type": "code",
   "execution_count": 34,
   "id": "e5ae65e6",
   "metadata": {},
   "outputs": [],
   "source": [
    "\n",
    "class WikipediaSummaryOutput(BaseModel):\n",
    "    \"\"\"\n",
    "    A single, verifiable citation to a transcript snippet or video segment.\n",
    "    Must correspond to a real snippet returned by the `search()` tool.\n",
    "    \"\"\"\n",
    "    title: str = Field(..., description=\"The title of the Wikipedia page, e.g., 'LeBron James'.\")\n",
    "    category: str = Field(..., description=\"What is the category of this Wikpedia page, e.g, ['Person', 'Idea', 'Company', 'Method']\")\n",
    "    summary: str = Field(..., description=\"A concise summary of the main topic and key facts from the page.\")\n",
    "    details: str = Field(..., description=\"A more detailed overview that includes important background, achievements, or related information not covered in the short summary.\")\n",
    "    \n",
    "\n",
    "\n",
    "summary_instruction = \"\"\"\n",
    "You are the SUMMARY agent.\n",
    "\n",
    "You will receive from the Fetch agent of the relevant wikipedia content.\n",
    "Then, you should use the provided wiki contnet to summary into title, category, summary, details.\n",
    "After summarizing the content, you need to save into local database by calling `add_entry()` tool.\n",
    "\n",
    "\"\"\"\n",
    "\n",
    "summary_agent = Agent(\n",
    "    name='Summarizer',\n",
    "    instructions=summary_instruction,\n",
    "    tools=[tools.add_entry],\n",
    "    model='gpt-4o-mini',\n",
    "    output_type=WikipediaSummaryOutput\n",
    ")\n"
   ]
  },
  {
   "cell_type": "code",
   "execution_count": 35,
   "id": "e4888665",
   "metadata": {},
   "outputs": [],
   "source": [
    "async def do_summary(\n",
    "        agent: Agent, \n",
    "        wiki_output_instruction: str, \n",
    "        previous_wiki_instructions: List[WikipediaRetrieveOutput]) -> WikipediaSummaryOutput:\n",
    "\n",
    "    wiki_output_json = wiki_output_instruction.model_dump_json()\n",
    "    previous_wiki_output_json = '\\n'.join([r.model_dump_json() for r in previous_wiki_instructions])\n",
    "\n",
    "    user_prompt = f\"\"\"\n",
    "    Wikipedia instrustructions:\n",
    "    {wiki_output_json}\n",
    "\n",
    "    Previous Wikipedia stages:\n",
    "    {previous_wiki_output_json}\n",
    "    \"\"\"\n",
    "\n",
    "    callback = NamedCallback(agent)\n",
    "\n",
    "    results = await agent.run(\n",
    "        user_prompt=user_prompt,\n",
    "        event_stream_handler=callback,\n",
    "    )\n",
    "\n",
    "    return results.output\n"
   ]
  },
  {
   "cell_type": "code",
   "execution_count": 36,
   "id": "fc54ed93",
   "metadata": {},
   "outputs": [
    {
     "data": {
      "text/plain": [
       "WikipediaRetrieveOutput(title='Capybara', url='https://en.wikipedia.org/wiki/Capybara', content='The capybara or greater capybara (_Hydrochoerus hydrochaeris_) is the largest living rodent, native to South America. It is a member of the genus Hydrochoerus. Its close relatives include guinea pigs and rock cavies, and it is more distantly related to the agouti, the chinchilla, and the nutria. The capybara inhabits savannas and dense forests and lives near bodies of water. It is a highly social species and can be found in groups as large as one hundred individuals, but usually lives in groups of 10–20 individuals. The capybara is hunted for its meat and hide and also for grease from its thick fatty skin.\\n\\nEtymology\\nIts common name is derived from Tupi _ka\\'apiûara_, a complex agglutination of _kaá_ (leaf) + _píi_ (slender) + _ú_ (eat) + _ara_ (a suffix for agent nouns), meaning \"one who eats slender leaves\", or \"grass-eater\". The genus name, _hydrochoerus_, comes from Greek ὕδωρ (_hýdor_ \"water\") and χοῖρος (_choíros_ \"pig, hog\") and the species name, _hydrochaeris_, comes from Greek ὕδωρ (_hýdor_ \"water\") and χαίρω (_chairo_ \"feel happy, enjoy\").\\n\\nClassification and phylogeny\\nThe capybara and the lesser capybara both belong to the subfamily Hydrochoerinae along with the rock cavies. The living capybaras and their extinct relatives were previously classified in their own family Hydrochoeridae. Since 2002, molecular phylogenetic studies have recognized a close relationship between Hydrochoerus and Kerodon, the rock cavies, supporting placement of both genera in a subfamily of Caviidae.\\n\\nPaleontological classifications previously used Hydrochoeridae for all capybaras, while using Hydrochoerinae for the living genus and its closest fossil relatives, such as _Neochoerus_, but more recently have adopted the classification of Hydrochoerinae within Caviidae. The taxonomy of fossil hydrochoerines is also in a state of flux. \\n\\nDescription\\nThe capybara has a heavy, barrel-shaped body and short head, with reddish-brown fur on the upper part of its body that turns yellowish-brown underneath. Its sweat glands can be found in the surface of the hairy portions of its skin, an unusual trait among rodents. The animal lacks down hair, and its guard hair differs little from over hair. \\n\\nAdult capybaras grow to 106 to 134 cm (3.48 to 4.40 ft) in length, stand 50 to 62 cm (20 to 24 in) tall at the withers, and typically weigh 35 to 66 kg (77 to 146 lb), with an average in the Venezuelan llanos of 48.9 kg (108 lb). Females are slightly heavier than males. \\n\\nEcology\\nCapybaras are semiaquatic mammals found throughout all countries of South America except Chile. They live in densely forested areas near bodies of water, such as lakes, rivers, swamps, ponds, and marshes, as well as flooded savannah and along rivers in the tropical rainforest. They are superb swimmers and can hold their breath underwater for up to five minutes at a time. Capybara have flourished in cattle ranches. They roam in home ranges averaging 10 hectares (25 acres) in high-density populations.\\n\\nDiet and predation\\nCapybaras are herbivores, grazing mainly on grasses and aquatic plants, as well as fruit and tree bark. They are very selective feeders and feed on the leaves of one species and disregard other species surrounding it. While they eat grass during the wet season, they have to switch to more abundant reeds during the dry season. The capybara\\'s jaw hinge is not perpendicular, so they chew food by grinding back-and-forth rather than side-to-side. \\n\\nThe maximum lifespan of the capybara is 8 to 10 years, but in the wild capybaras usually do not live longer than four years because of predation from South American big cats such as jaguars and cougars and from non-mammalian predators such as harpy eagles, caimans, green anacondas and piranhas. \\n\\nCapybaras are known to be gregarious. While they sometimes live solitarily, they are more commonly found in groups of around 10–20 individuals, with two to four adult males, four to seven adult females, and the remainder juveniles. \\n\\nReproduction\\nCapybara have a gestation of 130–150 days, producing a litter of four young on average, but may produce between one and eight in a single litter. Birth is on land and the female rejoins the group within a few hours of delivering the newborn capybaras, which join the group as soon as they are mobile.\\n\\nConservation and human interaction\\nCapybaras are not considered a threatened species; their population is stable throughout most of their South American range, though in some areas hunting has reduced their numbers. Capybaras are hunted for their meat and pelts in some areas and otherwise killed by humans who see their grazing as competition for livestock. In some areas, they are farmed, which has the effect of ensuring the wetland habitats are protected. \\n\\nCapybaras have adapted well to urbanization in South America. They can be found in many areas in zoos and parks, and may live for 12 years in captivity, more than double their wild lifespan.')"
      ]
     },
     "execution_count": 36,
     "metadata": {},
     "output_type": "execute_result"
    }
   ],
   "source": [
    "wikioutput"
   ]
  },
  {
   "cell_type": "code",
   "execution_count": 37,
   "id": "7e0fb924",
   "metadata": {},
   "outputs": [
    {
     "name": "stdout",
     "output_type": "stream",
     "text": [
      "TOOL CALL (Summarizer): add_entry({\"title\":\"Capybara\",\"category\":\"Wikipedia\",\"summary\":\"The capybara is the largest living rodent, found in South America, known for its social behavior and semi-aquatic lifestyle.\",\"details\":\"Capybaras are native to South America and inhabit savannas and forests near water bodies. They can weigh up to 66 kg and typically live in groups of 10-20. Their diet consists of grasses and aquatic plants, and they are preyed upon by South American big cats and various predators. With a gestation period of 130-150 days, they usually produce four offspring. Despite some hunting pressures, capybara populations are generally stable, and they adapt well to urban environments. They can also be found in zoos, living longer in captivity.\",\"url\":\"https://en.wikipedia.org/wiki/Capybara\"})\n"
     ]
    }
   ],
   "source": [
    "result = await do_summary(\n",
    "    agent=summary_agent, \n",
    "    wiki_output_instruction=wikioutput, \n",
    "    previous_wiki_instructions=[]\n",
    "    )"
   ]
  },
  {
   "cell_type": "code",
   "execution_count": 38,
   "id": "aee3a7dd",
   "metadata": {},
   "outputs": [
    {
     "data": {
      "text/plain": [
       "WikipediaSummaryOutput(title='Capybara', category='Animal', summary='The capybara is the largest living rodent, native to South America and known for its social behavior.', details='The capybara (_Hydrochoerus hydrochaeris_) is a semi-aquatic mammal that inhabits savannas and forests near water bodies across South America, except Chile. It is highly social, typically found in groups of 10-20, but can gather in larger groups. Adults weigh 35-66 kg and grow to about 106-134 cm in length. Capybaras are herbivorous, primarily feeding on grasses and aquatic plants, and are preyed upon by large South American predators. They have a gestation period of 130-150 days, usually producing four young at a time. While their populations are stable, hunting for meat and pelts poses some threats. Capybaras adapt well to urbanization and can often be seen in zoos and parks, where their lifespan extends beyond that in the wild, averaging 12 years in captivity.')"
      ]
     },
     "execution_count": 38,
     "metadata": {},
     "output_type": "execute_result"
    }
   ],
   "source": [
    "result"
   ]
  },
  {
   "cell_type": "code",
   "execution_count": 39,
   "id": "811de7b6",
   "metadata": {},
   "outputs": [
    {
     "data": {
      "text/plain": [
       "[{'title': 'Capybara',\n",
       "  'category': 'Wikipedia',\n",
       "  'summary': 'The capybara is the largest living rodent, found in South America, known for its social behavior and semi-aquatic lifestyle.',\n",
       "  'details': 'Capybaras are native to South America and inhabit savannas and forests near water bodies. They can weigh up to 66 kg and typically live in groups of 10-20. Their diet consists of grasses and aquatic plants, and they are preyed upon by South American big cats and various predators. With a gestation period of 130-150 days, they usually produce four offspring. Despite some hunting pressures, capybara populations are generally stable, and they adapt well to urban environments. They can also be found in zoos, living longer in captivity.',\n",
       "  'section': 'user_added'}]"
      ]
     },
     "execution_count": 39,
     "metadata": {},
     "output_type": "execute_result"
    }
   ],
   "source": [
    "index.search('Capybara')"
   ]
  },
  {
   "cell_type": "code",
   "execution_count": 40,
   "id": "de3cf677",
   "metadata": {},
   "outputs": [
    {
     "data": {
      "text/plain": [
       "[]"
      ]
     },
     "execution_count": 40,
     "metadata": {},
     "output_type": "execute_result"
    }
   ],
   "source": [
    "index.search('Neochoerus')"
   ]
  },
  {
   "cell_type": "code",
   "execution_count": 41,
   "id": "f762e7ed",
   "metadata": {},
   "outputs": [],
   "source": [
    "# summary agent\n",
    "# search agent\n",
    "# fetch web agent"
   ]
  },
  {
   "cell_type": "code",
   "execution_count": 42,
   "id": "f373aa5c",
   "metadata": {},
   "outputs": [],
   "source": [
    "# orchestration\n",
    "\n",
    "from pydantic_ai import RunContext"
   ]
  },
  {
   "cell_type": "code",
   "execution_count": 43,
   "id": "d75f7936",
   "metadata": {},
   "outputs": [],
   "source": [
    "orchestrator_instructions = \"\"\"\n",
    "You are the orchestrator agent that manages the workflow of searching, fetching, summarizing, and storing knowledge.\n",
    "\n",
    "**Primary Rule:**  \n",
    "You must ALWAYS begin by using the `search_task` tool before doing anything else.\n",
    "- If the user's query can be found from the database, retreive the summary from the documents.\n",
    "- If the user's query can be answered from the search results, answer it directly.  \n",
    "- Do not proceed to fetching or summarizing if the answer can be provided from the search results.\n",
    "\n",
    "**Workflow Steps:**\n",
    "1. **Search the database**\n",
    "   - Use the `search_task` tool to check if relevant knowledge exists for the user's query.  \n",
    "   - If relevant content is found:\n",
    "       - Answer the user's question using this content.\n",
    "       - Return the summary and details from the search.\n",
    "       - Mark the task as complete.  \n",
    "   - If the search result does not contain relevant information, proceed to step 2.\n",
    "\n",
    "2. **Fetch Wikipedia content and summarize**\n",
    "   - Use the `web_fetch` tool to retrieve raw Wikipedia content for the topic or URL.  \n",
    "   - **After performing any web fetch, you must always call the `summary_tool`.**  \n",
    "   - The `summary_tool` should summarize the fetched Wikipedia content into a concise, structured summary and detailed context.  \n",
    "   - Store the summarized knowledge in the local database using the `add_entry` tool for future queries.\n",
    "   - Always finish the Task after adding the entry.\n",
    "\n",
    "3. **Finish and Stop**  \n",
    "   - Once summarization and storage are complete, return a short summary of the findings to the user.  \n",
    "   - **Do not run any more tools after `add_entry`** — this marks the workflow as **complete**.  \n",
    "   - Clearly indicate in your final output whether the content was retrieved or newly summarized.\n",
    "\n",
    "\n",
    "   \n",
    "**Rules & Constraints**\n",
    "- Only perform **one search at the beginning**.  \n",
    "- Only perform one summary **One summary at the end**.  \n",
    "- Do not fabricate information; only use retrieved or summarized content.  \n",
    "- Follow the exact tool order:  \n",
    "  1️⃣ `search_task` → 2️⃣ `web_search` → 3️⃣ `summary_tool` → 4️⃣ `add_entry`   → ✅ **STOP**  \n",
    "- Ensure all outputs are structured for downstream processing and database storage.\n",
    "\"\"\"\n",
    "\n",
    "orchestrator = Agent(\n",
    "    name='orchestrator',\n",
    "    instructions=orchestrator_instructions,\n",
    "    model='gpt-4o-mini',\n",
    ")\n",
    "\n",
    "orchestrator_callback = NamedCallback(orchestrator)"
   ]
  },
  {
   "cell_type": "code",
   "execution_count": 44,
   "id": "25b69ef9",
   "metadata": {},
   "outputs": [],
   "source": [
    "@orchestrator.tool\n",
    "async def search_task(ctx: RunContext, query: str) -> str:\n",
    "    \"\"\"Search the local database for existing summaries that match the user's query.\n",
    "\n",
    "    This tool invokes the Search Agent to check whether relevant information already exists.\n",
    "    If found, it returns the matching summaries and details. \n",
    "    If not found, the orchestrator may call the Summary Agent to generate a new summary.\n",
    "\n",
    "    Args:\n",
    "        ctx (RunContext): The orchestrator context for managing tool execution.\n",
    "        query (str): The raw user query to search for.\n",
    "\n",
    "    Returns:\n",
    "        SearchOutput: Structured search results containing status and any matching entries.\n",
    "    \"\"\"\n",
    "    print(\"\\n=== Searher (Initial) ===\")\n",
    "    callback = NamedCallback(search_agent)\n",
    "    results = await search_agent.run(user_prompt=query, event_stream_handler=callback)\n",
    "    \n",
    "    return results.output"
   ]
  },
  {
   "cell_type": "code",
   "execution_count": 45,
   "id": "73965c14",
   "metadata": {},
   "outputs": [],
   "source": [
    "@orchestrator.tool\n",
    "async def web_fetch(ctx: RunContext, query: str) -> WikipediaRetrieveOutput:\n",
    "    \"\"\"Retrieve raw Wikipedia content for the given topic or URL.\n",
    "\n",
    "    Args:\n",
    "        ctx (RunContext): The orchestrator context for managing tool execution.\n",
    "        query (str): The Wikipedia topic or page URL to fetch.\n",
    "\n",
    "    Returns:\n",
    "        WikipediaFetchOutput: The fetched Wikipedia article, including title and full content text.\n",
    "    \"\"\"\n",
    "    print(f\"\\n=== Web Fetch stage ===\")\n",
    "    \n",
    "    callback = NamedCallback(web_agent)\n",
    "    results = await web_agent.run(\n",
    "        user_prompt=query,\n",
    "        event_stream_handler=callback\n",
    "    )\n",
    "\n",
    "    return results"
   ]
  },
  {
   "cell_type": "code",
   "execution_count": 46,
   "id": "72f22c34",
   "metadata": {},
   "outputs": [],
   "source": [
    "@orchestrator.tool\n",
    "async def summary_tool(ctx: RunContext, query: str) -> WikipediaSummaryOutput:\n",
    "    \"\"\"Summarize a Wikipedia article into concise and structured key information.\n",
    "\n",
    "    This tool uses the Summary Agent to process fetched Wikipedia content, \n",
    "    generating a summary and additional details suitable for storage or presentation.\n",
    "\n",
    "    Args:\n",
    "        ctx (RunContext): The orchestrator context for managing tool execution.\n",
    "        query (str): The raw Wikipedia content or topic to summarize.\n",
    "\n",
    "    Returns:\n",
    "        WikipediaSummaryOutput: Structured summary containing the title, short summary, and detailed context.\n",
    "\n",
    "    \"\"\"\n",
    "    print(f\"\\n=== Summary stage ===\")\n",
    "    prior_wiki_output = []\n",
    "    print(ctx.messages)\n",
    "    for m in ctx.messages:\n",
    "        for p in m.parts:\n",
    "            if p.part_kind == 'tool-return' and p.tool_name == 'web_fetch':\n",
    "                prior_wiki_output.append(p.content.output)\n",
    "                \n",
    "    \n",
    "    wikioutput = prior_wiki_output[-1]\n",
    "    print(wikioutput)\n",
    "\n",
    "    results = await do_summary(\n",
    "        agent=summary_agent, \n",
    "        wiki_output_instruction=wikioutput, \n",
    "        previous_wiki_instructions=[]\n",
    "        )\n",
    "\n",
    "    return results"
   ]
  },
  {
   "cell_type": "code",
   "execution_count": 47,
   "id": "f3d45a7e",
   "metadata": {},
   "outputs": [],
   "source": [
    "# RunContext.messages"
   ]
  },
  {
   "cell_type": "code",
   "execution_count": null,
   "id": "2d09613d",
   "metadata": {},
   "outputs": [],
   "source": []
  },
  {
   "cell_type": "code",
   "execution_count": 57,
   "id": "8c95883a",
   "metadata": {},
   "outputs": [],
   "source": [
    "# question = \"What is this page about? https://en.wikipedia.org/wiki/Capybara\"\n",
    "question = \"What is this page about?  https://en.wikipedia.org/wiki/Hydrochoerus\"\n",
    "question = \"What is this page about?  https://en.wikipedia.org/wiki/Neochoerus\"\n",
    "# question = \"What is this page about? https://en.wikipedia.org/wiki/Caviodon\"\n",
    "question = \"What are threats to capybara populations?\""
   ]
  },
  {
   "cell_type": "code",
   "execution_count": 58,
   "id": "1e3432b2",
   "metadata": {},
   "outputs": [
    {
     "name": "stdout",
     "output_type": "stream",
     "text": [
      "TOOL CALL (orchestrator): search_task({\"query\":\"threats to capybara populations\"})\n",
      "\n",
      "=== Searher (Initial) ===\n",
      "TOOL CALL (Searcher): search({\"query\":\"threats to capybara populations\"})\n",
      "TOOL CALL (orchestrator): web_fetch({\"query\":\"Capybara\"})\n",
      "\n",
      "=== Web Fetch stage ===\n",
      "TOOL CALL (web): fetch_url({\"url\":\"https://en.wikipedia.org/wiki/Capybara\"})\n",
      "TOOL CALL (orchestrator): summary_tool({\"query\":\"Capybara\"})\n",
      "\n",
      "=== Summary stage ===\n",
      "[ModelRequest(parts=[UserPromptPart(content='What are threats to capybara populations?', timestamp=datetime.datetime(2025, 10, 27, 6, 5, 57, 343618, tzinfo=datetime.timezone.utc))], instructions=\"You are the orchestrator agent that manages the workflow of searching, fetching, summarizing, and storing knowledge.\\n\\n**Primary Rule:**  \\nYou must ALWAYS begin by using the `search_task` tool before doing anything else.\\n- If the user's query can be found from the database, retreive the summary from the documents.\\n- If the user's query can be answered from the search results, answer it directly.  \\n- Do not proceed to fetching or summarizing if the answer can be provided from the search results.\\n\\n**Workflow Steps:**\\n1. **Search the database**\\n   - Use the `search_task` tool to check if relevant knowledge exists for the user's query.  \\n   - If relevant content is found:\\n       - Answer the user's question using this content.\\n       - Return the summary and details from the search.\\n       - Mark the task as complete.  \\n   - If the search result does not contain relevant information, proceed to step 2.\\n\\n2. **Fetch Wikipedia content and summarize**\\n   - Use the `web_fetch` tool to retrieve raw Wikipedia content for the topic or URL.  \\n   - **After performing any web fetch, you must always call the `summary_tool`.**  \\n   - The `summary_tool` should summarize the fetched Wikipedia content into a concise, structured summary and detailed context.  \\n   - Store the summarized knowledge in the local database using the `add_entry` tool for future queries.\\n   - Always finish the Task after adding the entry.\\n\\n3. **Finish and Stop**  \\n   - Once summarization and storage are complete, return a short summary of the findings to the user.  \\n   - **Do not run any more tools after `add_entry`** — this marks the workflow as **complete**.  \\n   - Clearly indicate in your final output whether the content was retrieved or newly summarized.\\n\\n\\n\\n**Rules & Constraints**\\n- Only perform **one search at the beginning**.  \\n- Only perform one summary **One summary at the end**.  \\n- Do not fabricate information; only use retrieved or summarized content.  \\n- Follow the exact tool order:  \\n  1️⃣ `search_task` → 2️⃣ `web_search` → 3️⃣ `summary_tool` → 4️⃣ `add_entry`   → ✅ **STOP**  \\n- Ensure all outputs are structured for downstream processing and database storage.\"), ModelResponse(parts=[ToolCallPart(tool_name='search_task', args='{\"query\":\"threats to capybara populations\"}', tool_call_id='call_16dUywZIyWBrD1auZP3wZLbe')], usage=RequestUsage(input_tokens=791, output_tokens=21, details={'accepted_prediction_tokens': 0, 'audio_tokens': 0, 'reasoning_tokens': 0, 'rejected_prediction_tokens': 0}), model_name='gpt-4o-mini-2024-07-18', timestamp=datetime.datetime(2025, 10, 27, 6, 5, 57, tzinfo=TzInfo(0)), provider_name='openai', provider_details={'finish_reason': 'tool_calls'}, provider_response_id='chatcmpl-CVAebu4KRXuAaOq3LJEqZgNf1Dfll', finish_reason='tool_call'), ModelRequest(parts=[ToolReturnPart(tool_name='search_task', content=SearchOutput(user_query='threats to capybara populations', status='Not Found', results=''), tool_call_id='call_16dUywZIyWBrD1auZP3wZLbe', timestamp=datetime.datetime(2025, 10, 27, 6, 6, 1, 2366, tzinfo=datetime.timezone.utc))], instructions=\"You are the orchestrator agent that manages the workflow of searching, fetching, summarizing, and storing knowledge.\\n\\n**Primary Rule:**  \\nYou must ALWAYS begin by using the `search_task` tool before doing anything else.\\n- If the user's query can be found from the database, retreive the summary from the documents.\\n- If the user's query can be answered from the search results, answer it directly.  \\n- Do not proceed to fetching or summarizing if the answer can be provided from the search results.\\n\\n**Workflow Steps:**\\n1. **Search the database**\\n   - Use the `search_task` tool to check if relevant knowledge exists for the user's query.  \\n   - If relevant content is found:\\n       - Answer the user's question using this content.\\n       - Return the summary and details from the search.\\n       - Mark the task as complete.  \\n   - If the search result does not contain relevant information, proceed to step 2.\\n\\n2. **Fetch Wikipedia content and summarize**\\n   - Use the `web_fetch` tool to retrieve raw Wikipedia content for the topic or URL.  \\n   - **After performing any web fetch, you must always call the `summary_tool`.**  \\n   - The `summary_tool` should summarize the fetched Wikipedia content into a concise, structured summary and detailed context.  \\n   - Store the summarized knowledge in the local database using the `add_entry` tool for future queries.\\n   - Always finish the Task after adding the entry.\\n\\n3. **Finish and Stop**  \\n   - Once summarization and storage are complete, return a short summary of the findings to the user.  \\n   - **Do not run any more tools after `add_entry`** — this marks the workflow as **complete**.  \\n   - Clearly indicate in your final output whether the content was retrieved or newly summarized.\\n\\n\\n\\n**Rules & Constraints**\\n- Only perform **one search at the beginning**.  \\n- Only perform one summary **One summary at the end**.  \\n- Do not fabricate information; only use retrieved or summarized content.  \\n- Follow the exact tool order:  \\n  1️⃣ `search_task` → 2️⃣ `web_search` → 3️⃣ `summary_tool` → 4️⃣ `add_entry`   → ✅ **STOP**  \\n- Ensure all outputs are structured for downstream processing and database storage.\"), ModelResponse(parts=[ToolCallPart(tool_name='web_fetch', args='{\"query\":\"Capybara\"}', tool_call_id='call_YCCUxXvqeKGlLGOC1CbR8R2x')], usage=RequestUsage(input_tokens=842, output_tokens=16, details={'accepted_prediction_tokens': 0, 'audio_tokens': 0, 'reasoning_tokens': 0, 'rejected_prediction_tokens': 0}), model_name='gpt-4o-mini-2024-07-18', timestamp=datetime.datetime(2025, 10, 27, 6, 6, 1, tzinfo=TzInfo(0)), provider_name='openai', provider_details={'finish_reason': 'tool_calls'}, provider_response_id='chatcmpl-CVAef7lFUY7BkigQJZkFTf5WgxL4s', finish_reason='tool_call'), ModelRequest(parts=[ToolReturnPart(tool_name='web_fetch', content=AgentRunResult(output=WikipediaRetrieveOutput(title='Capybara', url='https://en.wikipedia.org/wiki/Capybara', content='The capybara or greater capybara (Hydrochoerus hydrochaeris) is the largest living rodent, native to South America. It is a member of the genus Hydrochoerus. Its close relatives include guinea pigs and rock cavies, and it is more distantly related to the agouti, the chinchilla, and the nutria. The capybara inhabits savannas and dense forests, and lives near bodies of water. It is a highly social species and can be found in groups as large as one hundred individuals, but usually live in groups of 10–20 individuals. The capybara is hunted for its meat and hide and also for grease from its thick fatty skin.\\n\\nEtymology\\n\\nIts common name is derived from Tupi ka\\'apiûara, a complex agglutination of kaá (leaf) + píi (slender) + ú (eat) + ara (a suffix for agent nouns), meaning \"one who eats slender leaves\", or \"grass-eater\". The genus name, hydrochoerus, comes from Greek ὕδωρ (hýdor \"water\") and χοῖρος (choíros \"pig, hog\") and the species name, hydrochaeris, comes from Greek ὕδωρ (hýdor \"water\") and χαίρω (chairo \"feel happy, enjoy\").\\n\\nClassification and phylogeny\\n\\nThe capybara and the lesser capybara both belong to the subfamily Hydrochoerinae along with the rock cavies. The living capybaras and their extinct relatives were previously classified in their own family Hydrochoeridae. Since 2002, molecular phylogenetic studies have recognized a close relationship between Hydrochoerus and Kerodon, the rock cavies, supporting placement of both genera in a subfamily of Caviidae. Paleontological classifications previously used Hydrochoeridae for all capybaras, while using Hydrochoerinae for the living genus and its closest fossil relatives, such as Neochoerus, but more recently have adopted the classification of Hydrochoerinae within Caviidae. \\n\\nDescription\\n\\nThe capybara has a heavy, barrel-shaped body and short head, with reddish-brown fur on the upper part of its body that turns yellowish-brown underneath. Its sweat glands can be found in the surface of the hairy portions of its skin, an unusual trait among rodents. The animal lacks down hair, and its guard hair differs little from over hair. Adult capybaras grow to 106 to 134 cm (3.48 to 4.40 ft) in length, stand 50 to 62 cm (20 to 24 in) tall at the withers, and typically weigh 35 to 66 kg (77 to 146 lb), with an average in the Venezuelan llanos of 48.9 kg (108 lb). Females are slightly heavier than males. Capybaras have slightly webbed feet and vestigial tails. Their hind legs are slightly longer than their forelegs; they have three toes on their rear feet and four toes on their front feet. Their muzzles are blunt, with nostrils, and the eyes and ears are near the top of their heads.\\n\\nEcology\\n\\nCapybaras are semiaquatic mammals found throughout all countries of South America except Chile. They live in densely forested areas near bodies of water, such as lakes, rivers, swamps, ponds, and marshes, as well as flooded savannah and along rivers in the tropical rainforest. They are superb swimmers and can hold their breath underwater for up to five minutes at a time. Capybara have flourished in cattle ranches. Capybaras are herbivores, grazing mainly on grasses and aquatic plants, as well as fruit and tree bark. They also regurgitate food to masticate again, similar to cud-chewing by cattle. The maximum lifespan of the capybara is 8 to 10 years, but in the wild capybaras usually do not live longer than four years because of predation from South American big cats such as jaguars and cougars, and from non-mammalian predators such as harpy eagles, caimans, green anacondas and piranhas.\\n\\nCapybaras are known to be gregarious. While they sometimes live solitarily, they are more commonly found in groups of around 10–20 individuals, with two to four adult males, four to seven adult females, and the remainder juveniles. Capybara groups can consist of as many as 50 or 100 individuals during the dry season when the animals gather around available water sources. Capybaras communicate using barks, chirps, whistles, huffs, and purrs.\\n\\nConservation and human interaction\\n\\nCapybaras are not considered a threatened species; their population is stable throughout most of their South American range, though in some areas hunting has reduced their numbers. In August 2021, Argentine and international media reported that capybaras had been disturbing residents of Nordelta, an affluent gated community north of Buenos Aires built atop the local capybara\\'s preexisting wetland habitat. Capybaras are farmed for meat and skins in South America. The meat is considered unsuitable to eat in some areas, while in other areas it is considered an important source of protein. Capybaras have adapted well to urbanization in South America. They can be found in many areas in zoos and parks, and may live for 12 years in captivity, more than double their wild lifespan. \\n\\nIn popular culture\\n\\nCapybaras have long been a figure in meme culture, particularly in the 2020s. Video clips of bathing capybaras have gained millions of views in Japan.')), tool_call_id='call_YCCUxXvqeKGlLGOC1CbR8R2x', timestamp=datetime.datetime(2025, 10, 27, 6, 6, 35, 528529, tzinfo=datetime.timezone.utc))], instructions=\"You are the orchestrator agent that manages the workflow of searching, fetching, summarizing, and storing knowledge.\\n\\n**Primary Rule:**  \\nYou must ALWAYS begin by using the `search_task` tool before doing anything else.\\n- If the user's query can be found from the database, retreive the summary from the documents.\\n- If the user's query can be answered from the search results, answer it directly.  \\n- Do not proceed to fetching or summarizing if the answer can be provided from the search results.\\n\\n**Workflow Steps:**\\n1. **Search the database**\\n   - Use the `search_task` tool to check if relevant knowledge exists for the user's query.  \\n   - If relevant content is found:\\n       - Answer the user's question using this content.\\n       - Return the summary and details from the search.\\n       - Mark the task as complete.  \\n   - If the search result does not contain relevant information, proceed to step 2.\\n\\n2. **Fetch Wikipedia content and summarize**\\n   - Use the `web_fetch` tool to retrieve raw Wikipedia content for the topic or URL.  \\n   - **After performing any web fetch, you must always call the `summary_tool`.**  \\n   - The `summary_tool` should summarize the fetched Wikipedia content into a concise, structured summary and detailed context.  \\n   - Store the summarized knowledge in the local database using the `add_entry` tool for future queries.\\n   - Always finish the Task after adding the entry.\\n\\n3. **Finish and Stop**  \\n   - Once summarization and storage are complete, return a short summary of the findings to the user.  \\n   - **Do not run any more tools after `add_entry`** — this marks the workflow as **complete**.  \\n   - Clearly indicate in your final output whether the content was retrieved or newly summarized.\\n\\n\\n\\n**Rules & Constraints**\\n- Only perform **one search at the beginning**.  \\n- Only perform one summary **One summary at the end**.  \\n- Do not fabricate information; only use retrieved or summarized content.  \\n- Follow the exact tool order:  \\n  1️⃣ `search_task` → 2️⃣ `web_search` → 3️⃣ `summary_tool` → 4️⃣ `add_entry`   → ✅ **STOP**  \\n- Ensure all outputs are structured for downstream processing and database storage.\"), ModelResponse(parts=[ToolCallPart(tool_name='summary_tool', args='{\"query\":\"Capybara\"}', tool_call_id='call_YZT7hdF0Zf3K6bVNY56oeW5G')], usage=RequestUsage(input_tokens=23530, output_tokens=16, details={'accepted_prediction_tokens': 0, 'audio_tokens': 0, 'reasoning_tokens': 0, 'rejected_prediction_tokens': 0}), model_name='gpt-4o-mini-2024-07-18', timestamp=datetime.datetime(2025, 10, 27, 6, 6, 35, tzinfo=TzInfo(0)), provider_name='openai', provider_details={'finish_reason': 'tool_calls'}, provider_response_id='chatcmpl-CVAfDuwaILwpZcFI6ZOfWQ64WXgDc', finish_reason='tool_call')]\n",
      "title='Capybara' url='https://en.wikipedia.org/wiki/Capybara' content='The capybara or greater capybara (Hydrochoerus hydrochaeris) is the largest living rodent, native to South America. It is a member of the genus Hydrochoerus. Its close relatives include guinea pigs and rock cavies, and it is more distantly related to the agouti, the chinchilla, and the nutria. The capybara inhabits savannas and dense forests, and lives near bodies of water. It is a highly social species and can be found in groups as large as one hundred individuals, but usually live in groups of 10–20 individuals. The capybara is hunted for its meat and hide and also for grease from its thick fatty skin.\\n\\nEtymology\\n\\nIts common name is derived from Tupi ka\\'apiûara, a complex agglutination of kaá (leaf) + píi (slender) + ú (eat) + ara (a suffix for agent nouns), meaning \"one who eats slender leaves\", or \"grass-eater\". The genus name, hydrochoerus, comes from Greek ὕδωρ (hýdor \"water\") and χοῖρος (choíros \"pig, hog\") and the species name, hydrochaeris, comes from Greek ὕδωρ (hýdor \"water\") and χαίρω (chairo \"feel happy, enjoy\").\\n\\nClassification and phylogeny\\n\\nThe capybara and the lesser capybara both belong to the subfamily Hydrochoerinae along with the rock cavies. The living capybaras and their extinct relatives were previously classified in their own family Hydrochoeridae. Since 2002, molecular phylogenetic studies have recognized a close relationship between Hydrochoerus and Kerodon, the rock cavies, supporting placement of both genera in a subfamily of Caviidae. Paleontological classifications previously used Hydrochoeridae for all capybaras, while using Hydrochoerinae for the living genus and its closest fossil relatives, such as Neochoerus, but more recently have adopted the classification of Hydrochoerinae within Caviidae. \\n\\nDescription\\n\\nThe capybara has a heavy, barrel-shaped body and short head, with reddish-brown fur on the upper part of its body that turns yellowish-brown underneath. Its sweat glands can be found in the surface of the hairy portions of its skin, an unusual trait among rodents. The animal lacks down hair, and its guard hair differs little from over hair. Adult capybaras grow to 106 to 134 cm (3.48 to 4.40 ft) in length, stand 50 to 62 cm (20 to 24 in) tall at the withers, and typically weigh 35 to 66 kg (77 to 146 lb), with an average in the Venezuelan llanos of 48.9 kg (108 lb). Females are slightly heavier than males. Capybaras have slightly webbed feet and vestigial tails. Their hind legs are slightly longer than their forelegs; they have three toes on their rear feet and four toes on their front feet. Their muzzles are blunt, with nostrils, and the eyes and ears are near the top of their heads.\\n\\nEcology\\n\\nCapybaras are semiaquatic mammals found throughout all countries of South America except Chile. They live in densely forested areas near bodies of water, such as lakes, rivers, swamps, ponds, and marshes, as well as flooded savannah and along rivers in the tropical rainforest. They are superb swimmers and can hold their breath underwater for up to five minutes at a time. Capybara have flourished in cattle ranches. Capybaras are herbivores, grazing mainly on grasses and aquatic plants, as well as fruit and tree bark. They also regurgitate food to masticate again, similar to cud-chewing by cattle. The maximum lifespan of the capybara is 8 to 10 years, but in the wild capybaras usually do not live longer than four years because of predation from South American big cats such as jaguars and cougars, and from non-mammalian predators such as harpy eagles, caimans, green anacondas and piranhas.\\n\\nCapybaras are known to be gregarious. While they sometimes live solitarily, they are more commonly found in groups of around 10–20 individuals, with two to four adult males, four to seven adult females, and the remainder juveniles. Capybara groups can consist of as many as 50 or 100 individuals during the dry season when the animals gather around available water sources. Capybaras communicate using barks, chirps, whistles, huffs, and purrs.\\n\\nConservation and human interaction\\n\\nCapybaras are not considered a threatened species; their population is stable throughout most of their South American range, though in some areas hunting has reduced their numbers. In August 2021, Argentine and international media reported that capybaras had been disturbing residents of Nordelta, an affluent gated community north of Buenos Aires built atop the local capybara\\'s preexisting wetland habitat. Capybaras are farmed for meat and skins in South America. The meat is considered unsuitable to eat in some areas, while in other areas it is considered an important source of protein. Capybaras have adapted well to urbanization in South America. They can be found in many areas in zoos and parks, and may live for 12 years in captivity, more than double their wild lifespan. \\n\\nIn popular culture\\n\\nCapybaras have long been a figure in meme culture, particularly in the 2020s. Video clips of bathing capybaras have gained millions of views in Japan.'\n",
      "TOOL CALL (Summarizer): add_entry({\"title\":\"Capybara\",\"category\":\"Wikipedia\",\"summary\":\"The capybara is the largest living rodent, native to South America, known for its social behavior and semi-aquatic lifestyle.\",\"details\":\"The capybara (Hydrochoerus hydrochaeris) native to South America is the largest living rodent. It has a barrel-shaped body, reddish-brown fur, and lives in groups typically composed of 10-20 individuals. They are herbivorous, primarily eating grasses and aquatic plants, and are known to communicate using a variety of sounds. Found near water bodies, capybaras are excellent swimmers and can hold their breath for up to five minutes. While not considered a threatened species, hunting and habitat loss impact their populations in certain areas. They have also adapted to urban environments and feature prominently in meme culture.\",\"url\":\"https://en.wikipedia.org/wiki/Capybara\"})\n",
      "TOOL CALL (orchestrator): search_task({\"query\":\"threats to capybara populations\"})\n",
      "\n",
      "=== Searher (Initial) ===\n",
      "TOOL CALL (Searcher): search({\"query\":\"threats to capybara populations\"})\n"
     ]
    }
   ],
   "source": [
    "orchestrator_results = await orchestrator.run(\n",
    "    user_prompt=question,\n",
    "    # message_history=message_history,\n",
    "    event_stream_handler=orchestrator_callback,\n",
    ")"
   ]
  },
  {
   "cell_type": "code",
   "execution_count": 59,
   "id": "02e581ef",
   "metadata": {},
   "outputs": [
    {
     "name": "stdout",
     "output_type": "stream",
     "text": [
      "The capybara (Hydrochoerus hydrochaeris) is the largest living rodent, native to South America. While they are generally not considered threatened and have stable populations in many areas, several factors pose risks to their survival:\n",
      "\n",
      "1. **Hunting Pressure**: Capybaras are frequently hunted for their meat, hide, and fat, which can reduce their numbers in certain regions.\n",
      "\n",
      "2. **Habitat Loss**: Urbanization and agricultural expansion have encroached upon their natural habitats, leading to loss of the wetlands and forest areas they rely on.\n",
      "\n",
      "3. **Competition with Livestock**: In some agricultural settings, capybaras are viewed as competition for resources, which can result in their reduction or elimination by farmers.\n",
      "\n",
      "4. **Predation**: They face natural threats from predators such as jaguars, caimans, and harpy eagles, especially as their habitats become more fragmented.\n",
      "\n",
      "5. **Environmental Changes**: Climate change and related environmental shifts can impact their habitat availability and food sources, potentially threatening local populations.\n",
      "\n",
      "Despite these threats, capybaras have shown adaptability, even thriving in urban areas and zoos where they can live longer lives than in the wild.\n"
     ]
    }
   ],
   "source": [
    "print(orchestrator_results.output)"
   ]
  },
  {
   "cell_type": "code",
   "execution_count": 51,
   "id": "2451cad7",
   "metadata": {},
   "outputs": [],
   "source": [
    "# def print_messages(messages):\n",
    "#     contents = []\n",
    "    \n",
    "#     for m in messages:\n",
    "#         print(m.kind)\n",
    "\n",
    "#         for p in m.parts:\n",
    "#             print(p.part_kind)\n",
    "#             kind = p.part_kind\n",
    "#             if kind == 'user-prompt' or kind == 'text':\n",
    "#                 print(p.content)\n",
    "#             if kind == 'tool-call': \n",
    "#                 print(p.tool_name, p.args)\n",
    "#             if kind == 'tool-return':\n",
    "#                 print(type(p.content), p.content)\n",
    "#             print()\n",
    "\n",
    "#         print()\n",
    "\n",
    "# messages = orchestrator_results.new_messages()\n",
    "# # message_history.extend(messages)\n",
    "# print_messages(messages)"
   ]
  },
  {
   "cell_type": "code",
   "execution_count": 516,
   "id": "c3469ac8",
   "metadata": {},
   "outputs": [
    {
     "data": {
      "text/plain": [
       "[ModelRequest(parts=[UserPromptPart(content='What is this page about?  https://en.wikipedia.org/wiki/Neochoerus', timestamp=datetime.datetime(2025, 10, 27, 2, 25, 47, 812657, tzinfo=datetime.timezone.utc))], instructions=\"You are the orchestrator agent that manages the workflow of searching, fetching, summarizing, and storing knowledge.\\n\\n**Primary Rule:**  \\nYou must ALWAYS begin by using the `search_task` tool before doing anything else.\\n- If the user's query can be found from the database, retreive the summary from the documents.\\n- If the user's query can be answered from the search results, answer it directly.  \\n- Do not proceed to fetching or summarizing if the answer can be provided from the search results.\\n\\n**Workflow Steps:**\\n1. **Search the database**\\n   - Use the `search_task` tool to check if relevant knowledge exists for the user's query.  \\n   - If relevant content is found:\\n       - Answer the user's question using this content.\\n       - Return the summary and details from the search.\\n       - Mark the task as complete.  \\n   - If the search result does not contain relevant information, proceed to step 2.\\n\\n2. **Fetch Wikipedia content and summarize**\\n   - Use the `web_fetch` tool to retrieve raw Wikipedia content for the topic or URL.  \\n   - **After performing any web fetch, you must always call the `summary_tool`.**  \\n   - The `summary_tool` should summarize the fetched Wikipedia content into a concise, structured summary and detailed context.  \\n   - Store the summarized knowledge in the local database using the `add_entry` tool for future queries.\\n   - Always finish the Task after adding the entry.\\n\\n3. **Finish and Stop**  \\n   - Once summarization and storage are complete, return a short summary of the findings to the user.  \\n   - **Do not run any more tools after `add_entry`** — this marks the workflow as **complete**.  \\n   - Clearly indicate in your final output whether the content was retrieved or newly summarized.\\n\\n\\n\\n**Rules & Constraints**\\n- Only perform **one search at the beginning**.  \\n- Only perform one summary **One summary at the end**.  \\n- Do not fabricate information; only use retrieved or summarized content.  \\n- Follow the exact tool order:  \\n  1️⃣ `search_task` → 2️⃣ `web_search` → 3️⃣ `summary_tool` → 4️⃣ `add_entry`   → ✅ **STOP**  \\n- Ensure all outputs are structured for downstream processing and database storage.\"),\n",
       " ModelResponse(parts=[ToolCallPart(tool_name='search_task', args='{\"query\":\"Neochoerus\"}', tool_call_id='call_k9YisSEM7eLXg6tSlDWr0gMz')], usage=RequestUsage(input_tokens=799, output_tokens=16, details={'accepted_prediction_tokens': 0, 'audio_tokens': 0, 'reasoning_tokens': 0, 'rejected_prediction_tokens': 0}), model_name='gpt-4o-mini-2024-07-18', timestamp=datetime.datetime(2025, 10, 27, 2, 25, 48, tzinfo=TzInfo(0)), provider_name='openai', provider_details={'finish_reason': 'tool_calls'}, provider_response_id='chatcmpl-CV7DY8X8LuBLDHkWA4aEslHrk2T2h', finish_reason='tool_call'),\n",
       " ModelRequest(parts=[ToolReturnPart(tool_name='search_task', content=SearchOutput(user_query='Neochoerus', status='Not Found', results=''), tool_call_id='call_k9YisSEM7eLXg6tSlDWr0gMz', timestamp=datetime.datetime(2025, 10, 27, 2, 25, 50, 421389, tzinfo=datetime.timezone.utc))], instructions=\"You are the orchestrator agent that manages the workflow of searching, fetching, summarizing, and storing knowledge.\\n\\n**Primary Rule:**  \\nYou must ALWAYS begin by using the `search_task` tool before doing anything else.\\n- If the user's query can be found from the database, retreive the summary from the documents.\\n- If the user's query can be answered from the search results, answer it directly.  \\n- Do not proceed to fetching or summarizing if the answer can be provided from the search results.\\n\\n**Workflow Steps:**\\n1. **Search the database**\\n   - Use the `search_task` tool to check if relevant knowledge exists for the user's query.  \\n   - If relevant content is found:\\n       - Answer the user's question using this content.\\n       - Return the summary and details from the search.\\n       - Mark the task as complete.  \\n   - If the search result does not contain relevant information, proceed to step 2.\\n\\n2. **Fetch Wikipedia content and summarize**\\n   - Use the `web_fetch` tool to retrieve raw Wikipedia content for the topic or URL.  \\n   - **After performing any web fetch, you must always call the `summary_tool`.**  \\n   - The `summary_tool` should summarize the fetched Wikipedia content into a concise, structured summary and detailed context.  \\n   - Store the summarized knowledge in the local database using the `add_entry` tool for future queries.\\n   - Always finish the Task after adding the entry.\\n\\n3. **Finish and Stop**  \\n   - Once summarization and storage are complete, return a short summary of the findings to the user.  \\n   - **Do not run any more tools after `add_entry`** — this marks the workflow as **complete**.  \\n   - Clearly indicate in your final output whether the content was retrieved or newly summarized.\\n\\n\\n\\n**Rules & Constraints**\\n- Only perform **one search at the beginning**.  \\n- Only perform one summary **One summary at the end**.  \\n- Do not fabricate information; only use retrieved or summarized content.  \\n- Follow the exact tool order:  \\n  1️⃣ `search_task` → 2️⃣ `web_search` → 3️⃣ `summary_tool` → 4️⃣ `add_entry`   → ✅ **STOP**  \\n- Ensure all outputs are structured for downstream processing and database storage.\"),\n",
       " ModelResponse(parts=[ToolCallPart(tool_name='web_fetch', args='{\"query\":\"Neochoerus\"}', tool_call_id='call_eceXwRie8QVKF81vToiE732a')], usage=RequestUsage(input_tokens=840, output_tokens=16, details={'accepted_prediction_tokens': 0, 'audio_tokens': 0, 'reasoning_tokens': 0, 'rejected_prediction_tokens': 0}), model_name='gpt-4o-mini-2024-07-18', timestamp=datetime.datetime(2025, 10, 27, 2, 25, 50, tzinfo=TzInfo(0)), provider_name='openai', provider_details={'finish_reason': 'tool_calls'}, provider_response_id='chatcmpl-CV7DaacTwvrl6nSnzTeSYPhHUbkuD', finish_reason='tool_call'),\n",
       " ModelRequest(parts=[ToolReturnPart(tool_name='web_fetch', content=AgentRunResult(output=WikipediaRetrieveOutput(title='Neochoerus', url='https://en.wikipedia.org/wiki/Neochoerus', content='**Neochoerus** (\"new hog\") is an extinct genus of rodent closely related to the living capybara. Fossil remains of Neochoerus have been found throughout North America (Mexico and United States) and South America in Boyacá, Colombia.')), tool_call_id='call_eceXwRie8QVKF81vToiE732a', timestamp=datetime.datetime(2025, 10, 27, 2, 25, 54, 814646, tzinfo=datetime.timezone.utc))], instructions=\"You are the orchestrator agent that manages the workflow of searching, fetching, summarizing, and storing knowledge.\\n\\n**Primary Rule:**  \\nYou must ALWAYS begin by using the `search_task` tool before doing anything else.\\n- If the user's query can be found from the database, retreive the summary from the documents.\\n- If the user's query can be answered from the search results, answer it directly.  \\n- Do not proceed to fetching or summarizing if the answer can be provided from the search results.\\n\\n**Workflow Steps:**\\n1. **Search the database**\\n   - Use the `search_task` tool to check if relevant knowledge exists for the user's query.  \\n   - If relevant content is found:\\n       - Answer the user's question using this content.\\n       - Return the summary and details from the search.\\n       - Mark the task as complete.  \\n   - If the search result does not contain relevant information, proceed to step 2.\\n\\n2. **Fetch Wikipedia content and summarize**\\n   - Use the `web_fetch` tool to retrieve raw Wikipedia content for the topic or URL.  \\n   - **After performing any web fetch, you must always call the `summary_tool`.**  \\n   - The `summary_tool` should summarize the fetched Wikipedia content into a concise, structured summary and detailed context.  \\n   - Store the summarized knowledge in the local database using the `add_entry` tool for future queries.\\n   - Always finish the Task after adding the entry.\\n\\n3. **Finish and Stop**  \\n   - Once summarization and storage are complete, return a short summary of the findings to the user.  \\n   - **Do not run any more tools after `add_entry`** — this marks the workflow as **complete**.  \\n   - Clearly indicate in your final output whether the content was retrieved or newly summarized.\\n\\n\\n\\n**Rules & Constraints**\\n- Only perform **one search at the beginning**.  \\n- Only perform one summary **One summary at the end**.  \\n- Do not fabricate information; only use retrieved or summarized content.  \\n- Follow the exact tool order:  \\n  1️⃣ `search_task` → 2️⃣ `web_search` → 3️⃣ `summary_tool` → 4️⃣ `add_entry`   → ✅ **STOP**  \\n- Ensure all outputs are structured for downstream processing and database storage.\"),\n",
       " ModelResponse(parts=[ToolCallPart(tool_name='summary_tool', args='{\"query\":\"**Neochoerus** (\\\\\"new hog\\\\\") is an extinct genus of rodent closely related to the living capybara. Fossil remains of Neochoerus have been found throughout North America (Mexico and United States) and South America in Boyacá, Colombia.\"}', tool_call_id='call_Mj3Spi1WjfY1f2GsHAgelZQX')], usage=RequestUsage(input_tokens=8009, output_tokens=68, details={'accepted_prediction_tokens': 0, 'audio_tokens': 0, 'reasoning_tokens': 0, 'rejected_prediction_tokens': 0}), model_name='gpt-4o-mini-2024-07-18', timestamp=datetime.datetime(2025, 10, 27, 2, 25, 55, tzinfo=TzInfo(0)), provider_name='openai', provider_details={'finish_reason': 'tool_calls'}, provider_response_id='chatcmpl-CV7DfQ6IwZM107CpeNVCdPmmdTL8P', finish_reason='tool_call'),\n",
       " ModelRequest(parts=[ToolReturnPart(tool_name='summary_tool', content=WikipediaSummaryOutput(title='Neochoerus', category='Idea', summary='Neochoerus is an extinct genus of rodent related to the capybara.', details=\"Neochoerus, meaning 'new hog', is an extinct genus of rodent that is closely related to the capybara. Fossil remains of this genus have been discovered in various locations throughout North America, particularly in Mexico and the United States, as well as in South America, notably in Boyacá, Colombia. This genus contributes to our understanding of rodent evolution and geographic distribution during its time.\"), tool_call_id='call_Mj3Spi1WjfY1f2GsHAgelZQX', timestamp=datetime.datetime(2025, 10, 27, 2, 26, 5, 394244, tzinfo=datetime.timezone.utc))], instructions=\"You are the orchestrator agent that manages the workflow of searching, fetching, summarizing, and storing knowledge.\\n\\n**Primary Rule:**  \\nYou must ALWAYS begin by using the `search_task` tool before doing anything else.\\n- If the user's query can be found from the database, retreive the summary from the documents.\\n- If the user's query can be answered from the search results, answer it directly.  \\n- Do not proceed to fetching or summarizing if the answer can be provided from the search results.\\n\\n**Workflow Steps:**\\n1. **Search the database**\\n   - Use the `search_task` tool to check if relevant knowledge exists for the user's query.  \\n   - If relevant content is found:\\n       - Answer the user's question using this content.\\n       - Return the summary and details from the search.\\n       - Mark the task as complete.  \\n   - If the search result does not contain relevant information, proceed to step 2.\\n\\n2. **Fetch Wikipedia content and summarize**\\n   - Use the `web_fetch` tool to retrieve raw Wikipedia content for the topic or URL.  \\n   - **After performing any web fetch, you must always call the `summary_tool`.**  \\n   - The `summary_tool` should summarize the fetched Wikipedia content into a concise, structured summary and detailed context.  \\n   - Store the summarized knowledge in the local database using the `add_entry` tool for future queries.\\n   - Always finish the Task after adding the entry.\\n\\n3. **Finish and Stop**  \\n   - Once summarization and storage are complete, return a short summary of the findings to the user.  \\n   - **Do not run any more tools after `add_entry`** — this marks the workflow as **complete**.  \\n   - Clearly indicate in your final output whether the content was retrieved or newly summarized.\\n\\n\\n\\n**Rules & Constraints**\\n- Only perform **one search at the beginning**.  \\n- Only perform one summary **One summary at the end**.  \\n- Do not fabricate information; only use retrieved or summarized content.  \\n- Follow the exact tool order:  \\n  1️⃣ `search_task` → 2️⃣ `web_search` → 3️⃣ `summary_tool` → 4️⃣ `add_entry`   → ✅ **STOP**  \\n- Ensure all outputs are structured for downstream processing and database storage.\"),\n",
       " ModelResponse(parts=[ToolCallPart(tool_name='search_task', args='{\"query\":\"Neochoerus\"}', tool_call_id='call_gjv1zbx3OJRJC04kcW4mZjnc')], usage=RequestUsage(input_tokens=8200, cache_read_tokens=7936, output_tokens=16, details={'accepted_prediction_tokens': 0, 'audio_tokens': 0, 'reasoning_tokens': 0, 'rejected_prediction_tokens': 0}), model_name='gpt-4o-mini-2024-07-18', timestamp=datetime.datetime(2025, 10, 27, 2, 26, 5, tzinfo=TzInfo(0)), provider_name='openai', provider_details={'finish_reason': 'tool_calls'}, provider_response_id='chatcmpl-CV7DppTjhP4fadqkOMe9Z0j3D2tkR', finish_reason='tool_call'),\n",
       " ModelRequest(parts=[ToolReturnPart(tool_name='search_task', content=SearchOutput(user_query='Neochoerus', status='Not Found', results=''), tool_call_id='call_gjv1zbx3OJRJC04kcW4mZjnc', timestamp=datetime.datetime(2025, 10, 27, 2, 26, 7, 573520, tzinfo=datetime.timezone.utc))], instructions=\"You are the orchestrator agent that manages the workflow of searching, fetching, summarizing, and storing knowledge.\\n\\n**Primary Rule:**  \\nYou must ALWAYS begin by using the `search_task` tool before doing anything else.\\n- If the user's query can be found from the database, retreive the summary from the documents.\\n- If the user's query can be answered from the search results, answer it directly.  \\n- Do not proceed to fetching or summarizing if the answer can be provided from the search results.\\n\\n**Workflow Steps:**\\n1. **Search the database**\\n   - Use the `search_task` tool to check if relevant knowledge exists for the user's query.  \\n   - If relevant content is found:\\n       - Answer the user's question using this content.\\n       - Return the summary and details from the search.\\n       - Mark the task as complete.  \\n   - If the search result does not contain relevant information, proceed to step 2.\\n\\n2. **Fetch Wikipedia content and summarize**\\n   - Use the `web_fetch` tool to retrieve raw Wikipedia content for the topic or URL.  \\n   - **After performing any web fetch, you must always call the `summary_tool`.**  \\n   - The `summary_tool` should summarize the fetched Wikipedia content into a concise, structured summary and detailed context.  \\n   - Store the summarized knowledge in the local database using the `add_entry` tool for future queries.\\n   - Always finish the Task after adding the entry.\\n\\n3. **Finish and Stop**  \\n   - Once summarization and storage are complete, return a short summary of the findings to the user.  \\n   - **Do not run any more tools after `add_entry`** — this marks the workflow as **complete**.  \\n   - Clearly indicate in your final output whether the content was retrieved or newly summarized.\\n\\n\\n\\n**Rules & Constraints**\\n- Only perform **one search at the beginning**.  \\n- Only perform one summary **One summary at the end**.  \\n- Do not fabricate information; only use retrieved or summarized content.  \\n- Follow the exact tool order:  \\n  1️⃣ `search_task` → 2️⃣ `web_search` → 3️⃣ `summary_tool` → 4️⃣ `add_entry`   → ✅ **STOP**  \\n- Ensure all outputs are structured for downstream processing and database storage.\"),\n",
       " ModelResponse(parts=[ToolCallPart(tool_name='web_fetch', args='{\"query\":\"Neochoerus\"}', tool_call_id='call_A6XEvV4bys4oK0zuppxBMBkZ')], usage=RequestUsage(input_tokens=8241, cache_read_tokens=8192, output_tokens=16, details={'accepted_prediction_tokens': 0, 'audio_tokens': 0, 'reasoning_tokens': 0, 'rejected_prediction_tokens': 0}), model_name='gpt-4o-mini-2024-07-18', timestamp=datetime.datetime(2025, 10, 27, 2, 26, 7, tzinfo=TzInfo(0)), provider_name='openai', provider_details={'finish_reason': 'tool_calls'}, provider_response_id='chatcmpl-CV7Dr1ihfwRg4XDso17Doa6YrkYjr', finish_reason='tool_call'),\n",
       " ModelRequest(parts=[ToolReturnPart(tool_name='web_fetch', content=AgentRunResult(output=WikipediaRetrieveOutput(title='Neochoerus', url='https://en.wikipedia.org/wiki/Neochoerus', content='Neochoerus (\"new hog\") is an extinct genus of rodent closely related to the living capybara. Fossil remains of Neochoerus have been found through North America (Mexico and United States) and South America in Boyacá, Colombia.')), tool_call_id='call_A6XEvV4bys4oK0zuppxBMBkZ', timestamp=datetime.datetime(2025, 10, 27, 2, 26, 15, 106272, tzinfo=datetime.timezone.utc))], instructions=\"You are the orchestrator agent that manages the workflow of searching, fetching, summarizing, and storing knowledge.\\n\\n**Primary Rule:**  \\nYou must ALWAYS begin by using the `search_task` tool before doing anything else.\\n- If the user's query can be found from the database, retreive the summary from the documents.\\n- If the user's query can be answered from the search results, answer it directly.  \\n- Do not proceed to fetching or summarizing if the answer can be provided from the search results.\\n\\n**Workflow Steps:**\\n1. **Search the database**\\n   - Use the `search_task` tool to check if relevant knowledge exists for the user's query.  \\n   - If relevant content is found:\\n       - Answer the user's question using this content.\\n       - Return the summary and details from the search.\\n       - Mark the task as complete.  \\n   - If the search result does not contain relevant information, proceed to step 2.\\n\\n2. **Fetch Wikipedia content and summarize**\\n   - Use the `web_fetch` tool to retrieve raw Wikipedia content for the topic or URL.  \\n   - **After performing any web fetch, you must always call the `summary_tool`.**  \\n   - The `summary_tool` should summarize the fetched Wikipedia content into a concise, structured summary and detailed context.  \\n   - Store the summarized knowledge in the local database using the `add_entry` tool for future queries.\\n   - Always finish the Task after adding the entry.\\n\\n3. **Finish and Stop**  \\n   - Once summarization and storage are complete, return a short summary of the findings to the user.  \\n   - **Do not run any more tools after `add_entry`** — this marks the workflow as **complete**.  \\n   - Clearly indicate in your final output whether the content was retrieved or newly summarized.\\n\\n\\n\\n**Rules & Constraints**\\n- Only perform **one search at the beginning**.  \\n- Only perform one summary **One summary at the end**.  \\n- Do not fabricate information; only use retrieved or summarized content.  \\n- Follow the exact tool order:  \\n  1️⃣ `search_task` → 2️⃣ `web_search` → 3️⃣ `summary_tool` → 4️⃣ `add_entry`   → ✅ **STOP**  \\n- Ensure all outputs are structured for downstream processing and database storage.\"),\n",
       " ModelResponse(parts=[ToolCallPart(tool_name='summary_tool', args='{\"query\":\"Neochoerus (\\\\\"new hog\\\\\") is an extinct genus of rodent closely related to the living capybara. Fossil remains of Neochoerus have been found throughout North America (Mexico and United States) and South America in Boyacá, Colombia.\"}', tool_call_id='call_UGmfW1yYRx9KopMujoKaIO7D')], usage=RequestUsage(input_tokens=15415, cache_read_tokens=8192, output_tokens=66, details={'accepted_prediction_tokens': 0, 'audio_tokens': 0, 'reasoning_tokens': 0, 'rejected_prediction_tokens': 0}), model_name='gpt-4o-mini-2024-07-18', timestamp=datetime.datetime(2025, 10, 27, 2, 26, 15, tzinfo=TzInfo(0)), provider_name='openai', provider_details={'finish_reason': 'tool_calls'}, provider_response_id='chatcmpl-CV7DzodzvguxrvGSLI4x5aZuDZ1Fh', finish_reason='tool_call'),\n",
       " ModelRequest(parts=[ToolReturnPart(tool_name='summary_tool', content=WikipediaSummaryOutput(title='Neochoerus', category='Animal', summary='Neochoerus is an extinct genus of rodent closely related to the capybara.', details='Neochoerus, commonly referred to as \"new hog,\" is an extinct genus of rodent that shares a close relationship with the modern-day capybara. This genus is notable for its fossil remains which have been unearthed in various regions of North America, including Mexico and the United States, as well as in South America, with specific findings in Boyacá, Colombia.'), tool_call_id='call_UGmfW1yYRx9KopMujoKaIO7D', timestamp=datetime.datetime(2025, 10, 27, 2, 26, 22, 135907, tzinfo=datetime.timezone.utc))], instructions=\"You are the orchestrator agent that manages the workflow of searching, fetching, summarizing, and storing knowledge.\\n\\n**Primary Rule:**  \\nYou must ALWAYS begin by using the `search_task` tool before doing anything else.\\n- If the user's query can be found from the database, retreive the summary from the documents.\\n- If the user's query can be answered from the search results, answer it directly.  \\n- Do not proceed to fetching or summarizing if the answer can be provided from the search results.\\n\\n**Workflow Steps:**\\n1. **Search the database**\\n   - Use the `search_task` tool to check if relevant knowledge exists for the user's query.  \\n   - If relevant content is found:\\n       - Answer the user's question using this content.\\n       - Return the summary and details from the search.\\n       - Mark the task as complete.  \\n   - If the search result does not contain relevant information, proceed to step 2.\\n\\n2. **Fetch Wikipedia content and summarize**\\n   - Use the `web_fetch` tool to retrieve raw Wikipedia content for the topic or URL.  \\n   - **After performing any web fetch, you must always call the `summary_tool`.**  \\n   - The `summary_tool` should summarize the fetched Wikipedia content into a concise, structured summary and detailed context.  \\n   - Store the summarized knowledge in the local database using the `add_entry` tool for future queries.\\n   - Always finish the Task after adding the entry.\\n\\n3. **Finish and Stop**  \\n   - Once summarization and storage are complete, return a short summary of the findings to the user.  \\n   - **Do not run any more tools after `add_entry`** — this marks the workflow as **complete**.  \\n   - Clearly indicate in your final output whether the content was retrieved or newly summarized.\\n\\n\\n\\n**Rules & Constraints**\\n- Only perform **one search at the beginning**.  \\n- Only perform one summary **One summary at the end**.  \\n- Do not fabricate information; only use retrieved or summarized content.  \\n- Follow the exact tool order:  \\n  1️⃣ `search_task` → 2️⃣ `web_search` → 3️⃣ `summary_tool` → 4️⃣ `add_entry`   → ✅ **STOP**  \\n- Ensure all outputs are structured for downstream processing and database storage.\"),\n",
       " ModelResponse(parts=[ToolCallPart(tool_name='search_task', args='{\"query\":\"Neochoerus\"}', tool_call_id='call_BM5kyu5WrMTVkfkH31hZ9mwK')], usage=RequestUsage(input_tokens=15600, cache_read_tokens=15360, output_tokens=16, details={'accepted_prediction_tokens': 0, 'audio_tokens': 0, 'reasoning_tokens': 0, 'rejected_prediction_tokens': 0}), model_name='gpt-4o-mini-2024-07-18', timestamp=datetime.datetime(2025, 10, 27, 2, 26, 22, tzinfo=TzInfo(0)), provider_name='openai', provider_details={'finish_reason': 'tool_calls'}, provider_response_id='chatcmpl-CV7E6S4ThFgOy1Kyv2ZB4dObG7PNk', finish_reason='tool_call'),\n",
       " ModelRequest(parts=[ToolReturnPart(tool_name='search_task', content=SearchOutput(user_query='Neochoerus', status='Found', results='[{\"title\":\"Neochoerus\",\"summary\":\"Neochoerus is an extinct genus of rodent closely related to the capybara.\",\"details\":\"Neochoerus, known as \\\\\"new hog,\\\\\" is an extinct genus of rodent closely related to the existing capybara. Fossil remains have been discovered across North America, specifically in Mexico and the United States, as well as in South America, particularly in Boyacá, Colombia.\"}]'), tool_call_id='call_BM5kyu5WrMTVkfkH31hZ9mwK', timestamp=datetime.datetime(2025, 10, 27, 2, 26, 26, 632504, tzinfo=datetime.timezone.utc))], instructions=\"You are the orchestrator agent that manages the workflow of searching, fetching, summarizing, and storing knowledge.\\n\\n**Primary Rule:**  \\nYou must ALWAYS begin by using the `search_task` tool before doing anything else.\\n- If the user's query can be found from the database, retreive the summary from the documents.\\n- If the user's query can be answered from the search results, answer it directly.  \\n- Do not proceed to fetching or summarizing if the answer can be provided from the search results.\\n\\n**Workflow Steps:**\\n1. **Search the database**\\n   - Use the `search_task` tool to check if relevant knowledge exists for the user's query.  \\n   - If relevant content is found:\\n       - Answer the user's question using this content.\\n       - Return the summary and details from the search.\\n       - Mark the task as complete.  \\n   - If the search result does not contain relevant information, proceed to step 2.\\n\\n2. **Fetch Wikipedia content and summarize**\\n   - Use the `web_fetch` tool to retrieve raw Wikipedia content for the topic or URL.  \\n   - **After performing any web fetch, you must always call the `summary_tool`.**  \\n   - The `summary_tool` should summarize the fetched Wikipedia content into a concise, structured summary and detailed context.  \\n   - Store the summarized knowledge in the local database using the `add_entry` tool for future queries.\\n   - Always finish the Task after adding the entry.\\n\\n3. **Finish and Stop**  \\n   - Once summarization and storage are complete, return a short summary of the findings to the user.  \\n   - **Do not run any more tools after `add_entry`** — this marks the workflow as **complete**.  \\n   - Clearly indicate in your final output whether the content was retrieved or newly summarized.\\n\\n\\n\\n**Rules & Constraints**\\n- Only perform **one search at the beginning**.  \\n- Only perform one summary **One summary at the end**.  \\n- Do not fabricate information; only use retrieved or summarized content.  \\n- Follow the exact tool order:  \\n  1️⃣ `search_task` → 2️⃣ `web_search` → 3️⃣ `summary_tool` → 4️⃣ `add_entry`   → ✅ **STOP**  \\n- Ensure all outputs are structured for downstream processing and database storage.\"),\n",
       " ModelResponse(parts=[TextPart(content='The page on **Neochoerus**, which translates to \"new hog,\" describes an extinct genus of rodent that is closely related to the modern capybara. Fossil evidence indicates that Neochoerus roamed parts of North America, including Mexico and the United States, as well as South America, particularly in Boyacá, Colombia.\\n\\n### Summary:\\n- **Taxonomy**: Extinct genus of rodent in the family of Caviidae.\\n- **Related to**: The living capybara.\\n- **Geographical Distribution**: Fossils have been found in North America (Mexico and the United States) and South America (Boyacá, Colombia).\\n\\nFor further reading, you can check the full article here: [Neochoerus on Wikipedia](https://en.wikipedia.org/wiki/Neochoerus).')], usage=RequestUsage(input_tokens=15734, cache_read_tokens=15488, output_tokens=167, details={'accepted_prediction_tokens': 0, 'audio_tokens': 0, 'reasoning_tokens': 0, 'rejected_prediction_tokens': 0}), model_name='gpt-4o-mini-2024-07-18', timestamp=datetime.datetime(2025, 10, 27, 2, 26, 27, tzinfo=TzInfo(0)), provider_name='openai', provider_details={'finish_reason': 'stop'}, provider_response_id='chatcmpl-CV7EBXxb26kxCvwPTgZ6f8rjvsipS', finish_reason='stop')]"
      ]
     },
     "execution_count": 516,
     "metadata": {},
     "output_type": "execute_result"
    }
   ],
   "source": [
    "orchestrator_results.new_messages()\n",
    "\n"
   ]
  },
  {
   "cell_type": "code",
   "execution_count": 515,
   "id": "7cb11ae4",
   "metadata": {},
   "outputs": [
    {
     "data": {
      "text/plain": [
       "[{'title': 'Neochoerus',\n",
       "  'category': 'Animal',\n",
       "  'summary': 'Neochoerus is an extinct genus of rodent closely related to the capybara.',\n",
       "  'details': 'Neochoerus, known as \"new hog,\" is an extinct genus of rodent closely related to the existing capybara. Fossil remains have been discovered across North America, specifically in Mexico and the United States, as well as in South America, particularly in Boyacá, Colombia.',\n",
       "  'section': 'user_added'}]"
      ]
     },
     "execution_count": 515,
     "metadata": {},
     "output_type": "execute_result"
    }
   ],
   "source": [
    "index.search('Neochoerus')"
   ]
  },
  {
   "cell_type": "code",
   "execution_count": null,
   "id": "3ea30bdd",
   "metadata": {},
   "outputs": [],
   "source": [
    "# TODO: Why calling multiple times ..."
   ]
  }
 ],
 "metadata": {
  "kernelspec": {
   "display_name": "ai-bootcamp-codespace",
   "language": "python",
   "name": "python3"
  },
  "language_info": {
   "codemirror_mode": {
    "name": "ipython",
    "version": 3
   },
   "file_extension": ".py",
   "mimetype": "text/x-python",
   "name": "python",
   "nbconvert_exporter": "python",
   "pygments_lexer": "ipython3",
   "version": "3.12.11"
  }
 },
 "nbformat": 4,
 "nbformat_minor": 5
}
