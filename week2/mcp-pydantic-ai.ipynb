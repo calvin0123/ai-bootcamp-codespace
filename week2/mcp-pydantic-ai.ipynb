{
 "cells": [
  {
   "cell_type": "code",
   "execution_count": 21,
   "id": "c8114750-555c-42ce-af01-ec298ffc09d8",
   "metadata": {},
   "outputs": [],
   "source": [
    "from pydantic_ai import Agent\n",
    "from pydantic_ai.mcp import MCPServerStdio\n",
    "from toyaikit.chat.interface import StdOutputInterface\n",
    "from toyaikit.chat.runners import PydanticAIRunner\n"
   ]
  },
  {
   "cell_type": "code",
   "execution_count": 22,
   "id": "c9a2dead-1d47-4cca-962f-2189b26a4bc0",
   "metadata": {},
   "outputs": [
    {
     "data": {
      "text/plain": [
       "True"
      ]
     },
     "execution_count": 22,
     "metadata": {},
     "output_type": "execute_result"
    }
   ],
   "source": [
    "import agents\n",
    "from dotenv import load_dotenv\n",
    "\n",
    "load_dotenv()\n",
    "\n"
   ]
  },
  {
   "cell_type": "code",
   "execution_count": 41,
   "id": "54c0096d-af7c-4be5-8fee-71ace7322e3b",
   "metadata": {},
   "outputs": [],
   "source": [
    "\n",
    "# mcp_client = MCPServerStdio(\n",
    "#     command=\"uv\",\n",
    "#     args=[\"run\", \"python\", \"main.py\"],\n",
    "#     cwd=\"mcp_faq\"\n",
    "# )\n"
   ]
  },
  {
   "cell_type": "code",
   "execution_count": 42,
   "id": "3715cbdf-3589-4fed-9de2-370480abc976",
   "metadata": {},
   "outputs": [],
   "source": [
    "from pydantic_ai import Agent\n",
    "from pydantic_ai.mcp import MCPServerSSE\n",
    "\n",
    "faq_mcp_client = MCPServerSSE(\n",
    "    url='http://localhost:8000/sse'\n",
    ")"
   ]
  },
  {
   "cell_type": "code",
   "execution_count": 43,
   "id": "23aa7980-b23f-44ee-b157-93462e7b2c52",
   "metadata": {},
   "outputs": [
    {
     "data": {
      "text/plain": [
       "MCPServerSSE(url='http://localhost:8000/sse')"
      ]
     },
     "execution_count": 43,
     "metadata": {},
     "output_type": "execute_result"
    }
   ],
   "source": [
    "faq_mcp_client"
   ]
  },
  {
   "cell_type": "code",
   "execution_count": 44,
   "id": "eb4bf7f0-c3d8-424d-9fb0-a0eea2a6218d",
   "metadata": {},
   "outputs": [],
   "source": [
    "\n",
    "developer_prompt = \"\"\"\n",
    "You're a course teaching assistant. \n",
    "You're given a question from a course student and your task is to answer it.\n",
    "\n",
    "If you want to look up the answer, explain why before making the call. Use as many \n",
    "keywords from the user question as possible when making first requests.\n",
    "\n",
    "Make multiple searches. Try to expand your search by using new keywords based on the results you\n",
    "get from the search.\n",
    "\n",
    "At the end, make a clarifying question based on what you presented and ask if there are \n",
    "other areas that the user wants to explore.\n",
    "\"\"\".strip()\n"
   ]
  },
  {
   "cell_type": "code",
   "execution_count": 45,
   "id": "ec215e1b-fb10-454f-860f-d64f2de5f02f",
   "metadata": {},
   "outputs": [],
   "source": [
    "agent = Agent(\n",
    "    name=\"faq_agent\",\n",
    "    instructions=developer_prompt,\n",
    "    model='gpt-4o-mini',\n",
    "    toolsets=[faq_mcp_client]\n",
    ")"
   ]
  },
  {
   "cell_type": "code",
   "execution_count": 46,
   "id": "72150fb2-1857-41f4-9ca6-be6db6ee6d0a",
   "metadata": {},
   "outputs": [],
   "source": [
    "from toyaikit.llm import OpenAIClient\n",
    "from toyaikit.mcp import MCPTools\n",
    "from toyaikit.chat import IPythonChatInterface\n",
    "from toyaikit.chat.runners import OpenAIResponsesRunner, PydanticAIRunner\n",
    "\n",
    "chat_interface = IPythonChatInterface()"
   ]
  },
  {
   "cell_type": "code",
   "execution_count": 47,
   "id": "a206f6a8-f487-4aec-aff2-7d5194306dc2",
   "metadata": {},
   "outputs": [],
   "source": [
    "runner = PydanticAIRunner(\n",
    "    chat_interface=chat_interface,\n",
    "    agent=agent\n",
    ")"
   ]
  },
  {
   "cell_type": "code",
   "execution_count": 48,
   "id": "fbacb736-6464-4f6f-b799-1b35c1c8b9ad",
   "metadata": {},
   "outputs": [
    {
     "name": "stdin",
     "output_type": "stream",
     "text": [
      "You: How do i install Kafka?\n"
     ]
    },
    {
     "name": "stderr",
     "output_type": "stream",
     "text": [
      "  + Exception Group Traceback (most recent call last):\n",
      "  |   File \"/Users/yenchunchen/Desktop/Project/ai-bootcamp/.venv/lib/python3.12/site-packages/IPython/core/interactiveshell.py\", line 3697, in run_code\n",
      "  |     await eval(code_obj, self.user_global_ns, self.user_ns)\n",
      "  |   File \"/var/folders/t7/tf0dc46s4hdc5zgvcgk2vhd80000gn/T/ipykernel_12240/2699268665.py\", line 1, in <module>\n",
      "  |     await runner.run();\n",
      "  |     ^^^^^^^^^^^^^^^^^^\n",
      "  |   File \"/Users/yenchunchen/Desktop/Project/ai-bootcamp/.venv/lib/python3.12/site-packages/toyaikit/chat/runners.py\", line 258, in run\n",
      "  |     result = await self.agent.run(\n",
      "  |              ^^^^^^^^^^^^^^^^^^^^^\n",
      "  |   File \"/Users/yenchunchen/Desktop/Project/ai-bootcamp/.venv/lib/python3.12/site-packages/pydantic_ai/agent/abstract.py\", line 222, in run\n",
      "  |     async with self.iter(\n",
      "  |                ^^^^^^^^^^\n",
      "  |   File \"/Users/yenchunchen/.local/share/uv/python/cpython-3.12.11-macos-aarch64-none/lib/python3.12/contextlib.py\", line 210, in __aenter__\n",
      "  |     return await anext(self.gen)\n",
      "  |            ^^^^^^^^^^^^^^^^^^^^^\n",
      "  |   File \"/Users/yenchunchen/Desktop/Project/ai-bootcamp/.venv/lib/python3.12/site-packages/pydantic_ai/agent/__init__.py\", line 665, in iter\n",
      "  |     async with toolset:\n",
      "  |                ^^^^^^^\n",
      "  |   File \"/Users/yenchunchen/Desktop/Project/ai-bootcamp/.venv/lib/python3.12/site-packages/pydantic_ai/toolsets/combined.py\", line 51, in __aenter__\n",
      "  |     await exit_stack.enter_async_context(toolset)\n",
      "  |   File \"/Users/yenchunchen/.local/share/uv/python/cpython-3.12.11-macos-aarch64-none/lib/python3.12/contextlib.py\", line 659, in enter_async_context\n",
      "  |     result = await _enter(cm)\n",
      "  |              ^^^^^^^^^^^^^^^^\n",
      "  |   File \"/Users/yenchunchen/Desktop/Project/ai-bootcamp/.venv/lib/python3.12/site-packages/pydantic_ai/mcp.py\", line 317, in __aenter__\n",
      "  |     self._read_stream, self._write_stream = await exit_stack.enter_async_context(self.client_streams())\n",
      "  |                                             ^^^^^^^^^^^^^^^^^^^^^^^^^^^^^^^^^^^^^^^^^^^^^^^^^^^^^^^^^^^\n",
      "  |   File \"/Users/yenchunchen/.local/share/uv/python/cpython-3.12.11-macos-aarch64-none/lib/python3.12/contextlib.py\", line 659, in enter_async_context\n",
      "  |     result = await _enter(cm)\n",
      "  |              ^^^^^^^^^^^^^^^^\n",
      "  |   File \"/Users/yenchunchen/.local/share/uv/python/cpython-3.12.11-macos-aarch64-none/lib/python3.12/contextlib.py\", line 210, in __aenter__\n",
      "  |     return await anext(self.gen)\n",
      "  |            ^^^^^^^^^^^^^^^^^^^^^\n",
      "  |   File \"/Users/yenchunchen/Desktop/Project/ai-bootcamp/.venv/lib/python3.12/site-packages/pydantic_ai/mcp.py\", line 762, in client_streams\n",
      "  |     async with transport_client_partial(headers=self.headers) as (read_stream, write_stream, *_):\n",
      "  |                ^^^^^^^^^^^^^^^^^^^^^^^^^^^^^^^^^^^^^^^^^^^^^^\n",
      "  |   File \"/Users/yenchunchen/.local/share/uv/python/cpython-3.12.11-macos-aarch64-none/lib/python3.12/contextlib.py\", line 210, in __aenter__\n",
      "  |     return await anext(self.gen)\n",
      "  |            ^^^^^^^^^^^^^^^^^^^^^\n",
      "  |   File \"/Users/yenchunchen/Desktop/Project/ai-bootcamp/.venv/lib/python3.12/site-packages/mcp/client/sse.py\", line 55, in sse_client\n",
      "  |     async with anyio.create_task_group() as tg:\n",
      "  |                ^^^^^^^^^^^^^^^^^^^^^^^^^\n",
      "  |   File \"/Users/yenchunchen/Desktop/Project/ai-bootcamp/.venv/lib/python3.12/site-packages/anyio/_backends/_asyncio.py\", line 781, in __aexit__\n",
      "  |     raise BaseExceptionGroup(\n",
      "  | ExceptionGroup: unhandled errors in a TaskGroup (1 sub-exception)\n",
      "  +-+---------------- 1 ----------------\n",
      "    | Traceback (most recent call last):\n",
      "    |   File \"/Users/yenchunchen/Desktop/Project/ai-bootcamp/.venv/lib/python3.12/site-packages/httpx/_transports/default.py\", line 101, in map_httpcore_exceptions\n",
      "    |     yield\n",
      "    |   File \"/Users/yenchunchen/Desktop/Project/ai-bootcamp/.venv/lib/python3.12/site-packages/httpx/_transports/default.py\", line 394, in handle_async_request\n",
      "    |     resp = await self._pool.handle_async_request(req)\n",
      "    |            ^^^^^^^^^^^^^^^^^^^^^^^^^^^^^^^^^^^^^^^^^^\n",
      "    |   File \"/Users/yenchunchen/Desktop/Project/ai-bootcamp/.venv/lib/python3.12/site-packages/httpcore/_async/connection_pool.py\", line 256, in handle_async_request\n",
      "    |     raise exc from None\n",
      "    |   File \"/Users/yenchunchen/Desktop/Project/ai-bootcamp/.venv/lib/python3.12/site-packages/httpcore/_async/connection_pool.py\", line 236, in handle_async_request\n",
      "    |     response = await connection.handle_async_request(\n",
      "    |                ^^^^^^^^^^^^^^^^^^^^^^^^^^^^^^^^^^^^^^\n",
      "    |   File \"/Users/yenchunchen/Desktop/Project/ai-bootcamp/.venv/lib/python3.12/site-packages/httpcore/_async/connection.py\", line 101, in handle_async_request\n",
      "    |     raise exc\n",
      "    |   File \"/Users/yenchunchen/Desktop/Project/ai-bootcamp/.venv/lib/python3.12/site-packages/httpcore/_async/connection.py\", line 78, in handle_async_request\n",
      "    |     stream = await self._connect(request)\n",
      "    |              ^^^^^^^^^^^^^^^^^^^^^^^^^^^^\n",
      "    |   File \"/Users/yenchunchen/Desktop/Project/ai-bootcamp/.venv/lib/python3.12/site-packages/httpcore/_async/connection.py\", line 124, in _connect\n",
      "    |     stream = await self._network_backend.connect_tcp(**kwargs)\n",
      "    |              ^^^^^^^^^^^^^^^^^^^^^^^^^^^^^^^^^^^^^^^^^^^^^^^^^\n",
      "    |   File \"/Users/yenchunchen/Desktop/Project/ai-bootcamp/.venv/lib/python3.12/site-packages/httpcore/_backends/auto.py\", line 31, in connect_tcp\n",
      "    |     return await self._backend.connect_tcp(\n",
      "    |            ^^^^^^^^^^^^^^^^^^^^^^^^^^^^^^^^\n",
      "    |   File \"/Users/yenchunchen/Desktop/Project/ai-bootcamp/.venv/lib/python3.12/site-packages/httpcore/_backends/anyio.py\", line 113, in connect_tcp\n",
      "    |     with map_exceptions(exc_map):\n",
      "    |          ^^^^^^^^^^^^^^^^^^^^^^^\n",
      "    |   File \"/Users/yenchunchen/.local/share/uv/python/cpython-3.12.11-macos-aarch64-none/lib/python3.12/contextlib.py\", line 158, in __exit__\n",
      "    |     self.gen.throw(value)\n",
      "    |   File \"/Users/yenchunchen/Desktop/Project/ai-bootcamp/.venv/lib/python3.12/site-packages/httpcore/_exceptions.py\", line 14, in map_exceptions\n",
      "    |     raise to_exc(exc) from exc\n",
      "    | httpcore.ConnectError: All connection attempts failed\n",
      "    | \n",
      "    | The above exception was the direct cause of the following exception:\n",
      "    | \n",
      "    | Traceback (most recent call last):\n",
      "    |   File \"/Users/yenchunchen/Desktop/Project/ai-bootcamp/.venv/lib/python3.12/site-packages/mcp/client/sse.py\", line 61, in sse_client\n",
      "    |     async with aconnect_sse(\n",
      "    |                ^^^^^^^^^^^^^\n",
      "    |   File \"/Users/yenchunchen/.local/share/uv/python/cpython-3.12.11-macos-aarch64-none/lib/python3.12/contextlib.py\", line 210, in __aenter__\n",
      "    |     return await anext(self.gen)\n",
      "    |            ^^^^^^^^^^^^^^^^^^^^^\n",
      "    |   File \"/Users/yenchunchen/Desktop/Project/ai-bootcamp/.venv/lib/python3.12/site-packages/httpx_sse/_api.py\", line 69, in aconnect_sse\n",
      "    |     async with client.stream(method, url, headers=headers, **kwargs) as response:\n",
      "    |                ^^^^^^^^^^^^^^^^^^^^^^^^^^^^^^^^^^^^^^^^^^^^^^^^^^^^^\n",
      "    |   File \"/Users/yenchunchen/.local/share/uv/python/cpython-3.12.11-macos-aarch64-none/lib/python3.12/contextlib.py\", line 210, in __aenter__\n",
      "    |     return await anext(self.gen)\n",
      "    |            ^^^^^^^^^^^^^^^^^^^^^\n",
      "    |   File \"/Users/yenchunchen/Desktop/Project/ai-bootcamp/.venv/lib/python3.12/site-packages/httpx/_client.py\", line 1583, in stream\n",
      "    |     response = await self.send(\n",
      "    |                ^^^^^^^^^^^^^^^^\n",
      "    |   File \"/Users/yenchunchen/Desktop/Project/ai-bootcamp/.venv/lib/python3.12/site-packages/httpx/_client.py\", line 1629, in send\n",
      "    |     response = await self._send_handling_auth(\n",
      "    |                ^^^^^^^^^^^^^^^^^^^^^^^^^^^^^^^\n",
      "    |   File \"/Users/yenchunchen/Desktop/Project/ai-bootcamp/.venv/lib/python3.12/site-packages/httpx/_client.py\", line 1657, in _send_handling_auth\n",
      "    |     response = await self._send_handling_redirects(\n",
      "    |                ^^^^^^^^^^^^^^^^^^^^^^^^^^^^^^^^^^^^\n",
      "    |   File \"/Users/yenchunchen/Desktop/Project/ai-bootcamp/.venv/lib/python3.12/site-packages/httpx/_client.py\", line 1694, in _send_handling_redirects\n",
      "    |     response = await self._send_single_request(request)\n",
      "    |                ^^^^^^^^^^^^^^^^^^^^^^^^^^^^^^^^^^^^^^^^\n",
      "    |   File \"/Users/yenchunchen/Desktop/Project/ai-bootcamp/.venv/lib/python3.12/site-packages/httpx/_client.py\", line 1730, in _send_single_request\n",
      "    |     response = await transport.handle_async_request(request)\n",
      "    |                ^^^^^^^^^^^^^^^^^^^^^^^^^^^^^^^^^^^^^^^^^^^^^\n",
      "    |   File \"/Users/yenchunchen/Desktop/Project/ai-bootcamp/.venv/lib/python3.12/site-packages/httpx/_transports/default.py\", line 393, in handle_async_request\n",
      "    |     with map_httpcore_exceptions():\n",
      "    |          ^^^^^^^^^^^^^^^^^^^^^^^^^\n",
      "    |   File \"/Users/yenchunchen/.local/share/uv/python/cpython-3.12.11-macos-aarch64-none/lib/python3.12/contextlib.py\", line 158, in __exit__\n",
      "    |     self.gen.throw(value)\n",
      "    |   File \"/Users/yenchunchen/Desktop/Project/ai-bootcamp/.venv/lib/python3.12/site-packages/httpx/_transports/default.py\", line 118, in map_httpcore_exceptions\n",
      "    |     raise mapped_exc(message) from exc\n",
      "    | httpx.ConnectError: All connection attempts failed\n",
      "    +------------------------------------\n"
     ]
    }
   ],
   "source": [
    "await runner.run();"
   ]
  },
  {
   "cell_type": "code",
   "execution_count": null,
   "id": "3671f266-ec76-4ce8-b9d7-95569cf5bd52",
   "metadata": {},
   "outputs": [],
   "source": []
  }
 ],
 "metadata": {
  "kernelspec": {
   "display_name": "Python 3 (ipykernel)",
   "language": "python",
   "name": "python3"
  },
  "language_info": {
   "codemirror_mode": {
    "name": "ipython",
    "version": 3
   },
   "file_extension": ".py",
   "mimetype": "text/x-python",
   "name": "python",
   "nbconvert_exporter": "python",
   "pygments_lexer": "ipython3",
   "version": "3.12.11"
  }
 },
 "nbformat": 4,
 "nbformat_minor": 5
}
