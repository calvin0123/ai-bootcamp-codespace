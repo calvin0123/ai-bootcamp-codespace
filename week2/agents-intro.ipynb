{
 "cells": [
  {
   "cell_type": "code",
   "execution_count": 1,
   "id": "2670d932",
   "metadata": {},
   "outputs": [],
   "source": [
    "from dotenv import load_dotenv\n",
    "from openai import OpenAI\n",
    "\n",
    "load_dotenv()\n",
    "\n",
    "openai_client = OpenAI()\n",
    "\n",
    "def llm(user_prompt, instructions=None, model=\"gpt-4o-mini\"):\n",
    "    messages = []\n",
    "\n",
    "    if instructions:\n",
    "        messages.append({\n",
    "            \"role\": \"system\",\n",
    "            \"content\": instructions\n",
    "        })\n",
    "\n",
    "    messages.append({\n",
    "        \"role\": \"user\",\n",
    "        \"content\": user_prompt\n",
    "    })\n",
    "\n",
    "    response = openai_client.responses.create(\n",
    "        model=model,\n",
    "        input=messages\n",
    "    )\n",
    "\n",
    "    return response.output_text"
   ]
  },
  {
   "cell_type": "code",
   "execution_count": 4,
   "id": "0e805575",
   "metadata": {},
   "outputs": [],
   "source": [
    "import requests \n",
    "\n",
    "docs_url = 'https://github.com/alexeygrigorev/llm-rag-workshop/raw/main/notebooks/documents.json'\n",
    "docs_response = requests.get(docs_url)\n",
    "documents_raw = docs_response.json()\n",
    "\n",
    "documents = []\n",
    "\n",
    "for course in documents_raw:\n",
    "    course_name = course['course']\n",
    "\n",
    "    for doc in course['documents']:\n",
    "        doc['course'] = course_name\n",
    "        documents.append(doc)"
   ]
  },
  {
   "cell_type": "code",
   "execution_count": 6,
   "id": "7c3246e4",
   "metadata": {},
   "outputs": [
    {
     "data": {
      "text/plain": [
       "<minsearch.append.AppendableIndex at 0x120f414c0>"
      ]
     },
     "execution_count": 6,
     "metadata": {},
     "output_type": "execute_result"
    }
   ],
   "source": [
    "from minsearch import AppendableIndex\n",
    "\n",
    "index = AppendableIndex(\n",
    "    text_fields=[\"question\", \"text\", \"section\"],\n",
    "    keyword_fields=[\"course\"]\n",
    ")\n",
    "\n",
    "index.fit(documents)"
   ]
  },
  {
   "cell_type": "code",
   "execution_count": 7,
   "id": "d23e11f6",
   "metadata": {},
   "outputs": [],
   "source": [
    "import json"
   ]
  },
  {
   "cell_type": "code",
   "execution_count": 30,
   "id": "b03ea5ff",
   "metadata": {},
   "outputs": [],
   "source": [
    "def serach(query):\n",
    "\n",
    "    boost = {'question': 3.0, 'section': 0.5}\n",
    "\n",
    "    results = index.search(\n",
    "        query=query,\n",
    "        filter_dict={'course': 'data-engineering-zoomcamp'},\n",
    "        boost_dict=boost,\n",
    "        num_results=5\n",
    "    )\n",
    "\n",
    "    return results"
   ]
  },
  {
   "cell_type": "code",
   "execution_count": 32,
   "id": "54613cbf",
   "metadata": {},
   "outputs": [],
   "source": [
    "def make_call(call):\n",
    "    args = json.loads(call.arguments)\n",
    "    f_name = call.name\n",
    "\n",
    "    if f_name == 'search':\n",
    "        result = serach(**args)\n",
    "    else:\n",
    "        raise Error(f'unknown function {f_name}')\n",
    "\n",
    "    return {\n",
    "        \"type\": \"function_call_output\",\n",
    "        \"call_id\": call.call_id,\n",
    "        \"output\": json.dumps(result),\n",
    "    }\n"
   ]
  },
  {
   "cell_type": "code",
   "execution_count": 9,
   "id": "97bec71f",
   "metadata": {},
   "outputs": [],
   "source": [
    "search_tool = {\n",
    "    \"type\": \"function\",\n",
    "    \"name\": \"search\",\n",
    "    \"description\": \"Search the FAQ database\",\n",
    "    \"parameters\": {\n",
    "        \"type\": \"object\",\n",
    "        \"properties\": {\n",
    "            \"query\": {\n",
    "                \"type\": \"string\",\n",
    "                \"description\": \"Search query text to look up in the course FAQ.\"\n",
    "            }\n",
    "        },\n",
    "        \"required\": [\"query\"],\n",
    "        \"additionalProperties\": False\n",
    "    }\n",
    "}"
   ]
  },
  {
   "cell_type": "code",
   "execution_count": 10,
   "id": "7c7a6e66",
   "metadata": {},
   "outputs": [],
   "source": [
    "tools = [search_tool]"
   ]
  },
  {
   "cell_type": "code",
   "execution_count": 13,
   "id": "d5d3ffb6",
   "metadata": {},
   "outputs": [],
   "source": [
    "instructions = \"\"\"\n",
    "You're a course teaching assistant. \n",
    "You're given a question from a course student and your task is to answer it.\n",
    "\n",
    "If you want to look up the answer, explain why before making the call\n",
    "\"\"\".strip()"
   ]
  },
  {
   "cell_type": "code",
   "execution_count": 26,
   "id": "a400c21a",
   "metadata": {},
   "outputs": [],
   "source": [
    "question = \"I just discovered the course. Can I still join it?\"\n",
    "\n",
    "chat_messages = [\n",
    "    {\"role\": \"developer\", \"content\": instructions},\n",
    "    {\"role\": \"user\", \"content\": question}\n",
    "]"
   ]
  },
  {
   "cell_type": "code",
   "execution_count": 27,
   "id": "636950ad",
   "metadata": {},
   "outputs": [
    {
     "name": "stdout",
     "output_type": "stream",
     "text": [
      "ResponseOutputMessage(id='msg_033a409bec44f89c0068edc93a42288192b194dc3757ef9920', content=[ResponseOutputText(annotations=[], text=\"To determine if you can still join the course, it's important to know the enrollment deadlines and any restrictions related to late registration. I'll look up the specific information about course enrollment to provide you with an accurate answer.\", type='output_text', logprobs=[])], role='assistant', status='completed', type='message')\n",
      "\n",
      "ResponseFunctionToolCall(arguments='{\"query\":\"Can I still join the course?\"}', call_id='call_sG8uYLjdXdhWDIZffcgHJDsf', name='search', type='function_call', id='fc_033a409bec44f89c0068edc93b98bc8192b9bf0a5a2b1c1627', status='completed')\n",
      "\n"
     ]
    }
   ],
   "source": [
    "for item in response.output:\n",
    "    print(item)\n",
    "    print('')"
   ]
  },
  {
   "cell_type": "code",
   "execution_count": 29,
   "id": "bfaabd58",
   "metadata": {},
   "outputs": [
    {
     "data": {
      "text/plain": [
       "Response(id='resp_0a12307440d523110068edc9895c58819ca23d855477d74170', created_at=1760414089.0, error=None, incomplete_details=None, instructions=None, metadata={}, model='gpt-4o-mini-2024-07-18', object='response', output=[ResponseOutputMessage(id='msg_0a12307440d523110068edc989b0d0819cbfa684a4eed10150', content=[ResponseOutputText(annotations=[], text=\"It's important to confirm whether the course has open enrollment or if there are any deadlines for registration. I will look up the course FAQ to find specific information about enrollment policies. This will ensure that you have accurate and up-to-date details regarding joining the course. \\n\\nLet me check that for you.\", type='output_text', logprobs=[])], role='assistant', status='completed', type='message'), ResponseFunctionToolCall(arguments='{\"query\":\"Can I still join the course?\"}', call_id='call_yC7R37A4sb3F2deoalkoAytu', name='search', type='function_call', id='fc_0a12307440d523110068edc98b3964819ca063c161ab31bd14', status='completed')], parallel_tool_calls=True, temperature=1.0, tool_choice='auto', tools=[FunctionTool(name='search', parameters={'type': 'object', 'properties': {'query': {'type': 'string', 'description': 'Search query text to look up in the course FAQ.'}}, 'required': ['query'], 'additionalProperties': False}, strict=True, type='function', description='Search the FAQ database')], top_p=1.0, background=False, conversation=None, max_output_tokens=None, max_tool_calls=None, previous_response_id=None, prompt=None, prompt_cache_key=None, reasoning=Reasoning(effort=None, generate_summary=None, summary=None), safety_identifier=None, service_tier='default', status='completed', text=ResponseTextConfig(format=ResponseFormatText(type='text'), verbosity='medium'), top_logprobs=0, truncation='disabled', usage=ResponseUsage(input_tokens=103, input_tokens_details=InputTokensDetails(cached_tokens=0), output_tokens=81, output_tokens_details=OutputTokensDetails(reasoning_tokens=0), total_tokens=184), user=None, billing={'payer': 'developer'}, store=True)"
      ]
     },
     "execution_count": 29,
     "metadata": {},
     "output_type": "execute_result"
    }
   ],
   "source": [
    "response"
   ]
  },
  {
   "cell_type": "code",
   "execution_count": 33,
   "id": "b18e2aaf",
   "metadata": {},
   "outputs": [
    {
     "name": "stdout",
     "output_type": "stream",
     "text": [
      "Assistant\n",
      "Before responding, it's important to check our FAQ for specific information about course enrollment deadlines or late join policies, as they can vary by course. I'll look up if there's any relevant information regarding how late a student can join.\n",
      "\n",
      "function call\n",
      "      search {\"query\":\"join course late enrollment\"}\n",
      "\n",
      "Assistant\n",
      "Yes, you can still join the course even after its start date. However, be aware that deadlines will still apply for submitting homework and final projects. It's best not to leave everything until the last minute! \n",
      "\n",
      "If you have any further questions about the enrollment process or specific deadlines, feel free to ask.\n",
      "\n"
     ]
    }
   ],
   "source": [
    "while True: # the \"agent\" Loop\n",
    "    response = openai_client.responses.create(\n",
    "        model='gpt-4o-mini',\n",
    "        input=chat_messages,\n",
    "        tools=tools\n",
    "    )\n",
    "\n",
    "    has_function_calls = False\n",
    "    chat_messages.extend(response.output)\n",
    "\n",
    "    for item in response.output:\n",
    "        if item.type == 'message':\n",
    "            print('Assistant')\n",
    "            print(item.content[0].text)\n",
    "            print()\n",
    "\n",
    "        if item.type == 'function_call':\n",
    "            has_function_calls = True\n",
    "            print('function call')\n",
    "            print('     ', item.name, item.arguments)\n",
    "            print()\n",
    "\n",
    "            function_call_output = make_call(item)\n",
    "            chat_messages.append(function_call_output)\n",
    "\n",
    "    if not has_function_calls:\n",
    "        break"
   ]
  },
  {
   "cell_type": "code",
   "execution_count": null,
   "id": "844d7631",
   "metadata": {},
   "outputs": [],
   "source": []
  },
  {
   "cell_type": "code",
   "execution_count": null,
   "id": "e0dbec1d",
   "metadata": {},
   "outputs": [],
   "source": []
  },
  {
   "cell_type": "code",
   "execution_count": null,
   "id": "efb1738b",
   "metadata": {},
   "outputs": [],
   "source": []
  }
 ],
 "metadata": {
  "kernelspec": {
   "display_name": "ai-bootcamp-codespace",
   "language": "python",
   "name": "python3"
  },
  "language_info": {
   "codemirror_mode": {
    "name": "ipython",
    "version": 3
   },
   "file_extension": ".py",
   "mimetype": "text/x-python",
   "name": "python",
   "nbconvert_exporter": "python",
   "pygments_lexer": "ipython3",
   "version": "3.12.11"
  }
 },
 "nbformat": 4,
 "nbformat_minor": 5
}
