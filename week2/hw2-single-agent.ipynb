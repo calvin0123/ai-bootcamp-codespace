{
 "cells": [
  {
   "cell_type": "code",
   "execution_count": 3,
   "id": "a49265d7",
   "metadata": {},
   "outputs": [
    {
     "data": {
      "text/plain": [
       "True"
      ]
     },
     "execution_count": 3,
     "metadata": {},
     "output_type": "execute_result"
    }
   ],
   "source": [
    "from dotenv import load_dotenv\n",
    "load_dotenv()\n"
   ]
  },
  {
   "cell_type": "code",
   "execution_count": 4,
   "id": "91385224",
   "metadata": {},
   "outputs": [],
   "source": [
    "\n",
    "# Prepare for the data\n",
    "# Jina website - Fetch Web Page – \n",
    "# The agent should be able to fetch the content of a web page given its URL.\n",
    "\n",
    "\n",
    "# Agent\n",
    "# Save Summary – The agent should be able to save a summary of the page it processed.\n",
    "# Search – The agent should be able to perform a search for relevant or related information.\n",
    "\n",
    "# Orchestration agent to orchestrate which agent to use"
   ]
  },
  {
   "cell_type": "markdown",
   "id": "02a4d26e",
   "metadata": {},
   "source": []
  },
  {
   "cell_type": "code",
   "execution_count": 5,
   "id": "5af5ce21",
   "metadata": {},
   "outputs": [],
   "source": [
    "# Which framework you chose (if any)\n",
    "# Which LLM provider you used\n",
    "\n",
    "# If you have time, \n",
    "# # I suggest trying to implement some of the things yourself before using a framework. \n",
    "# You can refer to lectures and ToyAIKit code for details."
   ]
  },
  {
   "cell_type": "code",
   "execution_count": 6,
   "id": "c514a274",
   "metadata": {},
   "outputs": [],
   "source": [
    "# Prep data agent\n",
    "import requests\n",
    "from requests.exceptions import RequestException\n",
    "from typing import Optional\n",
    "\n",
    "\n",
    "# Make the function with docstring, and type -> Easily parsed by the agent \n",
    "def fetch_url(url: str) -> Optional[str]:\n",
    "    \"\"\"\n",
    "    Fetch the textual content of a webpage.\n",
    "\n",
    "    Args:\n",
    "        url (str): The target URL to fetch content from.\n",
    "\n",
    "    Returns:\n",
    "        Optional[str]: The decoded HTML/text content of the fetched page if successful,\n",
    "        or None if an error occurred.\n",
    "\n",
    "    Raises:\n",
    "        ValueError: If the provided URL is empty or invalid.\n",
    "    \"\"\"\n",
    "    if not url or not isinstance(url, str):\n",
    "        raise ValueError(\"The 'url' parameter must be a non-empty string.\")\n",
    "\n",
    "    jina_reader_base_url = \"https://r.jina.ai/\"\n",
    "    jina_reader_url = jina_reader_base_url + url.lstrip(\"/\")\n",
    "\n",
    "    try:\n",
    "        response = requests.get(jina_reader_url, timeout=10)\n",
    "        response.raise_for_status()  # Raises HTTPError for bad status codes\n",
    "        return response.content.decode(\"utf-8\")\n",
    "    except RequestException as e:\n",
    "        # Catch all network-related errors (e.g., ConnectionError, Timeout, HTTPError)\n",
    "        print(f\"Error fetching URL '{jina_reader_url}': {e}\")\n",
    "        return None\n",
    "    except UnicodeDecodeError:\n",
    "        print(f\"Error decoding response from '{jina_reader_url}'.\")\n",
    "        return None"
   ]
  },
  {
   "cell_type": "code",
   "execution_count": 7,
   "id": "e3e5ee09",
   "metadata": {},
   "outputs": [],
   "source": [
    "result = fetch_url('https://en.wikipedia.org/wiki/LeBron_James')"
   ]
  },
  {
   "cell_type": "code",
   "execution_count": 8,
   "id": "ce69ab40",
   "metadata": {},
   "outputs": [
    {
     "data": {
      "text/plain": [
       "279547.5"
      ]
     },
     "execution_count": 8,
     "metadata": {},
     "output_type": "execute_result"
    }
   ],
   "source": [
    "len(result) / 2"
   ]
  },
  {
   "cell_type": "code",
   "execution_count": 9,
   "id": "a3060f7e",
   "metadata": {},
   "outputs": [],
   "source": [
    "from pydantic_ai import Agent\n",
    "from pydantic import BaseModel, Field"
   ]
  },
  {
   "cell_type": "code",
   "execution_count": 10,
   "id": "c26ee37e",
   "metadata": {},
   "outputs": [],
   "source": [
    "from pydantic_ai.messages import FunctionToolCallEvent\n",
    "\n",
    "async def print_function_calls(ctx, event):\n",
    "    # Detect nested streams\n",
    "    if hasattr(event, \"__aiter__\"):\n",
    "        async for sub in event:\n",
    "            await print_function_calls(ctx, sub)\n",
    "        return\n",
    "\n",
    "    if isinstance(event, FunctionToolCallEvent):\n",
    "        print(\"TOOL CALL:\", event.part.tool_name, event.part.args)"
   ]
  },
  {
   "cell_type": "code",
   "execution_count": null,
   "id": "a18666dc",
   "metadata": {},
   "outputs": [],
   "source": []
  },
  {
   "cell_type": "code",
   "execution_count": 12,
   "id": "86c64aff",
   "metadata": {},
   "outputs": [],
   "source": [
    "# tool calling monitoring \n",
    "\n",
    "from pydantic_ai.messages import FunctionToolCallEvent\n",
    "\n",
    "class NamedCallback:\n",
    "\n",
    "    def __init__(self, agent):\n",
    "        self.agent_name = agent.name\n",
    "\n",
    "    async def print_function_calls(self, ctx, event):\n",
    "        # Detect nested streams\n",
    "        if hasattr(event, \"__aiter__\"):\n",
    "            async for sub in event:\n",
    "                await self.print_function_calls(ctx, sub)\n",
    "            return\n",
    "\n",
    "        if isinstance(event, FunctionToolCallEvent):\n",
    "            tool_name = event.part.tool_name\n",
    "            args = event.part.args\n",
    "            print(f\"TOOL CALL ({self.agent_name}): {tool_name}({args})\")\n",
    "\n",
    "    async def __call__(self, ctx, event):\n",
    "        return await self.print_function_calls(ctx, event)"
   ]
  },
  {
   "cell_type": "code",
   "execution_count": 13,
   "id": "cc8e6e5a",
   "metadata": {},
   "outputs": [],
   "source": [
    "# need to save the summary and the content\n",
    "\n",
    "# index tool\n",
    "from minsearch import AppendableIndex\n",
    "\n",
    "index = AppendableIndex(\n",
    "    text_fields=[\"title\", \"summary\", \"details\"],\n",
    "    keyword_fields=[\"category\"]\n",
    ")\n",
    "\n"
   ]
  },
  {
   "cell_type": "code",
   "execution_count": 14,
   "id": "2a24e8d8",
   "metadata": {},
   "outputs": [],
   "source": [
    "from typing import Any, Dict, List\n",
    "\n",
    "class SearchTools:\n",
    "\n",
    "    def __init__(self, index):\n",
    "        self.index = index\n",
    "    \n",
    "    def search(self, query: str, num_results: int = 5) -> List[Dict[str, Any]]:\n",
    "        \"\"\"\n",
    "        Search for documents in the index related to the given query.\n",
    "\n",
    "        Args:\n",
    "            query (str): The search query string.\n",
    "            num_results (int, optional): The maximum number of search results to return. Default is 5.\n",
    "\n",
    "        Returns:\n",
    "            List[Dict[str, Any]]: \n",
    "                A list of search results, where each result is represented as a dictionary containing \n",
    "                the document’s metadata and content fields (e.g., title, summary, details).\n",
    "                \n",
    "        Example:\n",
    "            >>> tools.search(\"LeBron James\")\n",
    "            [\n",
    "                {\"title\": \"LeBron James\", \"summary\": \"NBA player...\", \"details\": \"...\"},\n",
    "                {\"title\": \"Michael Jordan\", \"summary\": \"Former NBA player...\", \"details\": \"...\"}\n",
    "            ]\n",
    "        \"\"\"\n",
    "        boost = {\"title\": 2.0, \"summary\": 1.0, \"details\": 0.5}\n",
    "        \n",
    "        results = self.index.search(\n",
    "            query=query,\n",
    "            boost_dict=boost,\n",
    "            num_results=num_results,\n",
    "        )\n",
    "        return results\n",
    "\n",
    "    def add_entry(self, title: str, category: str, summary: str, details: str, url: str) -> None:\n",
    "        \"\"\"\n",
    "        Add a new document entry to the index for future search and retrieval.\n",
    "\n",
    "        Args:\n",
    "            title (str): The title of the document or topic.\n",
    "            category (str): The category or type of content (e.g., 'Wikipedia', 'News', 'UserNote').\n",
    "            summary (str): A short summary of the content.\n",
    "            details (str): Detailed information or extended description.\n",
    "\n",
    "        Returns:\n",
    "            None\n",
    "\n",
    "        Example:\n",
    "            >>> tools.add_entry(\n",
    "            ...     title=\"LeBron James\",\n",
    "            ...     category=\"Wikipedia\",\n",
    "            ...     summary=\"American professional basketball player.\",\n",
    "            ...     details=\"Born in 1984, LeBron has played for the Cavaliers, Heat, and Lakers...\"\n",
    "            ... )\n",
    "        \"\"\"\n",
    "        doc = {\n",
    "            \"title\": title,\n",
    "            \"category\": category,\n",
    "            \"summary\": summary,\n",
    "            \"details\": details,\n",
    "            \"section\": \"user_added\"\n",
    "        }\n",
    "        self.index.append(doc)\n",
    "\n",
    "\n",
    "tools = SearchTools(index)"
   ]
  },
  {
   "cell_type": "code",
   "execution_count": 56,
   "id": "e5ae65e6",
   "metadata": {},
   "outputs": [],
   "source": [
    "\n",
    "class WikipediaSummaryOutput(BaseModel):\n",
    "    \"\"\"\n",
    "    A single, verifiable citation to a transcript snippet or video segment.\n",
    "    Must correspond to a real snippet returned by the `search()` tool.\n",
    "    \"\"\"\n",
    "    title: str = Field(..., description=\"The title of the Wikipedia page, e.g., 'LeBron James'.\")\n",
    "    category: str = Field(..., description=\"What is the category of this Wikpedia page, e.g, ['Person', 'Idea', 'Company', 'Method']\")\n",
    "    summary: str = Field(..., description=\"A concise summary of the main topic and key facts from the page.\")\n",
    "    details: str = Field(..., description=\"A more detailed overview that includes important background, achievements, or related information not covered in the short summary.\")\n",
    "    user_query: str = Field(..., description=\"User input query.\")\n",
    "    results: str = Field(...,\n",
    "        description=(\n",
    "            \"Answer based on a list of search results. If no relevant data is found, return an empty list.\"\n",
    "        )\n",
    "    )\n",
    "\n",
    "\n",
    "# class SearchOutput(BaseModel):\n",
    "#     \"\"\"\n",
    "#     Structured output for the Search Agent.\n",
    "\n",
    "#     This model defines the expected response after the agent searches the local database.\n",
    "#     It clearly indicates whether relevant information was found and provides the matching entries if any.\n",
    "#     \"\"\"\n",
    "#     user_query: str = Field(..., description=\"User input query.\")\n",
    "#     results: str = Field(...,\n",
    "#         description=(\n",
    "#             \"Answer based on a list of search results containing the fields 'title', 'summary', and 'details'. If no relevant data is found, return an empty list.\"\n",
    "#         )\n",
    "#     )\n",
    "\n",
    "summary_instruction = \"\"\"\n",
    "You are the orchestrator agent that manages the workflow of searching, fetching, summarizing, and storing knowledge.\n",
    "\n",
    "**Primary Rule:**  \n",
    "You must ALWAYS begin by using the `tools.search` tool before doing anything else.\n",
    "- If the user's query can be found from the database, retreive the summary from the documents.\n",
    "- If the user's query can be answered from the search results, answer it directly.  \n",
    "- Do not proceed to fetching or summarizing if the answer can be provided from the search results.\n",
    "\n",
    "\n",
    "**Workflow Steps:**\n",
    "\n",
    "1. **Search the database**\n",
    "   - Use the `tools.search` tool to check if relevant knowledge exists for the user's query.  \n",
    "   - If relevant content is found:\n",
    "       - Answer the user's question using this content.\n",
    "       - Return the summary and details from the search.\n",
    "       - Mark the task as complete.  \n",
    "   - If the search result does not contain relevant information, proceed to step 2.\n",
    "\n",
    "2. **Fetch Wikipedia content and summarize**\n",
    "   - Use the `fetch_url` tool to retrieve raw Wikipedia content for the topic or URL.  \n",
    "   - Pass the fetched content to the summary agent to generate a concise summary and detailed context.  \n",
    "   - Use `tools.add_entry` to add the summarized knowledge to the database for future queries.  \n",
    "\n",
    "3. **Output**\n",
    "   - Return a short, clear summary of the results.\n",
    "   - Indicate whether the answer came from the database or was newly summarized.  \n",
    "\n",
    "   \n",
    "**Rules & Constraints**\n",
    "- Only perform **one search at the beginning**.  \n",
    "- Do not fabricate information; only use retrieved or summarized content.  \n",
    "- Ensure all outputs are structured for downstream processing and database storage.\n",
    "\"\"\"\n",
    "\n",
    "\n",
    "summary_agent = Agent(\n",
    "    name='Summarizer',\n",
    "    instructions=summary_instruction,\n",
    "    tools=[tools.search, fetch_url, tools.add_entry],\n",
    "    model='gpt-4o-mini',\n",
    "    output_type=WikipediaSummaryOutput\n",
    ")\n",
    "callback = NamedCallback(summary_agent)\n"
   ]
  },
  {
   "cell_type": "code",
   "execution_count": 57,
   "id": "d8c24890",
   "metadata": {},
   "outputs": [
    {
     "name": "stdout",
     "output_type": "stream",
     "text": [
      "TOOL CALL (Summarizer): search({\"query\":\"Capybara\",\"num_results\":5})\n"
     ]
    }
   ],
   "source": [
    "question = \"What is this page about? https://en.wikipedia.org/wiki/Capybara\"\n",
    "\n",
    "result = await summary_agent.run(\n",
    "        user_prompt=question,\n",
    "        event_stream_handler=callback,\n",
    "    )"
   ]
  },
  {
   "cell_type": "code",
   "execution_count": 59,
   "id": "6b0e1703",
   "metadata": {},
   "outputs": [
    {
     "data": {
      "text/plain": [
       "AgentRunResult(output=WikipediaSummaryOutput(title='Capybara', category='Wikipedia', summary='The capybara is the largest living rodent, native to South America. It is a semiaquatic mammal known for its social behavior, often found in groups near water bodies.', details='The capybara (_Hydrochoerus hydrochaeris_) can grow up to 134 cm in length and weigh between 35 to 66 kg. It has a heavy, barrel-shaped body, reddish-brown fur, and is excellent at swimming. Capybaras are herbivores, primarily consuming grasses and aquatic plants. They are social animals typically living in groups of 10-20 but can form larger groups during dry seasons. Although not endangered, they are hunted for their meat and skin. The species adapts well to urbanization, found in many zoos and parks.', user_query='What is this page about? https://en.wikipedia.org/wiki/Capybara', results=\"[{'title':'Capybara','category':'Wikipedia','summary':'The capybara is the largest living rodent, native to South America. It is a semiaquatic mammal known for its social behavior, often found in groups near water bodies.','details':'The capybara (_Hydrochoerus hydrochaeris_) can grow up to 134 cm in length and weigh between 35 to 66 kg. It has a heavy, barrel-shaped body, reddish-brown fur, and is excellent at swimming. Capybaras are herbivores, primarily consuming grasses and aquatic plants. They are social animals typically living in groups of 10-20 but can form larger groups during dry seasons. Although not endangered, they are hunted for their meat and skin. The species adapts well to urbanization, found in many zoos and parks.'}]\"))"
      ]
     },
     "execution_count": 59,
     "metadata": {},
     "output_type": "execute_result"
    }
   ],
   "source": [
    "result"
   ]
  },
  {
   "cell_type": "code",
   "execution_count": 60,
   "id": "0692ba5d",
   "metadata": {},
   "outputs": [
    {
     "data": {
      "text/plain": [
       "\"[{'title':'Capybara','category':'Wikipedia','summary':'The capybara is the largest living rodent, native to South America. It is a semiaquatic mammal known for its social behavior, often found in groups near water bodies.','details':'The capybara (_Hydrochoerus hydrochaeris_) can grow up to 134 cm in length and weigh between 35 to 66 kg. It has a heavy, barrel-shaped body, reddish-brown fur, and is excellent at swimming. Capybaras are herbivores, primarily consuming grasses and aquatic plants. They are social animals typically living in groups of 10-20 but can form larger groups during dry seasons. Although not endangered, they are hunted for their meat and skin. The species adapts well to urbanization, found in many zoos and parks.'}]\""
      ]
     },
     "execution_count": 60,
     "metadata": {},
     "output_type": "execute_result"
    }
   ],
   "source": [
    "result.output.results     "
   ]
  },
  {
   "cell_type": "code",
   "execution_count": 52,
   "id": "b765f0df",
   "metadata": {},
   "outputs": [
    {
     "data": {
      "text/plain": [
       "[{'title': 'Capybara',\n",
       "  'category': 'Wikipedia',\n",
       "  'summary': 'The capybara is the largest living rodent, native to South America. It is a semiaquatic mammal known for its social behavior, often found in groups near water bodies.',\n",
       "  'details': 'The capybara (_Hydrochoerus hydrochaeris_) can grow up to 134 cm in length and weigh between 35 to 66 kg. It has a heavy, barrel-shaped body, reddish-brown fur, and is excellent at swimming. Capybaras are herbivores, primarily consuming grasses and aquatic plants. They are social animals typically living in groups of 10-20 but can form larger groups during dry seasons. Although not endangered, they are hunted for their meat and skin. The species adapts well to urbanization, found in many zoos and parks.',\n",
       "  'section': 'user_added'},\n",
       " {'title': 'Capybara',\n",
       "  'category': 'Wikipedia',\n",
       "  'summary': 'The capybara, or greater capybara (_Hydrochoerus hydrochaeris_), is the largest living rodent, native to South America. It is social and can be found in groups. Capybaras inhabit savannas and forests near bodies of water and are known for their ability to swim and stay submerged for up to five minutes.',\n",
       "  'details': 'Capybaras are semiaquatic mammals, typically found near water bodies throughout South America (except Chile). They are gregarious animals, commonly living in groups that can number over 100 during the dry season. Their diet consists mainly of grasses and aquatic plants, and they practice coprophagy, eating their feces to maximize nutrient absorption. Although not currently threatened, they face hunting pressures in some regions, and capybara meat is considered a delicacy in Venezuela, particularly during Lent.',\n",
       "  'section': 'user_added'},\n",
       " {'title': 'Capybara',\n",
       "  'category': 'Wikipedia',\n",
       "  'summary': 'The capybara (_Hydrochoerus hydrochaeris_) is the largest rodent species, native to South America and known for its highly social behavior, typically living in groups near water bodies.',\n",
       "  'details': 'Capybaras can weigh up to 66 kg (146 lb) and stand about 50 to 62 cm tall. They inhabit savannas and dense forests, forming social groups that can consist of 10 to 20 individuals. These herbivores primarily feed on grasses and other vegetation. Capybaras are semi-aquatic, being adept swimmers capable of holding their breath underwater for several minutes. They communicate through a range of vocalizations and have a significant role in local ecosystems. Their populations are stable but face threats from habitat loss and hunting for meat and pelts.',\n",
       "  'section': 'user_added'},\n",
       " {'title': 'Hydrochoerus',\n",
       "  'category': 'Wikipedia',\n",
       "  'summary': 'The genus Hydrochoerus contains two living species, the capybara and the lesser capybara, and three extinct species. Capybaras are the largest living rodents and are semiaquatic, found near lakes and rivers in South America.',\n",
       "  'details': \"Hydrochoerus, which translates to 'water pig' in Ancient Greek, includes the capybara (_Hydrochoerus hydrochaeris_), the largest rodent, and the lesser capybara (_Hydrochoerus isthmius_). They are known for their social behavior, living in groups of up to 100 and communicating through vocalizations. Their diet consists primarily of grasses, and they have a gestation period of 130–150 days with litters of 2 to 8 young. Fossil records show that extinct species of Hydrochoerus were present in North America during the Pliocene to Pleistocene eras.\",\n",
       "  'section': 'user_added'},\n",
       " {'title': 'Capybara',\n",
       "  'category': 'Wikipedia',\n",
       "  'summary': 'The capybara, or greater capybara, is the largest living rodent, native to South America.',\n",
       "  'details': 'Capybaras are highly social, semi-aquatic mammals found throughout South America, excluding Chile. They inhabit savannas, dense forests, and areas near bodies of water. These herbivores have a distinctive barrel-shaped body and can grow between 106 to 134 cm long and weigh 35 to 66 kg. They are known for their sociable nature, often living in groups of 10 to 20, but can gather in larger numbers during the dry season. Capybaras can swim well and can hold their breath underwater for up to five minutes. Their diet mainly consists of grasses and aquatic plants, and they are known to eat their own feces for nutritional benefits. Capybaras are hunted for their meat and pelts but are not considered threatened as they have a stable population throughout much of their range.',\n",
       "  'section': 'user_added'},\n",
       " {'title': 'Hydrochoerus',\n",
       "  'category': 'Wikipedia',\n",
       "  'summary': 'Hydrochoerus is a genus of semiaquatic rodents that includes capybaras, the largest living rodents in the world. They are found primarily in South America and are highly social animals.',\n",
       "  'details': \"The genus Hydrochoerus contains two living species: the capybara (Hydrochoerus hydrochaeris) and the lesser capybara (Hydrochoerus isthmius), as well as three extinct species. Capybaras are known for their semiaquatic lifestyle, living in groups and primarily inhabiting regions near lakes, rivers, and wetlands. They are social animals and communicate through various vocalizations. The genus name derives from Ancient Greek, meaning 'water pig'. Capybaras have a gestation period of about 130-150 days and typically give birth to four young. They primarily feed on grasses and are known to weigh up to 65 kg (143 lb). Fossils of related species have been found as far back as the Pliocene in locations such as Argentina and Grenada.\",\n",
       "  'section': 'user_added'},\n",
       " {'title': 'Hydrochoerus',\n",
       "  'category': 'Wikipedia',\n",
       "  'summary': 'Hydrochoerus is a genus comprising the largest living rodents, including capybaras, found in South America and parts of Central America. They are semiaquatic and social animals, living in large groups, with diets primarily consisting of grasses. There are two living and three extinct species within this genus.',\n",
       "  'details': \"The genus Hydrochoerus, derived from Ancient Greek meaning 'water pig', includes species such as Hydrochoerus hydrochaeris (capybara) and Hydrochoerus isthmius (lesser capybara). Capybaras are notable for their size and social behavior, forming groups of up to 100. They inhabit areas near lakes and rivers and have gestational periods of 130-150 days. Molecular studies suggest their closest relatives are the rock cavies (Kerodon). The extinct species provide insights into the historical distribution of these rodents across North America and the Caribbean.\",\n",
       "  'section': 'user_added'}]"
      ]
     },
     "execution_count": 52,
     "metadata": {},
     "output_type": "execute_result"
    }
   ],
   "source": [
    "index.search(\"Capybara\")"
   ]
  },
  {
   "cell_type": "code",
   "execution_count": 53,
   "id": "c1c28ec0",
   "metadata": {},
   "outputs": [
    {
     "name": "stdout",
     "output_type": "stream",
     "text": [
      "TOOL CALL (Summarizer): fetch_url({\"url\":\"https://en.wikipedia.org/wiki/Hydrochoerus\"})\n",
      "TOOL CALL (Summarizer): add_entry({\"title\":\"Hydrochoerus\",\"category\":\"Wikipedia\",\"summary\":\"Hydrochoerus is a genus of rodents that includes the capybara, the largest living rodent, and its close relatives. They are semiaquatic and social animals found mainly in South America.\",\"details\":\"The genus Hydrochoerus contains two living species, the capybara (_Hydrochoerus hydrochaeris_) and the lesser capybara (_Hydrochoerus isthmius_), as well as three extinct species. Capybaras are semiaquatic and can be found in lakes, rivers, and swamps, primarily in South America. They are known for their social behavior, living in groups of up to 100, and feeding mainly on grasses. The genus name derives from Greek words meaning 'water pig', reflecting their habitat and appearance. The species range includes South America and parts of Central America, while their extinct relatives lived in various areas including Argentina and Grenada.\",\"url\":\"https://en.wikipedia.org/wiki/Hydrochoerus\"})\n"
     ]
    }
   ],
   "source": [
    "question = \"https://en.wikipedia.org/wiki/Hydrochoerus\"\n",
    "result = results = await summary_agent.run(\n",
    "        user_prompt=question,\n",
    "        event_stream_handler=callback,\n",
    "    )"
   ]
  },
  {
   "cell_type": "code",
   "execution_count": 43,
   "id": "6a0cd109",
   "metadata": {},
   "outputs": [
    {
     "name": "stdout",
     "output_type": "stream",
     "text": [
      "Hydrochoerus\n",
      "Wikipedia\n",
      "The genus Hydrochoerus contains two living species, the capybara and the lesser capybara, and three extinct species. Capybaras are the largest living rodents and are semiaquatic, found near lakes and rivers in South America.\n",
      "Hydrochoerus, which translates to 'water pig' in Ancient Greek, includes the capybara (_Hydrochoerus hydrochaeris_), the largest rodent, and the lesser capybara (_Hydrochoerus isthmius_). They are known for their social behavior, living in groups of up to 100 and communicating through vocalizations. Their diet consists primarily of grasses, and they have a gestation period of 130–150 days with litters of 2 to 8 young. Fossil records show that extinct species of Hydrochoerus were present in North America during the Pliocene to Pleistocene eras.\n"
     ]
    }
   ],
   "source": [
    "print(result.output.title)\n",
    "print(result.output.category)\n",
    "print(result.output.summary)\n",
    "print(result.output.details)"
   ]
  },
  {
   "cell_type": "code",
   "execution_count": 54,
   "id": "78e70e92",
   "metadata": {},
   "outputs": [
    {
     "name": "stdout",
     "output_type": "stream",
     "text": [
      "TOOL CALL (Summarizer): search({\"query\":\"threats to capybara populations\"})\n"
     ]
    }
   ],
   "source": [
    "question = \"What are threats to capybara populations?\"\n",
    "\n",
    "result = await summary_agent.run(\n",
    "        user_prompt=question,\n",
    "        event_stream_handler=callback,\n",
    "    )"
   ]
  },
  {
   "cell_type": "code",
   "execution_count": 55,
   "id": "be5bfad4",
   "metadata": {},
   "outputs": [
    {
     "data": {
      "text/plain": [
       "'Capybaras face several threats to their populations, including habitat loss and hunting, but currently, their populations are considered stable.'"
      ]
     },
     "execution_count": 55,
     "metadata": {},
     "output_type": "execute_result"
    }
   ],
   "source": [
    "result.output.results     "
   ]
  },
  {
   "cell_type": "code",
   "execution_count": null,
   "id": "3e3b85f1",
   "metadata": {},
   "outputs": [],
   "source": []
  }
 ],
 "metadata": {
  "kernelspec": {
   "display_name": "ai-bootcamp-codespace",
   "language": "python",
   "name": "python3"
  },
  "language_info": {
   "codemirror_mode": {
    "name": "ipython",
    "version": 3
   },
   "file_extension": ".py",
   "mimetype": "text/x-python",
   "name": "python",
   "nbconvert_exporter": "python",
   "pygments_lexer": "ipython3",
   "version": "3.12.11"
  }
 },
 "nbformat": 4,
 "nbformat_minor": 5
}
