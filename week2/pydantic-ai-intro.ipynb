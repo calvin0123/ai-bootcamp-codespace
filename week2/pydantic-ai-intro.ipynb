{
 "cells": [
  {
   "cell_type": "code",
   "execution_count": 4,
   "id": "6ea01b7b-c519-4cd8-a9f5-2ee8a64d4a94",
   "metadata": {},
   "outputs": [],
   "source": [
    "import docs\n",
    "\n",
    "github_data = docs.read_github_data()\n",
    "parsed_data = docs.parse_data(github_data)\n",
    "chunks = docs.chunk_documents(parsed_data)"
   ]
  },
  {
   "cell_type": "code",
   "execution_count": null,
   "id": "df5fb889-1c21-4bdd-800b-1378aeb0bc97",
   "metadata": {},
   "outputs": [],
   "source": []
  },
  {
   "cell_type": "code",
   "execution_count": 5,
   "id": "3706471d-73d3-4a4b-aa6f-531cb8c0b07f",
   "metadata": {},
   "outputs": [
    {
     "data": {
      "text/plain": [
       "<minsearch.minsearch.Index at 0x139947980>"
      ]
     },
     "execution_count": 5,
     "metadata": {},
     "output_type": "execute_result"
    }
   ],
   "source": [
    "from minsearch import Index\n",
    "\n",
    "index = Index(\n",
    "    text_fields=[\"content\", \"filename\", \"title\", \"description\"],\n",
    ")\n",
    "\n",
    "index.fit(chunks)"
   ]
  },
  {
   "cell_type": "code",
   "execution_count": 6,
   "id": "fb7988c1-4bb7-4b89-9f1d-0ff1080da01e",
   "metadata": {},
   "outputs": [],
   "source": [
    "from typing import Any, Dict, List, TypedDict\n",
    "\n",
    "class SearchResult(TypedDict):\n",
    "    \"\"\"Represents a single search result entry.\"\"\"\n",
    "    start: int\n",
    "    content: str\n",
    "    title: str\n",
    "    description: str\n",
    "    filename: str\n",
    "\n",
    "\n",
    "def search(query: str) -> List[SearchResult]:\n",
    "    \"\"\"\n",
    "    Search the index for documents matching the given query.\n",
    "\n",
    "    Args:\n",
    "        query (str): The search query string.\n",
    "\n",
    "    Returns:\n",
    "        List[SearchResult]: A list of search results. Each result dictionary contains:\n",
    "            - start (int): The starting position or offset within the source file.\n",
    "            - content (str): A text excerpt or snippet containing the match.\n",
    "            - filename (str): The path or name of the source file.\n",
    "    \"\"\"\n",
    "    return index.search(\n",
    "        query=query,\n",
    "        num_results=5,\n",
    "    )\n"
   ]
  },
  {
   "cell_type": "code",
   "execution_count": 7,
   "id": "721beba2-440a-43ab-b985-32d6210b09be",
   "metadata": {},
   "outputs": [],
   "source": [
    "file_index = {}\n",
    "\n",
    "for doc in parsed_data:\n",
    "    filename = doc['filename']\n",
    "    file_index[filename] = doc\n"
   ]
  },
  {
   "cell_type": "code",
   "execution_count": null,
   "id": "e6dd2506-0bac-4721-b36d-b763f304c7e9",
   "metadata": {},
   "outputs": [],
   "source": []
  },
  {
   "cell_type": "code",
   "execution_count": 9,
   "id": "159328a9-4d20-4a61-8e12-21d90db6cab8",
   "metadata": {},
   "outputs": [],
   "source": [
    "from typing import Optional\n",
    "\n",
    "def read_file(filename: str) -> Optional[str]:\n",
    "    \"\"\"\n",
    "    Retrieve the content of a file from the repository.\n",
    "\n",
    "    Args:\n",
    "        filename (str): The name or path of the file to read.\n",
    "\n",
    "    Returns:\n",
    "        Optional[str]: The file content as a string if the file exists;\n",
    "        otherwise, returns None.\n",
    "    \"\"\"\n",
    "    if filename in file_index:\n",
    "        return file_index[filename]['content']\n",
    "    return None\n"
   ]
  },
  {
   "cell_type": "code",
   "execution_count": 10,
   "id": "687c724a-d1e6-4200-a014-c38d6a160478",
   "metadata": {},
   "outputs": [],
   "source": [
    "instructions = \"\"\"\n",
    "You are an assistant that helps improve and generate high-quality documentation for the project.\n",
    "\n",
    "You have access to the following tools:\n",
    "- search — Use this to explore topics in depth. Make multiple search calls if needed to gather comprehensive information.\n",
    "- read_file — Use this when code snippets are missing or when you need to retrieve the full content of a file for context.\n",
    "\n",
    "Critical Rule\n",
    "\n",
    "Before generating or finalizing any code example or technical explanation, you must always call `read_file`\n",
    "to cross-check the correctness of the code.\n",
    "Do not rely solely on search results or assumptions — always verify by reading the actual file content.\n",
    "\n",
    "If `read_file` cannot be used or the file content is unavailable, clearly state:\n",
    "> \"Unable to verify with read_file.\"\n",
    "\n",
    "When answering a question:\n",
    "1. Provide file references for all source materials.  \n",
    "   Use this format:  \n",
    "   [{filename}](https://github.com/evidentlyai/docs/blob/main/{filename})\n",
    "2. If the topic is covered in multiple documents, cite all relevant sources.\n",
    "3. Include code examples whenever they clarify or demonstrate the concept.\n",
    "4. Be concise, accurate, and helpful — focus on clarity and usability for developers.\n",
    "5. If documentation is missing or unclear, infer from context and note that explicitly.\n",
    "\n",
    "Example Citation\n",
    "\n",
    "See the full implementation in [metrics/api_reference.md](https://github.com/evidentlyai/docs/blob/main/metrics/api_reference.md).\n",
    "\"\"\".strip()\n"
   ]
  },
  {
   "cell_type": "code",
   "execution_count": 12,
   "id": "dbfc3c70-859b-4cc4-b580-e86186bacd7b",
   "metadata": {},
   "outputs": [
    {
     "data": {
      "text/plain": [
       "True"
      ]
     },
     "execution_count": 12,
     "metadata": {},
     "output_type": "execute_result"
    }
   ],
   "source": [
    "import agents\n",
    "from dotenv import load_dotenv\n",
    "# from openai import OpenAI\n",
    "# openai_client = OpenAI()\n",
    "load_dotenv()\n",
    "\n"
   ]
  },
  {
   "cell_type": "code",
   "execution_count": 13,
   "id": "7b0a87bd-5ddb-4478-be0d-4ea43460e126",
   "metadata": {},
   "outputs": [],
   "source": [
    "agent_tools = [search, read_file]\n",
    "\n",
    "from pydantic_ai import Agent\n",
    "\n",
    "agent = Agent(\n",
    "    name=\"docs_agent\",\n",
    "    instructions=instructions,\n",
    "    tools=agent_tools,\n",
    "    model='gpt-4o-mini'\n",
    ")\n"
   ]
  },
  {
   "cell_type": "code",
   "execution_count": 14,
   "id": "615ff2b0-14af-4ced-8c89-d563fa30c83e",
   "metadata": {},
   "outputs": [],
   "source": [
    "results = await agent.run(user_prompt='how do I run llm as a judge evals?',\n",
    "                         # message_history=results.all_messages()\n",
    "                         )\n"
   ]
  },
  {
   "cell_type": "code",
   "execution_count": 15,
   "id": "01f6466d-5b73-4798-9172-b8234408df33",
   "metadata": {
    "scrolled": true
   },
   "outputs": [
    {
     "name": "stdout",
     "output_type": "stream",
     "text": [
      "To run an LLM (Large Language Model) as a judge for evaluations, you can follow these general steps based on the tutorial found in the [LLM as a judge](https://github.com/evidentlyai/docs/blob/main/examples/LLM_judge.mdx):\n",
      "\n",
      "### 1. Prerequisites\n",
      "Ensure you have:\n",
      "- Basic knowledge of Python.\n",
      "- An OpenAI API key for using the LLM evaluator.\n",
      "\n",
      "### 2. Install Required Libraries\n",
      "You need to install the `evidently` library, which provides tools for evaluating models including LLMs.\n",
      "\n",
      "```bash\n",
      "pip install evidently\n",
      "```\n",
      "\n",
      "### 3. Import the Required Modules\n",
      "Begin by importing necessary libraries in your Python environment:\n",
      "\n",
      "```python\n",
      "import pandas as pd\n",
      "import numpy as np\n",
      "\n",
      "from evidently import Dataset\n",
      "from evidently import DataDefinition\n",
      "from evidently import Report\n",
      "from evidently import BinaryClassification\n",
      "from evidently.descriptors import *\n",
      "from evidently.presets import TextEvals, ClassificationPreset\n",
      "from evidently.metrics import *\n",
      "from evidently.llm.templates import BinaryClassificationPromptTemplate\n",
      "```\n",
      "\n",
      "### 4. Set Up Your API Key\n",
      "Set your OpenAI API key as an environment variable:\n",
      "\n",
      "```python\n",
      "import os\n",
      "os.environ[\"OPENAI_API_KEY\"] = \"YOUR_KEY\"\n",
      "```\n",
      "\n",
      "### 5. Create the Evaluation Dataset\n",
      "You will need to create a dataset that includes:\n",
      "- **Questions**: Inputs sent to the model\n",
      "- **Target responses**: Approved correct responses\n",
      "- **New responses**: Actual responses generated\n",
      "- **Manual labels**: Indicate whether responses are correct or incorrect.\n",
      "\n",
      "Here's an example of how you can create a toy dataset:\n",
      "\n",
      "```python\n",
      "data = [\n",
      "    [\"Hi there, how do I reset my password?\", \"To reset your password, click on 'Forgot Password'...\", \"To change your password, select 'Forgot Password'...\", \"incorrect\", \"adds new information\"],\n",
      "    # More rows ...\n",
      "]\n",
      "\n",
      "columns = [\"question\", \"target_response\", \"new_response\", \"label\", \"comment\"]\n",
      "golden_dataset = pd.DataFrame(data, columns=columns)\n",
      "```\n",
      "\n",
      "### 6. Define the Dataset in Evidently\n",
      "Define the dataset and specify which columns are text and categorical:\n",
      "\n",
      "```python\n",
      "definition = DataDefinition(\n",
      "    text_columns=[\"question\", \"target_response\", \"new_response\"],\n",
      "    categorical_columns=[\"label\"]\n",
      ")\n",
      "\n",
      "eval_dataset = Dataset.from_pandas(golden_dataset, data_definition=definition)\n",
      "```\n",
      "\n",
      "### 7. Create the LLM Evaluator Prompt\n",
      "Create a prompt template for the LLM evaluator, defining how responses should be judged:\n",
      "\n",
      "```python\n",
      "correctness = BinaryClassificationPromptTemplate(\n",
      "    criteria=\"\"\"An ANSWER is correct when ...\"\"\",  # Customize your criteria \n",
      "    target_category=\"incorrect\",\n",
      "    non_target_category=\"correct\",\n",
      "    include_reasoning=True,\n",
      "    pre_messages=[(\"system\", \"You are an expert evaluator\")]\n",
      ")\n",
      "```\n",
      "\n",
      "### 8. Add the Evaluator to Your Dataset\n",
      "Integrate the LLM evaluator with the dataset:\n",
      "\n",
      "```python\n",
      "eval_dataset.add_descriptors(descriptors=[\n",
      "    LLMEval(\"new_response\",\n",
      "            template=correctness,\n",
      "            provider=\"openai\",\n",
      "            model=\"gpt-4o-mini\",\n",
      "            alias=\"Correctness\",\n",
      "            additional_columns={\"target_response\": \"target_response\"}),\n",
      "])\n",
      "```\n",
      "\n",
      "### 9. Evaluate the Results\n",
      "Generate a report to analyze the evaluation output:\n",
      "\n",
      "```python\n",
      "report = Report([TextEvals()])\n",
      "my_eval = report.run(eval_dataset, None)\n",
      "```\n",
      "\n",
      "### 10. Analyze the Evaluation Quality\n",
      "Evaluate the performance of your LLM evaluator itself:\n",
      "\n",
      "```python\n",
      "df = eval_dataset.as_dataframe()\n",
      "definition_2 = DataDefinition(\n",
      "    classification=[BinaryClassification(\n",
      "        target=\"label\",\n",
      "        prediction_labels=\"Correctness\",\n",
      "        pos_label=\"incorrect\")],\n",
      "    categorical_columns=[\"label\", \"Correctness\"]\n",
      ")\n",
      "\n",
      "class_dataset = Dataset.from_pandas(df, data_definition=definition_2)\n",
      "\n",
      "report = Report([ClassificationPreset()])\n",
      "my_eval = report.run(class_dataset, None)\n",
      "```\n",
      "\n",
      "### Conclusion\n",
      "The execution of LLM evaluations provides insights into the quality of responses based on custom criteria. It allows flexibility in understanding how well your model performs against established standards.\n",
      "\n",
      "**For detailed implementation and examples, refer to the tutorial documentation directly [here](https://github.com/evidentlyai/docs/blob/main/examples/LLM_judge.mdx).**\n"
     ]
    }
   ],
   "source": [
    "print(results.output)"
   ]
  },
  {
   "cell_type": "code",
   "execution_count": 17,
   "id": "62cb3264-a3bb-40d3-bdd3-bdcc5e49ccb2",
   "metadata": {},
   "outputs": [],
   "source": [
    "messages = results.all_messages()"
   ]
  },
  {
   "cell_type": "code",
   "execution_count": 27,
   "id": "3922f0d3-cc23-465f-851d-e070ab44c20d",
   "metadata": {},
   "outputs": [
    {
     "name": "stdout",
     "output_type": "stream",
     "text": [
      "request\n",
      "response\n",
      "request\n",
      "response\n",
      "request\n",
      "response\n"
     ]
    }
   ],
   "source": [
    "for message in results.new_messages():\n",
    "    print(message.kind)"
   ]
  },
  {
   "cell_type": "code",
   "execution_count": 21,
   "id": "5fbdb1b2-bcf1-4e1c-99db-743559631b65",
   "metadata": {},
   "outputs": [
    {
     "data": {
      "text/plain": [
       "RunUsage(input_tokens=11566, cache_read_tokens=3072, output_tokens=932, details={'accepted_prediction_tokens': 0, 'audio_tokens': 0, 'reasoning_tokens': 0, 'rejected_prediction_tokens': 0}, requests=3, tool_calls=2)"
      ]
     },
     "execution_count": 21,
     "metadata": {},
     "output_type": "execute_result"
    }
   ],
   "source": [
    "results.usage()\n"
   ]
  },
  {
   "cell_type": "code",
   "execution_count": null,
   "id": "aa1de140-3f0b-476f-9745-46382b3a0be0",
   "metadata": {},
   "outputs": [],
   "source": []
  },
  {
   "cell_type": "code",
   "execution_count": 28,
   "id": "265dd9da-c4e9-4882-b4c3-f3f405cfe09c",
   "metadata": {},
   "outputs": [],
   "source": [
    "# from toyaikit.pricing import PricingConfig\n",
    "# pricing = PricingConfig()\n",
    "\n",
    "# usage = results.usage()\n",
    "\n",
    "# pricing.calculate_cost(\n",
    "#     model=agent.model.model_name,\n",
    "#     input_tokens=usage.input_tokens,\n",
    "#     output_tokens=usage.output_tokens\n",
    "# )\n"
   ]
  },
  {
   "cell_type": "code",
   "execution_count": null,
   "id": "f1b3b1cf-03c7-49d2-9bbf-73c35390c41a",
   "metadata": {},
   "outputs": [],
   "source": []
  },
  {
   "cell_type": "code",
   "execution_count": null,
   "id": "949bf433-321e-4716-9678-921a5d0e7931",
   "metadata": {},
   "outputs": [],
   "source": []
  },
  {
   "cell_type": "code",
   "execution_count": null,
   "id": "76076ecc-c5a3-45d8-b869-965bf4fd7f44",
   "metadata": {},
   "outputs": [],
   "source": []
  }
 ],
 "metadata": {
  "kernelspec": {
   "display_name": "Python 3 (ipykernel)",
   "language": "python",
   "name": "python3"
  },
  "language_info": {
   "codemirror_mode": {
    "name": "ipython",
    "version": 3
   },
   "file_extension": ".py",
   "mimetype": "text/x-python",
   "name": "python",
   "nbconvert_exporter": "python",
   "pygments_lexer": "ipython3",
   "version": "3.12.11"
  }
 },
 "nbformat": 4,
 "nbformat_minor": 5
}
